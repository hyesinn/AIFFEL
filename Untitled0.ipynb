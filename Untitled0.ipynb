{
  "nbformat": 4,
  "nbformat_minor": 0,
  "metadata": {
    "colab": {
      "name": "Untitled0.ipynb",
      "provenance": [],
      "private_outputs": true
    },
    "kernelspec": {
      "name": "python3",
      "display_name": "Python 3"
    },
    "language_info": {
      "name": "python"
    }
  },
  "cells": [
    {
      "cell_type": "code",
      "execution_count": null,
      "metadata": {
        "id": "CxAFR6Qhwsro"
      },
      "outputs": [],
      "source": [
        "from itertools import combinations_with_replacement\n",
        "\n",
        "items = list(combinations_with_replacement([3, 5, 7, 10, 15, 20, 30], 6))\n",
        "items = [item for item in items if sum(item) == 57]\n",
        "items"
      ]
    }
  ]
}