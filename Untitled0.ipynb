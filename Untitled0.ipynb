{
  "nbformat": 4,
  "nbformat_minor": 0,
  "metadata": {
    "colab": {
      "name": "Untitled0.ipynb",
      "provenance": []
    },
    "kernelspec": {
      "name": "python3",
      "display_name": "Python 3"
    },
    "language_info": {
      "name": "python"
    }
  },
  "cells": [
    {
      "cell_type": "code",
      "execution_count": null,
      "metadata": {
        "colab": {
          "base_uri": "https://localhost:8080/"
        },
        "id": "CxAFR6Qhwsro",
        "outputId": "3d9752fb-a04f-4180-aee4-d6149f252cd0"
      },
      "outputs": [
        {
          "output_type": "execute_result",
          "data": {
            "text/plain": [
              "[(3, 3, 3, 3, 15, 30),\n",
              " (3, 3, 7, 7, 7, 30),\n",
              " (3, 5, 5, 7, 7, 30),\n",
              " (3, 5, 7, 7, 15, 20),\n",
              " (3, 7, 7, 10, 10, 20),\n",
              " (3, 7, 7, 10, 15, 15),\n",
              " (5, 5, 5, 5, 7, 30),\n",
              " (5, 5, 5, 7, 15, 20),\n",
              " (5, 5, 7, 10, 10, 20),\n",
              " (5, 5, 7, 10, 15, 15),\n",
              " (5, 7, 10, 10, 10, 15),\n",
              " (7, 10, 10, 10, 10, 10)]"
            ]
          },
          "metadata": {},
          "execution_count": 8
        }
      ],
      "source": [
        "from itertools import combinations_with_replacement\n",
        "\n",
        "items = list(combinations_with_replacement([3, 5, 7, 10, 15, 20, 30], 6))\n",
        "items = [item for item in items if sum(item) == 57]\n",
        "items"
      ]
    }
  ]
}