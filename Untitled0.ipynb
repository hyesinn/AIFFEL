{
  "nbformat": 4,
  "nbformat_minor": 0,
  "metadata": {
    "colab": {
      "name": "Untitled0.ipynb",
      "provenance": [],
      "authorship_tag": "ABX9TyNgvwWor+lPGOIYwALDfwgL",
      "include_colab_link": true
    },
    "kernelspec": {
      "name": "python3",
      "display_name": "Python 3"
    },
    "language_info": {
      "name": "python"
    }
  },
  "cells": [
    {
      "cell_type": "markdown",
      "metadata": {
        "id": "view-in-github",
        "colab_type": "text"
      },
      "source": [
        "<a href=\"https://colab.research.google.com/github/hyesinn/AIFFEL/blob/master/Untitled0.ipynb\" target=\"_parent\"><img src=\"https://colab.research.google.com/assets/colab-badge.svg\" alt=\"Open In Colab\"/></a>"
      ]
    },
    {
      "cell_type": "code",
      "execution_count": 2,
      "metadata": {
        "id": "CxAFR6Qhwsro",
        "outputId": "814f0d4e-d1a8-463a-ce59-872234bca7a4",
        "colab": {
          "base_uri": "https://localhost:8080/"
        }
      },
      "outputs": [
        {
          "output_type": "execute_result",
          "data": {
            "text/plain": [
              "[(3, 3, 3, 3, 15, 30),\n",
              " (3, 3, 7, 7, 7, 30),\n",
              " (3, 5, 5, 7, 7, 30),\n",
              " (3, 5, 7, 7, 15, 20),\n",
              " (3, 7, 7, 10, 10, 20),\n",
              " (3, 7, 7, 10, 15, 15),\n",
              " (5, 5, 5, 5, 7, 30),\n",
              " (5, 5, 5, 7, 15, 20),\n",
              " (5, 5, 7, 10, 10, 20),\n",
              " (5, 5, 7, 10, 15, 15),\n",
              " (5, 7, 10, 10, 10, 15),\n",
              " (7, 10, 10, 10, 10, 10)]"
            ]
          },
          "metadata": {},
          "execution_count": 2
        }
      ],
      "source": [
        "from itertools import combinations_with_replacement\n",
        "\n",
        "items = list(combinations_with_replacement([3, 5, 7, 10, 15, 20, 30], 6))\n",
        "items = [item for item in items if sum(item) == 57]\n",
        "items"
      ]
    }
  ]
}