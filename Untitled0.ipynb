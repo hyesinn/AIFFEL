{
  "nbformat": 4,
  "nbformat_minor": 0,
  "metadata": {
    "colab": {
      "name": "Untitled0.ipynb",
      "provenance": [],
      "private_outputs": true,
      "authorship_tag": "ABX9TyNgvwWor+lPGOIYwALDfwgL",
      "include_colab_link": true
    },
    "kernelspec": {
      "name": "python3",
      "display_name": "Python 3"
    },
    "language_info": {
      "name": "python"
    }
  },
  "cells": [
    {
      "cell_type": "markdown",
      "metadata": {
        "id": "view-in-github",
        "colab_type": "text"
      },
      "source": [
        "<a href=\"https://colab.research.google.com/github/hyesinn/AIFFEL/blob/master/Untitled0.ipynb\" target=\"_parent\"><img src=\"https://colab.research.google.com/assets/colab-badge.svg\" alt=\"Open In Colab\"/></a>"
      ]
    },
    {
      "cell_type": "code",
      "execution_count": null,
      "metadata": {
        "id": "CxAFR6Qhwsro"
      },
      "outputs": [],
      "source": [
        "from itertools import combinations_with_replacement\n",
        "\n",
        "items = list(combinations_with_replacement([3, 5, 7, 10, 15, 20, 30], 6))\n",
        "items = [item for item in items if sum(item) == 57]\n",
        "items"
      ]
    }
  ]
}