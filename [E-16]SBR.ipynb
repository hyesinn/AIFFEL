{
 "cells": [
  {
   "cell_type": "code",
   "execution_count": 1,
   "id": "6624c282",
   "metadata": {},
   "outputs": [],
   "source": [
    "import os\n",
    "import numpy as np\n",
    "import pandas as pd\n",
    "import datetime as dt\n",
    "from pathlib import Path\n",
    "import matplotlib.pyplot as plt"
   ]
  },
  {
   "cell_type": "markdown",
   "id": "22520efe",
   "metadata": {},
   "source": [
    "**RATINGS FILE DESCRIPTION**<br/>\n",
    "<br/>\n",
    "All ratings are contained in the file \"ratings.dat\" and are in the following format:<br/>\n",
    "<br/>\n",
    "UserID::MovieID::Rating::Timestamp<br/>\n",
    "\n",
    "- UserIDs range between 1 and 6040\n",
    "- MovieIDs range between 1 and 3952\n",
    "- Ratings are made on a 5-star scale (whole-star ratings only)\n",
    "- Timestamp is represented in seconds since the epoch as returned by time(2)\n",
    "- Each user has at least 20 ratings"
   ]
  },
  {
   "cell_type": "code",
   "execution_count": 2,
   "id": "250ac94a",
   "metadata": {},
   "outputs": [
    {
     "data": {
      "text/html": [
       "<div>\n",
       "<style scoped>\n",
       "    .dataframe tbody tr th:only-of-type {\n",
       "        vertical-align: middle;\n",
       "    }\n",
       "\n",
       "    .dataframe tbody tr th {\n",
       "        vertical-align: top;\n",
       "    }\n",
       "\n",
       "    .dataframe thead th {\n",
       "        text-align: right;\n",
       "    }\n",
       "</style>\n",
       "<table border=\"1\" class=\"dataframe\">\n",
       "  <thead>\n",
       "    <tr style=\"text-align: right;\">\n",
       "      <th></th>\n",
       "      <th>UserID</th>\n",
       "      <th>MovieID</th>\n",
       "      <th>Rating</th>\n",
       "      <th>Timestamp</th>\n",
       "    </tr>\n",
       "  </thead>\n",
       "  <tbody>\n",
       "    <tr>\n",
       "      <th>30</th>\n",
       "      <td>1</td>\n",
       "      <td>3186</td>\n",
       "      <td>4</td>\n",
       "      <td>2000-12-31 22:00:19</td>\n",
       "    </tr>\n",
       "    <tr>\n",
       "      <th>21</th>\n",
       "      <td>1</td>\n",
       "      <td>1270</td>\n",
       "      <td>5</td>\n",
       "      <td>2000-12-31 22:00:55</td>\n",
       "    </tr>\n",
       "    <tr>\n",
       "      <th>26</th>\n",
       "      <td>1</td>\n",
       "      <td>1721</td>\n",
       "      <td>4</td>\n",
       "      <td>2000-12-31 22:00:55</td>\n",
       "    </tr>\n",
       "    <tr>\n",
       "      <th>36</th>\n",
       "      <td>1</td>\n",
       "      <td>1022</td>\n",
       "      <td>5</td>\n",
       "      <td>2000-12-31 22:00:55</td>\n",
       "    </tr>\n",
       "    <tr>\n",
       "      <th>23</th>\n",
       "      <td>1</td>\n",
       "      <td>2340</td>\n",
       "      <td>3</td>\n",
       "      <td>2000-12-31 22:01:43</td>\n",
       "    </tr>\n",
       "    <tr>\n",
       "      <th>...</th>\n",
       "      <td>...</td>\n",
       "      <td>...</td>\n",
       "      <td>...</td>\n",
       "      <td>...</td>\n",
       "    </tr>\n",
       "    <tr>\n",
       "      <th>1000018</th>\n",
       "      <td>6040</td>\n",
       "      <td>2917</td>\n",
       "      <td>4</td>\n",
       "      <td>2001-08-10 14:40:29</td>\n",
       "    </tr>\n",
       "    <tr>\n",
       "      <th>999987</th>\n",
       "      <td>6040</td>\n",
       "      <td>1921</td>\n",
       "      <td>4</td>\n",
       "      <td>2001-08-10 14:41:04</td>\n",
       "    </tr>\n",
       "    <tr>\n",
       "      <th>1000171</th>\n",
       "      <td>6040</td>\n",
       "      <td>1784</td>\n",
       "      <td>3</td>\n",
       "      <td>2001-08-10 14:41:04</td>\n",
       "    </tr>\n",
       "    <tr>\n",
       "      <th>1000166</th>\n",
       "      <td>6040</td>\n",
       "      <td>161</td>\n",
       "      <td>3</td>\n",
       "      <td>2001-08-10 14:41:26</td>\n",
       "    </tr>\n",
       "    <tr>\n",
       "      <th>1000041</th>\n",
       "      <td>6040</td>\n",
       "      <td>1221</td>\n",
       "      <td>4</td>\n",
       "      <td>2001-08-20 13:44:15</td>\n",
       "    </tr>\n",
       "  </tbody>\n",
       "</table>\n",
       "<p>1000208 rows × 4 columns</p>\n",
       "</div>"
      ],
      "text/plain": [
       "         UserID  MovieID  Rating           Timestamp\n",
       "30            1     3186       4 2000-12-31 22:00:19\n",
       "21            1     1270       5 2000-12-31 22:00:55\n",
       "26            1     1721       4 2000-12-31 22:00:55\n",
       "36            1     1022       5 2000-12-31 22:00:55\n",
       "23            1     2340       3 2000-12-31 22:01:43\n",
       "...         ...      ...     ...                 ...\n",
       "1000018    6040     2917       4 2001-08-10 14:40:29\n",
       "999987     6040     1921       4 2001-08-10 14:41:04\n",
       "1000171    6040     1784       3 2001-08-10 14:41:04\n",
       "1000166    6040      161       3 2001-08-10 14:41:26\n",
       "1000041    6040     1221       4 2001-08-20 13:44:15\n",
       "\n",
       "[1000208 rows x 4 columns]"
      ]
     },
     "execution_count": 2,
     "metadata": {},
     "output_type": "execute_result"
    }
   ],
   "source": [
    "data_path = Path(os.getenv('HOME') + '/aiffel/yoochoose/data/')\n",
    "\n",
    "def load_data(path : Path):\n",
    "    data = pd.read_csv(path, sep = '::', usecols = [0, 1, 2, 3], dtype = {0: np.int32, 1:np.int32, 2:np.int32}, engine = 'python')\n",
    "    data.columns = ['UserID', 'MovieID', 'Rating', 'Timestamp']\n",
    "    data['Timestamp'] = pd.to_datetime(data['Timestamp'], unit = 's')\n",
    "    data.sort_values(['UserID', 'Timestamp'], inplace = True)\n",
    "    return data\n",
    "\n",
    "data = load_data(data_path / 'ratings.dat')\n",
    "data"
   ]
  },
  {
   "cell_type": "code",
   "execution_count": 3,
   "id": "1b5230b3",
   "metadata": {},
   "outputs": [
    {
     "data": {
      "text/plain": [
       "(6040, 3706)"
      ]
     },
     "execution_count": 3,
     "metadata": {},
     "output_type": "execute_result"
    }
   ],
   "source": [
    "data['UserID'].nunique(), data['MovieID'].nunique() # user와 movie의 수"
   ]
  },
  {
   "cell_type": "markdown",
   "id": "b53a65f6",
   "metadata": {},
   "source": [
    "---"
   ]
  },
  {
   "cell_type": "markdown",
   "id": "669b1b13",
   "metadata": {},
   "source": [
    "**세션 단위 길이 분석**"
   ]
  },
  {
   "cell_type": "code",
   "execution_count": 4,
   "id": "3545e2c7",
   "metadata": {},
   "outputs": [
    {
     "data": {
      "text/plain": [
       "count    6040.000000\n",
       "mean      165.597351\n",
       "std       192.747126\n",
       "min        20.000000\n",
       "25%        44.000000\n",
       "50%        96.000000\n",
       "75%       208.000000\n",
       "max      2314.000000\n",
       "dtype: float64"
      ]
     },
     "execution_count": 4,
     "metadata": {},
     "output_type": "execute_result"
    }
   ],
   "source": [
    "data_by_user = data.groupby('UserID').size() # user 1명당 row 수\n",
    "data_by_user.describe()"
   ]
  },
  {
   "cell_type": "code",
   "execution_count": 5,
   "id": "411730d6",
   "metadata": {},
   "outputs": [
    {
     "data": {
      "text/plain": [
       "1343.181000000005"
      ]
     },
     "execution_count": 5,
     "metadata": {},
     "output_type": "execute_result"
    }
   ],
   "source": [
    "data_by_user.quantile(0.999) # user 99.9%의 row 수 "
   ]
  },
  {
   "cell_type": "code",
   "execution_count": 6,
   "id": "83e4ed33",
   "metadata": {},
   "outputs": [
    {
     "data": {
      "text/plain": [
       "UserID\n",
       "889     1518\n",
       "1181    1521\n",
       "1680    1850\n",
       "1941    1595\n",
       "4169    2314\n",
       "4277    1743\n",
       "dtype: int64"
      ]
     },
     "execution_count": 6,
     "metadata": {},
     "output_type": "execute_result"
    }
   ],
   "source": [
    "data_by_user[data_by_user > 1500] # row가 1500 이상인 user"
   ]
  },
  {
   "cell_type": "code",
   "execution_count": 7,
   "id": "f1f60487",
   "metadata": {},
   "outputs": [
    {
     "data": {
      "image/png": "[encoded data removed]",
      "text/plain": [
       "<Figure size 720x360 with 1 Axes>"
      ]
     },
     "metadata": {
      "needs_background": "light"
     },
     "output_type": "display_data"
    }
   ],
   "source": [
    "# 누적 차트\n",
    "def draw_cumsum(data_length = data_by_user):\n",
    "    length_count = data_length.groupby(data_length).size()\n",
    "    length_percent_cumsum = length_count.cumsum() / length_count.sum()\n",
    "    length_percent_cumsum_999 = length_percent_cumsum[length_percent_cumsum < 0.999]\n",
    "    \n",
    "    plt.figure(figsize = (10, 5))\n",
    "    plt.bar(x = length_percent_cumsum_999.index,\n",
    "            height = length_percent_cumsum_999, color = 'red')\n",
    "    plt.yticks(np.arange(0, 1.01, 0.1))\n",
    "    plt.title('Cumsum Percentage Until 0.999', size = 20)\n",
    "    plt.show()\n",
    "\n",
    "draw_cumsum(data_by_user)"
   ]
  },
  {
   "cell_type": "markdown",
   "id": "f341e695",
   "metadata": {},
   "source": [
    "* 영화 산업 특성상 로그인할 때마다 원하는 영화가 크게 바뀌지 않을 것이라고 판단 세션은 user 단위 그대로 하기로 함\n",
    "* 리뷰의 개수가 최대 2314개인 것을 보고 오류 혹은 의도적인 리뷰 조작이라고 생각되었으나 1500개 이상의 리뷰를 등록한 사용자가 너무 많으며 영화 종류가 다양하고 rating을 골고루 평가한 것을 보고 별다른 조치를 취하지 않기로 함"
   ]
  },
  {
   "cell_type": "markdown",
   "id": "d5ef607e",
   "metadata": {},
   "source": [
    "---"
   ]
  },
  {
   "cell_type": "markdown",
   "id": "bb07791f",
   "metadata": {},
   "source": [
    "**세션 단위 시간 분석**"
   ]
  },
  {
   "cell_type": "code",
   "execution_count": 8,
   "id": "449bb5df",
   "metadata": {},
   "outputs": [
    {
     "data": {
      "text/plain": [
       "(Timestamp('2000-04-25 23:05:32'), Timestamp('2003-02-28 17:49:50'))"
      ]
     },
     "execution_count": 8,
     "metadata": {},
     "output_type": "execute_result"
    }
   ],
   "source": [
    "data['Timestamp'].min(), data['Timestamp'].max()"
   ]
  },
  {
   "cell_type": "code",
   "execution_count": 9,
   "id": "d273742a",
   "metadata": {},
   "outputs": [],
   "source": [
    "def cleanse_recursive(data: pd.DataFrame, shortest, least_click) -> pd.DataFrame:\n",
    "    while True:\n",
    "        before_len = len(data)\n",
    "        data = cleanse_short_session(data, shortest)\n",
    "        data = cleanse_unpopular_item(data, least_click)\n",
    "        after_len = len(data)\n",
    "        if before_len == after_len:\n",
    "            break\n",
    "    return data\n",
    "\n",
    "\n",
    "def cleanse_short_session(data: pd.DataFrame, shortest):\n",
    "    session_len = data.groupby('UserID').size()\n",
    "    session_use = session_len[session_len >= shortest].index\n",
    "    data = data[data['UserID'].isin(session_use)]\n",
    "    return data\n",
    "\n",
    "\n",
    "def cleanse_unpopular_item(data: pd.DataFrame, least_click):\n",
    "    item_popular = data.groupby('MovieID').size()\n",
    "    item_use = item_popular[item_popular >= least_click].index\n",
    "    data = data[data['MovieID'].isin(item_use)]\n",
    "    return data"
   ]
  },
  {
   "cell_type": "code",
   "execution_count": 10,
   "id": "86434346",
   "metadata": {},
   "outputs": [
    {
     "data": {
      "text/html": [
       "<div>\n",
       "<style scoped>\n",
       "    .dataframe tbody tr th:only-of-type {\n",
       "        vertical-align: middle;\n",
       "    }\n",
       "\n",
       "    .dataframe tbody tr th {\n",
       "        vertical-align: top;\n",
       "    }\n",
       "\n",
       "    .dataframe thead th {\n",
       "        text-align: right;\n",
       "    }\n",
       "</style>\n",
       "<table border=\"1\" class=\"dataframe\">\n",
       "  <thead>\n",
       "    <tr style=\"text-align: right;\">\n",
       "      <th></th>\n",
       "      <th>UserID</th>\n",
       "      <th>MovieID</th>\n",
       "      <th>Rating</th>\n",
       "      <th>Timestamp</th>\n",
       "    </tr>\n",
       "  </thead>\n",
       "  <tbody>\n",
       "    <tr>\n",
       "      <th>30</th>\n",
       "      <td>1</td>\n",
       "      <td>3186</td>\n",
       "      <td>4</td>\n",
       "      <td>2000-12-31 22:00:19</td>\n",
       "    </tr>\n",
       "    <tr>\n",
       "      <th>21</th>\n",
       "      <td>1</td>\n",
       "      <td>1270</td>\n",
       "      <td>5</td>\n",
       "      <td>2000-12-31 22:00:55</td>\n",
       "    </tr>\n",
       "    <tr>\n",
       "      <th>26</th>\n",
       "      <td>1</td>\n",
       "      <td>1721</td>\n",
       "      <td>4</td>\n",
       "      <td>2000-12-31 22:00:55</td>\n",
       "    </tr>\n",
       "    <tr>\n",
       "      <th>36</th>\n",
       "      <td>1</td>\n",
       "      <td>1022</td>\n",
       "      <td>5</td>\n",
       "      <td>2000-12-31 22:00:55</td>\n",
       "    </tr>\n",
       "    <tr>\n",
       "      <th>23</th>\n",
       "      <td>1</td>\n",
       "      <td>2340</td>\n",
       "      <td>3</td>\n",
       "      <td>2000-12-31 22:01:43</td>\n",
       "    </tr>\n",
       "    <tr>\n",
       "      <th>...</th>\n",
       "      <td>...</td>\n",
       "      <td>...</td>\n",
       "      <td>...</td>\n",
       "      <td>...</td>\n",
       "    </tr>\n",
       "    <tr>\n",
       "      <th>1000018</th>\n",
       "      <td>6040</td>\n",
       "      <td>2917</td>\n",
       "      <td>4</td>\n",
       "      <td>2001-08-10 14:40:29</td>\n",
       "    </tr>\n",
       "    <tr>\n",
       "      <th>999987</th>\n",
       "      <td>6040</td>\n",
       "      <td>1921</td>\n",
       "      <td>4</td>\n",
       "      <td>2001-08-10 14:41:04</td>\n",
       "    </tr>\n",
       "    <tr>\n",
       "      <th>1000171</th>\n",
       "      <td>6040</td>\n",
       "      <td>1784</td>\n",
       "      <td>3</td>\n",
       "      <td>2001-08-10 14:41:04</td>\n",
       "    </tr>\n",
       "    <tr>\n",
       "      <th>1000166</th>\n",
       "      <td>6040</td>\n",
       "      <td>161</td>\n",
       "      <td>3</td>\n",
       "      <td>2001-08-10 14:41:26</td>\n",
       "    </tr>\n",
       "    <tr>\n",
       "      <th>1000041</th>\n",
       "      <td>6040</td>\n",
       "      <td>1221</td>\n",
       "      <td>4</td>\n",
       "      <td>2001-08-20 13:44:15</td>\n",
       "    </tr>\n",
       "  </tbody>\n",
       "</table>\n",
       "<p>999610 rows × 4 columns</p>\n",
       "</div>"
      ],
      "text/plain": [
       "         UserID  MovieID  Rating           Timestamp\n",
       "30            1     3186       4 2000-12-31 22:00:19\n",
       "21            1     1270       5 2000-12-31 22:00:55\n",
       "26            1     1721       4 2000-12-31 22:00:55\n",
       "36            1     1022       5 2000-12-31 22:00:55\n",
       "23            1     2340       3 2000-12-31 22:01:43\n",
       "...         ...      ...     ...                 ...\n",
       "1000018    6040     2917       4 2001-08-10 14:40:29\n",
       "999987     6040     1921       4 2001-08-10 14:41:04\n",
       "1000171    6040     1784       3 2001-08-10 14:41:04\n",
       "1000166    6040      161       3 2001-08-10 14:41:26\n",
       "1000041    6040     1221       4 2001-08-20 13:44:15\n",
       "\n",
       "[999610 rows x 4 columns]"
      ]
     },
     "execution_count": 10,
     "metadata": {},
     "output_type": "execute_result"
    }
   ],
   "source": [
    "data = cleanse_recursive(data, shortest = 2, least_click = 5)\n",
    "data"
   ]
  },
  {
   "cell_type": "code",
   "execution_count": 11,
   "id": "8636a25a",
   "metadata": {},
   "outputs": [
    {
     "data": {
      "text/html": [
       "<div>\n",
       "<style scoped>\n",
       "    .dataframe tbody tr th:only-of-type {\n",
       "        vertical-align: middle;\n",
       "    }\n",
       "\n",
       "    .dataframe tbody tr th {\n",
       "        vertical-align: top;\n",
       "    }\n",
       "\n",
       "    .dataframe thead th {\n",
       "        text-align: right;\n",
       "    }\n",
       "</style>\n",
       "<table border=\"1\" class=\"dataframe\">\n",
       "  <thead>\n",
       "    <tr style=\"text-align: right;\">\n",
       "      <th></th>\n",
       "      <th>UserID</th>\n",
       "      <th>MovieID</th>\n",
       "      <th>Rating</th>\n",
       "      <th>Timestamp</th>\n",
       "    </tr>\n",
       "  </thead>\n",
       "  <tbody>\n",
       "    <tr>\n",
       "      <th>5363</th>\n",
       "      <td>36</td>\n",
       "      <td>3786</td>\n",
       "      <td>4</td>\n",
       "      <td>2002-12-22 08:08:41</td>\n",
       "    </tr>\n",
       "    <tr>\n",
       "      <th>5261</th>\n",
       "      <td>36</td>\n",
       "      <td>2369</td>\n",
       "      <td>4</td>\n",
       "      <td>2002-12-22 08:09:24</td>\n",
       "    </tr>\n",
       "    <tr>\n",
       "      <th>5279</th>\n",
       "      <td>36</td>\n",
       "      <td>3174</td>\n",
       "      <td>4</td>\n",
       "      <td>2002-12-22 08:11:25</td>\n",
       "    </tr>\n",
       "    <tr>\n",
       "      <th>5221</th>\n",
       "      <td>36</td>\n",
       "      <td>296</td>\n",
       "      <td>5</td>\n",
       "      <td>2002-12-22 08:16:59</td>\n",
       "    </tr>\n",
       "    <tr>\n",
       "      <th>5103</th>\n",
       "      <td>36</td>\n",
       "      <td>247</td>\n",
       "      <td>4</td>\n",
       "      <td>2002-12-22 08:17:48</td>\n",
       "    </tr>\n",
       "    <tr>\n",
       "      <th>...</th>\n",
       "      <td>...</td>\n",
       "      <td>...</td>\n",
       "      <td>...</td>\n",
       "      <td>...</td>\n",
       "    </tr>\n",
       "    <tr>\n",
       "      <th>984730</th>\n",
       "      <td>5950</td>\n",
       "      <td>3948</td>\n",
       "      <td>4</td>\n",
       "      <td>2003-02-27 18:13:57</td>\n",
       "    </tr>\n",
       "    <tr>\n",
       "      <th>984681</th>\n",
       "      <td>5950</td>\n",
       "      <td>3578</td>\n",
       "      <td>4</td>\n",
       "      <td>2003-02-27 18:14:30</td>\n",
       "    </tr>\n",
       "    <tr>\n",
       "      <th>984474</th>\n",
       "      <td>5950</td>\n",
       "      <td>3793</td>\n",
       "      <td>3</td>\n",
       "      <td>2003-02-27 18:15:10</td>\n",
       "    </tr>\n",
       "    <tr>\n",
       "      <th>984659</th>\n",
       "      <td>5950</td>\n",
       "      <td>3555</td>\n",
       "      <td>2</td>\n",
       "      <td>2003-02-27 18:15:37</td>\n",
       "    </tr>\n",
       "    <tr>\n",
       "      <th>984732</th>\n",
       "      <td>5950</td>\n",
       "      <td>1262</td>\n",
       "      <td>4</td>\n",
       "      <td>2003-02-27 18:17:38</td>\n",
       "    </tr>\n",
       "  </tbody>\n",
       "</table>\n",
       "<p>1948 rows × 4 columns</p>\n",
       "</div>"
      ],
      "text/plain": [
       "        UserID  MovieID  Rating           Timestamp\n",
       "5363        36     3786       4 2002-12-22 08:08:41\n",
       "5261        36     2369       4 2002-12-22 08:09:24\n",
       "5279        36     3174       4 2002-12-22 08:11:25\n",
       "5221        36      296       5 2002-12-22 08:16:59\n",
       "5103        36      247       4 2002-12-22 08:17:48\n",
       "...        ...      ...     ...                 ...\n",
       "984730    5950     3948       4 2003-02-27 18:13:57\n",
       "984681    5950     3578       4 2003-02-27 18:14:30\n",
       "984474    5950     3793       3 2003-02-27 18:15:10\n",
       "984659    5950     3555       2 2003-02-27 18:15:37\n",
       "984732    5950     1262       4 2003-02-27 18:17:38\n",
       "\n",
       "[1948 rows x 4 columns]"
      ]
     },
     "execution_count": 11,
     "metadata": {},
     "output_type": "execute_result"
    }
   ],
   "source": [
    "d = data['Timestamp'].max() - dt.timedelta(100)\n",
    "data100 = data[data['Timestamp'] > d]\n",
    "data100 = cleanse_recursive(data100, shortest = 2, least_click = 5)\n",
    "data100"
   ]
  },
  {
   "cell_type": "markdown",
   "id": "37847ff8",
   "metadata": {},
   "source": [
    "* 최근 100일 데이터를 사용하는 것을 고려했으나 너무 적은 데이터량(1,948)으로 원본 3년치 데이터(999,610)를 그대로 사용"
   ]
  },
  {
   "cell_type": "code",
   "execution_count": 12,
   "id": "0d3b58e7",
   "metadata": {},
   "outputs": [],
   "source": [
    "def split_by_date(data: pd.DataFrame, n_days: int):\n",
    "    latest = data['Timestamp'].max()\n",
    "    train = data[data['Timestamp'] < latest - dt.timedelta(n_days)]\n",
    "    test = data[data['Timestamp'] >= latest - dt.timedelta(n_days)]\n",
    "\n",
    "    return train, test\n",
    "\n",
    "train, test = split_by_date(data, n_days = 30)\n",
    "train, valid = split_by_date(train, n_days = 30)"
   ]
  },
  {
   "cell_type": "code",
   "execution_count": 13,
   "id": "515b6a85",
   "metadata": {},
   "outputs": [
    {
     "name": "stdout",
     "output_type": "stream",
     "text": [
      "* TRAIN Set Stats Info\n",
      "\t Events: 996232\n",
      "\t Sessions: 6040\n",
      "\t Items: 3416\n",
      "\t First Time : 2000-04-25 23:05:32\n",
      "\t Last Time : 2002-12-30 16:54:04\n",
      "\n",
      "* VALID Set Stats Info\n",
      "\t Events: 1827\n",
      "\t Sessions: 135\n",
      "\t Items: 1155\n",
      "\t First Time : 2002-12-30 18:21:02\n",
      "\t Last Time : 2003-01-29 17:00:13\n",
      "\n",
      "* TEST Set Stats Info\n",
      "\t Events: 1551\n",
      "\t Sessions: 103\n",
      "\t Items: 1008\n",
      "\t First Time : 2003-01-29 19:36:56\n",
      "\t Last Time : 2003-02-28 17:49:50\n",
      "\n"
     ]
    }
   ],
   "source": [
    "def stats_info(data: pd.DataFrame, status: str):\n",
    "    print(f'* {status} Set Stats Info\\n'\n",
    "          f'\\t Events: {len(data)}\\n'\n",
    "          f'\\t Sessions: {data[\"UserID\"].nunique()}\\n'\n",
    "          f'\\t Items: {data[\"MovieID\"].nunique()}\\n'\n",
    "          f'\\t First Time : {data[\"Timestamp\"].min()}\\n'\n",
    "          f'\\t Last Time : {data[\"Timestamp\"].max()}\\n')\n",
    "    \n",
    "stats_info(train, 'TRAIN')\n",
    "stats_info(valid, 'VALID')\n",
    "stats_info(test, 'TEST')"
   ]
  },
  {
   "cell_type": "markdown",
   "id": "0274f3e7",
   "metadata": {},
   "source": [
    "---"
   ]
  },
  {
   "cell_type": "markdown",
   "id": "fa6dfcbd",
   "metadata": {},
   "source": [
    "**Data Pipeline**"
   ]
  },
  {
   "cell_type": "code",
   "execution_count": 14,
   "id": "c5d140cd",
   "metadata": {},
   "outputs": [
    {
     "name": "stderr",
     "output_type": "stream",
     "text": [
      "/tmp/ipykernel_13/780859563.py:4: SettingWithCopyWarning: \n",
      "A value is trying to be set on a copy of a slice from a DataFrame.\n",
      "Try using .loc[row_indexer,col_indexer] = value instead\n",
      "\n",
      "See the caveats in the documentation: https://pandas.pydata.org/pandas-docs/stable/user_guide/indexing.html#returning-a-view-versus-a-copy\n",
      "  data['MovieIDX'] = data['MovieID'].map(lambda x : id2idx.get(x, -1))\n"
     ]
    }
   ],
   "source": [
    "id2idx = {item_id : idx for idx, item_id in enumerate(train['MovieID'].unique())}\n",
    "\n",
    "def indexing(data, id2idx):\n",
    "    data['MovieIDX'] = data['MovieID'].map(lambda x : id2idx.get(x, -1))\n",
    "    return data\n",
    "\n",
    "train = indexing(train, id2idx)\n",
    "valid = indexing(valid, id2idx)\n",
    "test = indexing(test, id2idx)"
   ]
  },
  {
   "cell_type": "code",
   "execution_count": 15,
   "id": "5bf70a3f",
   "metadata": {},
   "outputs": [],
   "source": [
    "save_path = data_path / 'processed'\n",
    "save_path.mkdir(parents=True, exist_ok=True)\n",
    "\n",
    "train.to_pickle(save_path / 'train.pkl')\n",
    "valid.to_pickle(save_path / 'valid.pkl')\n",
    "test.to_pickle(save_path / 'test.pkl')"
   ]
  },
  {
   "cell_type": "code",
   "execution_count": 16,
   "id": "0d9fade4",
   "metadata": {},
   "outputs": [],
   "source": [
    "class SessionDataset:\n",
    "    \"\"\"Credit to yhs-968/pyGRU4REC.\"\"\"\n",
    "\n",
    "    def __init__(self, data):\n",
    "        self.df = data\n",
    "        self.click_offsets = self.get_click_offsets()\n",
    "        self.user_idx = np.arange(self.df['UserID'].nunique())\n",
    "\n",
    "    def get_click_offsets(self):\n",
    "        offsets = np.zeros(self.df['UserID'].nunique() + 1, dtype=np.int32)\n",
    "        offsets[1:] = self.df.groupby('UserID').size().cumsum()\n",
    "        return offsets\n",
    "    \n",
    "    \n",
    "train_dataset = SessionDataset(train)"
   ]
  },
  {
   "cell_type": "code",
   "execution_count": 17,
   "id": "cb20bff1",
   "metadata": {},
   "outputs": [
    {
     "data": {
      "text/html": [
       "<div>\n",
       "<style scoped>\n",
       "    .dataframe tbody tr th:only-of-type {\n",
       "        vertical-align: middle;\n",
       "    }\n",
       "\n",
       "    .dataframe tbody tr th {\n",
       "        vertical-align: top;\n",
       "    }\n",
       "\n",
       "    .dataframe thead th {\n",
       "        text-align: right;\n",
       "    }\n",
       "</style>\n",
       "<table border=\"1\" class=\"dataframe\">\n",
       "  <thead>\n",
       "    <tr style=\"text-align: right;\">\n",
       "      <th></th>\n",
       "      <th>UserID</th>\n",
       "      <th>MovieID</th>\n",
       "      <th>Rating</th>\n",
       "      <th>Timestamp</th>\n",
       "      <th>MovieIDX</th>\n",
       "    </tr>\n",
       "  </thead>\n",
       "  <tbody>\n",
       "    <tr>\n",
       "      <th>30</th>\n",
       "      <td>1</td>\n",
       "      <td>3186</td>\n",
       "      <td>4</td>\n",
       "      <td>2000-12-31 22:00:19</td>\n",
       "      <td>0</td>\n",
       "    </tr>\n",
       "    <tr>\n",
       "      <th>21</th>\n",
       "      <td>1</td>\n",
       "      <td>1270</td>\n",
       "      <td>5</td>\n",
       "      <td>2000-12-31 22:00:55</td>\n",
       "      <td>1</td>\n",
       "    </tr>\n",
       "    <tr>\n",
       "      <th>26</th>\n",
       "      <td>1</td>\n",
       "      <td>1721</td>\n",
       "      <td>4</td>\n",
       "      <td>2000-12-31 22:00:55</td>\n",
       "      <td>2</td>\n",
       "    </tr>\n",
       "    <tr>\n",
       "      <th>36</th>\n",
       "      <td>1</td>\n",
       "      <td>1022</td>\n",
       "      <td>5</td>\n",
       "      <td>2000-12-31 22:00:55</td>\n",
       "      <td>3</td>\n",
       "    </tr>\n",
       "    <tr>\n",
       "      <th>23</th>\n",
       "      <td>1</td>\n",
       "      <td>2340</td>\n",
       "      <td>3</td>\n",
       "      <td>2000-12-31 22:01:43</td>\n",
       "      <td>4</td>\n",
       "    </tr>\n",
       "    <tr>\n",
       "      <th>35</th>\n",
       "      <td>1</td>\n",
       "      <td>1836</td>\n",
       "      <td>5</td>\n",
       "      <td>2000-12-31 22:02:52</td>\n",
       "      <td>5</td>\n",
       "    </tr>\n",
       "    <tr>\n",
       "      <th>2</th>\n",
       "      <td>1</td>\n",
       "      <td>3408</td>\n",
       "      <td>4</td>\n",
       "      <td>2000-12-31 22:04:35</td>\n",
       "      <td>6</td>\n",
       "    </tr>\n",
       "    <tr>\n",
       "      <th>6</th>\n",
       "      <td>1</td>\n",
       "      <td>2804</td>\n",
       "      <td>5</td>\n",
       "      <td>2000-12-31 22:11:59</td>\n",
       "      <td>7</td>\n",
       "    </tr>\n",
       "    <tr>\n",
       "      <th>46</th>\n",
       "      <td>1</td>\n",
       "      <td>1207</td>\n",
       "      <td>4</td>\n",
       "      <td>2000-12-31 22:11:59</td>\n",
       "      <td>8</td>\n",
       "    </tr>\n",
       "    <tr>\n",
       "      <th>20</th>\n",
       "      <td>1</td>\n",
       "      <td>720</td>\n",
       "      <td>3</td>\n",
       "      <td>2000-12-31 22:12:40</td>\n",
       "      <td>9</td>\n",
       "    </tr>\n",
       "  </tbody>\n",
       "</table>\n",
       "</div>"
      ],
      "text/plain": [
       "    UserID  MovieID  Rating           Timestamp  MovieIDX\n",
       "30       1     3186       4 2000-12-31 22:00:19         0\n",
       "21       1     1270       5 2000-12-31 22:00:55         1\n",
       "26       1     1721       4 2000-12-31 22:00:55         2\n",
       "36       1     1022       5 2000-12-31 22:00:55         3\n",
       "23       1     2340       3 2000-12-31 22:01:43         4\n",
       "35       1     1836       5 2000-12-31 22:02:52         5\n",
       "2        1     3408       4 2000-12-31 22:04:35         6\n",
       "6        1     2804       5 2000-12-31 22:11:59         7\n",
       "46       1     1207       4 2000-12-31 22:11:59         8\n",
       "20       1      720       3 2000-12-31 22:12:40         9"
      ]
     },
     "execution_count": 17,
     "metadata": {},
     "output_type": "execute_result"
    }
   ],
   "source": [
    "train_dataset.df.head(10)"
   ]
  },
  {
   "cell_type": "code",
   "execution_count": 18,
   "id": "d7ffa1dc",
   "metadata": {},
   "outputs": [
    {
     "data": {
      "text/plain": [
       "array([     0,     52,    181, ..., 995768, 995891, 996232], dtype=int32)"
      ]
     },
     "execution_count": 18,
     "metadata": {},
     "output_type": "execute_result"
    }
   ],
   "source": [
    "train_dataset.click_offsets"
   ]
  },
  {
   "cell_type": "code",
   "execution_count": 19,
   "id": "97d1e5ef",
   "metadata": {},
   "outputs": [
    {
     "data": {
      "text/plain": [
       "array([   0,    1,    2, ..., 6037, 6038, 6039])"
      ]
     },
     "execution_count": 19,
     "metadata": {},
     "output_type": "execute_result"
    }
   ],
   "source": [
    "train_dataset.user_idx"
   ]
  },
  {
   "cell_type": "code",
   "execution_count": 20,
   "id": "f19b6787",
   "metadata": {},
   "outputs": [],
   "source": [
    "class SessionDataLoader:\n",
    "    \"\"\"Credit to yhs-968/pyGRU4REC.\"\"\"\n",
    "\n",
    "    def __init__(self, dataset: SessionDataset, batch_size=50):\n",
    "        self.dataset = dataset\n",
    "        self.batch_size = batch_size\n",
    "\n",
    "    def __iter__(self):\n",
    "        \"\"\" Returns the iterator for producing session-parallel training mini-batches.\n",
    "        Yields:\n",
    "            input (B,):  Item indices that will be encoded as one-hot vectors later.\n",
    "            target (B,): a Variable that stores the target item indices\n",
    "            masks: Numpy array indicating the positions of the sessions to be terminated\n",
    "        \"\"\"\n",
    "\n",
    "        start, end, mask, last_session, finished = self.initialize()\n",
    "        \"\"\"\n",
    "        start : Index Where Session Start\n",
    "        end : Index Where Session End\n",
    "        mask : indicator for the sessions to be terminated\n",
    "        \"\"\"\n",
    "\n",
    "        while not finished:\n",
    "            min_len = (end - start).min() - 1\n",
    "            for i in range(min_len):\n",
    "                inp = self.dataset.df['MovieIDX'].values[start + i]\n",
    "                target = self.dataset.df['MovieIDX'].values[start + i + 1]\n",
    "                yield inp, target, mask\n",
    "\n",
    "            start, end, mask, last_session, finished = self.update_status(start, end, min_len, last_session, finished)\n",
    "\n",
    "    def initialize(self):\n",
    "        first_iters = np.arange(self.batch_size)\n",
    "        last_session = self.batch_size - 1\n",
    "        start = self.dataset.click_offsets[self.dataset.user_idx[first_iters]]\n",
    "        end = self.dataset.click_offsets[self.dataset.user_idx[first_iters] + 1]\n",
    "        mask = np.array([])\n",
    "        finished = False\n",
    "        return start, end, mask, last_session, finished\n",
    "\n",
    "    def update_status(self, start: np.ndarray, end: np.ndarray, min_len: int, last_session: int, finished: bool):\n",
    "        start += min_len\n",
    "        mask = np.arange(self.batch_size)[(end - start) == 1]\n",
    "\n",
    "        for i, idx in enumerate(mask, start=1):\n",
    "            new_session = last_session + i\n",
    "            if new_session > self.dataset.user_idx[-1]:\n",
    "                finished = True\n",
    "                break\n",
    "\n",
    "            start[idx] = self.dataset.click_offsets[self.dataset.user_idx[new_session]]\n",
    "            end[idx] = self.dataset.click_offsets[self.dataset.user_idx[new_session] + 1]\n",
    "\n",
    "        last_session += len(mask)\n",
    "        return start, end, mask, last_session, finished\n",
    "\n",
    "    \n",
    "train_data_loader = SessionDataLoader(train_dataset, batch_size=4)"
   ]
  },
  {
   "cell_type": "code",
   "execution_count": 21,
   "id": "5023d024",
   "metadata": {},
   "outputs": [
    {
     "name": "stdout",
     "output_type": "stream",
     "text": [
      "Model Input Item Idx are : [ 0 52 65 53]\n",
      "Label Item Idx are :       [ 1 53 62 23]\n",
      "Previous Masked Input Idx are []\n"
     ]
    }
   ],
   "source": [
    "iter_ex = iter(train_data_loader)\n",
    "inputs, labels, mask =  next(iter_ex)\n",
    "print(f'Model Input Item Idx are : {inputs}')\n",
    "print(f'Label Item Idx are : {\"\":5} {labels}')\n",
    "print(f'Previous Masked Input Idx are {mask}')"
   ]
  },
  {
   "cell_type": "markdown",
   "id": "d2ec4816",
   "metadata": {},
   "source": [
    "---"
   ]
  },
  {
   "cell_type": "markdown",
   "id": "3677dbd4",
   "metadata": {},
   "source": [
    "**모델링**"
   ]
  },
  {
   "cell_type": "code",
   "execution_count": 22,
   "id": "6c015bc3",
   "metadata": {},
   "outputs": [],
   "source": [
    "import numpy as np\n",
    "import tensorflow as tf\n",
    "from tensorflow.keras.layers import Input, Dense, Dropout, GRU\n",
    "from tensorflow.keras.losses import categorical_crossentropy\n",
    "from tensorflow.keras.models import Model\n",
    "from tensorflow.keras.optimizers import Adam\n",
    "from tensorflow.keras.utils import to_categorical\n",
    "from tqdm import tqdm"
   ]
  },
  {
   "cell_type": "code",
   "execution_count": 23,
   "id": "b9539cf0",
   "metadata": {},
   "outputs": [],
   "source": [
    "def mrr_k(pred, truth: int, k: int):\n",
    "    indexing = np.where(pred[:k] == truth)[0]\n",
    "    if len(indexing) > 0:\n",
    "        return 1 / (indexing[0] + 1)\n",
    "    else:\n",
    "        return 0\n",
    "\n",
    "\n",
    "def recall_k(pred, truth: int, k: int) -> int:\n",
    "    answer = truth in pred[:k]\n",
    "    return int(answer)"
   ]
  },
  {
   "cell_type": "code",
   "execution_count": 24,
   "id": "27a81e7e",
   "metadata": {},
   "outputs": [
    {
     "name": "stdout",
     "output_type": "stream",
     "text": [
      "Model: \"model\"\n",
      "_________________________________________________________________\n",
      "Layer (type)                 Output Shape              Param #   \n",
      "=================================================================\n",
      "input_1 (InputLayer)         [(16, 1, 3416)]           0         \n",
      "_________________________________________________________________\n",
      "GRU (GRU)                    [(16, 50), (16, 50)]      520200    \n",
      "_________________________________________________________________\n",
      "dropout (Dropout)            (16, 50)                  0         \n",
      "_________________________________________________________________\n",
      "dense (Dense)                (16, 3416)                174216    \n",
      "=================================================================\n",
      "Total params: 694,416\n",
      "Trainable params: 694,416\n",
      "Non-trainable params: 0\n",
      "_________________________________________________________________\n"
     ]
    }
   ],
   "source": [
    "def create_model(args):\n",
    "    inputs = Input(batch_shape=(args.batch_size, 1, args.num_items))\n",
    "    gru, _ = GRU(args.hsz, stateful=True, return_state=True, name='GRU')(inputs)\n",
    "    dropout = Dropout(args.drop_rate)(gru)\n",
    "    predictions = Dense(args.num_items, activation='softmax')(dropout)\n",
    "    model = Model(inputs=inputs, outputs=[predictions])\n",
    "    model.compile(loss=categorical_crossentropy, optimizer=Adam(args.lr), metrics=['accuracy'])\n",
    "    model.summary()\n",
    "    return model\n",
    "\n",
    "class Args:\n",
    "    def __init__(self, tr, val, test, batch_size, hsz, drop_rate, lr, epochs, k):\n",
    "        self.tr = tr\n",
    "        self.val = val\n",
    "        self.test = test\n",
    "        self.num_items = tr['MovieID'].nunique()\n",
    "        self.num_sessions = tr['UserID'].nunique()\n",
    "        self.batch_size = batch_size\n",
    "        self.hsz = hsz\n",
    "        self.drop_rate = drop_rate\n",
    "        self.lr = lr\n",
    "        self.epochs = epochs\n",
    "        self.k = k\n",
    "\n",
    "args = Args(train, valid, test, batch_size=16, hsz=50, drop_rate=0.1, lr=0.001, epochs=3, k=20)\n",
    "model = create_model(args)"
   ]
  },
  {
   "cell_type": "code",
   "execution_count": 25,
   "id": "996c2d18",
   "metadata": {},
   "outputs": [],
   "source": [
    "# train 셋으로 학습하면서 valid 셋으로 검증합니다.\n",
    "def train_model(model, args):\n",
    "    train_dataset = SessionDataset(args.tr)\n",
    "    train_loader = SessionDataLoader(train_dataset, batch_size=args.batch_size)\n",
    "\n",
    "    for epoch in range(1, args.epochs + 1):\n",
    "        total_step = len(args.tr) - args.tr['UserID'].nunique()\n",
    "        tr_loader = tqdm(train_loader, total=total_step // args.batch_size, desc='Train', mininterval=1)\n",
    "        for feat, target, mask in tr_loader:\n",
    "            reset_hidden_states(model, mask)  # 종료된 session은 hidden_state를 초기화합니다. 아래 메서드에서 확인해주세요.\n",
    "\n",
    "            input_ohe = to_categorical(feat, num_classes=args.num_items)\n",
    "            input_ohe = np.expand_dims(input_ohe, axis=1)\n",
    "            target_ohe = to_categorical(target, num_classes=args.num_items)\n",
    "\n",
    "            result = model.train_on_batch(input_ohe, target_ohe)\n",
    "            tr_loader.set_postfix(train_loss=result[0], accuracy = result[1])\n",
    "\n",
    "        val_recall, val_mrr = get_metrics(args.val, model, args, args.k)  # valid set에 대해 검증합니다.\n",
    "\n",
    "        print(f\"\\t - Recall@{args.k} epoch {epoch}: {val_recall:3f}\")\n",
    "        print(f\"\\t - MRR@{args.k}    epoch {epoch}: {val_mrr:3f}\\n\")\n",
    "\n",
    "\n",
    "def reset_hidden_states(model, mask):\n",
    "    gru_layer = model.get_layer(name='GRU')  # model에서 gru layer를 가져옵니다.\n",
    "    hidden_states = gru_layer.states[0].numpy()  # gru_layer의 parameter를 가져옵니다.\n",
    "    for elt in mask:  # mask된 인덱스 즉, 종료된 세션의 인덱스를 돌면서\n",
    "        hidden_states[elt, :] = 0  # parameter를 초기화 합니다.\n",
    "    gru_layer.reset_states(states=hidden_states)\n",
    "\n",
    "\n",
    "def get_metrics(data, model, args, k: int):  # valid셋과 test셋을 평가하는 코드입니다. \n",
    "                                             # train과 거의 같지만 mrr, recall을 구하는 라인이 있습니다.\n",
    "    dataset = SessionDataset(data)\n",
    "    loader = SessionDataLoader(dataset, batch_size=args.batch_size)\n",
    "    recall_list, mrr_list = [], []\n",
    "\n",
    "    total_step = len(data) - data['UserID'].nunique()\n",
    "    for inputs, label, mask in tqdm(loader, total=total_step // args.batch_size, desc='Evaluation', mininterval=1):\n",
    "        reset_hidden_states(model, mask)\n",
    "        input_ohe = to_categorical(inputs, num_classes=args.num_items)\n",
    "        input_ohe = np.expand_dims(input_ohe, axis=1)\n",
    "\n",
    "        pred = model.predict(input_ohe, batch_size=args.batch_size)\n",
    "        pred_arg = tf.argsort(pred, direction='DESCENDING')  # softmax 값이 큰 순서대로 sorting 합니다.\n",
    "\n",
    "        length = len(inputs)\n",
    "        recall_list.extend([recall_k(pred_arg[i], label[i], k) for i in range(length)])\n",
    "        mrr_list.extend([mrr_k(pred_arg[i], label[i], k) for i in range(length)])\n",
    "\n",
    "    recall, mrr = np.mean(recall_list), np.mean(mrr_list)\n",
    "    return recall, mrr"
   ]
  },
  {
   "cell_type": "code",
   "execution_count": 54,
   "id": "c15d11f1",
   "metadata": {},
   "outputs": [
    {
     "name": "stderr",
     "output_type": "stream",
     "text": [
      "Train: 100%|█████████▉| 61702/61887 [09:25<00:01, 109.06it/s, accuracy=0.0625, train_loss=6.02]\n",
      "Evaluation:  49%|████▊     | 51/105 [00:05<00:05,  9.63it/s]\n"
     ]
    },
    {
     "name": "stdout",
     "output_type": "stream",
     "text": [
      "\t - Recall@20 epoch 1: 0.134804\n",
      "\t - MRR@20    epoch 1: 0.044028\n",
      "\n"
     ]
    },
    {
     "name": "stderr",
     "output_type": "stream",
     "text": [
      "Train: 100%|█████████▉| 61702/61887 [09:15<00:01, 111.12it/s, accuracy=0, train_loss=5.47]     \n",
      "Evaluation:  49%|████▊     | 51/105 [00:04<00:04, 10.86it/s]\n"
     ]
    },
    {
     "name": "stdout",
     "output_type": "stream",
     "text": [
      "\t - Recall@20 epoch 2: 0.128676\n",
      "\t - MRR@20    epoch 2: 0.047809\n",
      "\n"
     ]
    },
    {
     "name": "stderr",
     "output_type": "stream",
     "text": [
      "Train: 100%|█████████▉| 61702/61887 [09:11<00:01, 111.85it/s, accuracy=0, train_loss=5.61]     \n",
      "Evaluation:  49%|████▊     | 51/105 [00:04<00:04, 10.94it/s]"
     ]
    },
    {
     "name": "stdout",
     "output_type": "stream",
     "text": [
      "\t - Recall@20 epoch 3: 0.142157\n",
      "\t - MRR@20    epoch 3: 0.046814\n",
      "\n"
     ]
    },
    {
     "name": "stderr",
     "output_type": "stream",
     "text": [
      "\n"
     ]
    }
   ],
   "source": [
    "# batch size 16, drop rate 0.1, learning rate = 0.001, epochs 3\n",
    "train_model(model, args)"
   ]
  },
  {
   "cell_type": "code",
   "execution_count": 55,
   "id": "75acdece",
   "metadata": {},
   "outputs": [
    {
     "name": "stderr",
     "output_type": "stream",
     "text": [
      "Evaluation:  34%|███▍      | 31/90 [00:02<00:05, 10.87it/s]"
     ]
    },
    {
     "name": "stdout",
     "output_type": "stream",
     "text": [
      "\t - Recall@20: 0.127016\n",
      "\t - MRR@20: 0.047084\n",
      "\n"
     ]
    },
    {
     "name": "stderr",
     "output_type": "stream",
     "text": [
      "\n"
     ]
    }
   ],
   "source": [
    "def test_model(model, args, test):\n",
    "    test_recall, test_mrr = get_metrics(test, model, args, 20)\n",
    "    print(f\"\\t - Recall@{args.k}: {test_recall:3f}\")\n",
    "    print(f\"\\t - MRR@{args.k}: {test_mrr:3f}\\n\")\n",
    "\n",
    "test_model(model, args, test)"
   ]
  },
  {
   "cell_type": "code",
   "execution_count": 27,
   "id": "467b8431",
   "metadata": {},
   "outputs": [
    {
     "name": "stdout",
     "output_type": "stream",
     "text": [
      "Model: \"model_2\"\n",
      "_________________________________________________________________\n",
      "Layer (type)                 Output Shape              Param #   \n",
      "=================================================================\n",
      "input_3 (InputLayer)         [(8, 1, 3416)]            0         \n",
      "_________________________________________________________________\n",
      "GRU (GRU)                    [(8, 50), (8, 50)]        520200    \n",
      "_________________________________________________________________\n",
      "dropout_2 (Dropout)          (8, 50)                   0         \n",
      "_________________________________________________________________\n",
      "dense_2 (Dense)              (8, 3416)                 174216    \n",
      "=================================================================\n",
      "Total params: 694,416\n",
      "Trainable params: 694,416\n",
      "Non-trainable params: 0\n",
      "_________________________________________________________________\n"
     ]
    },
    {
     "name": "stderr",
     "output_type": "stream",
     "text": [
      "Train: 100%|█████████▉| 123497/123774 [17:26<00:02, 118.05it/s, accuracy=0, train_loss=7.11]    \n",
      "Evaluation:  58%|█████▊    | 123/211 [00:07<00:05, 16.07it/s]\n"
     ]
    },
    {
     "name": "stdout",
     "output_type": "stream",
     "text": [
      "\t - Recall@20 epoch 1: 0.093496\n",
      "\t - MRR@20    epoch 1: 0.022322\n",
      "\n"
     ]
    },
    {
     "name": "stderr",
     "output_type": "stream",
     "text": [
      "Train: 100%|█████████▉| 123497/123774 [17:19<00:02, 118.79it/s, accuracy=0.125, train_loss=7.48]\n",
      "Evaluation:  58%|█████▊    | 123/211 [00:07<00:05, 16.03it/s]\n"
     ]
    },
    {
     "name": "stdout",
     "output_type": "stream",
     "text": [
      "\t - Recall@20 epoch 2: 0.090447\n",
      "\t - MRR@20    epoch 2: 0.021470\n",
      "\n"
     ]
    },
    {
     "name": "stderr",
     "output_type": "stream",
     "text": [
      "Train: 100%|█████████▉| 123497/123774 [17:22<00:02, 118.44it/s, accuracy=0, train_loss=7.85]    \n",
      "Evaluation:  58%|█████▊    | 123/211 [00:07<00:05, 16.54it/s]\n"
     ]
    },
    {
     "name": "stdout",
     "output_type": "stream",
     "text": [
      "\t - Recall@20 epoch 3: 0.096545\n",
      "\t - MRR@20    epoch 3: 0.027304\n",
      "\n"
     ]
    },
    {
     "name": "stderr",
     "output_type": "stream",
     "text": [
      "Train: 100%|█████████▉| 123497/123774 [17:22<00:02, 118.41it/s, accuracy=0, train_loss=7.22]    \n",
      "Evaluation:  58%|█████▊    | 123/211 [00:07<00:05, 16.64it/s]\n"
     ]
    },
    {
     "name": "stdout",
     "output_type": "stream",
     "text": [
      "\t - Recall@20 epoch 4: 0.099593\n",
      "\t - MRR@20    epoch 4: 0.029080\n",
      "\n"
     ]
    },
    {
     "name": "stderr",
     "output_type": "stream",
     "text": [
      "Train: 100%|█████████▉| 123497/123774 [17:24<00:02, 118.22it/s, accuracy=0, train_loss=7.16]    \n",
      "Evaluation:  58%|█████▊    | 123/211 [00:07<00:05, 16.70it/s]\n"
     ]
    },
    {
     "name": "stdout",
     "output_type": "stream",
     "text": [
      "\t - Recall@20 epoch 5: 0.089431\n",
      "\t - MRR@20    epoch 5: 0.027131\n",
      "\n"
     ]
    },
    {
     "name": "stderr",
     "output_type": "stream",
     "text": [
      "Train: 100%|█████████▉| 123497/123774 [17:24<00:02, 118.20it/s, accuracy=0, train_loss=6.26]    \n",
      "Evaluation:  58%|█████▊    | 123/211 [00:07<00:05, 16.43it/s]\n"
     ]
    },
    {
     "name": "stdout",
     "output_type": "stream",
     "text": [
      "\t - Recall@20 epoch 6: 0.088415\n",
      "\t - MRR@20    epoch 6: 0.026774\n",
      "\n"
     ]
    },
    {
     "name": "stderr",
     "output_type": "stream",
     "text": [
      "Train: 100%|█████████▉| 123497/123774 [17:25<00:02, 118.10it/s, accuracy=0, train_loss=7.34]    \n",
      "Evaluation:  58%|█████▊    | 123/211 [00:07<00:05, 15.91it/s]\n"
     ]
    },
    {
     "name": "stdout",
     "output_type": "stream",
     "text": [
      "\t - Recall@20 epoch 7: 0.078252\n",
      "\t - MRR@20    epoch 7: 0.014405\n",
      "\n"
     ]
    },
    {
     "name": "stderr",
     "output_type": "stream",
     "text": [
      "Train: 100%|█████████▉| 123497/123774 [17:26<00:02, 118.01it/s, accuracy=0, train_loss=7.31]    \n",
      "Evaluation:  58%|█████▊    | 123/211 [00:07<00:05, 16.31it/s]\n"
     ]
    },
    {
     "name": "stdout",
     "output_type": "stream",
     "text": [
      "\t - Recall@20 epoch 8: 0.068089\n",
      "\t - MRR@20    epoch 8: 0.016448\n",
      "\n"
     ]
    },
    {
     "name": "stderr",
     "output_type": "stream",
     "text": [
      "Train: 100%|█████████▉| 123497/123774 [17:26<00:02, 118.03it/s, accuracy=0, train_loss=7.72]    \n",
      "Evaluation:  58%|█████▊    | 123/211 [00:07<00:05, 16.56it/s]\n"
     ]
    },
    {
     "name": "stdout",
     "output_type": "stream",
     "text": [
      "\t - Recall@20 epoch 9: 0.095528\n",
      "\t - MRR@20    epoch 9: 0.023063\n",
      "\n"
     ]
    },
    {
     "name": "stderr",
     "output_type": "stream",
     "text": [
      "Train: 100%|█████████▉| 123497/123774 [17:25<00:02, 118.11it/s, accuracy=0, train_loss=7.64]    \n",
      "Evaluation:  58%|█████▊    | 123/211 [00:07<00:05, 16.65it/s]\n"
     ]
    },
    {
     "name": "stdout",
     "output_type": "stream",
     "text": [
      "\t - Recall@20 epoch 10: 0.079268\n",
      "\t - MRR@20    epoch 10: 0.021264\n",
      "\n"
     ]
    },
    {
     "name": "stderr",
     "output_type": "stream",
     "text": [
      "Evaluation:  70%|██████▉   | 126/181 [00:07<00:03, 16.55it/s]"
     ]
    },
    {
     "name": "stdout",
     "output_type": "stream",
     "text": [
      "\t - Recall@20: 0.104167\n",
      "\t - MRR@20: 0.024068\n",
      "\n"
     ]
    },
    {
     "name": "stderr",
     "output_type": "stream",
     "text": [
      "\n"
     ]
    }
   ],
   "source": [
    "# batch size 8, drop rate 0.1, learning rate = 0.01, epochs 10\n",
    "args = Args(train, valid, test, batch_size=8, hsz=50, drop_rate=0.1, lr=0.01, epochs=10, k=20)\n",
    "model = create_model(args)\n",
    "train_model(model, args)\n",
    "test_model(model, args, test)"
   ]
  },
  {
   "cell_type": "code",
   "execution_count": 28,
   "id": "c9e07f3a",
   "metadata": {},
   "outputs": [
    {
     "name": "stdout",
     "output_type": "stream",
     "text": [
      "Model: \"model_3\"\n",
      "_________________________________________________________________\n",
      "Layer (type)                 Output Shape              Param #   \n",
      "=================================================================\n",
      "input_4 (InputLayer)         [(8, 1, 3416)]            0         \n",
      "_________________________________________________________________\n",
      "GRU (GRU)                    [(8, 50), (8, 50)]        520200    \n",
      "_________________________________________________________________\n",
      "dropout_3 (Dropout)          (8, 50)                   0         \n",
      "_________________________________________________________________\n",
      "dense_3 (Dense)              (8, 3416)                 174216    \n",
      "=================================================================\n",
      "Total params: 694,416\n",
      "Trainable params: 694,416\n",
      "Non-trainable params: 0\n",
      "_________________________________________________________________\n"
     ]
    },
    {
     "name": "stderr",
     "output_type": "stream",
     "text": [
      "Train: 100%|█████████▉| 123497/123774 [17:24<00:02, 118.23it/s, accuracy=0, train_loss=7.36]    \n",
      "Evaluation:  58%|█████▊    | 123/211 [00:07<00:05, 15.98it/s]\n"
     ]
    },
    {
     "name": "stdout",
     "output_type": "stream",
     "text": [
      "\t - Recall@20 epoch 1: 0.073171\n",
      "\t - MRR@20    epoch 1: 0.015656\n",
      "\n"
     ]
    },
    {
     "name": "stderr",
     "output_type": "stream",
     "text": [
      "Train: 100%|█████████▉| 123497/123774 [17:20<00:02, 118.69it/s, accuracy=0, train_loss=7.38]    \n",
      "Evaluation:  58%|█████▊    | 123/211 [00:07<00:05, 16.44it/s]\n"
     ]
    },
    {
     "name": "stdout",
     "output_type": "stream",
     "text": [
      "\t - Recall@20 epoch 2: 0.070122\n",
      "\t - MRR@20    epoch 2: 0.015506\n",
      "\n"
     ]
    },
    {
     "name": "stderr",
     "output_type": "stream",
     "text": [
      "Train: 100%|█████████▉| 123497/123774 [17:23<00:02, 118.40it/s, accuracy=0, train_loss=6.58]    \n",
      "Evaluation:  58%|█████▊    | 123/211 [00:07<00:05, 16.40it/s]\n"
     ]
    },
    {
     "name": "stdout",
     "output_type": "stream",
     "text": [
      "\t - Recall@20 epoch 3: 0.068089\n",
      "\t - MRR@20    epoch 3: 0.015087\n",
      "\n"
     ]
    },
    {
     "name": "stderr",
     "output_type": "stream",
     "text": [
      "Train: 100%|█████████▉| 123497/123774 [17:24<00:02, 118.23it/s, accuracy=0, train_loss=7.07]    \n",
      "Evaluation:  58%|█████▊    | 123/211 [00:07<00:05, 16.34it/s]\n"
     ]
    },
    {
     "name": "stdout",
     "output_type": "stream",
     "text": [
      "\t - Recall@20 epoch 4: 0.077236\n",
      "\t - MRR@20    epoch 4: 0.016242\n",
      "\n"
     ]
    },
    {
     "name": "stderr",
     "output_type": "stream",
     "text": [
      "Train: 100%|█████████▉| 123497/123774 [17:24<00:02, 118.21it/s, accuracy=0, train_loss=12.9]    \n",
      "Evaluation:  58%|█████▊    | 123/211 [00:07<00:05, 15.95it/s]\n"
     ]
    },
    {
     "name": "stdout",
     "output_type": "stream",
     "text": [
      "\t - Recall@20 epoch 5: 0.067073\n",
      "\t - MRR@20    epoch 5: 0.019314\n",
      "\n"
     ]
    },
    {
     "name": "stderr",
     "output_type": "stream",
     "text": [
      "Train: 100%|█████████▉| 123497/123774 [17:22<00:02, 118.42it/s, accuracy=0, train_loss=6.85]    \n",
      "Evaluation:  58%|█████▊    | 123/211 [00:07<00:05, 16.64it/s]\n"
     ]
    },
    {
     "name": "stdout",
     "output_type": "stream",
     "text": [
      "\t - Recall@20 epoch 6: 0.068089\n",
      "\t - MRR@20    epoch 6: 0.018665\n",
      "\n"
     ]
    },
    {
     "name": "stderr",
     "output_type": "stream",
     "text": [
      "Train: 100%|█████████▉| 123497/123774 [17:26<00:02, 117.98it/s, accuracy=0, train_loss=7.8]     \n",
      "Evaluation:  58%|█████▊    | 123/211 [00:07<00:05, 16.50it/s]\n"
     ]
    },
    {
     "name": "stdout",
     "output_type": "stream",
     "text": [
      "\t - Recall@20 epoch 7: 0.064024\n",
      "\t - MRR@20    epoch 7: 0.013691\n",
      "\n"
     ]
    },
    {
     "name": "stderr",
     "output_type": "stream",
     "text": [
      "Train: 100%|█████████▉| 123497/123774 [17:23<00:02, 118.35it/s, accuracy=0, train_loss=8.37]    \n",
      "Evaluation:  58%|█████▊    | 123/211 [00:07<00:05, 16.22it/s]\n"
     ]
    },
    {
     "name": "stdout",
     "output_type": "stream",
     "text": [
      "\t - Recall@20 epoch 8: 0.070122\n",
      "\t - MRR@20    epoch 8: 0.014953\n",
      "\n"
     ]
    },
    {
     "name": "stderr",
     "output_type": "stream",
     "text": [
      "Train: 100%|█████████▉| 123497/123774 [17:23<00:02, 118.34it/s, accuracy=0, train_loss=7.57]    \n",
      "Evaluation:  58%|█████▊    | 123/211 [00:07<00:05, 16.30it/s]\n"
     ]
    },
    {
     "name": "stdout",
     "output_type": "stream",
     "text": [
      "\t - Recall@20 epoch 9: 0.066057\n",
      "\t - MRR@20    epoch 9: 0.015063\n",
      "\n"
     ]
    },
    {
     "name": "stderr",
     "output_type": "stream",
     "text": [
      "Train: 100%|█████████▉| 123497/123774 [17:21<00:02, 118.56it/s, accuracy=0, train_loss=10.2]    \n",
      "Evaluation:  58%|█████▊    | 123/211 [00:07<00:05, 15.62it/s]\n"
     ]
    },
    {
     "name": "stdout",
     "output_type": "stream",
     "text": [
      "\t - Recall@20 epoch 10: 0.064024\n",
      "\t - MRR@20    epoch 10: 0.012974\n",
      "\n"
     ]
    },
    {
     "name": "stderr",
     "output_type": "stream",
     "text": [
      "Evaluation:  70%|██████▉   | 126/181 [00:07<00:03, 16.48it/s]"
     ]
    },
    {
     "name": "stdout",
     "output_type": "stream",
     "text": [
      "\t - Recall@20: 0.070437\n",
      "\t - MRR@20: 0.013501\n",
      "\n"
     ]
    },
    {
     "name": "stderr",
     "output_type": "stream",
     "text": [
      "\n"
     ]
    }
   ],
   "source": [
    "# batch size 8, drop rate 0.5, learning rate = 0.01, epochs 10\n",
    "args = Args(train, valid, test, batch_size=8, hsz=50, drop_rate=0.5, lr=0.01, epochs=10, k=20)\n",
    "model = create_model(args)\n",
    "train_model(model, args)\n",
    "test_model(model, args, test)"
   ]
  },
  {
   "cell_type": "code",
   "execution_count": 29,
   "id": "9ef3dcd4",
   "metadata": {},
   "outputs": [
    {
     "name": "stdout",
     "output_type": "stream",
     "text": [
      "Model: \"model_4\"\n",
      "_________________________________________________________________\n",
      "Layer (type)                 Output Shape              Param #   \n",
      "=================================================================\n",
      "input_5 (InputLayer)         [(16, 1, 3416)]           0         \n",
      "_________________________________________________________________\n",
      "GRU (GRU)                    [(16, 50), (16, 50)]      520200    \n",
      "_________________________________________________________________\n",
      "dropout_4 (Dropout)          (16, 50)                  0         \n",
      "_________________________________________________________________\n",
      "dense_4 (Dense)              (16, 3416)                174216    \n",
      "=================================================================\n",
      "Total params: 694,416\n",
      "Trainable params: 694,416\n",
      "Non-trainable params: 0\n",
      "_________________________________________________________________\n"
     ]
    },
    {
     "name": "stderr",
     "output_type": "stream",
     "text": [
      "Train: 100%|█████████▉| 61702/61887 [09:06<00:01, 112.86it/s, accuracy=0, train_loss=5.97]     \n",
      "Evaluation:  49%|████▊     | 51/105 [00:04<00:05, 10.44it/s]\n"
     ]
    },
    {
     "name": "stdout",
     "output_type": "stream",
     "text": [
      "\t - Recall@20 epoch 1: 0.131127\n",
      "\t - MRR@20    epoch 1: 0.045178\n",
      "\n"
     ]
    },
    {
     "name": "stderr",
     "output_type": "stream",
     "text": [
      "Train: 100%|█████████▉| 61702/61887 [09:00<00:01, 114.11it/s, accuracy=0, train_loss=5.77]     \n",
      "Evaluation:  49%|████▊     | 51/105 [00:04<00:04, 11.18it/s]\n"
     ]
    },
    {
     "name": "stdout",
     "output_type": "stream",
     "text": [
      "\t - Recall@20 epoch 2: 0.143382\n",
      "\t - MRR@20    epoch 2: 0.051635\n",
      "\n"
     ]
    },
    {
     "name": "stderr",
     "output_type": "stream",
     "text": [
      "Train: 100%|█████████▉| 61702/61887 [09:00<00:01, 114.12it/s, accuracy=0.0625, train_loss=5.56]\n",
      "Evaluation:  49%|████▊     | 51/105 [00:04<00:04, 11.10it/s]\n"
     ]
    },
    {
     "name": "stdout",
     "output_type": "stream",
     "text": [
      "\t - Recall@20 epoch 3: 0.143382\n",
      "\t - MRR@20    epoch 3: 0.051728\n",
      "\n"
     ]
    },
    {
     "name": "stderr",
     "output_type": "stream",
     "text": [
      "Train: 100%|█████████▉| 61702/61887 [09:00<00:01, 114.14it/s, accuracy=0.125, train_loss=5.84] \n",
      "Evaluation:  49%|████▊     | 51/105 [00:04<00:04, 11.04it/s]\n"
     ]
    },
    {
     "name": "stdout",
     "output_type": "stream",
     "text": [
      "\t - Recall@20 epoch 4: 0.151961\n",
      "\t - MRR@20    epoch 4: 0.054041\n",
      "\n"
     ]
    },
    {
     "name": "stderr",
     "output_type": "stream",
     "text": [
      "Train: 100%|█████████▉| 61702/61887 [08:59<00:01, 114.26it/s, accuracy=0.0625, train_loss=5.67]\n",
      "Evaluation:  49%|████▊     | 51/105 [00:04<00:04, 11.22it/s]\n"
     ]
    },
    {
     "name": "stdout",
     "output_type": "stream",
     "text": [
      "\t - Recall@20 epoch 5: 0.155637\n",
      "\t - MRR@20    epoch 5: 0.050984\n",
      "\n"
     ]
    },
    {
     "name": "stderr",
     "output_type": "stream",
     "text": [
      "Train: 100%|█████████▉| 61702/61887 [09:02<00:01, 113.79it/s, accuracy=0, train_loss=5.77]     \n",
      "Evaluation:  49%|████▊     | 51/105 [00:04<00:05, 10.65it/s]\n"
     ]
    },
    {
     "name": "stdout",
     "output_type": "stream",
     "text": [
      "\t - Recall@20 epoch 6: 0.154412\n",
      "\t - MRR@20    epoch 6: 0.050238\n",
      "\n"
     ]
    },
    {
     "name": "stderr",
     "output_type": "stream",
     "text": [
      "Train: 100%|█████████▉| 61702/61887 [09:06<00:01, 112.87it/s, accuracy=0.0625, train_loss=5.63]\n",
      "Evaluation:  49%|████▊     | 51/105 [00:04<00:04, 10.94it/s]\n"
     ]
    },
    {
     "name": "stdout",
     "output_type": "stream",
     "text": [
      "\t - Recall@20 epoch 7: 0.164216\n",
      "\t - MRR@20    epoch 7: 0.052172\n",
      "\n"
     ]
    },
    {
     "name": "stderr",
     "output_type": "stream",
     "text": [
      "Train: 100%|█████████▉| 61702/61887 [09:08<00:01, 112.53it/s, accuracy=0, train_loss=5.73]     \n",
      "Evaluation:  49%|████▊     | 51/105 [00:04<00:04, 11.11it/s]\n"
     ]
    },
    {
     "name": "stdout",
     "output_type": "stream",
     "text": [
      "\t - Recall@20 epoch 8: 0.143382\n",
      "\t - MRR@20    epoch 8: 0.052331\n",
      "\n"
     ]
    },
    {
     "name": "stderr",
     "output_type": "stream",
     "text": [
      "Train: 100%|█████████▉| 61702/61887 [09:04<00:01, 113.28it/s, accuracy=0, train_loss=5.78]     \n",
      "Evaluation:  49%|████▊     | 51/105 [00:04<00:04, 10.96it/s]\n"
     ]
    },
    {
     "name": "stdout",
     "output_type": "stream",
     "text": [
      "\t - Recall@20 epoch 9: 0.140931\n",
      "\t - MRR@20    epoch 9: 0.052809\n",
      "\n"
     ]
    },
    {
     "name": "stderr",
     "output_type": "stream",
     "text": [
      "Train: 100%|█████████▉| 61702/61887 [09:04<00:01, 113.38it/s, accuracy=0, train_loss=5.34]     \n",
      "Evaluation:  49%|████▊     | 51/105 [00:04<00:04, 11.15it/s]\n"
     ]
    },
    {
     "name": "stdout",
     "output_type": "stream",
     "text": [
      "\t - Recall@20 epoch 10: 0.149510\n",
      "\t - MRR@20    epoch 10: 0.054075\n",
      "\n"
     ]
    },
    {
     "name": "stderr",
     "output_type": "stream",
     "text": [
      "Evaluation:  34%|███▍      | 31/90 [00:02<00:05, 11.30it/s]"
     ]
    },
    {
     "name": "stdout",
     "output_type": "stream",
     "text": [
      "\t - Recall@20: 0.143145\n",
      "\t - MRR@20: 0.050426\n",
      "\n"
     ]
    },
    {
     "name": "stderr",
     "output_type": "stream",
     "text": [
      "\n"
     ]
    }
   ],
   "source": [
    "# batch size 16, drop rate 0.1, learning rate = 0.001, epochs 10\n",
    "\n",
    "args = Args(train, valid, test, batch_size=16, hsz=50, drop_rate=0.1, lr=0.001, epochs=10, k=20)\n",
    "model = create_model(args)\n",
    "train_model(model, args)\n",
    "\n",
    "def test_model(model, args, test):\n",
    "    test_recall, test_mrr = get_metrics(test, model, args, 20)\n",
    "    print(f\"\\t - Recall@{args.k}: {test_recall:3f}\")\n",
    "    print(f\"\\t - MRR@{args.k}: {test_mrr:3f}\\n\")\n",
    "\n",
    "test_model(model, args, test)"
   ]
  },
  {
   "cell_type": "markdown",
   "id": "694fb7d3",
   "metadata": {},
   "source": [
    "---"
   ]
  },
  {
   "cell_type": "markdown",
   "id": "bd250036",
   "metadata": {},
   "source": [
    "**프로젝트 평가**"
   ]
  },
  {
   "cell_type": "markdown",
   "id": "e3ce1515",
   "metadata": {},
   "source": [
    "|항목|batch size|drop rate|learning rate|epoch|**Recall**|**MRR**|\n",
    "|:------:|:---:|:---:|:---:|:---:|:---:|:---:|\n",
    "|테스트 1|16|0.1|0.001|3|0.127|0.047|\n",
    "|테스트 2|8|0.1|0.01|10|0.104|0.024|\n",
    "|테스트 3|8|0.5|0.01|10|0.070|0.014|\n",
    "|테스트 4|16|0.1|0.001|10|0.143|0.050|"
   ]
  },
  {
   "cell_type": "markdown",
   "id": "7f33e2c4",
   "metadata": {},
   "source": [
    "* batch size, drop rate, learning rate, epochs의 변화를 시도했지만 초기에서 epochs만 바꿨을 때만 효과가 좋았다.\n",
    "* learning rate를 키웠을 때 loss가 크게 요동치는 경우 learning rate를 줄이는 방안을,\n",
    "* learning rate를 줄였을 때 loss에 거의 변화가 없는 경우 learning rate를 키우는 방안을 선택하는데 이도저도 아니었다.\n",
    "* drop rate의 효과가 궁금해서 이를 줄여보고 싶었는데 시간이 부족하여 하지 못했다. drop rate를 키웠을 때는 결과가 악화되었다.\n",
    "* Test 결과로 봤을 때, 테스트 4 케이스에서 가장 성과가 좋고 테스트 3 케이스에서 가장 성과가 좋지 않다."
   ]
  },
  {
   "attachments": {
    "image-3.png": {
     "image/png": "[encoded data removed]"
    }
   },
   "cell_type": "markdown",
   "id": "211f7b7d",
   "metadata": {},
   "source": [
    "![image-3.png](attachment:image-3.png)"
   ]
  },
  {
   "cell_type": "markdown",
   "id": "9bc8b332",
   "metadata": {},
   "source": [
    "* epochs는 최대 10회로 설정했는데 이 구간에서는 epochs을 늘리는 것이 성과에 좋은 영향이 아니다.\n",
    "* 가장 성과가 좋았던 테스트 4의 경우 train loss가 지속적으로 감소한다."
   ]
  }
 ],
 "metadata": {
  "kernelspec": {
   "display_name": "Python 3 (ipykernel)",
   "language": "python",
   "name": "python3"
  },
  "language_info": {
   "codemirror_mode": {
    "name": "ipython",
    "version": 3
   },
   "file_extension": ".py",
   "mimetype": "text/x-python",
   "name": "python",
   "nbconvert_exporter": "python",
   "pygments_lexer": "ipython3",
   "version": "3.9.7"
  }
 },
 "nbformat": 4,
 "nbformat_minor": 5
}
