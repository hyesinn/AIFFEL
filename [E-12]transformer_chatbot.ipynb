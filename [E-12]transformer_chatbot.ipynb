{
 "cells": [
  {
   "cell_type": "code",
   "execution_count": 1,
   "id": "c6e43b1e",
   "metadata": {},
   "outputs": [],
   "source": [
    "import tensorflow as tf\n",
    "import tensorflow_datasets as tfds\n",
    "import os\n",
    "import re\n",
    "import numpy as np\n",
    "import pandas as pd\n",
    "import matplotlib.pyplot as plt"
   ]
  },
  {
   "cell_type": "markdown",
   "id": "32531940",
   "metadata": {},
   "source": [
    "***"
   ]
  },
  {
   "cell_type": "markdown",
   "id": "b1ad36aa",
   "metadata": {},
   "source": [
    "**데이터 준비**"
   ]
  },
  {
   "cell_type": "code",
   "execution_count": 2,
   "id": "10893d35",
   "metadata": {},
   "outputs": [
    {
     "data": {
      "text/html": [
       "<div>\n",
       "<style scoped>\n",
       "    .dataframe tbody tr th:only-of-type {\n",
       "        vertical-align: middle;\n",
       "    }\n",
       "\n",
       "    .dataframe tbody tr th {\n",
       "        vertical-align: top;\n",
       "    }\n",
       "\n",
       "    .dataframe thead th {\n",
       "        text-align: right;\n",
       "    }\n",
       "</style>\n",
       "<table border=\"1\" class=\"dataframe\">\n",
       "  <thead>\n",
       "    <tr style=\"text-align: right;\">\n",
       "      <th></th>\n",
       "      <th>Q</th>\n",
       "      <th>A</th>\n",
       "      <th>label</th>\n",
       "    </tr>\n",
       "  </thead>\n",
       "  <tbody>\n",
       "    <tr>\n",
       "      <th>0</th>\n",
       "      <td>12시 땡!</td>\n",
       "      <td>하루가 또 가네요.</td>\n",
       "      <td>0</td>\n",
       "    </tr>\n",
       "    <tr>\n",
       "      <th>1</th>\n",
       "      <td>1지망 학교 떨어졌어</td>\n",
       "      <td>위로해 드립니다.</td>\n",
       "      <td>0</td>\n",
       "    </tr>\n",
       "    <tr>\n",
       "      <th>2</th>\n",
       "      <td>3박4일 놀러가고 싶다</td>\n",
       "      <td>여행은 언제나 좋죠.</td>\n",
       "      <td>0</td>\n",
       "    </tr>\n",
       "    <tr>\n",
       "      <th>3</th>\n",
       "      <td>3박4일 정도 놀러가고 싶다</td>\n",
       "      <td>여행은 언제나 좋죠.</td>\n",
       "      <td>0</td>\n",
       "    </tr>\n",
       "    <tr>\n",
       "      <th>4</th>\n",
       "      <td>PPL 심하네</td>\n",
       "      <td>눈살이 찌푸려지죠.</td>\n",
       "      <td>0</td>\n",
       "    </tr>\n",
       "    <tr>\n",
       "      <th>...</th>\n",
       "      <td>...</td>\n",
       "      <td>...</td>\n",
       "      <td>...</td>\n",
       "    </tr>\n",
       "    <tr>\n",
       "      <th>11818</th>\n",
       "      <td>훔쳐보는 것도 눈치 보임.</td>\n",
       "      <td>티가 나니까 눈치가 보이는 거죠!</td>\n",
       "      <td>2</td>\n",
       "    </tr>\n",
       "    <tr>\n",
       "      <th>11819</th>\n",
       "      <td>훔쳐보는 것도 눈치 보임.</td>\n",
       "      <td>훔쳐보는 거 티나나봐요.</td>\n",
       "      <td>2</td>\n",
       "    </tr>\n",
       "    <tr>\n",
       "      <th>11820</th>\n",
       "      <td>흑기사 해주는 짝남.</td>\n",
       "      <td>설렜겠어요.</td>\n",
       "      <td>2</td>\n",
       "    </tr>\n",
       "    <tr>\n",
       "      <th>11821</th>\n",
       "      <td>힘든 연애 좋은 연애라는게 무슨 차이일까?</td>\n",
       "      <td>잘 헤어질 수 있는 사이 여부인 거 같아요.</td>\n",
       "      <td>2</td>\n",
       "    </tr>\n",
       "    <tr>\n",
       "      <th>11822</th>\n",
       "      <td>힘들어서 결혼할까봐</td>\n",
       "      <td>도피성 결혼은 하지 않길 바라요.</td>\n",
       "      <td>2</td>\n",
       "    </tr>\n",
       "  </tbody>\n",
       "</table>\n",
       "<p>11823 rows × 3 columns</p>\n",
       "</div>"
      ],
      "text/plain": [
       "                             Q                         A  label\n",
       "0                       12시 땡!                하루가 또 가네요.      0\n",
       "1                  1지망 학교 떨어졌어                 위로해 드립니다.      0\n",
       "2                 3박4일 놀러가고 싶다               여행은 언제나 좋죠.      0\n",
       "3              3박4일 정도 놀러가고 싶다               여행은 언제나 좋죠.      0\n",
       "4                      PPL 심하네                눈살이 찌푸려지죠.      0\n",
       "...                        ...                       ...    ...\n",
       "11818           훔쳐보는 것도 눈치 보임.        티가 나니까 눈치가 보이는 거죠!      2\n",
       "11819           훔쳐보는 것도 눈치 보임.             훔쳐보는 거 티나나봐요.      2\n",
       "11820              흑기사 해주는 짝남.                    설렜겠어요.      2\n",
       "11821  힘든 연애 좋은 연애라는게 무슨 차이일까?  잘 헤어질 수 있는 사이 여부인 거 같아요.      2\n",
       "11822               힘들어서 결혼할까봐        도피성 결혼은 하지 않길 바라요.      2\n",
       "\n",
       "[11823 rows x 3 columns]"
      ]
     },
     "execution_count": 2,
     "metadata": {},
     "output_type": "execute_result"
    }
   ],
   "source": [
    "# 데이터 불러오기\n",
    "FILE_PATH = os.getenv(\"HOME\") + \"/aiffel/transformer_chatbot/data/ChatbotData.csv\"\n",
    "DATA = pd.read_csv(FILE_PATH)\n",
    "DATA"
   ]
  },
  {
   "cell_type": "markdown",
   "id": "7859fcfc",
   "metadata": {},
   "source": [
    "* [songys/Chatbot_data](https://github.com/songys/Chatbot_data)\n",
    "* 다음 카페 \"사랑보다 아름다운 실연\"을 참고하여 songys님께서 직접 제작한 데이터 \n",
    "* 라벨 0, 1, 2는 각각 일상, 긍정, 부정"
   ]
  },
  {
   "cell_type": "code",
   "execution_count": 3,
   "id": "ad84b319",
   "metadata": {},
   "outputs": [
    {
     "data": {
      "text/plain": [
       "array([0, 1, 2])"
      ]
     },
     "execution_count": 3,
     "metadata": {},
     "output_type": "execute_result"
    }
   ],
   "source": [
    "DATA['label'].unique()"
   ]
  },
  {
   "cell_type": "code",
   "execution_count": 4,
   "id": "f4218ed5",
   "metadata": {},
   "outputs": [
    {
     "data": {
      "text/html": [
       "<div>\n",
       "<style scoped>\n",
       "    .dataframe tbody tr th:only-of-type {\n",
       "        vertical-align: middle;\n",
       "    }\n",
       "\n",
       "    .dataframe tbody tr th {\n",
       "        vertical-align: top;\n",
       "    }\n",
       "\n",
       "    .dataframe thead th {\n",
       "        text-align: right;\n",
       "    }\n",
       "</style>\n",
       "<table border=\"1\" class=\"dataframe\">\n",
       "  <thead>\n",
       "    <tr style=\"text-align: right;\">\n",
       "      <th></th>\n",
       "      <th>Q</th>\n",
       "      <th>A</th>\n",
       "      <th>label</th>\n",
       "    </tr>\n",
       "  </thead>\n",
       "  <tbody>\n",
       "    <tr>\n",
       "      <th>0</th>\n",
       "      <td>12시 땡!</td>\n",
       "      <td>하루가 또 가네요.</td>\n",
       "      <td>0</td>\n",
       "    </tr>\n",
       "    <tr>\n",
       "      <th>1</th>\n",
       "      <td>1지망 학교 떨어졌어</td>\n",
       "      <td>위로해 드립니다.</td>\n",
       "      <td>0</td>\n",
       "    </tr>\n",
       "    <tr>\n",
       "      <th>2</th>\n",
       "      <td>3박4일 놀러가고 싶다</td>\n",
       "      <td>여행은 언제나 좋죠.</td>\n",
       "      <td>0</td>\n",
       "    </tr>\n",
       "    <tr>\n",
       "      <th>3</th>\n",
       "      <td>3박4일 정도 놀러가고 싶다</td>\n",
       "      <td>여행은 언제나 좋죠.</td>\n",
       "      <td>0</td>\n",
       "    </tr>\n",
       "    <tr>\n",
       "      <th>4</th>\n",
       "      <td>PPL 심하네</td>\n",
       "      <td>눈살이 찌푸려지죠.</td>\n",
       "      <td>0</td>\n",
       "    </tr>\n",
       "    <tr>\n",
       "      <th>...</th>\n",
       "      <td>...</td>\n",
       "      <td>...</td>\n",
       "      <td>...</td>\n",
       "    </tr>\n",
       "    <tr>\n",
       "      <th>5285</th>\n",
       "      <td>힘내야지</td>\n",
       "      <td>응원합니다!</td>\n",
       "      <td>0</td>\n",
       "    </tr>\n",
       "    <tr>\n",
       "      <th>5286</th>\n",
       "      <td>힘든 것 좀 끝났으면</td>\n",
       "      <td>다 지나갈 거예요.</td>\n",
       "      <td>0</td>\n",
       "    </tr>\n",
       "    <tr>\n",
       "      <th>5287</th>\n",
       "      <td>힘든 시기가 지나갔으면</td>\n",
       "      <td>다 지나갈 거예요.</td>\n",
       "      <td>0</td>\n",
       "    </tr>\n",
       "    <tr>\n",
       "      <th>5288</th>\n",
       "      <td>힘든 데도 날 도와준 사람</td>\n",
       "      <td>잊지말고 보답하세요.</td>\n",
       "      <td>0</td>\n",
       "    </tr>\n",
       "    <tr>\n",
       "      <th>5289</th>\n",
       "      <td>힘차게 시작</td>\n",
       "      <td>응원합니다!</td>\n",
       "      <td>0</td>\n",
       "    </tr>\n",
       "  </tbody>\n",
       "</table>\n",
       "<p>5290 rows × 3 columns</p>\n",
       "</div>"
      ],
      "text/plain": [
       "                    Q            A  label\n",
       "0              12시 땡!   하루가 또 가네요.      0\n",
       "1         1지망 학교 떨어졌어    위로해 드립니다.      0\n",
       "2        3박4일 놀러가고 싶다  여행은 언제나 좋죠.      0\n",
       "3     3박4일 정도 놀러가고 싶다  여행은 언제나 좋죠.      0\n",
       "4             PPL 심하네   눈살이 찌푸려지죠.      0\n",
       "...               ...          ...    ...\n",
       "5285             힘내야지       응원합니다!      0\n",
       "5286      힘든 것 좀 끝났으면   다 지나갈 거예요.      0\n",
       "5287     힘든 시기가 지나갔으면   다 지나갈 거예요.      0\n",
       "5288   힘든 데도 날 도와준 사람  잊지말고 보답하세요.      0\n",
       "5289           힘차게 시작       응원합니다!      0\n",
       "\n",
       "[5290 rows x 3 columns]"
      ]
     },
     "execution_count": 4,
     "metadata": {},
     "output_type": "execute_result"
    }
   ],
   "source": [
    "DATA[DATA['label'] == 0] # 일상"
   ]
  },
  {
   "cell_type": "code",
   "execution_count": 5,
   "id": "97354fca",
   "metadata": {},
   "outputs": [
    {
     "data": {
      "text/html": [
       "<div>\n",
       "<style scoped>\n",
       "    .dataframe tbody tr th:only-of-type {\n",
       "        vertical-align: middle;\n",
       "    }\n",
       "\n",
       "    .dataframe tbody tr th {\n",
       "        vertical-align: top;\n",
       "    }\n",
       "\n",
       "    .dataframe thead th {\n",
       "        text-align: right;\n",
       "    }\n",
       "</style>\n",
       "<table border=\"1\" class=\"dataframe\">\n",
       "  <thead>\n",
       "    <tr style=\"text-align: right;\">\n",
       "      <th></th>\n",
       "      <th>Q</th>\n",
       "      <th>A</th>\n",
       "      <th>label</th>\n",
       "    </tr>\n",
       "  </thead>\n",
       "  <tbody>\n",
       "    <tr>\n",
       "      <th>5290</th>\n",
       "      <td>1000일 만난 여자친구와 이별</td>\n",
       "      <td>더 오래 만날 사람 만날 거예요.</td>\n",
       "      <td>1</td>\n",
       "    </tr>\n",
       "    <tr>\n",
       "      <th>5291</th>\n",
       "      <td>10년 연애. 헤어졌습니다.</td>\n",
       "      <td>더 공허함이 크시겠네요.</td>\n",
       "      <td>1</td>\n",
       "    </tr>\n",
       "    <tr>\n",
       "      <th>5292</th>\n",
       "      <td>10년 연애사 되돌아보니 다 부질없네</td>\n",
       "      <td>더 좋은 사람 만나실 거예요.</td>\n",
       "      <td>1</td>\n",
       "    </tr>\n",
       "    <tr>\n",
       "      <th>5293</th>\n",
       "      <td>10년 연예의끝</td>\n",
       "      <td>더 마음이 허하겠어요.</td>\n",
       "      <td>1</td>\n",
       "    </tr>\n",
       "    <tr>\n",
       "      <th>5294</th>\n",
       "      <td>10년만나다 헤어지네</td>\n",
       "      <td>충분히 슬퍼하고 충분히 아파하다가 이겨내세요.</td>\n",
       "      <td>1</td>\n",
       "    </tr>\n",
       "    <tr>\n",
       "      <th>...</th>\n",
       "      <td>...</td>\n",
       "      <td>...</td>\n",
       "      <td>...</td>\n",
       "    </tr>\n",
       "    <tr>\n",
       "      <th>8855</th>\n",
       "      <td>힘듭니다.</td>\n",
       "      <td>어떤 말도 위로가 되지 않겠지만 힘내세요.</td>\n",
       "      <td>1</td>\n",
       "    </tr>\n",
       "    <tr>\n",
       "      <th>8856</th>\n",
       "      <td>힘이 될런지 모르겠지만</td>\n",
       "      <td>어떤 말도 위로가 되지 않겠지만 힘내세요.</td>\n",
       "      <td>1</td>\n",
       "    </tr>\n",
       "    <tr>\n",
       "      <th>8857</th>\n",
       "      <td>힘이 드네</td>\n",
       "      <td>어떤 말도 위로가 되지 않겠지만 힘내세요.</td>\n",
       "      <td>1</td>\n",
       "    </tr>\n",
       "    <tr>\n",
       "      <th>8858</th>\n",
       "      <td>힘이 없어</td>\n",
       "      <td>힘내세요!</td>\n",
       "      <td>1</td>\n",
       "    </tr>\n",
       "    <tr>\n",
       "      <th>8859</th>\n",
       "      <td>힘이드네.여자들이란.</td>\n",
       "      <td>어떤 말도 위로가 되지 않겠지만 힘내세요.</td>\n",
       "      <td>1</td>\n",
       "    </tr>\n",
       "  </tbody>\n",
       "</table>\n",
       "<p>3570 rows × 3 columns</p>\n",
       "</div>"
      ],
      "text/plain": [
       "                         Q                          A  label\n",
       "5290     1000일 만난 여자친구와 이별         더 오래 만날 사람 만날 거예요.      1\n",
       "5291       10년 연애. 헤어졌습니다.              더 공허함이 크시겠네요.      1\n",
       "5292  10년 연애사 되돌아보니 다 부질없네           더 좋은 사람 만나실 거예요.      1\n",
       "5293              10년 연예의끝               더 마음이 허하겠어요.      1\n",
       "5294           10년만나다 헤어지네  충분히 슬퍼하고 충분히 아파하다가 이겨내세요.      1\n",
       "...                    ...                        ...    ...\n",
       "8855                 힘듭니다.    어떤 말도 위로가 되지 않겠지만 힘내세요.      1\n",
       "8856          힘이 될런지 모르겠지만    어떤 말도 위로가 되지 않겠지만 힘내세요.      1\n",
       "8857                 힘이 드네    어떤 말도 위로가 되지 않겠지만 힘내세요.      1\n",
       "8858                 힘이 없어                      힘내세요!      1\n",
       "8859           힘이드네.여자들이란.    어떤 말도 위로가 되지 않겠지만 힘내세요.      1\n",
       "\n",
       "[3570 rows x 3 columns]"
      ]
     },
     "execution_count": 5,
     "metadata": {},
     "output_type": "execute_result"
    }
   ],
   "source": [
    "DATA[DATA['label'] == 1] # 부정"
   ]
  },
  {
   "cell_type": "code",
   "execution_count": 6,
   "id": "9e6e29f7",
   "metadata": {},
   "outputs": [
    {
     "data": {
      "text/html": [
       "<div>\n",
       "<style scoped>\n",
       "    .dataframe tbody tr th:only-of-type {\n",
       "        vertical-align: middle;\n",
       "    }\n",
       "\n",
       "    .dataframe tbody tr th {\n",
       "        vertical-align: top;\n",
       "    }\n",
       "\n",
       "    .dataframe thead th {\n",
       "        text-align: right;\n",
       "    }\n",
       "</style>\n",
       "<table border=\"1\" class=\"dataframe\">\n",
       "  <thead>\n",
       "    <tr style=\"text-align: right;\">\n",
       "      <th></th>\n",
       "      <th>Q</th>\n",
       "      <th>A</th>\n",
       "      <th>label</th>\n",
       "    </tr>\n",
       "  </thead>\n",
       "  <tbody>\n",
       "    <tr>\n",
       "      <th>8860</th>\n",
       "      <td>짝사랑만큼 고통스러운 건 없겠지.</td>\n",
       "      <td>짝사랑 만큼 감정소모가 큰 건 없을 거예요.</td>\n",
       "      <td>2</td>\n",
       "    </tr>\n",
       "    <tr>\n",
       "      <th>8861</th>\n",
       "      <td>1년 넘게 만났는데 지금도 불타올라</td>\n",
       "      <td>정열적인 사랑을 하고 있나봐요.</td>\n",
       "      <td>2</td>\n",
       "    </tr>\n",
       "    <tr>\n",
       "      <th>8862</th>\n",
       "      <td>1년 동거 중인데 계속 좋아</td>\n",
       "      <td>서로 깊게 알게되면서 더 좋아졌나봅니다.</td>\n",
       "      <td>2</td>\n",
       "    </tr>\n",
       "    <tr>\n",
       "      <th>8863</th>\n",
       "      <td>1년 동거하고 결혼했어</td>\n",
       "      <td>축하합니다!</td>\n",
       "      <td>2</td>\n",
       "    </tr>\n",
       "    <tr>\n",
       "      <th>8864</th>\n",
       "      <td>1년 만났는데도 그 사람에 대해 잘 모르겠어</td>\n",
       "      <td>더 만나보세요.</td>\n",
       "      <td>2</td>\n",
       "    </tr>\n",
       "    <tr>\n",
       "      <th>...</th>\n",
       "      <td>...</td>\n",
       "      <td>...</td>\n",
       "      <td>...</td>\n",
       "    </tr>\n",
       "    <tr>\n",
       "      <th>11818</th>\n",
       "      <td>훔쳐보는 것도 눈치 보임.</td>\n",
       "      <td>티가 나니까 눈치가 보이는 거죠!</td>\n",
       "      <td>2</td>\n",
       "    </tr>\n",
       "    <tr>\n",
       "      <th>11819</th>\n",
       "      <td>훔쳐보는 것도 눈치 보임.</td>\n",
       "      <td>훔쳐보는 거 티나나봐요.</td>\n",
       "      <td>2</td>\n",
       "    </tr>\n",
       "    <tr>\n",
       "      <th>11820</th>\n",
       "      <td>흑기사 해주는 짝남.</td>\n",
       "      <td>설렜겠어요.</td>\n",
       "      <td>2</td>\n",
       "    </tr>\n",
       "    <tr>\n",
       "      <th>11821</th>\n",
       "      <td>힘든 연애 좋은 연애라는게 무슨 차이일까?</td>\n",
       "      <td>잘 헤어질 수 있는 사이 여부인 거 같아요.</td>\n",
       "      <td>2</td>\n",
       "    </tr>\n",
       "    <tr>\n",
       "      <th>11822</th>\n",
       "      <td>힘들어서 결혼할까봐</td>\n",
       "      <td>도피성 결혼은 하지 않길 바라요.</td>\n",
       "      <td>2</td>\n",
       "    </tr>\n",
       "  </tbody>\n",
       "</table>\n",
       "<p>2963 rows × 3 columns</p>\n",
       "</div>"
      ],
      "text/plain": [
       "                              Q                         A  label\n",
       "8860         짝사랑만큼 고통스러운 건 없겠지.  짝사랑 만큼 감정소모가 큰 건 없을 거예요.      2\n",
       "8861        1년 넘게 만났는데 지금도 불타올라         정열적인 사랑을 하고 있나봐요.      2\n",
       "8862            1년 동거 중인데 계속 좋아    서로 깊게 알게되면서 더 좋아졌나봅니다.      2\n",
       "8863               1년 동거하고 결혼했어                    축하합니다!      2\n",
       "8864   1년 만났는데도 그 사람에 대해 잘 모르겠어                  더 만나보세요.      2\n",
       "...                         ...                       ...    ...\n",
       "11818            훔쳐보는 것도 눈치 보임.        티가 나니까 눈치가 보이는 거죠!      2\n",
       "11819            훔쳐보는 것도 눈치 보임.             훔쳐보는 거 티나나봐요.      2\n",
       "11820               흑기사 해주는 짝남.                    설렜겠어요.      2\n",
       "11821   힘든 연애 좋은 연애라는게 무슨 차이일까?  잘 헤어질 수 있는 사이 여부인 거 같아요.      2\n",
       "11822                힘들어서 결혼할까봐        도피성 결혼은 하지 않길 바라요.      2\n",
       "\n",
       "[2963 rows x 3 columns]"
      ]
     },
     "execution_count": 6,
     "metadata": {},
     "output_type": "execute_result"
    }
   ],
   "source": [
    "DATA[DATA['label'] == 2] # 긍정"
   ]
  },
  {
   "cell_type": "code",
   "execution_count": 7,
   "id": "45be87f7",
   "metadata": {},
   "outputs": [],
   "source": [
    "# DataFrame -> list\n",
    "questions = DATA['Q'].tolist()\n",
    "answers = DATA['A'].tolist()"
   ]
  },
  {
   "cell_type": "code",
   "execution_count": 8,
   "id": "e7a6f5fc",
   "metadata": {},
   "outputs": [],
   "source": [
    "## 데이터 전처리\n",
    "def preprocess(sentence):\n",
    "    sentence = re.sub(r\"([?.!,])\", r\" \\1 \", sentence) # 마침표 사이에 공백 추가\n",
    "    sentence = re.sub(r\"([' '])+\", \" \", sentence) # 둘 이상의 공백을 하나의 공백으로\n",
    "    sentence = sentence.strip() # 데이터 앞뒤 공백 제거\n",
    "    \n",
    "    return sentence"
   ]
  },
  {
   "cell_type": "code",
   "execution_count": 9,
   "id": "72c64582",
   "metadata": {},
   "outputs": [],
   "source": [
    "# 데이터 전처리\n",
    "questions = [preprocess(sentence) for sentence in questions]\n",
    "answers = [preprocess(sentence) for sentence in answers]"
   ]
  },
  {
   "cell_type": "code",
   "execution_count": 10,
   "id": "4b95b89a",
   "metadata": {},
   "outputs": [
    {
     "name": "stdout",
     "output_type": "stream",
     "text": [
      "length of questions : 11823\n",
      "length of answers : 11823\n"
     ]
    }
   ],
   "source": [
    "# 데이터 크기\n",
    "print('length of questions :', len(questions))\n",
    "print('length of answers :', len(answers))"
   ]
  },
  {
   "cell_type": "code",
   "execution_count": 11,
   "id": "64acdd4e",
   "metadata": {},
   "outputs": [
    {
     "name": "stdout",
     "output_type": "stream",
     "text": [
      "question example (after preprocess) : 가족들이랑 어디 가지 ?\n",
      "answer example (after preprocess) : 온 가족이 모두 마음에 드는 곳으로 가보세요 .\n"
     ]
    }
   ],
   "source": [
    "# 전처리한 데이터 예시\n",
    "print('question example (after preprocess) :', questions[32])\n",
    "print('answer example (after preprocess) :', answers[32])"
   ]
  },
  {
   "cell_type": "code",
   "execution_count": 12,
   "id": "fef7529d",
   "metadata": {},
   "outputs": [],
   "source": [
    "# 토크나이저 생성\n",
    "tokenizer = tfds.deprecated.text.SubwordTextEncoder.build_from_corpus(questions + answers, target_vocab_size=2**13)"
   ]
  },
  {
   "cell_type": "code",
   "execution_count": 13,
   "id": "2f0426dc",
   "metadata": {},
   "outputs": [
    {
     "name": "stdout",
     "output_type": "stream",
     "text": [
      "START_TOKEN index : [8173]\n",
      "END_TOKE index : [8174]\n"
     ]
    }
   ],
   "source": [
    "# 시작 토큰과 종료 토큰 생성\n",
    "VOCAB_SIZE = tokenizer.vocab_size + 2\n",
    "START_TOKEN, END_TOKEN = [tokenizer.vocab_size], [tokenizer.vocab_size + 1]\n",
    "print('START_TOKEN index :' ,[tokenizer.vocab_size])\n",
    "print('END_TOKE index :' ,[tokenizer.vocab_size + 1])"
   ]
  },
  {
   "cell_type": "code",
   "execution_count": 14,
   "id": "0a6df1b5",
   "metadata": {},
   "outputs": [
    {
     "name": "stdout",
     "output_type": "stream",
     "text": [
      "question example (encode) : [7876, 1156, 1055, 2]\n",
      "answer example (encode) : [1087, 3174, 591, 264, 877, 621, 287, 1]\n"
     ]
    }
   ],
   "source": [
    "# 인코딩한 데이터 예시\n",
    "print('question example (encode) :', tokenizer.encode(questions[32]))\n",
    "print('answer example (encode) :', tokenizer.encode(answers[32]))"
   ]
  },
  {
   "cell_type": "code",
   "execution_count": 15,
   "id": "053ce647",
   "metadata": {},
   "outputs": [
    {
     "data": {
      "image/png": "[encoded data removed]",
      "text/plain": [
       "<Figure size 720x216 with 2 Axes>"
      ]
     },
     "metadata": {
      "needs_background": "light"
     },
     "output_type": "display_data"
    }
   ],
   "source": [
    "# 토큰의 최대 길이 설정을 위한 시각화\n",
    "\n",
    "qna = questions + answers\n",
    "len_tokens = [len(tokenizer.encode(s)) for s in qna]\n",
    "\n",
    "plt.figure(figsize = (10, 3))\n",
    "plt.subplot(121)\n",
    "plt.boxplot(len_tokens)\n",
    "plt.subplot(122)\n",
    "plt.hist(len_tokens)\n",
    "plt.show()"
   ]
  },
  {
   "cell_type": "markdown",
   "id": "f5863169",
   "metadata": {},
   "source": [
    "* 플롯을 통해 대부분의 데이터가 길이 20 이내라는 점을 알 수 있음\n",
    "* 토큰의 최대 길이를 20으로 설정"
   ]
  },
  {
   "cell_type": "code",
   "execution_count": 16,
   "id": "86cbbc32",
   "metadata": {},
   "outputs": [],
   "source": [
    "MAX_LENGTH = 20\n",
    "\n",
    "## 데이터 토큰화\n",
    "def tokenize(inputs, outputs):\n",
    "    tokenized_inputs, tokenized_outputs = [], []\n",
    "    \n",
    "    for i, o in zip(inputs, outputs):\n",
    "        i = START_TOKEN + tokenizer.encode(i) + END_TOKEN # 입력 데이터에 시작/종료 토큰 추가\n",
    "        o = START_TOKEN + tokenizer.encode(o) + END_TOKEN # 출력 데이터에 시작/종료 토큰 추가\n",
    "    \n",
    "        # 최대 길이 제한\n",
    "        if len(i) <= MAX_LENGTH and len(o) <= MAX_LENGTH:\n",
    "            tokenized_inputs.append(i)\n",
    "            tokenized_outputs.append(o)\n",
    "    \n",
    "    # 패딩 추가\n",
    "    tokenized_inputs = tf.keras.preprocessing.sequence.pad_sequences(tokenized_inputs, maxlen = MAX_LENGTH, padding = 'post')\n",
    "    tokenized_outputs = tf.keras.preprocessing.sequence.pad_sequences(tokenized_outputs, maxlen = MAX_LENGTH, padding = 'post')\n",
    "    \n",
    "    return tokenized_inputs, tokenized_outputs"
   ]
  },
  {
   "cell_type": "code",
   "execution_count": 17,
   "id": "29a78bfa",
   "metadata": {},
   "outputs": [],
   "source": [
    "# 데이터 토큰화\n",
    "questions, answers = tokenize(questions, answers)"
   ]
  },
  {
   "cell_type": "code",
   "execution_count": 18,
   "id": "38f616a7",
   "metadata": {},
   "outputs": [],
   "source": [
    "# 데이터셋\n",
    "BATCH_SIZE = 64\n",
    "BUFFER_SIZE = 20000\n",
    "\n",
    "dataset = tf.data.Dataset.from_tensor_slices(({'inputs': questions, 'decoder_inputs': answers[:, :-1]}, \n",
    "                                              {'outputs': answers[:, 1:]}))\n",
    "dataset = dataset.cache()\n",
    "dataset = dataset.shuffle(BUFFER_SIZE)\n",
    "dataset = dataset.batch(BATCH_SIZE)\n",
    "dataset = dataset.prefetch(tf.data.experimental.AUTOTUNE)"
   ]
  },
  {
   "cell_type": "markdown",
   "id": "8cdabd6b",
   "metadata": {},
   "source": [
    "---"
   ]
  },
  {
   "cell_type": "markdown",
   "id": "0d7f17a9",
   "metadata": {},
   "source": [
    "**모델링**"
   ]
  },
  {
   "cell_type": "markdown",
   "id": "9a7ea0d6",
   "metadata": {},
   "source": [
    "Positional Encoding"
   ]
  },
  {
   "cell_type": "markdown",
   "id": "12738b0a",
   "metadata": {},
   "source": [
    "* 문장의 위치(position) 정보 벡터를 인코딩합니다."
   ]
  },
  {
   "cell_type": "markdown",
   "id": "15ae7f7a",
   "metadata": {},
   "source": [
    "* 수식\n",
    "\n",
    "    $PE(pos,$ <span style = \"color:blue\">$2i$</span>$) = sin(pos/10000^{\\frac{2i}{dmodel}})$ <br/>\n",
    "    $PE(pos,$ <span style = \"color:blue\">$2i+1$</span>$) = cos(pos/10000^{\\frac{2i}{dmodel}})$"
   ]
  },
  {
   "cell_type": "code",
   "execution_count": 19,
   "id": "6cdd199c",
   "metadata": {},
   "outputs": [],
   "source": [
    "class PositionalEncoding(tf.keras.layers.Layer): # PositionalEncoding(row, col)\n",
    "    \n",
    "    def __init__(self, position, d_model):\n",
    "        super(PositionalEncoding, self).__init__()\n",
    "        self.pos_encoding = self.positional_encoding(position, d_model)\n",
    "    \n",
    "    def get_angles(self, position, i, d_model): # pos/10000^(2i/d_model)\n",
    "        numerator = 2 * (i // 2) # 2i\n",
    "        denominator = tf.cast(d_model, tf.float32) # d_model\n",
    "        angles = 1 / tf.pow(1e+4, numerator / denominator) # 10000^(2i/d_model)\n",
    "        return position * angles # pos/10000^(2i/d_model)\n",
    "    \n",
    "    def positional_encoding(self, position, d_model):\n",
    "        angle_rads = self.get_angles(\n",
    "            position = tf.range(position, dtype = tf.float32)[:, tf.newaxis],\n",
    "            i = tf.range(d_model, dtype = tf.float32)[tf.newaxis, :],\n",
    "            d_model = d_model\n",
    "        )\n",
    "        \n",
    "        sin = tf.math.sin(angle_rads[:, 0::2]) # PE(pos, 2i)\n",
    "        cos = tf.math.cos(angle_rads[:, 1::2]) # PE(pos, 2i+1)\n",
    "        \n",
    "        pos_encoding = tf.stack([sin, cos], axis = 0)\n",
    "        pos_encoding = tf.transpose(pos_encoding, [1, 2, 0])\n",
    "        pos_encoding = tf.reshape(pos_encoding, [position, d_model])\n",
    "        pos_encoding = pos_encoding[tf.newaxis, ...]\n",
    "        \n",
    "        return tf.cast(pos_encoding, tf.float32)\n",
    "    \n",
    "    def call(self, inputs):\n",
    "        return inputs + self.pos_encoding[:, :tf.shape(inputs)[1], :]"
   ]
  },
  {
   "cell_type": "markdown",
   "id": "10f1e36c",
   "metadata": {},
   "source": [
    "Scaled Dot Product Attention"
   ]
  },
  {
   "cell_type": "markdown",
   "id": "23ac9db1",
   "metadata": {},
   "source": [
    "* 단어 사이의 유사도를 구해 학습 및 예측에 활용합니다.\n",
    "* 유사도를 스케일드 닷 프로덕트 어텐션을 통해 구합니다."
   ]
  },
  {
   "cell_type": "markdown",
   "id": "8e50936a",
   "metadata": {},
   "source": [
    "* 수식\n",
    "\n",
    "    $Attention(Q, K, V) = softmax(\\frac{QK^T}{\\sqrt{d_k}})V$ <br/>\n",
    "    $Q$는 쿼리(문장), $K$는 키(단어), $V$는 값(유사도)"
   ]
  },
  {
   "cell_type": "code",
   "execution_count": 20,
   "id": "43dcf7da",
   "metadata": {},
   "outputs": [],
   "source": [
    "def scaled_dot_product_attention(query, key, value, mask):\n",
    "    numerator = tf.matmul(query, key, transpose_b = True) # Q(K^T)\n",
    "    denominator = tf.math.sqrt(tf.cast(tf.shape(key)[-1], tf.float32)) # root(d_k)\n",
    "    logits = numerator / denominator # Q(K^T) / root(d_k)\n",
    "    \n",
    "    if mask is not None:\n",
    "        logits += (mask * -1e+9) # softmax(-infty) = 0\n",
    "    \n",
    "    attention_weights = tf.nn.softmax(logits, axis = -1) # softmax(Q(K^T) / root(d_k))\n",
    "    \n",
    "    attention_value = tf.matmul(attention_weights, value) # softmax(Q(K^T) / root(d_k))V\n",
    "    \n",
    "    return attention_value"
   ]
  },
  {
   "cell_type": "markdown",
   "id": "649da01e",
   "metadata": {},
   "source": [
    "Multi Head Attention"
   ]
  },
  {
   "cell_type": "markdown",
   "id": "b59df890",
   "metadata": {},
   "source": [
    "* 어텐션 병렬 배치\n",
    "\n",
    "    $d_{model} = d_v * num_{heads}$"
   ]
  },
  {
   "cell_type": "code",
   "execution_count": 21,
   "id": "f15879f4",
   "metadata": {},
   "outputs": [],
   "source": [
    "class MultiHeadAttention(tf.keras.layers.Layer):\n",
    "    \n",
    "    def __init__(self, d_model, num_heads, name = \"multi_head_attention\"):\n",
    "        super(MultiHeadAttention, self).__init__(name = name)\n",
    "        self.num_heads = num_heads\n",
    "        self.d_model = d_model\n",
    "        \n",
    "        assert d_model % self.num_heads == 0, \"not available num_heads\"\n",
    "        \n",
    "        self.query_dense = tf.keras.layers.Dense(units = d_model)\n",
    "        self.key_dense = tf.keras.layers.Dense(units = d_model)\n",
    "        self.value_dense = tf.keras.layers.Dense(units = d_model)\n",
    "        self.dense = tf.keras.layers.Dense(units = d_model)\n",
    "        \n",
    "    def split_heads(self, inputs, batch_size):\n",
    "        inputs = tf.reshape(\n",
    "            inputs, shape = (batch_size, -1, self.num_heads, self.d_model // self.num_heads)\n",
    "        )\n",
    "        return tf.transpose(inputs, perm = [0, 2, 1, 3])\n",
    "    \n",
    "    def call(self, inputs):\n",
    "        query = inputs['query']\n",
    "        key = inputs['key']\n",
    "        value = inputs['value']\n",
    "        mask = inputs['mask']\n",
    "        \n",
    "        batch_size = tf.shape(query)[0]\n",
    "        \n",
    "        query = self.query_dense(query)\n",
    "        key = self.key_dense(key)\n",
    "        value = self.value_dense(value)\n",
    "        \n",
    "        query = self.split_heads(query, batch_size)\n",
    "        key = self.split_heads(key, batch_size)\n",
    "        value = self.split_heads(value, batch_size)\n",
    "        \n",
    "        attention = scaled_dot_product_attention(query, key, value, mask)\n",
    "        attention = tf.transpose(attention, perm = [0, 2, 1, 3])\n",
    "        attention = tf.reshape(attention, (batch_size, -1, self.d_model))\n",
    "        attention = self.dense(attention)\n",
    "        \n",
    "        return attention"
   ]
  },
  {
   "cell_type": "markdown",
   "id": "c50bab82",
   "metadata": {},
   "source": [
    "Masking"
   ]
  },
  {
   "cell_type": "markdown",
   "id": "0ddd019b",
   "metadata": {},
   "source": [
    "* 일부 값을 연산에 사용하지 않습니다."
   ]
  },
  {
   "cell_type": "code",
   "execution_count": 22,
   "id": "58a07850",
   "metadata": {},
   "outputs": [],
   "source": [
    "## padding masking\n",
    "def mask_pad(x):\n",
    "    mask = tf.cast(tf.math.equal(x, 0), tf.float32) # 1 if x = 0 else 0\n",
    "    return mask[:, tf.newaxis, tf.newaxis, :] # (batch_size, 1, 1, length of sequence)\n",
    "\n",
    "## look-ahead masking\n",
    "def mask_back(x):\n",
    "    l = tf.shape(x)[1]\n",
    "    mask = 1 - tf.linalg.band_part(tf.ones((l, l)), -1, 0)\n",
    "    pad = mask_pad(x)\n",
    "    return tf.maximum(mask, pad)"
   ]
  },
  {
   "cell_type": "markdown",
   "id": "7ea9ff10",
   "metadata": {},
   "source": [
    "Encoder"
   ]
  },
  {
   "cell_type": "markdown",
   "id": "52ec68ae",
   "metadata": {},
   "source": [
    "* 입력 문장을 받아 정보를 얻고, 디코더에 전달하는 인코더(입력 처리)입니다.\n",
    "* 인코더 셀프 언텐션(입력 단어 - 입력 단어의 유사도)층과 완전 연결층이 포함됩니다."
   ]
  },
  {
   "cell_type": "code",
   "execution_count": 23,
   "id": "c24cfa52",
   "metadata": {},
   "outputs": [],
   "source": [
    "def encoder_layer(units, d_model, num_heads, dropout, name = \"encoder_layer\"):\n",
    "    \n",
    "    # 0. input (+ padding mask)\n",
    "    inputs = tf.keras.Input(shape = (None, d_model), name = \"inputs\")\n",
    "    pad = tf.keras.Input(shape = (1, 1, None), name = \"pad\")\n",
    "    \n",
    "    # 1. encoder self attention (+ dropout & layer normalization)\n",
    "    attention = MultiHeadAttention(d_model, num_heads, name = \"attention\")({\n",
    "        'query': inputs,\n",
    "        'key': inputs,\n",
    "        'value': inputs,\n",
    "        'mask': pad\n",
    "    })\n",
    "    attention = tf.keras.layers.Dropout(rate = dropout)(attention)\n",
    "    attention = tf.keras.layers.LayerNormalization(epsilon = 1e-6)(inputs + attention)\n",
    "    \n",
    "    # 2. fully connected (+ dropout & layer normalization)\n",
    "    outputs = tf.keras.layers.Dense(units = units, activation = 'relu')(attention)\n",
    "    outputs = tf.keras.layers.Dense(units = d_model)(outputs)\n",
    "    outputs = tf.keras.layers.Dropout(rate = dropout)(outputs)\n",
    "    outputs = tf.keras.layers.LayerNormalization(epsilon = 1e-6)(attention + outputs)\n",
    "    \n",
    "    return tf.keras.Model(inputs = [inputs, pad], outputs = outputs, name = name)\n",
    "\n",
    "\n",
    "def encoder(vocab_size, num_layers, units, d_model, num_heads, dropout, name = \"encoder\"):\n",
    "    \n",
    "    # input (+ padding mask)\n",
    "    inputs = tf.keras.Input(shape = (None, ), name = \"inputs\")\n",
    "    pad = tf.keras.Input(shape = (1, 1, None), name = \"pad\")\n",
    "    \n",
    "    # embedding (+ positional encoding)\n",
    "    embeddings = tf.keras.layers.Embedding(vocab_size, d_model)(inputs)\n",
    "    embeddings *= tf.math.sqrt(tf.cast(d_model, tf.float32))\n",
    "    embeddings = PositionalEncoding(vocab_size, d_model)(embeddings)\n",
    "    embeddings = tf.keras.layers.Dropout(rate = dropout)(embeddings)\n",
    "    \n",
    "    # encoder_layer * num_layers\n",
    "    outputs = embeddings\n",
    "    for n in range(num_layers):\n",
    "        outputs = encoder_layer(units = units, d_model = d_model, num_heads = num_heads, \n",
    "                                dropout = dropout, name = f\"encoder_layer_{n}\")([outputs, pad])\n",
    "    \n",
    "    return tf.keras.Model(inputs = [inputs, pad], outputs = outputs, name = name)"
   ]
  },
  {
   "cell_type": "markdown",
   "id": "49b43d0b",
   "metadata": {},
   "source": [
    "Decoder"
   ]
  },
  {
   "cell_type": "markdown",
   "id": "5fc10619",
   "metadata": {},
   "source": [
    "* 인코더에서 정보를 받아 문장을 생성하는 디코더(출력)입니다.\n",
    "* 디코더 셀프 어텐션(출력 단어 - 출력 단어의 유사도)층과 인코더 디코더 어텐션(입력 단어 - 출력 단어의 유사도)층, 그리고 완전연결층이 포함됩니다."
   ]
  },
  {
   "cell_type": "code",
   "execution_count": 24,
   "id": "5951eb33",
   "metadata": {},
   "outputs": [],
   "source": [
    "def decoder_layer(units, d_model, num_heads, dropout, name = \"decoder_layer\"):\n",
    "    \n",
    "    # 0. input (+ encoder outputs & masking)\n",
    "    inputs = tf.keras.Input(shape = (None, d_model), name = \"inputs\")\n",
    "    encoder = tf.keras.Input(shape = (None, d_model), name = \"encoder\")\n",
    "    mask = tf.keras.Input(shape = (1, None, None), name = \"mask\")\n",
    "    pad = tf.keras.Input(shape = (1, 1, None), name = \"pad\")\n",
    "    \n",
    "    # 1. decoder self attention (+ layer normalization)\n",
    "    attention1 = MultiHeadAttention(d_model, num_heads, name = \"first_attention\")({\n",
    "        'query': inputs,\n",
    "        'key': inputs,\n",
    "        'value': inputs,\n",
    "        'mask': mask\n",
    "    })\n",
    "    attention1 = tf.keras.layers.LayerNormalization(epsilon = 1e-6)(inputs + attention1)\n",
    "    \n",
    "    # 2. encoder - decoder attention (+ dropout & layer normalization)\n",
    "    attention2 = MultiHeadAttention(d_model, num_heads, name = \"second_attention\")({\n",
    "        'query': attention1,\n",
    "        'key': encoder,\n",
    "        'value': encoder,\n",
    "        'mask': pad\n",
    "    })\n",
    "    attention2 = tf.keras.layers.Dropout(rate = dropout)(attention2)\n",
    "    attention2 = tf.keras.layers.LayerNormalization(epsilon = 1e-6)(attention1 + attention2)\n",
    "    \n",
    "    # 3. fully connected (+ dropout & layer normalization)\n",
    "    outputs = tf.keras.layers.Dense(units = units, activation = 'relu')(attention2)\n",
    "    outputs = tf.keras.layers.Dense(units = d_model)(outputs)\n",
    "    outputs = tf.keras.layers.Dropout(rate = dropout)(outputs)\n",
    "    outputs = tf.keras.layers.LayerNormalization(epsilon = 1e-6)(attention2 + outputs)\n",
    "    \n",
    "    return tf.keras.Model(inputs = [inputs, encoder, mask, pad], outputs = outputs, name = name)\n",
    "\n",
    "\n",
    "def decoder(vocab_size, num_layers, units, d_model, num_heads, dropout, name = 'decoder'):\n",
    "    \n",
    "    # input (+ encoder & masking)\n",
    "    inputs = tf.keras.Input(shape = (None, ), name = \"inputs\")\n",
    "    encoder_outputs = tf.keras.Input(shape = (None, d_model), name = \"encoder_output\")\n",
    "    \n",
    "    mask = tf.keras.Input(shape = (1, None, None), name = \"mask\")\n",
    "    pad = tf.keras.Input(shape = (1, 1, None), name = \"pad\")\n",
    "    \n",
    "    # embedding (+ positional encoding)\n",
    "    embeddings = tf.keras.layers.Embedding(vocab_size, d_model)(inputs)\n",
    "    embeddings *= tf.math.sqrt(tf.cast(d_model, tf.float32))\n",
    "    embeddings = PositionalEncoding(vocab_size, d_model)(embeddings)\n",
    "    embeddings = tf.keras.layers.Dropout(rate = dropout)(embeddings)\n",
    "    \n",
    "    # decoder_layer * num_layers\n",
    "    outputs = embeddings\n",
    "    for n in range(num_layers):\n",
    "        outputs = decoder_layer(units = units, d_model = d_model, num_heads = num_heads, \n",
    "                                dropout = dropout, name = f\"decoder_layer_{n}\")(inputs = [outputs, encoder_outputs, mask, pad])\n",
    "    \n",
    "    return tf.keras.Model(inputs = [inputs, encoder_outputs, mask, pad], outputs = outputs, name = name)"
   ]
  },
  {
   "cell_type": "markdown",
   "id": "b38d24c5",
   "metadata": {},
   "source": [
    "Transformer"
   ]
  },
  {
   "cell_type": "markdown",
   "id": "c7043f5c",
   "metadata": {},
   "source": [
    "* 인코더와 디코더를 결합한 최종 모델입니다."
   ]
  },
  {
   "cell_type": "code",
   "execution_count": 25,
   "id": "8b5576e5",
   "metadata": {},
   "outputs": [],
   "source": [
    "def transformer(vocab_size, num_layers, units, d_model, num_heads, dropout, name = \"transfomer\"):\n",
    "    \n",
    "    # input\n",
    "    inputs = tf.keras.Input(shape = (None, ), name = \"inputs\")\n",
    "    decoder_inputs = tf.keras.Input(shape = (None, ), name = \"decoder_inputs\")\n",
    "    \n",
    "    # masking\n",
    "    encoder_pad = tf.keras.layers.Lambda(mask_pad, output_shape = (1, 1, None), name = 'encoder_pad')(inputs)\n",
    "    decoder_pad = tf.keras.layers.Lambda(mask_pad, output_shape = (1, 1, None), name = 'decoder_pad')(inputs)\n",
    "    decoder_mask = tf.keras.layers.Lambda(mask_back, output_shape = (1, None, None), name = 'decoder_mask')(decoder_inputs)\n",
    "    \n",
    "    # encoder\n",
    "    encoder_outputs = encoder(vocab_size = vocab_size, num_layers = num_layers, \n",
    "                              units = units, d_model = d_model, num_heads = num_heads, \n",
    "                              dropout = dropout)(inputs = [inputs, encoder_pad])\n",
    "    \n",
    "    # decoder\n",
    "    decoder_outputs = decoder(vocab_size = vocab_size, num_layers = num_layers, \n",
    "                              units = units, d_model = d_model, num_heads = num_heads, \n",
    "                              dropout = dropout)(inputs = [decoder_inputs, encoder_outputs, decoder_mask, decoder_pad])\n",
    "    \n",
    "    # output (fully connected)\n",
    "    outputs = tf.keras.layers.Dense(units = vocab_size, name = \"outputs\")(decoder_outputs)\n",
    "    \n",
    "    return tf.keras.Model(inputs = [inputs, decoder_inputs], outputs = outputs, name = name)"
   ]
  },
  {
   "cell_type": "markdown",
   "id": "1f02f3fb",
   "metadata": {},
   "source": [
    "---"
   ]
  },
  {
   "cell_type": "markdown",
   "id": "a5b1735a",
   "metadata": {},
   "source": [
    "**모델 훈련**"
   ]
  },
  {
   "cell_type": "code",
   "execution_count": 26,
   "id": "e8bf6671",
   "metadata": {},
   "outputs": [
    {
     "name": "stdout",
     "output_type": "stream",
     "text": [
      "Model: \"transfomer\"\n",
      "__________________________________________________________________________________________________\n",
      "Layer (type)                    Output Shape         Param #     Connected to                     \n",
      "==================================================================================================\n",
      "inputs (InputLayer)             [(None, None)]       0                                            \n",
      "__________________________________________________________________________________________________\n",
      "decoder_inputs (InputLayer)     [(None, None)]       0                                            \n",
      "__________________________________________________________________________________________________\n",
      "encoder_pad (Lambda)            (None, 1, 1, None)   0           inputs[0][0]                     \n",
      "__________________________________________________________________________________________________\n",
      "encoder (Functional)            (None, None, 256)    3147008     inputs[0][0]                     \n",
      "                                                                 encoder_pad[0][0]                \n",
      "__________________________________________________________________________________________________\n",
      "decoder_mask (Lambda)           (None, 1, None, None 0           decoder_inputs[0][0]             \n",
      "__________________________________________________________________________________________________\n",
      "decoder_pad (Lambda)            (None, 1, 1, None)   0           inputs[0][0]                     \n",
      "__________________________________________________________________________________________________\n",
      "decoder (Functional)            (None, None, 256)    3674368     decoder_inputs[0][0]             \n",
      "                                                                 encoder[0][0]                    \n",
      "                                                                 decoder_mask[0][0]               \n",
      "                                                                 decoder_pad[0][0]                \n",
      "__________________________________________________________________________________________________\n",
      "outputs (Dense)                 (None, None, 8175)   2100975     decoder[0][0]                    \n",
      "==================================================================================================\n",
      "Total params: 8,922,351\n",
      "Trainable params: 8,922,351\n",
      "Non-trainable params: 0\n",
      "__________________________________________________________________________________________________\n"
     ]
    }
   ],
   "source": [
    "# 모델 생성\n",
    "\n",
    "tf.keras.backend.clear_session()\n",
    "\n",
    "NUM_LAYERS = 2\n",
    "UNITS = 512\n",
    "D_MODEL = 256\n",
    "NUM_HEADS = 8\n",
    "DROPOUT = 0.1\n",
    "\n",
    "model = transformer(vocab_size = VOCAB_SIZE, num_layers = NUM_LAYERS, units = UNITS, \n",
    "                    d_model = D_MODEL, num_heads = NUM_HEADS, dropout = DROPOUT)\n",
    "\n",
    "model.summary()"
   ]
  },
  {
   "cell_type": "code",
   "execution_count": 27,
   "id": "ffd8eec9",
   "metadata": {},
   "outputs": [],
   "source": [
    "## 손실 함수\n",
    "def loss_function(target, pred):\n",
    "    target = tf.reshape(target, shape = (-1, MAX_LENGTH - 1))\n",
    "    \n",
    "    loss = tf.keras.losses.SparseCategoricalCrossentropy(from_logits = True, reduction = 'none')(target, pred)\n",
    "    mask = tf.cast(tf.not_equal(target, 0), tf.float32)\n",
    "    loss = tf.multiply(loss, mask)\n",
    "    \n",
    "    return tf.reduce_mean(loss)"
   ]
  },
  {
   "cell_type": "code",
   "execution_count": 28,
   "id": "b58d4040",
   "metadata": {},
   "outputs": [],
   "source": [
    "## learning reate 최적화\n",
    "class CustomSchedule(tf.keras.optimizers.schedules.LearningRateSchedule):\n",
    "    \n",
    "    def __init__(self, d_model, warmup_steps = 4000):\n",
    "        super(CustomSchedule, self).__init__()\n",
    "        \n",
    "        self.d_model = d_model\n",
    "        self.d_model = tf.cast(self.d_model, tf.float32)\n",
    "        \n",
    "        self.warmup_steps = warmup_steps\n",
    "    \n",
    "    \n",
    "    def __call__(self, step):\n",
    "        arg1 = step ** -0.5\n",
    "        arg2 = step * (self.warmup_steps ** -1.5)\n",
    "        \n",
    "        return (self.d_model ** -0.5) * tf.math.minimum(arg1, arg2)"
   ]
  },
  {
   "cell_type": "code",
   "execution_count": 29,
   "id": "42301289",
   "metadata": {},
   "outputs": [],
   "source": [
    "# 모델 컴파일\n",
    "\n",
    "learning_rate = CustomSchedule(D_MODEL)\n",
    "optimizer = tf.keras.optimizers.Adam(learning_rate = learning_rate, beta_1 = 0.9, beta_2 = 0.98, epsilon = 1e-9)\n",
    "\n",
    "model.compile(optimizer = optimizer, loss = loss_function, metrics = ['accuracy'])"
   ]
  },
  {
   "cell_type": "code",
   "execution_count": 30,
   "id": "a87b349e",
   "metadata": {},
   "outputs": [
    {
     "name": "stdout",
     "output_type": "stream",
     "text": [
      "Epoch 1/20\n",
      "185/185 [==============================] - 13s 37ms/step - loss: 2.9654 - accuracy: 0.0564\n",
      "Epoch 2/20\n",
      "185/185 [==============================] - 7s 37ms/step - loss: 2.4038 - accuracy: 0.1017\n",
      "Epoch 3/20\n",
      "185/185 [==============================] - 7s 38ms/step - loss: 2.0392 - accuracy: 0.1042\n",
      "Epoch 4/20\n",
      "185/185 [==============================] - 7s 37ms/step - loss: 1.8859 - accuracy: 0.1118\n",
      "Epoch 5/20\n",
      "185/185 [==============================] - 7s 37ms/step - loss: 1.7668 - accuracy: 0.1186\n",
      "Epoch 6/20\n",
      "185/185 [==============================] - 7s 37ms/step - loss: 1.6469 - accuracy: 0.1271\n",
      "Epoch 7/20\n",
      "185/185 [==============================] - 7s 37ms/step - loss: 1.5125 - accuracy: 0.1388\n",
      "Epoch 8/20\n",
      "185/185 [==============================] - 7s 37ms/step - loss: 1.3650 - accuracy: 0.1548\n",
      "Epoch 9/20\n",
      "185/185 [==============================] - 7s 37ms/step - loss: 1.2045 - accuracy: 0.1722\n",
      "Epoch 10/20\n",
      "185/185 [==============================] - 7s 37ms/step - loss: 1.0378 - accuracy: 0.1918\n",
      "Epoch 11/20\n",
      "185/185 [==============================] - 7s 37ms/step - loss: 0.8709 - accuracy: 0.2124\n",
      "Epoch 12/20\n",
      "185/185 [==============================] - 7s 37ms/step - loss: 0.7065 - accuracy: 0.2349\n",
      "Epoch 13/20\n",
      "185/185 [==============================] - 7s 37ms/step - loss: 0.5565 - accuracy: 0.2566\n",
      "Epoch 14/20\n",
      "185/185 [==============================] - 7s 37ms/step - loss: 0.4243 - accuracy: 0.2768\n",
      "Epoch 15/20\n",
      "185/185 [==============================] - 7s 37ms/step - loss: 0.3118 - accuracy: 0.2964\n",
      "Epoch 16/20\n",
      "185/185 [==============================] - 7s 37ms/step - loss: 0.2274 - accuracy: 0.3116\n",
      "Epoch 17/20\n",
      "185/185 [==============================] - 7s 37ms/step - loss: 0.1666 - accuracy: 0.3228\n",
      "Epoch 18/20\n",
      "185/185 [==============================] - 7s 37ms/step - loss: 0.1280 - accuracy: 0.3296\n",
      "Epoch 19/20\n",
      "185/185 [==============================] - 7s 37ms/step - loss: 0.1035 - accuracy: 0.3342\n",
      "Epoch 20/20\n",
      "185/185 [==============================] - 7s 37ms/step - loss: 0.0946 - accuracy: 0.3346\n"
     ]
    }
   ],
   "source": [
    "# 모델 훈련\n",
    "\n",
    "EPOCHS = 20\n",
    "history = model.fit(dataset, epochs = EPOCHS, verbose =1)"
   ]
  },
  {
   "cell_type": "code",
   "execution_count": 31,
   "id": "61a0ad4b",
   "metadata": {},
   "outputs": [
    {
     "data": {
      "image/png": "[encoded data removed]",
      "text/plain": [
       "<Figure size 936x360 with 2 Axes>"
      ]
     },
     "metadata": {
      "needs_background": "light"
     },
     "output_type": "display_data"
    }
   ],
   "source": [
    "# 훈련 결과 시각화\n",
    "plt.figure(figsize = (13, 5))\n",
    "\n",
    "# 정확도\n",
    "plt.subplot(121)\n",
    "plt.plot(history.history['accuracy'], label = 'accuracy')\n",
    "plt.legend()\n",
    "\n",
    "# 손실\n",
    "plt.subplot(122)\n",
    "plt.plot(history.history['loss'], label = 'loss')\n",
    "plt.legend()\n",
    "\n",
    "plt.show()"
   ]
  },
  {
   "cell_type": "markdown",
   "id": "138c48fd",
   "metadata": {},
   "source": [
    "***"
   ]
  },
  {
   "cell_type": "markdown",
   "id": "4c9d8980",
   "metadata": {},
   "source": [
    "**모델 예측**"
   ]
  },
  {
   "cell_type": "code",
   "execution_count": 32,
   "id": "cc43832b",
   "metadata": {},
   "outputs": [],
   "source": [
    "## 입력 데이터에 대한 예측\n",
    "def inference(sentence):\n",
    "    sentence = preprocess(sentence)\n",
    "    \n",
    "    sentence = tf.expand_dims(START_TOKEN + tokenizer.encode(sentence) + END_TOKEN, axis = 0)\n",
    "    outputs = tf.expand_dims(START_TOKEN, 0)\n",
    "    \n",
    "    for i in range(MAX_LENGTH):\n",
    "        predictions = model(inputs = [sentence, outputs], training = False)\n",
    "        predictions = predictions[:, -1:, :]\n",
    "        pred_idx = tf.cast(tf.argmax(predictions, axis = -1), tf.int32)\n",
    "        if tf.equal(pred_idx, END_TOKEN[0]):\n",
    "            break\n",
    "        \n",
    "        outputs = tf.concat([outputs, pred_idx], axis = -1)\n",
    "    \n",
    "    return tf.squeeze(outputs, axis = 0)"
   ]
  },
  {
   "cell_type": "code",
   "execution_count": 33,
   "id": "165702bf",
   "metadata": {},
   "outputs": [],
   "source": [
    "## 예측에 대한 문장 생성\n",
    "def generator(sentence):\n",
    "    prediction = inference(sentence)\n",
    "    prediction = tokenizer.decode([pred for pred in prediction if pred < tokenizer.vocab_size])\n",
    "    \n",
    "    print(\"input :\", sentence)\n",
    "    print(\"output :\", prediction)\n",
    "    \n",
    "    return prediction"
   ]
  },
  {
   "cell_type": "code",
   "execution_count": 34,
   "id": "e9fe2616",
   "metadata": {},
   "outputs": [
    {
     "name": "stdout",
     "output_type": "stream",
     "text": [
      "input : 안녕하세요\n",
      "output : 안녕하세요 .\n"
     ]
    },
    {
     "data": {
      "text/plain": [
       "'안녕하세요 .'"
      ]
     },
     "execution_count": 34,
     "metadata": {},
     "output_type": "execute_result"
    }
   ],
   "source": [
    "generator(\"안녕하세요\")"
   ]
  },
  {
   "cell_type": "code",
   "execution_count": 35,
   "id": "6baac1fa",
   "metadata": {},
   "outputs": [
    {
     "name": "stdout",
     "output_type": "stream",
     "text": [
      "input : 취업하고싶어요\n",
      "output : 네 말씀해주세요 .\n"
     ]
    },
    {
     "data": {
      "text/plain": [
       "'네 말씀해주세요 .'"
      ]
     },
     "execution_count": 35,
     "metadata": {},
     "output_type": "execute_result"
    }
   ],
   "source": [
    "generator(\"취업하고싶어요\")"
   ]
  },
  {
   "cell_type": "code",
   "execution_count": 36,
   "id": "5442ade4",
   "metadata": {},
   "outputs": [
    {
     "name": "stdout",
     "output_type": "stream",
     "text": [
      "input : 성공할 수 있을까요?\n",
      "output : 인내할 수 있는 사람이라면 무엇이든 손에 넣을 수 있을 거예요 .\n"
     ]
    },
    {
     "data": {
      "text/plain": [
       "'인내할 수 있는 사람이라면 무엇이든 손에 넣을 수 있을 거예요 .'"
      ]
     },
     "execution_count": 36,
     "metadata": {},
     "output_type": "execute_result"
    }
   ],
   "source": [
    "generator(\"성공할 수 있을까요?\")"
   ]
  },
  {
   "cell_type": "markdown",
   "id": "8203a0f0",
   "metadata": {},
   "source": [
    "---"
   ]
  },
  {
   "cell_type": "markdown",
   "id": "e242182c",
   "metadata": {},
   "source": [
    "**프로젝트 한계**"
   ]
  },
  {
   "cell_type": "markdown",
   "id": "c575bd03",
   "metadata": {},
   "source": [
    "* 입력 문장과 유사한 Question 데이터를 찾아서, 해당 Answer 데이터를 그대로 출력하고 있습니다."
   ]
  },
  {
   "cell_type": "code",
   "execution_count": 37,
   "id": "ddc9052a",
   "metadata": {},
   "outputs": [
    {
     "name": "stdout",
     "output_type": "stream",
     "text": [
      "input : 안녕하세요\n",
      "output : 안녕하세요 .\n"
     ]
    },
    {
     "data": {
      "text/html": [
       "<div>\n",
       "<style scoped>\n",
       "    .dataframe tbody tr th:only-of-type {\n",
       "        vertical-align: middle;\n",
       "    }\n",
       "\n",
       "    .dataframe tbody tr th {\n",
       "        vertical-align: top;\n",
       "    }\n",
       "\n",
       "    .dataframe thead th {\n",
       "        text-align: right;\n",
       "    }\n",
       "</style>\n",
       "<table border=\"1\" class=\"dataframe\">\n",
       "  <thead>\n",
       "    <tr style=\"text-align: right;\">\n",
       "      <th></th>\n",
       "      <th>Q</th>\n",
       "      <th>A</th>\n",
       "      <th>label</th>\n",
       "    </tr>\n",
       "  </thead>\n",
       "  <tbody>\n",
       "    <tr>\n",
       "      <th>2949</th>\n",
       "      <td>안녕</td>\n",
       "      <td>안녕하세요.</td>\n",
       "      <td>0</td>\n",
       "    </tr>\n",
       "    <tr>\n",
       "      <th>2950</th>\n",
       "      <td>안녕안녕</td>\n",
       "      <td>안녕하세요.</td>\n",
       "      <td>0</td>\n",
       "    </tr>\n",
       "    <tr>\n",
       "      <th>2951</th>\n",
       "      <td>안녕하세요</td>\n",
       "      <td>안녕하세요.</td>\n",
       "      <td>0</td>\n",
       "    </tr>\n",
       "    <tr>\n",
       "      <th>2952</th>\n",
       "      <td>안뇽</td>\n",
       "      <td>안녕하세요.</td>\n",
       "      <td>0</td>\n",
       "    </tr>\n",
       "  </tbody>\n",
       "</table>\n",
       "</div>"
      ],
      "text/plain": [
       "          Q       A  label\n",
       "2949     안녕  안녕하세요.      0\n",
       "2950   안녕안녕  안녕하세요.      0\n",
       "2951  안녕하세요  안녕하세요.      0\n",
       "2952     안뇽  안녕하세요.      0"
      ]
     },
     "execution_count": 37,
     "metadata": {},
     "output_type": "execute_result"
    }
   ],
   "source": [
    "generator(\"안녕하세요\")\n",
    "DATA[2949:2953]"
   ]
  },
  {
   "cell_type": "code",
   "execution_count": 68,
   "id": "c7ae030f",
   "metadata": {},
   "outputs": [
    {
     "name": "stdout",
     "output_type": "stream",
     "text": [
      "input : 날씨가 추워요\n",
      "output : 집밖에 나가기가 힘들것 같아요 .\n"
     ]
    },
    {
     "data": {
      "text/html": [
       "<div>\n",
       "<style scoped>\n",
       "    .dataframe tbody tr th:only-of-type {\n",
       "        vertical-align: middle;\n",
       "    }\n",
       "\n",
       "    .dataframe tbody tr th {\n",
       "        vertical-align: top;\n",
       "    }\n",
       "\n",
       "    .dataframe thead th {\n",
       "        text-align: right;\n",
       "    }\n",
       "</style>\n",
       "<table border=\"1\" class=\"dataframe\">\n",
       "  <thead>\n",
       "    <tr style=\"text-align: right;\">\n",
       "      <th></th>\n",
       "      <th>Q</th>\n",
       "      <th>A</th>\n",
       "      <th>label</th>\n",
       "    </tr>\n",
       "  </thead>\n",
       "  <tbody>\n",
       "    <tr>\n",
       "      <th>699</th>\n",
       "      <td>날씨가 너무 추워</td>\n",
       "      <td>집밖에 나가기가 힘들것 같아요.</td>\n",
       "      <td>0</td>\n",
       "    </tr>\n",
       "  </tbody>\n",
       "</table>\n",
       "</div>"
      ],
      "text/plain": [
       "             Q                  A  label\n",
       "699  날씨가 너무 추워  집밖에 나가기가 힘들것 같아요.      0"
      ]
     },
     "execution_count": 68,
     "metadata": {},
     "output_type": "execute_result"
    }
   ],
   "source": [
    "generator(\"날씨가 추워요\")\n",
    "DATA[699:700]"
   ]
  },
  {
   "cell_type": "code",
   "execution_count": 65,
   "id": "6e4d2e36",
   "metadata": {},
   "outputs": [
    {
     "name": "stdout",
     "output_type": "stream",
     "text": [
      "input : 성공하고 싶어요\n",
      "output : 큰 결심이네요 . 꼭 성공할 거예요 .\n"
     ]
    },
    {
     "data": {
      "text/html": [
       "<div>\n",
       "<style scoped>\n",
       "    .dataframe tbody tr th:only-of-type {\n",
       "        vertical-align: middle;\n",
       "    }\n",
       "\n",
       "    .dataframe tbody tr th {\n",
       "        vertical-align: top;\n",
       "    }\n",
       "\n",
       "    .dataframe thead th {\n",
       "        text-align: right;\n",
       "    }\n",
       "</style>\n",
       "<table border=\"1\" class=\"dataframe\">\n",
       "  <thead>\n",
       "    <tr style=\"text-align: right;\">\n",
       "      <th></th>\n",
       "      <th>Q</th>\n",
       "      <th>A</th>\n",
       "      <th>label</th>\n",
       "    </tr>\n",
       "  </thead>\n",
       "  <tbody>\n",
       "    <tr>\n",
       "      <th>11343</th>\n",
       "      <td>짝남 보란듯이 성공하고 싶어요.</td>\n",
       "      <td>큰 결심이네요. 꼭 성공할 거예요.</td>\n",
       "      <td>2</td>\n",
       "    </tr>\n",
       "    <tr>\n",
       "      <th>11475</th>\n",
       "      <td>짝녀 보란 듯이 성공하고 싶습니다.</td>\n",
       "      <td>큰 결심이네요. 꼭 성공할 거예요.</td>\n",
       "      <td>2</td>\n",
       "    </tr>\n",
       "  </tbody>\n",
       "</table>\n",
       "</div>"
      ],
      "text/plain": [
       "                         Q                    A  label\n",
       "11343    짝남 보란듯이 성공하고 싶어요.  큰 결심이네요. 꼭 성공할 거예요.      2\n",
       "11475  짝녀 보란 듯이 성공하고 싶습니다.  큰 결심이네요. 꼭 성공할 거예요.      2"
      ]
     },
     "execution_count": 65,
     "metadata": {},
     "output_type": "execute_result"
    }
   ],
   "source": [
    "generator(\"성공하고 싶어요\")\n",
    "DATA.loc[[11343, 11475]]"
   ]
  },
  {
   "cell_type": "markdown",
   "id": "8426c063",
   "metadata": {},
   "source": [
    "---"
   ]
  },
  {
   "cell_type": "markdown",
   "id": "663afe74",
   "metadata": {},
   "source": [
    "**프로젝트 개선**"
   ]
  },
  {
   "cell_type": "markdown",
   "id": "c3e16064",
   "metadata": {},
   "source": [
    "* 한국어 자연어 분석은 형태소 분석기를 사용하여 토큰나이징 하는 것으로 알려져 있습니다.\n",
    "* 앞서 사용한 subword tokenizer 대신 한국어 형태소 분석기 konlpy.tag Mecab을 사용합니다.\n",
    "* subword tokenizer는 어절 분석에 있어 통계적으로 접근합니다.\n",
    "* 형태소 분석기 konlpy.tag의 Mecab은 언어 문법 체계를 기반으로 접근합니다."
   ]
  },
  {
   "cell_type": "code",
   "execution_count": 40,
   "id": "a32887b1",
   "metadata": {},
   "outputs": [],
   "source": [
    "from konlpy.tag import Mecab\n",
    "from collections import Counter\n",
    "\n",
    "# 토크나이저 생성\n",
    "tokenizer2 = Mecab()\n",
    "\n",
    "# 데이터 토큰화\n",
    "def tokenize2(inputs, outputs, MAX_LENGTH):\n",
    "    inputs_words, outputs_words = [], []\n",
    "\n",
    "    for i, o in zip(inputs, outputs):\n",
    "        i = tokenizer2.morphs(i) # 형태소 분리\n",
    "        o = tokenizer2.morphs(o) # 형태소 분리\n",
    "\n",
    "        # 최대 길이 제한\n",
    "        if len(i) <= MAX_LENGTH and len(o) <= MAX_LENGTH:\n",
    "            inputs_words.append(i)\n",
    "            outputs_words.append(o)\n",
    "    \n",
    "    # 단어 사전\n",
    "    words = np.concatenate(inputs_words).tolist() + np.concatenate(outputs_words).tolist()\n",
    "    words = set(words)\n",
    "    vocab = [\"<pad>\", \"<start>\", \"<end>\"] + [word for word in words]\n",
    "    vocab = {word : index for index, word in enumerate(vocab)}\n",
    "    \n",
    "    # word -> 정수 토큰\n",
    "    def token(data):\n",
    "        return [1] + [vocab[word] for word in data] + [2]\n",
    "    \n",
    "    \n",
    "    tokenized_inputs = list(map(token, inputs_words))\n",
    "    tokenized_outputs = list(map(token, outputs_words))\n",
    "    \n",
    "    # 패딩 추가\n",
    "    tokenized_inputs = tf.keras.preprocessing.sequence.pad_sequences(tokenized_inputs, maxlen = MAX_LENGTH, padding = 'post')\n",
    "    tokenized_outputs = tf.keras.preprocessing.sequence.pad_sequences(tokenized_outputs, maxlen = MAX_LENGTH, padding = 'post')\n",
    "\n",
    "    return tokenized_inputs, tokenized_outputs, vocab"
   ]
  },
  {
   "cell_type": "code",
   "execution_count": 41,
   "id": "8e52d4ca",
   "metadata": {},
   "outputs": [],
   "source": [
    "# DataFrame -> list\n",
    "questions = DATA['Q'].tolist()\n",
    "answers = DATA['A'].tolist()\n",
    "\n",
    "# 데이터 토큰화\n",
    "questions, answers, vocab = tokenize2(questions, answers, MAX_LENGTH)\n",
    "\n",
    "## 데이터셋\n",
    "dataset = tf.data.Dataset.from_tensor_slices(({'inputs': questions, 'decoder_inputs': answers[:, :-1]}, \n",
    "                                              {'outputs': answers[:, 1:]}))\n",
    "dataset = dataset.cache()\n",
    "dataset = dataset.shuffle(BUFFER_SIZE)\n",
    "dataset = dataset.batch(BATCH_SIZE)\n",
    "dataset = dataset.prefetch(tf.data.experimental.AUTOTUNE)"
   ]
  },
  {
   "cell_type": "code",
   "execution_count": 42,
   "id": "890d723a",
   "metadata": {},
   "outputs": [
    {
     "name": "stdout",
     "output_type": "stream",
     "text": [
      "Epoch 1/20\n",
      "183/183 [==============================] - 12s 35ms/step - loss: 2.1845 - accuracy: 0.1419\n",
      "Epoch 2/20\n",
      "183/183 [==============================] - 6s 35ms/step - loss: 1.5540 - accuracy: 0.2108\n",
      "Epoch 3/20\n",
      "183/183 [==============================] - 6s 35ms/step - loss: 1.3168 - accuracy: 0.2376\n",
      "Epoch 4/20\n",
      "183/183 [==============================] - 6s 35ms/step - loss: 1.1350 - accuracy: 0.2630\n",
      "Epoch 5/20\n",
      "183/183 [==============================] - 6s 35ms/step - loss: 0.9871 - accuracy: 0.2851\n",
      "Epoch 6/20\n",
      "183/183 [==============================] - 6s 35ms/step - loss: 0.8652 - accuracy: 0.3041\n",
      "Epoch 7/20\n",
      "183/183 [==============================] - 6s 35ms/step - loss: 0.7609 - accuracy: 0.3225\n",
      "Epoch 8/20\n",
      "183/183 [==============================] - 6s 35ms/step - loss: 0.6713 - accuracy: 0.3376\n",
      "Epoch 9/20\n",
      "183/183 [==============================] - 6s 35ms/step - loss: 0.5950 - accuracy: 0.3514\n",
      "Epoch 10/20\n",
      "183/183 [==============================] - 6s 35ms/step - loss: 0.5262 - accuracy: 0.3641\n",
      "Epoch 11/20\n",
      "183/183 [==============================] - 6s 35ms/step - loss: 0.4688 - accuracy: 0.3749\n",
      "Epoch 12/20\n",
      "183/183 [==============================] - 6s 35ms/step - loss: 0.4120 - accuracy: 0.3860\n",
      "Epoch 13/20\n",
      "183/183 [==============================] - 6s 35ms/step - loss: 0.3641 - accuracy: 0.3955\n",
      "Epoch 14/20\n",
      "183/183 [==============================] - 6s 35ms/step - loss: 0.3287 - accuracy: 0.4025\n",
      "Epoch 15/20\n",
      "183/183 [==============================] - 6s 35ms/step - loss: 0.2948 - accuracy: 0.4100\n",
      "Epoch 16/20\n",
      "183/183 [==============================] - 6s 35ms/step - loss: 0.2617 - accuracy: 0.4169\n",
      "Epoch 17/20\n",
      "183/183 [==============================] - 6s 35ms/step - loss: 0.2338 - accuracy: 0.4232\n",
      "Epoch 18/20\n",
      "183/183 [==============================] - 6s 35ms/step - loss: 0.2131 - accuracy: 0.4278\n",
      "Epoch 19/20\n",
      "183/183 [==============================] - 6s 35ms/step - loss: 0.1917 - accuracy: 0.4324\n",
      "Epoch 20/20\n",
      "183/183 [==============================] - 6s 35ms/step - loss: 0.1734 - accuracy: 0.4372\n"
     ]
    }
   ],
   "source": [
    "# 모델 생성\n",
    "model2 = transformer(vocab_size = len(vocab), num_layers = NUM_LAYERS, units = UNITS, \n",
    "                    d_model = D_MODEL, num_heads = NUM_HEADS, dropout = DROPOUT)\n",
    "\n",
    "# 모델 컴파일\n",
    "model2.compile(optimizer = optimizer, loss = loss_function, metrics = ['accuracy'])\n",
    "\n",
    "# 모델 훈련\n",
    "history2 = model2.fit(dataset, epochs = EPOCHS, verbose =1)"
   ]
  },
  {
   "cell_type": "code",
   "execution_count": 43,
   "id": "001aa30c",
   "metadata": {},
   "outputs": [
    {
     "data": {
      "image/png": "[encoded data removed]",
      "text/plain": [
       "<Figure size 936x360 with 2 Axes>"
      ]
     },
     "metadata": {
      "needs_background": "light"
     },
     "output_type": "display_data"
    }
   ],
   "source": [
    "# 훈련 결과 시각화\n",
    "plt.figure(figsize = (13, 5))\n",
    "\n",
    "# 정확도\n",
    "plt.subplot(121)\n",
    "plt.plot(history2.history['accuracy'], label = 'accuracy')\n",
    "plt.legend()\n",
    "\n",
    "# 손실\n",
    "plt.subplot(122)\n",
    "plt.plot(history2.history['loss'], label = 'loss')\n",
    "plt.legend()\n",
    "\n",
    "plt.show()"
   ]
  },
  {
   "cell_type": "code",
   "execution_count": 44,
   "id": "226834b1",
   "metadata": {},
   "outputs": [],
   "source": [
    "# 입력 데이터에 대한 예측\n",
    "def inference2(sentence, vocab):\n",
    "    sentence = preprocess(sentence)\n",
    "    sentence = tokenizer2.morphs(sentence)\n",
    "    \n",
    "    sentence = tf.expand_dims([1] + [vocab[word] if word in vocab else \"\" for word in sentence] + [2], axis = 0)\n",
    "    outputs = tf.expand_dims([1], 0)\n",
    "    \n",
    "    for i in range(MAX_LENGTH):\n",
    "        predictions = model2(inputs = [sentence, outputs], training = False)\n",
    "        predictions = predictions[:, -1:, :]\n",
    "        pred_idx = tf.cast(tf.argmax(predictions, axis = -1), tf.int32)\n",
    "        if tf.equal(pred_idx, 2):\n",
    "            break\n",
    "        \n",
    "        outputs = tf.concat([outputs, pred_idx], axis = -1)\n",
    "    \n",
    "    return tf.squeeze(outputs, axis = 0)\n",
    "\n",
    "# 예측에 대한 문장 생성\n",
    "def generator2(sentence, vocab = vocab):\n",
    "    prediction = inference2(sentence, vocab)\n",
    "    vocab = dict(map(reversed, vocab.items()))\n",
    "    prediction = [vocab[int(i)] for i in prediction[1:]]\n",
    "    prediction = \"\".join(prediction)\n",
    "    \n",
    "    print(\"input :\", sentence)\n",
    "    print(\"output :\", prediction)\n",
    "    \n",
    "    return prediction"
   ]
  },
  {
   "cell_type": "code",
   "execution_count": 45,
   "id": "2951f42e",
   "metadata": {},
   "outputs": [
    {
     "name": "stdout",
     "output_type": "stream",
     "text": [
      "input : 안녕하세요\n",
      "output : 안녕하세요.\n"
     ]
    },
    {
     "data": {
      "text/plain": [
       "'안녕하세요.'"
      ]
     },
     "execution_count": 45,
     "metadata": {},
     "output_type": "execute_result"
    }
   ],
   "source": [
    "generator2(\"안녕하세요\")"
   ]
  },
  {
   "cell_type": "code",
   "execution_count": 51,
   "id": "31405f63",
   "metadata": {},
   "outputs": [
    {
     "name": "stdout",
     "output_type": "stream",
     "text": [
      "input : 날씨가 추워요\n",
      "output : 집에도움이될거예요.\n"
     ]
    },
    {
     "data": {
      "text/plain": [
       "'집에도움이될거예요.'"
      ]
     },
     "execution_count": 51,
     "metadata": {},
     "output_type": "execute_result"
    }
   ],
   "source": [
    "generator2(\"날씨가 추워요\")"
   ]
  },
  {
   "cell_type": "code",
   "execution_count": 53,
   "id": "348093a1",
   "metadata": {},
   "outputs": [
    {
     "name": "stdout",
     "output_type": "stream",
     "text": [
      "input : 성공하고 싶어요\n",
      "output : 성공했길바랍니다.\n"
     ]
    },
    {
     "data": {
      "text/plain": [
       "'성공했길바랍니다.'"
      ]
     },
     "execution_count": 53,
     "metadata": {},
     "output_type": "execute_result"
    }
   ],
   "source": [
    "generator2(\"성공하고 싶어요\")"
   ]
  },
  {
   "cell_type": "markdown",
   "id": "5ed4ed98",
   "metadata": {},
   "source": [
    "---"
   ]
  },
  {
   "cell_type": "markdown",
   "id": "6672791d",
   "metadata": {},
   "source": [
    "**프로젝트 평가**"
   ]
  },
  {
   "cell_type": "markdown",
   "id": "207512b5",
   "metadata": {},
   "source": [
    "* 정확도는 형태소 분석기(konlpy.tag Mecab)를 사용했을 때가 더 높고,\n",
    "* loss는 subword tokenizer를 사용했을 때 더 빨리 감소합니다."
   ]
  },
  {
   "cell_type": "code",
   "execution_count": 57,
   "id": "a0c02216",
   "metadata": {},
   "outputs": [
    {
     "data": {
      "image/png": "[encoded data removed]",
      "text/plain": [
       "<Figure size 936x360 with 2 Axes>"
      ]
     },
     "metadata": {
      "needs_background": "light"
     },
     "output_type": "display_data"
    }
   ],
   "source": [
    "## 훈련 결과 시각화\n",
    "plt.figure(figsize = (13, 5))\n",
    "\n",
    "# 정확도\n",
    "plt.subplot(121)\n",
    "plt.plot(history.history['accuracy'], label = 'subword tokenizer') # 기존\n",
    "plt.plot(history2.history['accuracy'], label = 'konlpy.tag Mecab') # 개선\n",
    "plt.legend()\n",
    "\n",
    "# 손실\n",
    "plt.subplot(122)\n",
    "plt.plot(history.history['loss'], label = 'subword tokenizer') # 기존\n",
    "plt.plot(history2.history['loss'], label = 'konlpy.tag Mecab') # 개선\n",
    "plt.legend()\n",
    "\n",
    "plt.show()"
   ]
  },
  {
   "cell_type": "markdown",
   "id": "7c9826e4",
   "metadata": {},
   "source": [
    "* 앞서 subword tokenizer를 사용했을 때 입력 문장과 가장 유사한 Question의 해당 Answer를 그대로 출력하는 한계가 있었습니다.\n",
    "* 형태소 분석기(konlpy.tag Mecab)를 사용했을 때 이 문제가 다소 개선됩니다."
   ]
  },
  {
   "cell_type": "code",
   "execution_count": 78,
   "id": "023975b7",
   "metadata": {},
   "outputs": [
    {
     "name": "stdout",
     "output_type": "stream",
     "text": [
      "subword tokenizer\n",
      "input : 안녕하세요\n",
      "output : 안녕하세요 .\n",
      "\n",
      "konlpy.tag Mecab\n",
      "input : 안녕하세요\n",
      "output : 안녕하세요.\n"
     ]
    },
    {
     "data": {
      "text/html": [
       "<div>\n",
       "<style scoped>\n",
       "    .dataframe tbody tr th:only-of-type {\n",
       "        vertical-align: middle;\n",
       "    }\n",
       "\n",
       "    .dataframe tbody tr th {\n",
       "        vertical-align: top;\n",
       "    }\n",
       "\n",
       "    .dataframe thead th {\n",
       "        text-align: right;\n",
       "    }\n",
       "</style>\n",
       "<table border=\"1\" class=\"dataframe\">\n",
       "  <thead>\n",
       "    <tr style=\"text-align: right;\">\n",
       "      <th></th>\n",
       "      <th>Q</th>\n",
       "      <th>A</th>\n",
       "      <th>label</th>\n",
       "    </tr>\n",
       "  </thead>\n",
       "  <tbody>\n",
       "    <tr>\n",
       "      <th>2949</th>\n",
       "      <td>안녕</td>\n",
       "      <td>안녕하세요.</td>\n",
       "      <td>0</td>\n",
       "    </tr>\n",
       "    <tr>\n",
       "      <th>2950</th>\n",
       "      <td>안녕안녕</td>\n",
       "      <td>안녕하세요.</td>\n",
       "      <td>0</td>\n",
       "    </tr>\n",
       "    <tr>\n",
       "      <th>2951</th>\n",
       "      <td>안녕하세요</td>\n",
       "      <td>안녕하세요.</td>\n",
       "      <td>0</td>\n",
       "    </tr>\n",
       "    <tr>\n",
       "      <th>2952</th>\n",
       "      <td>안뇽</td>\n",
       "      <td>안녕하세요.</td>\n",
       "      <td>0</td>\n",
       "    </tr>\n",
       "  </tbody>\n",
       "</table>\n",
       "</div>"
      ],
      "text/plain": [
       "          Q       A  label\n",
       "2949     안녕  안녕하세요.      0\n",
       "2950   안녕안녕  안녕하세요.      0\n",
       "2951  안녕하세요  안녕하세요.      0\n",
       "2952     안뇽  안녕하세요.      0"
      ]
     },
     "execution_count": 78,
     "metadata": {},
     "output_type": "execute_result"
    }
   ],
   "source": [
    "## 문장 생성 비교 1 (안녕하세요)\n",
    "\n",
    "# 기존\n",
    "print(\"subword tokenizer\")\n",
    "generator(\"안녕하세요\")\n",
    "print()\n",
    "\n",
    "# 개선\n",
    "print(\"konlpy.tag Mecab\")\n",
    "generator2(\"안녕하세요\")\n",
    "\n",
    "# 출력한 문장과 유사한 원본 데이터\n",
    "DATA[2949:2953]"
   ]
  },
  {
   "cell_type": "markdown",
   "id": "8808ab1b",
   "metadata": {},
   "source": [
    "* 형태소 분석기(konlpy.tag Mecab)를 사용한 경우 문법적으로 정확하지는 않지만, 창의적인 답변을 생성합니다."
   ]
  },
  {
   "cell_type": "code",
   "execution_count": 71,
   "id": "69280a59",
   "metadata": {},
   "outputs": [
    {
     "name": "stdout",
     "output_type": "stream",
     "text": [
      "subword tokenizer\n",
      "input : 날씨가 추워요\n",
      "output : 집밖에 나가기가 힘들것 같아요 .\n",
      "\n",
      "konlpy.tag Mecab\n",
      "input : 날씨가 추워요\n",
      "output : 집에도움이될거예요.\n"
     ]
    },
    {
     "data": {
      "text/html": [
       "<div>\n",
       "<style scoped>\n",
       "    .dataframe tbody tr th:only-of-type {\n",
       "        vertical-align: middle;\n",
       "    }\n",
       "\n",
       "    .dataframe tbody tr th {\n",
       "        vertical-align: top;\n",
       "    }\n",
       "\n",
       "    .dataframe thead th {\n",
       "        text-align: right;\n",
       "    }\n",
       "</style>\n",
       "<table border=\"1\" class=\"dataframe\">\n",
       "  <thead>\n",
       "    <tr style=\"text-align: right;\">\n",
       "      <th></th>\n",
       "      <th>Q</th>\n",
       "      <th>A</th>\n",
       "      <th>label</th>\n",
       "    </tr>\n",
       "  </thead>\n",
       "  <tbody>\n",
       "    <tr>\n",
       "      <th>699</th>\n",
       "      <td>날씨가 너무 추워</td>\n",
       "      <td>집밖에 나가기가 힘들것 같아요.</td>\n",
       "      <td>0</td>\n",
       "    </tr>\n",
       "  </tbody>\n",
       "</table>\n",
       "</div>"
      ],
      "text/plain": [
       "             Q                  A  label\n",
       "699  날씨가 너무 추워  집밖에 나가기가 힘들것 같아요.      0"
      ]
     },
     "execution_count": 71,
     "metadata": {},
     "output_type": "execute_result"
    }
   ],
   "source": [
    "## 문장 생성 비교 2 (날씨가 추워요)\n",
    "\n",
    "# 기존\n",
    "print(\"subword tokenizer\")\n",
    "generator(\"날씨가 추워요\")\n",
    "print()\n",
    "\n",
    "# 개선\n",
    "print(\"konlpy.tag Mecab\")\n",
    "generator2(\"날씨가 추워요\")\n",
    "\n",
    "# 출력한 문장(기존)과 유사한 원본 데이터\n",
    "DATA[699:700]"
   ]
  },
  {
   "cell_type": "markdown",
   "id": "183fd4d5",
   "metadata": {},
   "source": [
    "* 형태소 분석기(konlpy.tag Mecab)를 사용한 경우 입력 문장과 출력한 Answer의 원본 Question이 유사하지 않더라도 출력합니다."
   ]
  },
  {
   "cell_type": "code",
   "execution_count": 76,
   "id": "b4043d8c",
   "metadata": {},
   "outputs": [
    {
     "name": "stdout",
     "output_type": "stream",
     "text": [
      "subword tokenizer\n",
      "input : 성공하고 싶어요\n",
      "output : 큰 결심이네요 . 꼭 성공할 거예요 .\n",
      "\n",
      "konlpy.tag Mecab\n",
      "input : 성공하고 싶어요\n",
      "output : 성공했길바랍니다.\n"
     ]
    },
    {
     "data": {
      "text/html": [
       "<div>\n",
       "<style scoped>\n",
       "    .dataframe tbody tr th:only-of-type {\n",
       "        vertical-align: middle;\n",
       "    }\n",
       "\n",
       "    .dataframe tbody tr th {\n",
       "        vertical-align: top;\n",
       "    }\n",
       "\n",
       "    .dataframe thead th {\n",
       "        text-align: right;\n",
       "    }\n",
       "</style>\n",
       "<table border=\"1\" class=\"dataframe\">\n",
       "  <thead>\n",
       "    <tr style=\"text-align: right;\">\n",
       "      <th></th>\n",
       "      <th>Q</th>\n",
       "      <th>A</th>\n",
       "      <th>label</th>\n",
       "    </tr>\n",
       "  </thead>\n",
       "  <tbody>\n",
       "    <tr>\n",
       "      <th>11343</th>\n",
       "      <td>짝남 보란듯이 성공하고 싶어요.</td>\n",
       "      <td>큰 결심이네요. 꼭 성공할 거예요.</td>\n",
       "      <td>2</td>\n",
       "    </tr>\n",
       "    <tr>\n",
       "      <th>11475</th>\n",
       "      <td>짝녀 보란 듯이 성공하고 싶습니다.</td>\n",
       "      <td>큰 결심이네요. 꼭 성공할 거예요.</td>\n",
       "      <td>2</td>\n",
       "    </tr>\n",
       "  </tbody>\n",
       "</table>\n",
       "</div>"
      ],
      "text/plain": [
       "                         Q                    A  label\n",
       "11343    짝남 보란듯이 성공하고 싶어요.  큰 결심이네요. 꼭 성공할 거예요.      2\n",
       "11475  짝녀 보란 듯이 성공하고 싶습니다.  큰 결심이네요. 꼭 성공할 거예요.      2"
      ]
     },
     "execution_count": 76,
     "metadata": {},
     "output_type": "execute_result"
    }
   ],
   "source": [
    "## 문장 생성 비교 3 (성공하고 싶어요)\n",
    "\n",
    "# 기존\n",
    "print(\"subword tokenizer\")\n",
    "generator(\"성공하고 싶어요\")\n",
    "print()\n",
    "\n",
    "# 개선\n",
    "print(\"konlpy.tag Mecab\")\n",
    "generator2(\"성공하고 싶어요\")\n",
    "\n",
    "# 출력한 문장(기존)과 유사한 원본 데이터\n",
    "DATA.loc[[11343, 11475]]"
   ]
  },
  {
   "cell_type": "code",
   "execution_count": 75,
   "id": "a0824763",
   "metadata": {},
   "outputs": [
    {
     "data": {
      "text/html": [
       "<div>\n",
       "<style scoped>\n",
       "    .dataframe tbody tr th:only-of-type {\n",
       "        vertical-align: middle;\n",
       "    }\n",
       "\n",
       "    .dataframe tbody tr th {\n",
       "        vertical-align: top;\n",
       "    }\n",
       "\n",
       "    .dataframe thead th {\n",
       "        text-align: right;\n",
       "    }\n",
       "</style>\n",
       "<table border=\"1\" class=\"dataframe\">\n",
       "  <thead>\n",
       "    <tr style=\"text-align: right;\">\n",
       "      <th></th>\n",
       "      <th>Q</th>\n",
       "      <th>A</th>\n",
       "      <th>label</th>\n",
       "    </tr>\n",
       "  </thead>\n",
       "  <tbody>\n",
       "    <tr>\n",
       "      <th>1982</th>\n",
       "      <td>방탈출 게임 갔다왔어.</td>\n",
       "      <td>성공했길 바랍니다.</td>\n",
       "      <td>0</td>\n",
       "    </tr>\n",
       "    <tr>\n",
       "      <th>1983</th>\n",
       "      <td>방탈출 게임 했어</td>\n",
       "      <td>성공했길 바랍니다.</td>\n",
       "      <td>0</td>\n",
       "    </tr>\n",
       "  </tbody>\n",
       "</table>\n",
       "</div>"
      ],
      "text/plain": [
       "                 Q           A  label\n",
       "1982  방탈출 게임 갔다왔어.  성공했길 바랍니다.      0\n",
       "1983     방탈출 게임 했어  성공했길 바랍니다.      0"
      ]
     },
     "execution_count": 75,
     "metadata": {},
     "output_type": "execute_result"
    }
   ],
   "source": [
    "# 출력한 문장(개선)과 유사한 원본 데이터\n",
    "DATA[1982:1984]"
   ]
  }
 ],
 "metadata": {
  "kernelspec": {
   "display_name": "Python 3 (ipykernel)",
   "language": "python",
   "name": "python3"
  },
  "language_info": {
   "codemirror_mode": {
    "name": "ipython",
    "version": 3
   },
   "file_extension": ".py",
   "mimetype": "text/x-python",
   "name": "python",
   "nbconvert_exporter": "python",
   "pygments_lexer": "ipython3",
   "version": "3.9.7"
  }
 },
 "nbformat": 4,
 "nbformat_minor": 5
}
