{
 "cells": [
  {
   "cell_type": "code",
   "execution_count": 108,
   "id": "b50c8d87",
   "metadata": {},
   "outputs": [],
   "source": [
    "import os\n",
    "import numpy as np\n",
    "import pandas as pd\n",
    "\n",
    "from scipy.sparse import csr_matrix\n",
    "from implicit.als import AlternatingLeastSquares\n",
    "from tabulate import tabulate"
   ]
  },
  {
   "cell_type": "code",
   "execution_count": 25,
   "id": "39f4e006",
   "metadata": {},
   "outputs": [],
   "source": [
    "# 환경설정\n",
    "\n",
    "os.environ['OPENBLAS_NUM_THREADS']='1'\n",
    "os.environ['KMP_DUPLICATE_LIB_OK']='True'\n",
    "os.environ['MKL_NUM_THREADS']='1'\n",
    "\n",
    "pd.options.display.float_format = '{:.2f}'.format"
   ]
  },
  {
   "cell_type": "markdown",
   "id": "2026639f",
   "metadata": {},
   "source": [
    "---"
   ]
  },
  {
   "cell_type": "markdown",
   "id": "1cfef4f2",
   "metadata": {},
   "source": [
    "**데이터 준비**"
   ]
  },
  {
   "cell_type": "code",
   "execution_count": 26,
   "id": "e9b7447f",
   "metadata": {},
   "outputs": [
    {
     "data": {
      "text/html": [
       "<div>\n",
       "<style scoped>\n",
       "    .dataframe tbody tr th:only-of-type {\n",
       "        vertical-align: middle;\n",
       "    }\n",
       "\n",
       "    .dataframe tbody tr th {\n",
       "        vertical-align: top;\n",
       "    }\n",
       "\n",
       "    .dataframe thead th {\n",
       "        text-align: right;\n",
       "    }\n",
       "</style>\n",
       "<table border=\"1\" class=\"dataframe\">\n",
       "  <thead>\n",
       "    <tr style=\"text-align: right;\">\n",
       "      <th></th>\n",
       "      <th>ratings</th>\n",
       "    </tr>\n",
       "  </thead>\n",
       "  <tbody>\n",
       "    <tr>\n",
       "      <th>0</th>\n",
       "      <td>1::1193::5::978300760</td>\n",
       "    </tr>\n",
       "    <tr>\n",
       "      <th>1</th>\n",
       "      <td>1::661::3::978302109</td>\n",
       "    </tr>\n",
       "    <tr>\n",
       "      <th>2</th>\n",
       "      <td>1::914::3::978301968</td>\n",
       "    </tr>\n",
       "    <tr>\n",
       "      <th>3</th>\n",
       "      <td>1::3408::4::978300275</td>\n",
       "    </tr>\n",
       "    <tr>\n",
       "      <th>4</th>\n",
       "      <td>1::2355::5::978824291</td>\n",
       "    </tr>\n",
       "  </tbody>\n",
       "</table>\n",
       "</div>"
      ],
      "text/plain": [
       "                 ratings\n",
       "0  1::1193::5::978300760\n",
       "1   1::661::3::978302109\n",
       "2   1::914::3::978301968\n",
       "3  1::3408::4::978300275\n",
       "4  1::2355::5::978824291"
      ]
     },
     "execution_count": 26,
     "metadata": {},
     "output_type": "execute_result"
    }
   ],
   "source": [
    "# rating 데이터 불러오기\n",
    "\n",
    "file = os.getenv('HOME') + '/aiffel/recommendata_iu/data/ml-1m/ratings.dat'\n",
    "ratings = pd.read_csv(file, names = ['ratings'])\n",
    "ratings.head()"
   ]
  },
  {
   "cell_type": "markdown",
   "id": "6c10a205",
   "metadata": {},
   "source": [
    "**RATINGS FILE DESCRIPTION** <br/>\n",
    "<br/>\n",
    "All ratings are contained in the file \"ratings.dat\" and are in the following format: <br/>\n",
    "<br/>\n",
    "UserID::MovieID::Rating::Timestamp <br/>\n",
    "- UserIDs range between 1 and 6040 \n",
    "- MovieIDs range between 1 and 3952\n",
    "- Ratings are made on a 5-star scale (whole-star ratings only)\n",
    "- Timestamp is represented in seconds since the epoch as returned by time(2)\n",
    "- Each user has at least 20 ratings"
   ]
  },
  {
   "cell_type": "code",
   "execution_count": 27,
   "id": "b53da063",
   "metadata": {},
   "outputs": [
    {
     "data": {
      "text/html": [
       "<div>\n",
       "<style scoped>\n",
       "    .dataframe tbody tr th:only-of-type {\n",
       "        vertical-align: middle;\n",
       "    }\n",
       "\n",
       "    .dataframe tbody tr th {\n",
       "        vertical-align: top;\n",
       "    }\n",
       "\n",
       "    .dataframe thead th {\n",
       "        text-align: right;\n",
       "    }\n",
       "</style>\n",
       "<table border=\"1\" class=\"dataframe\">\n",
       "  <thead>\n",
       "    <tr style=\"text-align: right;\">\n",
       "      <th></th>\n",
       "      <th>user_id</th>\n",
       "      <th>movie_id</th>\n",
       "      <th>rating</th>\n",
       "      <th>timestamp</th>\n",
       "    </tr>\n",
       "  </thead>\n",
       "  <tbody>\n",
       "    <tr>\n",
       "      <th>0</th>\n",
       "      <td>1</td>\n",
       "      <td>1193</td>\n",
       "      <td>5</td>\n",
       "      <td>978300760</td>\n",
       "    </tr>\n",
       "    <tr>\n",
       "      <th>1</th>\n",
       "      <td>1</td>\n",
       "      <td>661</td>\n",
       "      <td>3</td>\n",
       "      <td>978302109</td>\n",
       "    </tr>\n",
       "    <tr>\n",
       "      <th>2</th>\n",
       "      <td>1</td>\n",
       "      <td>914</td>\n",
       "      <td>3</td>\n",
       "      <td>978301968</td>\n",
       "    </tr>\n",
       "    <tr>\n",
       "      <th>3</th>\n",
       "      <td>1</td>\n",
       "      <td>3408</td>\n",
       "      <td>4</td>\n",
       "      <td>978300275</td>\n",
       "    </tr>\n",
       "    <tr>\n",
       "      <th>4</th>\n",
       "      <td>1</td>\n",
       "      <td>2355</td>\n",
       "      <td>5</td>\n",
       "      <td>978824291</td>\n",
       "    </tr>\n",
       "  </tbody>\n",
       "</table>\n",
       "</div>"
      ],
      "text/plain": [
       "   user_id  movie_id  rating  timestamp\n",
       "0        1      1193       5  978300760\n",
       "1        1       661       3  978302109\n",
       "2        1       914       3  978301968\n",
       "3        1      3408       4  978300275\n",
       "4        1      2355       5  978824291"
      ]
     },
     "execution_count": 27,
     "metadata": {},
     "output_type": "execute_result"
    }
   ],
   "source": [
    "# rating 데이터 col 분할\n",
    "\n",
    "ratings['user_id'] = ratings.ratings.str.split('::').str[0].astype(int)\n",
    "ratings['movie_id'] = ratings.ratings.str.split('::').str[1].astype(int)\n",
    "ratings['rating'] = ratings.ratings.str.split('::').str[2].astype(int)\n",
    "ratings['timestamp'] = ratings.ratings.str.split('::').str[3].astype(int)\n",
    "\n",
    "ratings.drop(['ratings'], axis = 1, inplace = True)\n",
    "\n",
    "ratings.head()"
   ]
  },
  {
   "cell_type": "code",
   "execution_count": 28,
   "id": "8ca185fb",
   "metadata": {},
   "outputs": [
    {
     "name": "stdout",
     "output_type": "stream",
     "text": [
      "<class 'pandas.core.frame.DataFrame'>\n",
      "RangeIndex: 1000209 entries, 0 to 1000208\n",
      "Data columns (total 4 columns):\n",
      " #   Column     Non-Null Count    Dtype\n",
      "---  ------     --------------    -----\n",
      " 0   user_id    1000209 non-null  int64\n",
      " 1   movie_id   1000209 non-null  int64\n",
      " 2   rating     1000209 non-null  int64\n",
      " 3   timestamp  1000209 non-null  int64\n",
      "dtypes: int64(4)\n",
      "memory usage: 30.5 MB\n"
     ]
    }
   ],
   "source": [
    "ratings.info()"
   ]
  },
  {
   "cell_type": "code",
   "execution_count": 29,
   "id": "5ce81ba2",
   "metadata": {},
   "outputs": [
    {
     "data": {
      "text/plain": [
       "user_id        6040\n",
       "movie_id       3706\n",
       "rating            5\n",
       "timestamp    458455\n",
       "dtype: int64"
      ]
     },
     "execution_count": 29,
     "metadata": {},
     "output_type": "execute_result"
    }
   ],
   "source": [
    "ratings.nunique()"
   ]
  },
  {
   "cell_type": "code",
   "execution_count": 30,
   "id": "28dafda6",
   "metadata": {},
   "outputs": [
    {
     "data": {
      "text/plain": [
       "count   1000209.00\n",
       "mean          3.58\n",
       "std           1.12\n",
       "min           1.00\n",
       "25%           3.00\n",
       "50%           4.00\n",
       "75%           4.00\n",
       "max           5.00\n",
       "Name: rating, dtype: float64"
      ]
     },
     "execution_count": 30,
     "metadata": {},
     "output_type": "execute_result"
    }
   ],
   "source": [
    "ratings['rating'].describe()"
   ]
  },
  {
   "cell_type": "markdown",
   "id": "b3b69fdc",
   "metadata": {},
   "source": [
    "* 평균 3.6, 중앙 4.0으로 다소 높음"
   ]
  },
  {
   "cell_type": "markdown",
   "id": "c270bd74",
   "metadata": {},
   "source": [
    "---"
   ]
  },
  {
   "cell_type": "code",
   "execution_count": 31,
   "id": "adb40527",
   "metadata": {
    "scrolled": false
   },
   "outputs": [
    {
     "data": {
      "text/html": [
       "<div>\n",
       "<style scoped>\n",
       "    .dataframe tbody tr th:only-of-type {\n",
       "        vertical-align: middle;\n",
       "    }\n",
       "\n",
       "    .dataframe tbody tr th {\n",
       "        vertical-align: top;\n",
       "    }\n",
       "\n",
       "    .dataframe thead th {\n",
       "        text-align: right;\n",
       "    }\n",
       "</style>\n",
       "<table border=\"1\" class=\"dataframe\">\n",
       "  <thead>\n",
       "    <tr style=\"text-align: right;\">\n",
       "      <th></th>\n",
       "      <th>movies</th>\n",
       "    </tr>\n",
       "  </thead>\n",
       "  <tbody>\n",
       "    <tr>\n",
       "      <th>0</th>\n",
       "      <td>1::Toy Story (1995)::Animation|Children's|Comedy</td>\n",
       "    </tr>\n",
       "    <tr>\n",
       "      <th>1</th>\n",
       "      <td>2::Jumanji (1995)::Adventure|Children's|Fantasy</td>\n",
       "    </tr>\n",
       "    <tr>\n",
       "      <th>2</th>\n",
       "      <td>3::Grumpier Old Men (1995)::Comedy|Romance</td>\n",
       "    </tr>\n",
       "    <tr>\n",
       "      <th>3</th>\n",
       "      <td>4::Waiting to Exhale (1995)::Comedy|Drama</td>\n",
       "    </tr>\n",
       "    <tr>\n",
       "      <th>4</th>\n",
       "      <td>5::Father of the Bride Part II (1995)::Comedy</td>\n",
       "    </tr>\n",
       "  </tbody>\n",
       "</table>\n",
       "</div>"
      ],
      "text/plain": [
       "                                             movies\n",
       "0  1::Toy Story (1995)::Animation|Children's|Comedy\n",
       "1   2::Jumanji (1995)::Adventure|Children's|Fantasy\n",
       "2        3::Grumpier Old Men (1995)::Comedy|Romance\n",
       "3         4::Waiting to Exhale (1995)::Comedy|Drama\n",
       "4     5::Father of the Bride Part II (1995)::Comedy"
      ]
     },
     "execution_count": 31,
     "metadata": {},
     "output_type": "execute_result"
    }
   ],
   "source": [
    "# movie 데이터 불러오기 \n",
    "\n",
    "file = os.getenv('HOME') + '/aiffel/recommendata_iu/data/ml-1m/movies.dat'\n",
    "movies = pd.read_csv(file, names = ['movies'], encoding = 'ISO-8859-1', sep = '\\t')\n",
    "movies.head()"
   ]
  },
  {
   "cell_type": "markdown",
   "id": "2f9bb97f",
   "metadata": {},
   "source": [
    "**MOVIES FILE DESCRIPTION**\n",
    "\n",
    "Movie information is in the file \"movies.dat\" and is in the following format:\n",
    "\n",
    "MovieID::Title::Genres\n",
    "\n",
    "- Titles are identical to titles provided by the IMDB (includingyear of release)\n",
    "- Genres are pipe-separated and are selected from the following genres:\n",
    "\n",
    "    Action | Adventure | Animation | Children's | Comedy | Crime | Documentary | Drama | Fantasy | Film-Noir | Horror | Musical | Mystery | Romance | Sci-Fi | Thriller | War | Western\n",
    "    \n",
    "    \n",
    "\n",
    "- Some MovieIDs do not correspond to a movie due to accidental duplicate entries and/or test entries\n",
    "- Movies are mostly entered by hand, so errors and inconsistencies may exist"
   ]
  },
  {
   "cell_type": "code",
   "execution_count": 32,
   "id": "ca4d7070",
   "metadata": {},
   "outputs": [
    {
     "data": {
      "text/html": [
       "<div>\n",
       "<style scoped>\n",
       "    .dataframe tbody tr th:only-of-type {\n",
       "        vertical-align: middle;\n",
       "    }\n",
       "\n",
       "    .dataframe tbody tr th {\n",
       "        vertical-align: top;\n",
       "    }\n",
       "\n",
       "    .dataframe thead th {\n",
       "        text-align: right;\n",
       "    }\n",
       "</style>\n",
       "<table border=\"1\" class=\"dataframe\">\n",
       "  <thead>\n",
       "    <tr style=\"text-align: right;\">\n",
       "      <th></th>\n",
       "      <th>title</th>\n",
       "      <th>genres</th>\n",
       "    </tr>\n",
       "    <tr>\n",
       "      <th>movie_id</th>\n",
       "      <th></th>\n",
       "      <th></th>\n",
       "    </tr>\n",
       "  </thead>\n",
       "  <tbody>\n",
       "    <tr>\n",
       "      <th>1</th>\n",
       "      <td>Toy Story (1995)</td>\n",
       "      <td>[Animation, Children's, Comedy]</td>\n",
       "    </tr>\n",
       "    <tr>\n",
       "      <th>2</th>\n",
       "      <td>Jumanji (1995)</td>\n",
       "      <td>[Adventure, Children's, Fantasy]</td>\n",
       "    </tr>\n",
       "    <tr>\n",
       "      <th>3</th>\n",
       "      <td>Grumpier Old Men (1995)</td>\n",
       "      <td>[Comedy, Romance]</td>\n",
       "    </tr>\n",
       "    <tr>\n",
       "      <th>4</th>\n",
       "      <td>Waiting to Exhale (1995)</td>\n",
       "      <td>[Comedy, Drama]</td>\n",
       "    </tr>\n",
       "    <tr>\n",
       "      <th>5</th>\n",
       "      <td>Father of the Bride Part II (1995)</td>\n",
       "      <td>[Comedy]</td>\n",
       "    </tr>\n",
       "  </tbody>\n",
       "</table>\n",
       "</div>"
      ],
      "text/plain": [
       "                                       title                            genres\n",
       "movie_id                                                                      \n",
       "1                           Toy Story (1995)   [Animation, Children's, Comedy]\n",
       "2                             Jumanji (1995)  [Adventure, Children's, Fantasy]\n",
       "3                    Grumpier Old Men (1995)                 [Comedy, Romance]\n",
       "4                   Waiting to Exhale (1995)                   [Comedy, Drama]\n",
       "5         Father of the Bride Part II (1995)                          [Comedy]"
      ]
     },
     "execution_count": 32,
     "metadata": {},
     "output_type": "execute_result"
    }
   ],
   "source": [
    "# movie 데이터 col 분할\n",
    "\n",
    "movies['movie_id'] = movies.movies.str.split('::').str[0].astype(int)\n",
    "movies['title'] = movies.movies.str.split('::').str[1]\n",
    "movies['genres'] = movies.movies.str.split('::').str[2].str.split('|')\n",
    "movies.drop(['movies'], axis = 1, inplace = True)\n",
    "movies.set_index('movie_id', inplace = True)\n",
    "\n",
    "movies.head()"
   ]
  },
  {
   "cell_type": "code",
   "execution_count": 33,
   "id": "4d22f822",
   "metadata": {},
   "outputs": [
    {
     "name": "stdout",
     "output_type": "stream",
     "text": [
      "<class 'pandas.core.frame.DataFrame'>\n",
      "Int64Index: 3883 entries, 1 to 3952\n",
      "Data columns (total 2 columns):\n",
      " #   Column  Non-Null Count  Dtype \n",
      "---  ------  --------------  ----- \n",
      " 0   title   3883 non-null   object\n",
      " 1   genres  3883 non-null   object\n",
      "dtypes: object(2)\n",
      "memory usage: 91.0+ KB\n"
     ]
    }
   ],
   "source": [
    "movies.info()"
   ]
  },
  {
   "cell_type": "code",
   "execution_count": 34,
   "id": "a30da040",
   "metadata": {},
   "outputs": [
    {
     "data": {
      "text/plain": [
       "3883"
      ]
     },
     "execution_count": 34,
     "metadata": {},
     "output_type": "execute_result"
    }
   ],
   "source": [
    "movies['title'].nunique()"
   ]
  },
  {
   "cell_type": "markdown",
   "id": "df61d5b4",
   "metadata": {},
   "source": [
    "---"
   ]
  },
  {
   "cell_type": "markdown",
   "id": "7e491812",
   "metadata": {},
   "source": [
    "**인기있는 영화**"
   ]
  },
  {
   "cell_type": "code",
   "execution_count": 35,
   "id": "5a6da35a",
   "metadata": {},
   "outputs": [
    {
     "data": {
      "text/html": [
       "<div>\n",
       "<style scoped>\n",
       "    .dataframe tbody tr th:only-of-type {\n",
       "        vertical-align: middle;\n",
       "    }\n",
       "\n",
       "    .dataframe tbody tr th {\n",
       "        vertical-align: top;\n",
       "    }\n",
       "\n",
       "    .dataframe thead th {\n",
       "        text-align: right;\n",
       "    }\n",
       "</style>\n",
       "<table border=\"1\" class=\"dataframe\">\n",
       "  <thead>\n",
       "    <tr style=\"text-align: right;\">\n",
       "      <th></th>\n",
       "      <th>title</th>\n",
       "      <th>genres</th>\n",
       "      <th>user_id</th>\n",
       "    </tr>\n",
       "    <tr>\n",
       "      <th>movie_id</th>\n",
       "      <th></th>\n",
       "      <th></th>\n",
       "      <th></th>\n",
       "    </tr>\n",
       "  </thead>\n",
       "  <tbody>\n",
       "    <tr>\n",
       "      <th>2858</th>\n",
       "      <td>American Beauty (1999)</td>\n",
       "      <td>[Comedy, Drama]</td>\n",
       "      <td>3428</td>\n",
       "    </tr>\n",
       "    <tr>\n",
       "      <th>260</th>\n",
       "      <td>Star Wars: Episode IV - A New Hope (1977)</td>\n",
       "      <td>[Action, Adventure, Fantasy, Sci-Fi]</td>\n",
       "      <td>2991</td>\n",
       "    </tr>\n",
       "    <tr>\n",
       "      <th>1196</th>\n",
       "      <td>Star Wars: Episode V - The Empire Strikes Back...</td>\n",
       "      <td>[Action, Adventure, Drama, Sci-Fi, War]</td>\n",
       "      <td>2990</td>\n",
       "    </tr>\n",
       "    <tr>\n",
       "      <th>1210</th>\n",
       "      <td>Star Wars: Episode VI - Return of the Jedi (1983)</td>\n",
       "      <td>[Action, Adventure, Romance, Sci-Fi, War]</td>\n",
       "      <td>2883</td>\n",
       "    </tr>\n",
       "    <tr>\n",
       "      <th>480</th>\n",
       "      <td>Jurassic Park (1993)</td>\n",
       "      <td>[Action, Adventure, Sci-Fi]</td>\n",
       "      <td>2672</td>\n",
       "    </tr>\n",
       "  </tbody>\n",
       "</table>\n",
       "</div>"
      ],
      "text/plain": [
       "                                                      title  \\\n",
       "movie_id                                                      \n",
       "2858                                 American Beauty (1999)   \n",
       "260               Star Wars: Episode IV - A New Hope (1977)   \n",
       "1196      Star Wars: Episode V - The Empire Strikes Back...   \n",
       "1210      Star Wars: Episode VI - Return of the Jedi (1983)   \n",
       "480                                    Jurassic Park (1993)   \n",
       "\n",
       "                                             genres  user_id  \n",
       "movie_id                                                      \n",
       "2858                                [Comedy, Drama]     3428  \n",
       "260            [Action, Adventure, Fantasy, Sci-Fi]     2991  \n",
       "1196        [Action, Adventure, Drama, Sci-Fi, War]     2990  \n",
       "1210      [Action, Adventure, Romance, Sci-Fi, War]     2883  \n",
       "480                     [Action, Adventure, Sci-Fi]     2672  "
      ]
     },
     "execution_count": 35,
     "metadata": {},
     "output_type": "execute_result"
    }
   ],
   "source": [
    "# 단순 rating이 많은 영화 Top 5\n",
    "\n",
    "count = ratings.groupby('movie_id')['user_id'].count()\n",
    "count = count.sort_values(ascending = False).head(5)\n",
    "\n",
    "most_view = movies[movies.index.isin(count.index)]\n",
    "most_view = pd.concat([most_view, count], axis = 1)\n",
    "most_view.sort_values('user_id', ascending = False)"
   ]
  },
  {
   "cell_type": "code",
   "execution_count": 36,
   "id": "e5a70c43",
   "metadata": {},
   "outputs": [
    {
     "data": {
      "text/html": [
       "<div>\n",
       "<style scoped>\n",
       "    .dataframe tbody tr th:only-of-type {\n",
       "        vertical-align: middle;\n",
       "    }\n",
       "\n",
       "    .dataframe tbody tr th {\n",
       "        vertical-align: top;\n",
       "    }\n",
       "\n",
       "    .dataframe thead th {\n",
       "        text-align: right;\n",
       "    }\n",
       "</style>\n",
       "<table border=\"1\" class=\"dataframe\">\n",
       "  <thead>\n",
       "    <tr style=\"text-align: right;\">\n",
       "      <th></th>\n",
       "      <th>title</th>\n",
       "      <th>genres</th>\n",
       "      <th>user_id</th>\n",
       "    </tr>\n",
       "    <tr>\n",
       "      <th>movie_id</th>\n",
       "      <th></th>\n",
       "      <th></th>\n",
       "      <th></th>\n",
       "    </tr>\n",
       "  </thead>\n",
       "  <tbody>\n",
       "    <tr>\n",
       "      <th>2858</th>\n",
       "      <td>American Beauty (1999)</td>\n",
       "      <td>[Comedy, Drama]</td>\n",
       "      <td>1963</td>\n",
       "    </tr>\n",
       "    <tr>\n",
       "      <th>260</th>\n",
       "      <td>Star Wars: Episode IV - A New Hope (1977)</td>\n",
       "      <td>[Action, Adventure, Fantasy, Sci-Fi]</td>\n",
       "      <td>1826</td>\n",
       "    </tr>\n",
       "    <tr>\n",
       "      <th>1198</th>\n",
       "      <td>Raiders of the Lost Ark (1981)</td>\n",
       "      <td>[Action, Adventure]</td>\n",
       "      <td>1500</td>\n",
       "    </tr>\n",
       "    <tr>\n",
       "      <th>1196</th>\n",
       "      <td>Star Wars: Episode V - The Empire Strikes Back...</td>\n",
       "      <td>[Action, Adventure, Drama, Sci-Fi, War]</td>\n",
       "      <td>1483</td>\n",
       "    </tr>\n",
       "    <tr>\n",
       "      <th>858</th>\n",
       "      <td>Godfather, The (1972)</td>\n",
       "      <td>[Action, Crime, Drama]</td>\n",
       "      <td>1475</td>\n",
       "    </tr>\n",
       "  </tbody>\n",
       "</table>\n",
       "</div>"
      ],
      "text/plain": [
       "                                                      title  \\\n",
       "movie_id                                                      \n",
       "2858                                 American Beauty (1999)   \n",
       "260               Star Wars: Episode IV - A New Hope (1977)   \n",
       "1198                         Raiders of the Lost Ark (1981)   \n",
       "1196      Star Wars: Episode V - The Empire Strikes Back...   \n",
       "858                                   Godfather, The (1972)   \n",
       "\n",
       "                                           genres  user_id  \n",
       "movie_id                                                    \n",
       "2858                              [Comedy, Drama]     1963  \n",
       "260          [Action, Adventure, Fantasy, Sci-Fi]     1826  \n",
       "1198                          [Action, Adventure]     1500  \n",
       "1196      [Action, Adventure, Drama, Sci-Fi, War]     1483  \n",
       "858                        [Action, Crime, Drama]     1475  "
      ]
     },
     "execution_count": 36,
     "metadata": {},
     "output_type": "execute_result"
    }
   ],
   "source": [
    "# rating 5점이 많은 영화 Top 5\n",
    "\n",
    "rating = ratings[ratings['rating'] == 5]\n",
    "rating = rating.groupby('movie_id')['user_id'].count()\n",
    "rating = rating.sort_values(ascending = False).head(5)\n",
    "\n",
    "most_rate = movies[movies.index.isin(rating.index)]\n",
    "most_rate = pd.concat([most_rate, rating], axis = 1)\n",
    "most_rate.sort_values('user_id', ascending = False)"
   ]
  },
  {
   "cell_type": "code",
   "execution_count": 37,
   "id": "58c01462",
   "metadata": {},
   "outputs": [
    {
     "data": {
      "text/html": [
       "<div>\n",
       "<style scoped>\n",
       "    .dataframe tbody tr th:only-of-type {\n",
       "        vertical-align: middle;\n",
       "    }\n",
       "\n",
       "    .dataframe tbody tr th {\n",
       "        vertical-align: top;\n",
       "    }\n",
       "\n",
       "    .dataframe thead th {\n",
       "        text-align: right;\n",
       "    }\n",
       "</style>\n",
       "<table border=\"1\" class=\"dataframe\">\n",
       "  <thead>\n",
       "    <tr style=\"text-align: right;\">\n",
       "      <th></th>\n",
       "      <th>title</th>\n",
       "      <th>genres</th>\n",
       "      <th>rating</th>\n",
       "    </tr>\n",
       "    <tr>\n",
       "      <th>movie_id</th>\n",
       "      <th></th>\n",
       "      <th></th>\n",
       "      <th></th>\n",
       "    </tr>\n",
       "  </thead>\n",
       "  <tbody>\n",
       "    <tr>\n",
       "      <th>2858</th>\n",
       "      <td>American Beauty (1999)</td>\n",
       "      <td>[Comedy, Drama]</td>\n",
       "      <td>14800</td>\n",
       "    </tr>\n",
       "    <tr>\n",
       "      <th>260</th>\n",
       "      <td>Star Wars: Episode IV - A New Hope (1977)</td>\n",
       "      <td>[Action, Adventure, Fantasy, Sci-Fi]</td>\n",
       "      <td>13321</td>\n",
       "    </tr>\n",
       "    <tr>\n",
       "      <th>1196</th>\n",
       "      <td>Star Wars: Episode V - The Empire Strikes Back...</td>\n",
       "      <td>[Action, Adventure, Drama, Sci-Fi, War]</td>\n",
       "      <td>12836</td>\n",
       "    </tr>\n",
       "    <tr>\n",
       "      <th>1210</th>\n",
       "      <td>Star Wars: Episode VI - Return of the Jedi (1983)</td>\n",
       "      <td>[Action, Adventure, Romance, Sci-Fi, War]</td>\n",
       "      <td>11598</td>\n",
       "    </tr>\n",
       "    <tr>\n",
       "      <th>2028</th>\n",
       "      <td>Saving Private Ryan (1998)</td>\n",
       "      <td>[Action, Drama, War]</td>\n",
       "      <td>11507</td>\n",
       "    </tr>\n",
       "  </tbody>\n",
       "</table>\n",
       "</div>"
      ],
      "text/plain": [
       "                                                      title  \\\n",
       "movie_id                                                      \n",
       "2858                                 American Beauty (1999)   \n",
       "260               Star Wars: Episode IV - A New Hope (1977)   \n",
       "1196      Star Wars: Episode V - The Empire Strikes Back...   \n",
       "1210      Star Wars: Episode VI - Return of the Jedi (1983)   \n",
       "2028                             Saving Private Ryan (1998)   \n",
       "\n",
       "                                             genres  rating  \n",
       "movie_id                                                     \n",
       "2858                                [Comedy, Drama]   14800  \n",
       "260            [Action, Adventure, Fantasy, Sci-Fi]   13321  \n",
       "1196        [Action, Adventure, Drama, Sci-Fi, War]   12836  \n",
       "1210      [Action, Adventure, Romance, Sci-Fi, War]   11598  \n",
       "2028                           [Action, Drama, War]   11507  "
      ]
     },
     "execution_count": 37,
     "metadata": {},
     "output_type": "execute_result"
    }
   ],
   "source": [
    "# rating 합이 가장 큰 영화 Top 5\n",
    "\n",
    "rating = ratings.groupby('movie_id')['rating'].sum()\n",
    "rating = rating.sort_values(ascending = False).head(5)\n",
    "\n",
    "most_rate = movies[movies.index.isin(rating.index)]\n",
    "most_rate = pd.concat([most_rate, rating], axis = 1)\n",
    "most_rate.sort_values('rating', ascending = False)"
   ]
  },
  {
   "cell_type": "markdown",
   "id": "fa58757c",
   "metadata": {},
   "source": [
    "---"
   ]
  },
  {
   "cell_type": "markdown",
   "id": "c6de0cc4",
   "metadata": {},
   "source": [
    "**데이터 확인**"
   ]
  },
  {
   "cell_type": "code",
   "execution_count": 38,
   "id": "b9965a93",
   "metadata": {},
   "outputs": [
    {
     "name": "stdout",
     "output_type": "stream",
     "text": [
      "사용자 수: 6040\n",
      "작품 수(전체): 3883\n",
      "작품 수(별점): 3706\n"
     ]
    }
   ],
   "source": [
    "print('사용자 수:', ratings['user_id'].nunique())\n",
    "print('작품 수(전체):', movies['title'].nunique())\n",
    "print('작품 수(별점):', ratings['movie_id'].nunique())"
   ]
  },
  {
   "cell_type": "code",
   "execution_count": 39,
   "id": "ed0aa447",
   "metadata": {},
   "outputs": [
    {
     "name": "stdout",
     "output_type": "stream",
     "text": [
      "사용자별 평균 작품 수\n"
     ]
    },
    {
     "data": {
      "text/plain": [
       "count   6040.00\n",
       "mean     165.60\n",
       "std      192.75\n",
       "min       20.00\n",
       "25%       44.00\n",
       "50%       96.00\n",
       "75%      208.00\n",
       "max     2314.00\n",
       "Name: movie_id, dtype: float64"
      ]
     },
     "execution_count": 39,
     "metadata": {},
     "output_type": "execute_result"
    }
   ],
   "source": [
    "print('사용자별 평균 작품 수')\n",
    "count = ratings.groupby('user_id')['movie_id'].count()\n",
    "count.describe()"
   ]
  },
  {
   "cell_type": "code",
   "execution_count": 40,
   "id": "1649c605",
   "metadata": {},
   "outputs": [
    {
     "name": "stdout",
     "output_type": "stream",
     "text": [
      "사용자별 중앙 별점 수\n"
     ]
    },
    {
     "data": {
      "text/plain": [
       "count   6040.00\n",
       "mean       3.84\n",
       "std        0.58\n",
       "min        1.00\n",
       "25%        4.00\n",
       "50%        4.00\n",
       "75%        4.00\n",
       "max        5.00\n",
       "Name: rating, dtype: float64"
      ]
     },
     "execution_count": 40,
     "metadata": {},
     "output_type": "execute_result"
    }
   ],
   "source": [
    "print('사용자별 중앙 별점 수')\n",
    "median = ratings.groupby('user_id')['rating'].median()\n",
    "median.describe()"
   ]
  },
  {
   "cell_type": "markdown",
   "id": "2e043664",
   "metadata": {},
   "source": [
    "---"
   ]
  },
  {
   "cell_type": "markdown",
   "id": "b3b8eb39",
   "metadata": {},
   "source": [
    "**데이터 학습 준비**"
   ]
  },
  {
   "cell_type": "code",
   "execution_count": 41,
   "id": "659501a5",
   "metadata": {},
   "outputs": [
    {
     "name": "stdout",
     "output_type": "stream",
     "text": [
      "size: 836478 (total 1000209), ratio: 83.63%\n"
     ]
    }
   ],
   "source": [
    "# rating 3 이상의 데이터만 implicit 하게 사용\n",
    "\n",
    "implicit = ratings[ratings['rating'] >= 3].copy()\n",
    "implicit.drop('timestamp', axis = 1, inplace = True)\n",
    "\n",
    "print(f'size: {len(implicit)} (total {len(ratings)}), ratio: {len(implicit)/len(ratings):.2%}')"
   ]
  },
  {
   "cell_type": "code",
   "execution_count": 42,
   "id": "50cbfa78",
   "metadata": {},
   "outputs": [
    {
     "data": {
      "text/html": [
       "<div>\n",
       "<style scoped>\n",
       "    .dataframe tbody tr th:only-of-type {\n",
       "        vertical-align: middle;\n",
       "    }\n",
       "\n",
       "    .dataframe tbody tr th {\n",
       "        vertical-align: top;\n",
       "    }\n",
       "\n",
       "    .dataframe thead th {\n",
       "        text-align: right;\n",
       "    }\n",
       "</style>\n",
       "<table border=\"1\" class=\"dataframe\">\n",
       "  <thead>\n",
       "    <tr style=\"text-align: right;\">\n",
       "      <th></th>\n",
       "      <th>index</th>\n",
       "      <th>user_id</th>\n",
       "      <th>movie_id</th>\n",
       "      <th>rating</th>\n",
       "    </tr>\n",
       "  </thead>\n",
       "  <tbody>\n",
       "    <tr>\n",
       "      <th>836473</th>\n",
       "      <td>1000203</td>\n",
       "      <td>6040</td>\n",
       "      <td>1090</td>\n",
       "      <td>3</td>\n",
       "    </tr>\n",
       "    <tr>\n",
       "      <th>836474</th>\n",
       "      <td>1000205</td>\n",
       "      <td>6040</td>\n",
       "      <td>1094</td>\n",
       "      <td>5</td>\n",
       "    </tr>\n",
       "    <tr>\n",
       "      <th>836475</th>\n",
       "      <td>1000206</td>\n",
       "      <td>6040</td>\n",
       "      <td>562</td>\n",
       "      <td>5</td>\n",
       "    </tr>\n",
       "    <tr>\n",
       "      <th>836476</th>\n",
       "      <td>1000207</td>\n",
       "      <td>6040</td>\n",
       "      <td>1096</td>\n",
       "      <td>4</td>\n",
       "    </tr>\n",
       "    <tr>\n",
       "      <th>836477</th>\n",
       "      <td>1000208</td>\n",
       "      <td>6040</td>\n",
       "      <td>1097</td>\n",
       "      <td>4</td>\n",
       "    </tr>\n",
       "    <tr>\n",
       "      <th>836478</th>\n",
       "      <td>0</td>\n",
       "      <td>9999</td>\n",
       "      <td>339</td>\n",
       "      <td>5</td>\n",
       "    </tr>\n",
       "    <tr>\n",
       "      <th>836479</th>\n",
       "      <td>1</td>\n",
       "      <td>9999</td>\n",
       "      <td>597</td>\n",
       "      <td>5</td>\n",
       "    </tr>\n",
       "    <tr>\n",
       "      <th>836480</th>\n",
       "      <td>2</td>\n",
       "      <td>9999</td>\n",
       "      <td>2424</td>\n",
       "      <td>4</td>\n",
       "    </tr>\n",
       "    <tr>\n",
       "      <th>836481</th>\n",
       "      <td>3</td>\n",
       "      <td>9999</td>\n",
       "      <td>2671</td>\n",
       "      <td>4</td>\n",
       "    </tr>\n",
       "    <tr>\n",
       "      <th>836482</th>\n",
       "      <td>4</td>\n",
       "      <td>9999</td>\n",
       "      <td>916</td>\n",
       "      <td>3</td>\n",
       "    </tr>\n",
       "  </tbody>\n",
       "</table>\n",
       "</div>"
      ],
      "text/plain": [
       "          index  user_id  movie_id  rating\n",
       "836473  1000203     6040      1090       3\n",
       "836474  1000205     6040      1094       5\n",
       "836475  1000206     6040       562       5\n",
       "836476  1000207     6040      1096       4\n",
       "836477  1000208     6040      1097       4\n",
       "836478        0     9999       339       5\n",
       "836479        1     9999       597       5\n",
       "836480        2     9999      2424       4\n",
       "836481        3     9999      2671       4\n",
       "836482        4     9999       916       3"
      ]
     },
     "execution_count": 42,
     "metadata": {},
     "output_type": "execute_result"
    }
   ],
   "source": [
    "# 결과 확인을 위한 검증 데이터 추가\n",
    "\n",
    "test_user_id = 9999\n",
    "test_movie_id = [339, 597, 2424, 2671, 916]\n",
    "test_rating = [5, 5, 4, 4, 3]\n",
    "\n",
    "if not implicit.isin({'user_id':[test_user_id]})['user_id'].any():\n",
    "    implicit = implicit.append(pd.DataFrame({'user_id': [test_user_id] * 5, 'movie_id': test_movie_id, 'rating': test_rating}))\n",
    "\n",
    "\n",
    "implicit.reset_index(inplace = True)\n",
    "implicit.tail(10)"
   ]
  },
  {
   "cell_type": "code",
   "execution_count": 43,
   "id": "7604432c",
   "metadata": {},
   "outputs": [
    {
     "data": {
      "text/html": [
       "<div>\n",
       "<style scoped>\n",
       "    .dataframe tbody tr th:only-of-type {\n",
       "        vertical-align: middle;\n",
       "    }\n",
       "\n",
       "    .dataframe tbody tr th {\n",
       "        vertical-align: top;\n",
       "    }\n",
       "\n",
       "    .dataframe thead th {\n",
       "        text-align: right;\n",
       "    }\n",
       "</style>\n",
       "<table border=\"1\" class=\"dataframe\">\n",
       "  <thead>\n",
       "    <tr style=\"text-align: right;\">\n",
       "      <th></th>\n",
       "      <th>title</th>\n",
       "      <th>genres</th>\n",
       "    </tr>\n",
       "    <tr>\n",
       "      <th>movie_id</th>\n",
       "      <th></th>\n",
       "      <th></th>\n",
       "    </tr>\n",
       "  </thead>\n",
       "  <tbody>\n",
       "    <tr>\n",
       "      <th>339</th>\n",
       "      <td>While You Were Sleeping (1995)</td>\n",
       "      <td>[Comedy, Romance]</td>\n",
       "    </tr>\n",
       "    <tr>\n",
       "      <th>597</th>\n",
       "      <td>Pretty Woman (1990)</td>\n",
       "      <td>[Comedy, Romance]</td>\n",
       "    </tr>\n",
       "    <tr>\n",
       "      <th>916</th>\n",
       "      <td>Roman Holiday (1953)</td>\n",
       "      <td>[Comedy, Romance]</td>\n",
       "    </tr>\n",
       "    <tr>\n",
       "      <th>2424</th>\n",
       "      <td>You've Got Mail (1998)</td>\n",
       "      <td>[Comedy, Romance]</td>\n",
       "    </tr>\n",
       "    <tr>\n",
       "      <th>2671</th>\n",
       "      <td>Notting Hill (1999)</td>\n",
       "      <td>[Comedy, Romance]</td>\n",
       "    </tr>\n",
       "  </tbody>\n",
       "</table>\n",
       "</div>"
      ],
      "text/plain": [
       "                                   title             genres\n",
       "movie_id                                                   \n",
       "339       While You Were Sleeping (1995)  [Comedy, Romance]\n",
       "597                  Pretty Woman (1990)  [Comedy, Romance]\n",
       "916                 Roman Holiday (1953)  [Comedy, Romance]\n",
       "2424              You've Got Mail (1998)  [Comedy, Romance]\n",
       "2671                 Notting Hill (1999)  [Comedy, Romance]"
      ]
     },
     "execution_count": 43,
     "metadata": {},
     "output_type": "execute_result"
    }
   ],
   "source": [
    "# 추가한 영화 데이터 (Comedy | Romance)\n",
    "\n",
    "movies[movies.index.isin(test_movie_id)]"
   ]
  },
  {
   "cell_type": "markdown",
   "id": "687a74f4",
   "metadata": {},
   "source": [
    "---"
   ]
  },
  {
   "cell_type": "code",
   "execution_count": 44,
   "id": "9a849741",
   "metadata": {},
   "outputs": [
    {
     "data": {
      "text/html": [
       "<div>\n",
       "<style scoped>\n",
       "    .dataframe tbody tr th:only-of-type {\n",
       "        vertical-align: middle;\n",
       "    }\n",
       "\n",
       "    .dataframe tbody tr th {\n",
       "        vertical-align: top;\n",
       "    }\n",
       "\n",
       "    .dataframe thead th {\n",
       "        text-align: right;\n",
       "    }\n",
       "</style>\n",
       "<table border=\"1\" class=\"dataframe\">\n",
       "  <thead>\n",
       "    <tr style=\"text-align: right;\">\n",
       "      <th></th>\n",
       "      <th>index</th>\n",
       "      <th>user_id</th>\n",
       "      <th>movie_id</th>\n",
       "      <th>rating</th>\n",
       "    </tr>\n",
       "  </thead>\n",
       "  <tbody>\n",
       "    <tr>\n",
       "      <th>0</th>\n",
       "      <td>0</td>\n",
       "      <td>0</td>\n",
       "      <td>0</td>\n",
       "      <td>5</td>\n",
       "    </tr>\n",
       "    <tr>\n",
       "      <th>1</th>\n",
       "      <td>1</td>\n",
       "      <td>0</td>\n",
       "      <td>1</td>\n",
       "      <td>3</td>\n",
       "    </tr>\n",
       "    <tr>\n",
       "      <th>2</th>\n",
       "      <td>2</td>\n",
       "      <td>0</td>\n",
       "      <td>2</td>\n",
       "      <td>3</td>\n",
       "    </tr>\n",
       "    <tr>\n",
       "      <th>3</th>\n",
       "      <td>3</td>\n",
       "      <td>0</td>\n",
       "      <td>3</td>\n",
       "      <td>4</td>\n",
       "    </tr>\n",
       "    <tr>\n",
       "      <th>4</th>\n",
       "      <td>4</td>\n",
       "      <td>0</td>\n",
       "      <td>4</td>\n",
       "      <td>5</td>\n",
       "    </tr>\n",
       "    <tr>\n",
       "      <th>...</th>\n",
       "      <td>...</td>\n",
       "      <td>...</td>\n",
       "      <td>...</td>\n",
       "      <td>...</td>\n",
       "    </tr>\n",
       "    <tr>\n",
       "      <th>836478</th>\n",
       "      <td>0</td>\n",
       "      <td>6039</td>\n",
       "      <td>579</td>\n",
       "      <td>5</td>\n",
       "    </tr>\n",
       "    <tr>\n",
       "      <th>836479</th>\n",
       "      <td>1</td>\n",
       "      <td>6039</td>\n",
       "      <td>336</td>\n",
       "      <td>5</td>\n",
       "    </tr>\n",
       "    <tr>\n",
       "      <th>836480</th>\n",
       "      <td>2</td>\n",
       "      <td>6039</td>\n",
       "      <td>626</td>\n",
       "      <td>4</td>\n",
       "    </tr>\n",
       "    <tr>\n",
       "      <th>836481</th>\n",
       "      <td>3</td>\n",
       "      <td>6039</td>\n",
       "      <td>1151</td>\n",
       "      <td>4</td>\n",
       "    </tr>\n",
       "    <tr>\n",
       "      <th>836482</th>\n",
       "      <td>4</td>\n",
       "      <td>6039</td>\n",
       "      <td>588</td>\n",
       "      <td>3</td>\n",
       "    </tr>\n",
       "  </tbody>\n",
       "</table>\n",
       "<p>836483 rows × 4 columns</p>\n",
       "</div>"
      ],
      "text/plain": [
       "        index  user_id  movie_id  rating\n",
       "0           0        0         0       5\n",
       "1           1        0         1       3\n",
       "2           2        0         2       3\n",
       "3           3        0         3       4\n",
       "4           4        0         4       5\n",
       "...       ...      ...       ...     ...\n",
       "836478      0     6039       579       5\n",
       "836479      1     6039       336       5\n",
       "836480      2     6039       626       4\n",
       "836481      3     6039      1151       4\n",
       "836482      4     6039       588       3\n",
       "\n",
       "[836483 rows x 4 columns]"
      ]
     },
     "execution_count": 44,
     "metadata": {},
     "output_type": "execute_result"
    }
   ],
   "source": [
    "# 데이터 index를 맞추기 위해 dict으로 재구성\n",
    "\n",
    "user_list = implicit['user_id'].unique()\n",
    "movie_list = implicit['movie_id'].unique()\n",
    "\n",
    "user_list = {v:k for k, v in enumerate(user_list)}\n",
    "movie_list = {v:k for k, v in enumerate(movie_list)}\n",
    "\n",
    "temp = implicit['user_id'].map(user_list.get)\n",
    "if len(temp) == len(implicit):\n",
    "    implicit['user_id'] = temp\n",
    "else:\n",
    "    print('too long/short user_list length')\n",
    "\n",
    "temp = implicit['movie_id'].map(movie_list.get)\n",
    "if len(temp) == len(implicit):\n",
    "    implicit['movie_id'] = temp\n",
    "else:\n",
    "    print('too long/short movie_list length')\n",
    "\n",
    "implicit"
   ]
  },
  {
   "cell_type": "code",
   "execution_count": 45,
   "id": "ba647bf9",
   "metadata": {},
   "outputs": [
    {
     "data": {
      "text/plain": [
       "<6040x3628 sparse matrix of type '<class 'numpy.int64'>'\n",
       "\twith 836483 stored elements in Compressed Sparse Row format>"
      ]
     },
     "execution_count": 45,
     "metadata": {},
     "output_type": "execute_result"
    }
   ],
   "source": [
    "# CSR(compressed Sparse Row) matrix 생성\n",
    "\n",
    "csr = csr_matrix((implicit.rating, (implicit.user_id, implicit.movie_id)), \n",
    "                  shape = (implicit['user_id'].nunique(), implicit['movie_id'].nunique()))\n",
    "\n",
    "csr"
   ]
  },
  {
   "cell_type": "code",
   "execution_count": 46,
   "id": "47bfadbb",
   "metadata": {},
   "outputs": [
    {
     "data": {
      "text/plain": [
       "(6039, 3627)"
      ]
     },
     "execution_count": 46,
     "metadata": {},
     "output_type": "execute_result"
    }
   ],
   "source": [
    "max(implicit.user_id), max(implicit.movie_id) # row index, col index"
   ]
  },
  {
   "cell_type": "code",
   "execution_count": 47,
   "id": "d7b060b3",
   "metadata": {},
   "outputs": [
    {
     "data": {
      "text/plain": [
       "(6040, 3628)"
      ]
     },
     "execution_count": 47,
     "metadata": {},
     "output_type": "execute_result"
    }
   ],
   "source": [
    "implicit['user_id'].nunique(), implicit['movie_id'].nunique() # M, N"
   ]
  },
  {
   "cell_type": "markdown",
   "id": "b0f68652",
   "metadata": {},
   "source": [
    "---"
   ]
  },
  {
   "cell_type": "markdown",
   "id": "b1379ce9",
   "metadata": {},
   "source": [
    "**모델 학습**"
   ]
  },
  {
   "cell_type": "code",
   "execution_count": 48,
   "id": "65665875",
   "metadata": {},
   "outputs": [],
   "source": [
    "model = AlternatingLeastSquares(factors=100, regularization=0.01, use_gpu=False, iterations=15, dtype=np.float32)"
   ]
  },
  {
   "cell_type": "code",
   "execution_count": 49,
   "id": "5f03716f",
   "metadata": {},
   "outputs": [
    {
     "data": {
      "application/vnd.jupyter.widget-view+json": {
       "model_id": "adf8079aeed945a1867744df37f509b4",
       "version_major": 2,
       "version_minor": 0
      },
      "text/plain": [
       "  0%|          | 0/15 [00:00<?, ?it/s]"
      ]
     },
     "metadata": {},
     "output_type": "display_data"
    }
   ],
   "source": [
    "model.fit(csr.T)"
   ]
  },
  {
   "cell_type": "code",
   "execution_count": 51,
   "id": "cf2c645a",
   "metadata": {},
   "outputs": [
    {
     "data": {
      "text/plain": [
       "0.4459605"
      ]
     },
     "execution_count": 51,
     "metadata": {},
     "output_type": "execute_result"
    }
   ],
   "source": [
    "# 검증 데이터가 1에 가까운지 확인\n",
    "\n",
    "test_user, test_movie = user_list[9999], movie_list[test_movie_id[0]]\n",
    "test_user, test_movie = model.user_factors[test_user], model.item_factors[test_movie]\n",
    "\n",
    "np.dot(test_user, test_movie)"
   ]
  },
  {
   "cell_type": "code",
   "execution_count": 54,
   "id": "0133d45a",
   "metadata": {},
   "outputs": [
    {
     "data": {
      "text/plain": [
       "0.44597003"
      ]
     },
     "execution_count": 54,
     "metadata": {},
     "output_type": "execute_result"
    }
   ],
   "source": [
    "# 검증 데이터와 유사한 영화가 1에 가까운지 확인 (Comedy | Romance)\n",
    "\n",
    "test_movie = movie_list[1569]\n",
    "test_movie = model.item_factors[test_movie]\n",
    "\n",
    "np.dot(test_user, test_movie)"
   ]
  },
  {
   "cell_type": "code",
   "execution_count": 75,
   "id": "25301d7f",
   "metadata": {},
   "outputs": [
    {
     "data": {
      "text/plain": [
       "title     My Best Friend's Wedding (1997)\n",
       "genres                  [Comedy, Romance]\n",
       "Name: 1569, dtype: object"
      ]
     },
     "execution_count": 75,
     "metadata": {},
     "output_type": "execute_result"
    }
   ],
   "source": [
    "movies.loc[1569] # 검증 데이터와 유사한 영화 (Comedy | Romance)"
   ]
  },
  {
   "cell_type": "markdown",
   "id": "6fee031b",
   "metadata": {},
   "source": [
    "---"
   ]
  },
  {
   "cell_type": "markdown",
   "id": "26edcb18",
   "metadata": {},
   "source": [
    "**하이퍼파라미터 비교**"
   ]
  },
  {
   "cell_type": "code",
   "execution_count": 57,
   "id": "575f9816",
   "metadata": {},
   "outputs": [
    {
     "data": {
      "application/vnd.jupyter.widget-view+json": {
       "model_id": "6e5ea30590a74c2a808349739c754929",
       "version_major": 2,
       "version_minor": 0
      },
      "text/plain": [
       "  0%|          | 0/10 [00:00<?, ?it/s]"
      ]
     },
     "metadata": {},
     "output_type": "display_data"
    },
    {
     "name": "stdout",
     "output_type": "stream",
     "text": [
      "Param (factors, regularization, iterations) : [50, 0.5, 10]\n",
      "Watched Movie : 0.35979092\n",
      "Similar Movie : 0.35356736\n"
     ]
    },
    {
     "data": {
      "application/vnd.jupyter.widget-view+json": {
       "model_id": "f96c01c6ed274d7cb915d48ece0c08d6",
       "version_major": 2,
       "version_minor": 0
      },
      "text/plain": [
       "  0%|          | 0/20 [00:00<?, ?it/s]"
      ]
     },
     "metadata": {},
     "output_type": "display_data"
    },
    {
     "name": "stdout",
     "output_type": "stream",
     "text": [
      "Param (factors, regularization, iterations) : [50, 0.5, 20]\n",
      "Watched Movie : 0.35023254\n",
      "Similar Movie : 0.35920498\n"
     ]
    },
    {
     "data": {
      "application/vnd.jupyter.widget-view+json": {
       "model_id": "9eda97bd44e64a13a01f5e49772f8cd5",
       "version_major": 2,
       "version_minor": 0
      },
      "text/plain": [
       "  0%|          | 0/40 [00:00<?, ?it/s]"
      ]
     },
     "metadata": {},
     "output_type": "display_data"
    },
    {
     "name": "stdout",
     "output_type": "stream",
     "text": [
      "Param (factors, regularization, iterations) : [50, 0.5, 40]\n",
      "Watched Movie : 0.35422483\n",
      "Similar Movie : 0.35700962\n"
     ]
    },
    {
     "data": {
      "application/vnd.jupyter.widget-view+json": {
       "model_id": "fb6042f70fbd49dbaf98210edb9f4b5b",
       "version_major": 2,
       "version_minor": 0
      },
      "text/plain": [
       "  0%|          | 0/80 [00:00<?, ?it/s]"
      ]
     },
     "metadata": {},
     "output_type": "display_data"
    },
    {
     "name": "stdout",
     "output_type": "stream",
     "text": [
      "Param (factors, regularization, iterations) : [50, 0.5, 80]\n",
      "Watched Movie : 0.34573326\n",
      "Similar Movie : 0.35413682\n"
     ]
    },
    {
     "data": {
      "application/vnd.jupyter.widget-view+json": {
       "model_id": "de299f0831b5491787d75c0494afe288",
       "version_major": 2,
       "version_minor": 0
      },
      "text/plain": [
       "  0%|          | 0/160 [00:00<?, ?it/s]"
      ]
     },
     "metadata": {},
     "output_type": "display_data"
    },
    {
     "name": "stdout",
     "output_type": "stream",
     "text": [
      "Param (factors, regularization, iterations) : [50, 0.5, 160]\n",
      "Watched Movie : 0.34612447\n",
      "Similar Movie : 0.35369283\n"
     ]
    },
    {
     "data": {
      "application/vnd.jupyter.widget-view+json": {
       "model_id": "04954534e4084b27a6a3b5a4d4f22136",
       "version_major": 2,
       "version_minor": 0
      },
      "text/plain": [
       "  0%|          | 0/10 [00:00<?, ?it/s]"
      ]
     },
     "metadata": {},
     "output_type": "display_data"
    },
    {
     "name": "stdout",
     "output_type": "stream",
     "text": [
      "Param (factors, regularization, iterations) : [50, 0.1, 10]\n",
      "Watched Movie : 0.34339723\n",
      "Similar Movie : 0.3661665\n"
     ]
    },
    {
     "data": {
      "application/vnd.jupyter.widget-view+json": {
       "model_id": "b7330f3c38b849b79f110d3498795090",
       "version_major": 2,
       "version_minor": 0
      },
      "text/plain": [
       "  0%|          | 0/20 [00:00<?, ?it/s]"
      ]
     },
     "metadata": {},
     "output_type": "display_data"
    },
    {
     "name": "stdout",
     "output_type": "stream",
     "text": [
      "Param (factors, regularization, iterations) : [50, 0.1, 20]\n",
      "Watched Movie : 0.33559105\n",
      "Similar Movie : 0.36278424\n"
     ]
    },
    {
     "data": {
      "application/vnd.jupyter.widget-view+json": {
       "model_id": "d80aef21d1484e88a6eb9e1fe04642c2",
       "version_major": 2,
       "version_minor": 0
      },
      "text/plain": [
       "  0%|          | 0/40 [00:00<?, ?it/s]"
      ]
     },
     "metadata": {},
     "output_type": "display_data"
    },
    {
     "name": "stdout",
     "output_type": "stream",
     "text": [
      "Param (factors, regularization, iterations) : [50, 0.1, 40]\n",
      "Watched Movie : 0.35496128\n",
      "Similar Movie : 0.35512075\n"
     ]
    },
    {
     "data": {
      "application/vnd.jupyter.widget-view+json": {
       "model_id": "dc21b4c62cf549a9b9a4f6ba8c9d663c",
       "version_major": 2,
       "version_minor": 0
      },
      "text/plain": [
       "  0%|          | 0/80 [00:00<?, ?it/s]"
      ]
     },
     "metadata": {},
     "output_type": "display_data"
    },
    {
     "name": "stdout",
     "output_type": "stream",
     "text": [
      "Param (factors, regularization, iterations) : [50, 0.1, 80]\n",
      "Watched Movie : 0.35041815\n",
      "Similar Movie : 0.3579586\n"
     ]
    },
    {
     "data": {
      "application/vnd.jupyter.widget-view+json": {
       "model_id": "2065b93b825a41c38abdbe51c737f6ac",
       "version_major": 2,
       "version_minor": 0
      },
      "text/plain": [
       "  0%|          | 0/160 [00:00<?, ?it/s]"
      ]
     },
     "metadata": {},
     "output_type": "display_data"
    },
    {
     "name": "stdout",
     "output_type": "stream",
     "text": [
      "Param (factors, regularization, iterations) : [50, 0.1, 160]\n",
      "Watched Movie : 0.345754\n",
      "Similar Movie : 0.3558509\n"
     ]
    },
    {
     "data": {
      "application/vnd.jupyter.widget-view+json": {
       "model_id": "b116db93ab83408d84efe1b5b5a7fd35",
       "version_major": 2,
       "version_minor": 0
      },
      "text/plain": [
       "  0%|          | 0/10 [00:00<?, ?it/s]"
      ]
     },
     "metadata": {},
     "output_type": "display_data"
    },
    {
     "name": "stdout",
     "output_type": "stream",
     "text": [
      "Param (factors, regularization, iterations) : [50, 0.05, 10]\n",
      "Watched Movie : 0.34331316\n",
      "Similar Movie : 0.35539347\n"
     ]
    },
    {
     "data": {
      "application/vnd.jupyter.widget-view+json": {
       "model_id": "3a4406eea75c440caa82d3d822cdc56b",
       "version_major": 2,
       "version_minor": 0
      },
      "text/plain": [
       "  0%|          | 0/20 [00:00<?, ?it/s]"
      ]
     },
     "metadata": {},
     "output_type": "display_data"
    },
    {
     "name": "stdout",
     "output_type": "stream",
     "text": [
      "Param (factors, regularization, iterations) : [50, 0.05, 20]\n",
      "Watched Movie : 0.35041687\n",
      "Similar Movie : 0.35405025\n"
     ]
    },
    {
     "data": {
      "application/vnd.jupyter.widget-view+json": {
       "model_id": "f6678f3f590748359437516ba00a4330",
       "version_major": 2,
       "version_minor": 0
      },
      "text/plain": [
       "  0%|          | 0/40 [00:00<?, ?it/s]"
      ]
     },
     "metadata": {},
     "output_type": "display_data"
    },
    {
     "name": "stdout",
     "output_type": "stream",
     "text": [
      "Param (factors, regularization, iterations) : [50, 0.05, 40]\n",
      "Watched Movie : 0.346111\n",
      "Similar Movie : 0.35288027\n"
     ]
    },
    {
     "data": {
      "application/vnd.jupyter.widget-view+json": {
       "model_id": "571628ef74ff441b9bec6a4b6b681fe4",
       "version_major": 2,
       "version_minor": 0
      },
      "text/plain": [
       "  0%|          | 0/80 [00:00<?, ?it/s]"
      ]
     },
     "metadata": {},
     "output_type": "display_data"
    },
    {
     "name": "stdout",
     "output_type": "stream",
     "text": [
      "Param (factors, regularization, iterations) : [50, 0.05, 80]\n",
      "Watched Movie : 0.3497906\n",
      "Similar Movie : 0.35539612\n"
     ]
    },
    {
     "data": {
      "application/vnd.jupyter.widget-view+json": {
       "model_id": "e88167025c3543f297e40055f0b70e43",
       "version_major": 2,
       "version_minor": 0
      },
      "text/plain": [
       "  0%|          | 0/160 [00:00<?, ?it/s]"
      ]
     },
     "metadata": {},
     "output_type": "display_data"
    },
    {
     "name": "stdout",
     "output_type": "stream",
     "text": [
      "Param (factors, regularization, iterations) : [50, 0.05, 160]\n",
      "Watched Movie : 0.34698075\n",
      "Similar Movie : 0.35611668\n"
     ]
    },
    {
     "data": {
      "application/vnd.jupyter.widget-view+json": {
       "model_id": "3969b41abe924ea0bedfe2ebb7cd862b",
       "version_major": 2,
       "version_minor": 0
      },
      "text/plain": [
       "  0%|          | 0/10 [00:00<?, ?it/s]"
      ]
     },
     "metadata": {},
     "output_type": "display_data"
    },
    {
     "name": "stdout",
     "output_type": "stream",
     "text": [
      "Param (factors, regularization, iterations) : [50, 0.01, 10]\n",
      "Watched Movie : 0.35954204\n",
      "Similar Movie : 0.35546318\n"
     ]
    },
    {
     "data": {
      "application/vnd.jupyter.widget-view+json": {
       "model_id": "a63e969c92b24c71bc523792cb5be0c1",
       "version_major": 2,
       "version_minor": 0
      },
      "text/plain": [
       "  0%|          | 0/20 [00:00<?, ?it/s]"
      ]
     },
     "metadata": {},
     "output_type": "display_data"
    },
    {
     "name": "stdout",
     "output_type": "stream",
     "text": [
      "Param (factors, regularization, iterations) : [50, 0.01, 20]\n",
      "Watched Movie : 0.3601952\n",
      "Similar Movie : 0.36638686\n"
     ]
    },
    {
     "data": {
      "application/vnd.jupyter.widget-view+json": {
       "model_id": "f891679dde8540c0b3d35de511558097",
       "version_major": 2,
       "version_minor": 0
      },
      "text/plain": [
       "  0%|          | 0/40 [00:00<?, ?it/s]"
      ]
     },
     "metadata": {},
     "output_type": "display_data"
    },
    {
     "name": "stdout",
     "output_type": "stream",
     "text": [
      "Param (factors, regularization, iterations) : [50, 0.01, 40]\n",
      "Watched Movie : 0.3400777\n",
      "Similar Movie : 0.35291448\n"
     ]
    },
    {
     "data": {
      "application/vnd.jupyter.widget-view+json": {
       "model_id": "3cfdc34a1e794313a735ac8637ab04de",
       "version_major": 2,
       "version_minor": 0
      },
      "text/plain": [
       "  0%|          | 0/80 [00:00<?, ?it/s]"
      ]
     },
     "metadata": {},
     "output_type": "display_data"
    },
    {
     "name": "stdout",
     "output_type": "stream",
     "text": [
      "Param (factors, regularization, iterations) : [50, 0.01, 80]\n",
      "Watched Movie : 0.34485704\n",
      "Similar Movie : 0.35422325\n"
     ]
    },
    {
     "data": {
      "application/vnd.jupyter.widget-view+json": {
       "model_id": "b7cc2ae649174030b7a9ea3e1e27b36b",
       "version_major": 2,
       "version_minor": 0
      },
      "text/plain": [
       "  0%|          | 0/160 [00:00<?, ?it/s]"
      ]
     },
     "metadata": {},
     "output_type": "display_data"
    },
    {
     "name": "stdout",
     "output_type": "stream",
     "text": [
      "Param (factors, regularization, iterations) : [50, 0.01, 160]\n",
      "Watched Movie : 0.3494839\n",
      "Similar Movie : 0.35597935\n"
     ]
    },
    {
     "data": {
      "application/vnd.jupyter.widget-view+json": {
       "model_id": "b300b5b3000b4dbd868f36d654d2950e",
       "version_major": 2,
       "version_minor": 0
      },
      "text/plain": [
       "  0%|          | 0/10 [00:00<?, ?it/s]"
      ]
     },
     "metadata": {},
     "output_type": "display_data"
    },
    {
     "name": "stdout",
     "output_type": "stream",
     "text": [
      "Param (factors, regularization, iterations) : [50, 0.001, 10]\n",
      "Watched Movie : 0.34987596\n",
      "Similar Movie : 0.3517198\n"
     ]
    },
    {
     "data": {
      "application/vnd.jupyter.widget-view+json": {
       "model_id": "75a10e380f9a4a22aa294053840f5a0f",
       "version_major": 2,
       "version_minor": 0
      },
      "text/plain": [
       "  0%|          | 0/20 [00:00<?, ?it/s]"
      ]
     },
     "metadata": {},
     "output_type": "display_data"
    },
    {
     "name": "stdout",
     "output_type": "stream",
     "text": [
      "Param (factors, regularization, iterations) : [50, 0.001, 20]\n",
      "Watched Movie : 0.35269058\n",
      "Similar Movie : 0.3711193\n"
     ]
    },
    {
     "data": {
      "application/vnd.jupyter.widget-view+json": {
       "model_id": "4350707b3f5f48fc9eeb3b63a1aca680",
       "version_major": 2,
       "version_minor": 0
      },
      "text/plain": [
       "  0%|          | 0/40 [00:00<?, ?it/s]"
      ]
     },
     "metadata": {},
     "output_type": "display_data"
    },
    {
     "name": "stdout",
     "output_type": "stream",
     "text": [
      "Param (factors, regularization, iterations) : [50, 0.001, 40]\n",
      "Watched Movie : 0.34549564\n",
      "Similar Movie : 0.35757643\n"
     ]
    },
    {
     "data": {
      "application/vnd.jupyter.widget-view+json": {
       "model_id": "fda6e6e3458d43d5b94e08cc9e938a81",
       "version_major": 2,
       "version_minor": 0
      },
      "text/plain": [
       "  0%|          | 0/80 [00:00<?, ?it/s]"
      ]
     },
     "metadata": {},
     "output_type": "display_data"
    },
    {
     "name": "stdout",
     "output_type": "stream",
     "text": [
      "Param (factors, regularization, iterations) : [50, 0.001, 80]\n",
      "Watched Movie : 0.35683176\n",
      "Similar Movie : 0.3571589\n"
     ]
    },
    {
     "data": {
      "application/vnd.jupyter.widget-view+json": {
       "model_id": "a5475b4514da489fa0acc1b1afbe8a87",
       "version_major": 2,
       "version_minor": 0
      },
      "text/plain": [
       "  0%|          | 0/160 [00:00<?, ?it/s]"
      ]
     },
     "metadata": {},
     "output_type": "display_data"
    },
    {
     "name": "stdout",
     "output_type": "stream",
     "text": [
      "Param (factors, regularization, iterations) : [50, 0.001, 160]\n",
      "Watched Movie : 0.34977624\n",
      "Similar Movie : 0.35696834\n"
     ]
    },
    {
     "data": {
      "application/vnd.jupyter.widget-view+json": {
       "model_id": "90a16791c4794cc2ace6eb8331cf4d5a",
       "version_major": 2,
       "version_minor": 0
      },
      "text/plain": [
       "  0%|          | 0/10 [00:00<?, ?it/s]"
      ]
     },
     "metadata": {},
     "output_type": "display_data"
    },
    {
     "name": "stdout",
     "output_type": "stream",
     "text": [
      "Param (factors, regularization, iterations) : [100, 0.5, 10]\n",
      "Watched Movie : 0.42511505\n",
      "Similar Movie : 0.44469318\n"
     ]
    },
    {
     "data": {
      "application/vnd.jupyter.widget-view+json": {
       "model_id": "86c300480eda413581694d54e31e0835",
       "version_major": 2,
       "version_minor": 0
      },
      "text/plain": [
       "  0%|          | 0/20 [00:00<?, ?it/s]"
      ]
     },
     "metadata": {},
     "output_type": "display_data"
    },
    {
     "name": "stdout",
     "output_type": "stream",
     "text": [
      "Param (factors, regularization, iterations) : [100, 0.5, 20]\n",
      "Watched Movie : 0.44460875\n",
      "Similar Movie : 0.44355842\n"
     ]
    },
    {
     "data": {
      "application/vnd.jupyter.widget-view+json": {
       "model_id": "ffdce25aa91d46f8819e120138c96809",
       "version_major": 2,
       "version_minor": 0
      },
      "text/plain": [
       "  0%|          | 0/40 [00:00<?, ?it/s]"
      ]
     },
     "metadata": {},
     "output_type": "display_data"
    },
    {
     "name": "stdout",
     "output_type": "stream",
     "text": [
      "Param (factors, regularization, iterations) : [100, 0.5, 40]\n",
      "Watched Movie : 0.44188407\n",
      "Similar Movie : 0.4522418\n"
     ]
    },
    {
     "data": {
      "application/vnd.jupyter.widget-view+json": {
       "model_id": "275bb19450804a718d2dc7cf036824c6",
       "version_major": 2,
       "version_minor": 0
      },
      "text/plain": [
       "  0%|          | 0/80 [00:00<?, ?it/s]"
      ]
     },
     "metadata": {},
     "output_type": "display_data"
    },
    {
     "name": "stdout",
     "output_type": "stream",
     "text": [
      "Param (factors, regularization, iterations) : [100, 0.5, 80]\n",
      "Watched Movie : 0.44815242\n",
      "Similar Movie : 0.43852782\n"
     ]
    },
    {
     "data": {
      "application/vnd.jupyter.widget-view+json": {
       "model_id": "061473130aec484cbd75dd12ac089e56",
       "version_major": 2,
       "version_minor": 0
      },
      "text/plain": [
       "  0%|          | 0/160 [00:00<?, ?it/s]"
      ]
     },
     "metadata": {},
     "output_type": "display_data"
    },
    {
     "name": "stdout",
     "output_type": "stream",
     "text": [
      "Param (factors, regularization, iterations) : [100, 0.5, 160]\n",
      "Watched Movie : 0.44006196\n",
      "Similar Movie : 0.43974134\n"
     ]
    },
    {
     "data": {
      "application/vnd.jupyter.widget-view+json": {
       "model_id": "5744e41d9b8445d98bd4f42fc6d6c021",
       "version_major": 2,
       "version_minor": 0
      },
      "text/plain": [
       "  0%|          | 0/10 [00:00<?, ?it/s]"
      ]
     },
     "metadata": {},
     "output_type": "display_data"
    },
    {
     "name": "stdout",
     "output_type": "stream",
     "text": [
      "Param (factors, regularization, iterations) : [100, 0.1, 10]\n",
      "Watched Movie : 0.43577677\n",
      "Similar Movie : 0.40395275\n"
     ]
    },
    {
     "data": {
      "application/vnd.jupyter.widget-view+json": {
       "model_id": "a94b36943d01429d87ec5dfd73683411",
       "version_major": 2,
       "version_minor": 0
      },
      "text/plain": [
       "  0%|          | 0/20 [00:00<?, ?it/s]"
      ]
     },
     "metadata": {},
     "output_type": "display_data"
    },
    {
     "name": "stdout",
     "output_type": "stream",
     "text": [
      "Param (factors, regularization, iterations) : [100, 0.1, 20]\n",
      "Watched Movie : 0.43086794\n",
      "Similar Movie : 0.40995502\n"
     ]
    },
    {
     "data": {
      "application/vnd.jupyter.widget-view+json": {
       "model_id": "55dd8ea253d042549ef8483cf42ae7fd",
       "version_major": 2,
       "version_minor": 0
      },
      "text/plain": [
       "  0%|          | 0/40 [00:00<?, ?it/s]"
      ]
     },
     "metadata": {},
     "output_type": "display_data"
    },
    {
     "name": "stdout",
     "output_type": "stream",
     "text": [
      "Param (factors, regularization, iterations) : [100, 0.1, 40]\n",
      "Watched Movie : 0.43274233\n",
      "Similar Movie : 0.44414577\n"
     ]
    },
    {
     "data": {
      "application/vnd.jupyter.widget-view+json": {
       "model_id": "d1e983bbd6fa483ea7235955008bbb8a",
       "version_major": 2,
       "version_minor": 0
      },
      "text/plain": [
       "  0%|          | 0/80 [00:00<?, ?it/s]"
      ]
     },
     "metadata": {},
     "output_type": "display_data"
    },
    {
     "name": "stdout",
     "output_type": "stream",
     "text": [
      "Param (factors, regularization, iterations) : [100, 0.1, 80]\n",
      "Watched Movie : 0.43961498\n",
      "Similar Movie : 0.43192282\n"
     ]
    },
    {
     "data": {
      "application/vnd.jupyter.widget-view+json": {
       "model_id": "e5694627672d4da1abeff047a00b246c",
       "version_major": 2,
       "version_minor": 0
      },
      "text/plain": [
       "  0%|          | 0/160 [00:00<?, ?it/s]"
      ]
     },
     "metadata": {},
     "output_type": "display_data"
    },
    {
     "name": "stdout",
     "output_type": "stream",
     "text": [
      "Param (factors, regularization, iterations) : [100, 0.1, 160]\n",
      "Watched Movie : 0.44454086\n",
      "Similar Movie : 0.44211966\n"
     ]
    },
    {
     "data": {
      "application/vnd.jupyter.widget-view+json": {
       "model_id": "f1792197e1224052812424f289deda15",
       "version_major": 2,
       "version_minor": 0
      },
      "text/plain": [
       "  0%|          | 0/10 [00:00<?, ?it/s]"
      ]
     },
     "metadata": {},
     "output_type": "display_data"
    },
    {
     "name": "stdout",
     "output_type": "stream",
     "text": [
      "Param (factors, regularization, iterations) : [100, 0.05, 10]\n",
      "Watched Movie : 0.42728\n",
      "Similar Movie : 0.42846927\n"
     ]
    },
    {
     "data": {
      "application/vnd.jupyter.widget-view+json": {
       "model_id": "df8d525333654d66b7ef2f563be3932d",
       "version_major": 2,
       "version_minor": 0
      },
      "text/plain": [
       "  0%|          | 0/20 [00:00<?, ?it/s]"
      ]
     },
     "metadata": {},
     "output_type": "display_data"
    },
    {
     "name": "stdout",
     "output_type": "stream",
     "text": [
      "Param (factors, regularization, iterations) : [100, 0.05, 20]\n",
      "Watched Movie : 0.4382084\n",
      "Similar Movie : 0.44097975\n"
     ]
    },
    {
     "data": {
      "application/vnd.jupyter.widget-view+json": {
       "model_id": "063948b8dc6444809b563ec04d1a0799",
       "version_major": 2,
       "version_minor": 0
      },
      "text/plain": [
       "  0%|          | 0/40 [00:00<?, ?it/s]"
      ]
     },
     "metadata": {},
     "output_type": "display_data"
    },
    {
     "name": "stdout",
     "output_type": "stream",
     "text": [
      "Param (factors, regularization, iterations) : [100, 0.05, 40]\n",
      "Watched Movie : 0.44078964\n",
      "Similar Movie : 0.43141705\n"
     ]
    },
    {
     "data": {
      "application/vnd.jupyter.widget-view+json": {
       "model_id": "ac25febbf8794ecd921b44413c6ec519",
       "version_major": 2,
       "version_minor": 0
      },
      "text/plain": [
       "  0%|          | 0/80 [00:00<?, ?it/s]"
      ]
     },
     "metadata": {},
     "output_type": "display_data"
    },
    {
     "name": "stdout",
     "output_type": "stream",
     "text": [
      "Param (factors, regularization, iterations) : [100, 0.05, 80]\n",
      "Watched Movie : 0.44843453\n",
      "Similar Movie : 0.44079846\n"
     ]
    },
    {
     "data": {
      "application/vnd.jupyter.widget-view+json": {
       "model_id": "1b64a92b74664a3e9ab6954cecfd5875",
       "version_major": 2,
       "version_minor": 0
      },
      "text/plain": [
       "  0%|          | 0/160 [00:00<?, ?it/s]"
      ]
     },
     "metadata": {},
     "output_type": "display_data"
    },
    {
     "name": "stdout",
     "output_type": "stream",
     "text": [
      "Param (factors, regularization, iterations) : [100, 0.05, 160]\n",
      "Watched Movie : 0.43750635\n",
      "Similar Movie : 0.4348011\n"
     ]
    },
    {
     "data": {
      "application/vnd.jupyter.widget-view+json": {
       "model_id": "bf4cf1e762b94fe58f69342e4f3d6594",
       "version_major": 2,
       "version_minor": 0
      },
      "text/plain": [
       "  0%|          | 0/10 [00:00<?, ?it/s]"
      ]
     },
     "metadata": {},
     "output_type": "display_data"
    },
    {
     "name": "stdout",
     "output_type": "stream",
     "text": [
      "Param (factors, regularization, iterations) : [100, 0.01, 10]\n",
      "Watched Movie : 0.41832596\n",
      "Similar Movie : 0.44297472\n"
     ]
    },
    {
     "data": {
      "application/vnd.jupyter.widget-view+json": {
       "model_id": "d1630e8054fb43458d656c5a8ab141a6",
       "version_major": 2,
       "version_minor": 0
      },
      "text/plain": [
       "  0%|          | 0/20 [00:00<?, ?it/s]"
      ]
     },
     "metadata": {},
     "output_type": "display_data"
    },
    {
     "name": "stdout",
     "output_type": "stream",
     "text": [
      "Param (factors, regularization, iterations) : [100, 0.01, 20]\n",
      "Watched Movie : 0.44572434\n",
      "Similar Movie : 0.43449846\n"
     ]
    },
    {
     "data": {
      "application/vnd.jupyter.widget-view+json": {
       "model_id": "6796e8f8ca394c64a522ef4311cce934",
       "version_major": 2,
       "version_minor": 0
      },
      "text/plain": [
       "  0%|          | 0/40 [00:00<?, ?it/s]"
      ]
     },
     "metadata": {},
     "output_type": "display_data"
    },
    {
     "name": "stdout",
     "output_type": "stream",
     "text": [
      "Param (factors, regularization, iterations) : [100, 0.01, 40]\n",
      "Watched Movie : 0.434379\n",
      "Similar Movie : 0.44095644\n"
     ]
    },
    {
     "data": {
      "application/vnd.jupyter.widget-view+json": {
       "model_id": "e53513b900bf4fe0a190af6bc231c51a",
       "version_major": 2,
       "version_minor": 0
      },
      "text/plain": [
       "  0%|          | 0/80 [00:00<?, ?it/s]"
      ]
     },
     "metadata": {},
     "output_type": "display_data"
    },
    {
     "name": "stdout",
     "output_type": "stream",
     "text": [
      "Param (factors, regularization, iterations) : [100, 0.01, 80]\n",
      "Watched Movie : 0.43785766\n",
      "Similar Movie : 0.44434005\n"
     ]
    },
    {
     "data": {
      "application/vnd.jupyter.widget-view+json": {
       "model_id": "84848b60e57c4a3bbab164c36dd64134",
       "version_major": 2,
       "version_minor": 0
      },
      "text/plain": [
       "  0%|          | 0/160 [00:00<?, ?it/s]"
      ]
     },
     "metadata": {},
     "output_type": "display_data"
    },
    {
     "name": "stdout",
     "output_type": "stream",
     "text": [
      "Param (factors, regularization, iterations) : [100, 0.01, 160]\n",
      "Watched Movie : 0.44173887\n",
      "Similar Movie : 0.44242212\n"
     ]
    },
    {
     "data": {
      "application/vnd.jupyter.widget-view+json": {
       "model_id": "f103140d865842ab99f4eb87079c29d7",
       "version_major": 2,
       "version_minor": 0
      },
      "text/plain": [
       "  0%|          | 0/10 [00:00<?, ?it/s]"
      ]
     },
     "metadata": {},
     "output_type": "display_data"
    },
    {
     "name": "stdout",
     "output_type": "stream",
     "text": [
      "Param (factors, regularization, iterations) : [100, 0.001, 10]\n",
      "Watched Movie : 0.41540647\n",
      "Similar Movie : 0.4305654\n"
     ]
    },
    {
     "data": {
      "application/vnd.jupyter.widget-view+json": {
       "model_id": "695cbc4bbd804111beab26863c3c722d",
       "version_major": 2,
       "version_minor": 0
      },
      "text/plain": [
       "  0%|          | 0/20 [00:00<?, ?it/s]"
      ]
     },
     "metadata": {},
     "output_type": "display_data"
    },
    {
     "name": "stdout",
     "output_type": "stream",
     "text": [
      "Param (factors, regularization, iterations) : [100, 0.001, 20]\n",
      "Watched Movie : 0.43719596\n",
      "Similar Movie : 0.44798636\n"
     ]
    },
    {
     "data": {
      "application/vnd.jupyter.widget-view+json": {
       "model_id": "eb2aaa7294a946cfb91b84cbacaf17c5",
       "version_major": 2,
       "version_minor": 0
      },
      "text/plain": [
       "  0%|          | 0/40 [00:00<?, ?it/s]"
      ]
     },
     "metadata": {},
     "output_type": "display_data"
    },
    {
     "name": "stdout",
     "output_type": "stream",
     "text": [
      "Param (factors, regularization, iterations) : [100, 0.001, 40]\n",
      "Watched Movie : 0.44253147\n",
      "Similar Movie : 0.43891427\n"
     ]
    },
    {
     "data": {
      "application/vnd.jupyter.widget-view+json": {
       "model_id": "1526201fe33b4ae9b3017e50756f3892",
       "version_major": 2,
       "version_minor": 0
      },
      "text/plain": [
       "  0%|          | 0/80 [00:00<?, ?it/s]"
      ]
     },
     "metadata": {},
     "output_type": "display_data"
    },
    {
     "name": "stdout",
     "output_type": "stream",
     "text": [
      "Param (factors, regularization, iterations) : [100, 0.001, 80]\n",
      "Watched Movie : 0.44538382\n",
      "Similar Movie : 0.4373239\n"
     ]
    },
    {
     "data": {
      "application/vnd.jupyter.widget-view+json": {
       "model_id": "0c4eff37e4574c8899cb39c79f22498a",
       "version_major": 2,
       "version_minor": 0
      },
      "text/plain": [
       "  0%|          | 0/160 [00:00<?, ?it/s]"
      ]
     },
     "metadata": {},
     "output_type": "display_data"
    },
    {
     "name": "stdout",
     "output_type": "stream",
     "text": [
      "Param (factors, regularization, iterations) : [100, 0.001, 160]\n",
      "Watched Movie : 0.441675\n",
      "Similar Movie : 0.4417902\n"
     ]
    },
    {
     "data": {
      "application/vnd.jupyter.widget-view+json": {
       "model_id": "6e124bdf766449729cc6652fd8703d90",
       "version_major": 2,
       "version_minor": 0
      },
      "text/plain": [
       "  0%|          | 0/10 [00:00<?, ?it/s]"
      ]
     },
     "metadata": {},
     "output_type": "display_data"
    },
    {
     "name": "stdout",
     "output_type": "stream",
     "text": [
      "Param (factors, regularization, iterations) : [200, 0.5, 10]\n",
      "Watched Movie : 0.54459167\n",
      "Similar Movie : 0.49001294\n"
     ]
    },
    {
     "data": {
      "application/vnd.jupyter.widget-view+json": {
       "model_id": "be8026ce50b04ebba216240fae97fc33",
       "version_major": 2,
       "version_minor": 0
      },
      "text/plain": [
       "  0%|          | 0/20 [00:00<?, ?it/s]"
      ]
     },
     "metadata": {},
     "output_type": "display_data"
    },
    {
     "name": "stdout",
     "output_type": "stream",
     "text": [
      "Param (factors, regularization, iterations) : [200, 0.5, 20]\n",
      "Watched Movie : 0.54699767\n",
      "Similar Movie : 0.5120277\n"
     ]
    },
    {
     "data": {
      "application/vnd.jupyter.widget-view+json": {
       "model_id": "eac90d4536a2471a9d559cbda856d794",
       "version_major": 2,
       "version_minor": 0
      },
      "text/plain": [
       "  0%|          | 0/40 [00:00<?, ?it/s]"
      ]
     },
     "metadata": {},
     "output_type": "display_data"
    },
    {
     "name": "stdout",
     "output_type": "stream",
     "text": [
      "Param (factors, regularization, iterations) : [200, 0.5, 40]\n",
      "Watched Movie : 0.5465216\n",
      "Similar Movie : 0.45757687\n"
     ]
    },
    {
     "data": {
      "application/vnd.jupyter.widget-view+json": {
       "model_id": "da5c3384f591491ab182afe991132523",
       "version_major": 2,
       "version_minor": 0
      },
      "text/plain": [
       "  0%|          | 0/80 [00:00<?, ?it/s]"
      ]
     },
     "metadata": {},
     "output_type": "display_data"
    },
    {
     "name": "stdout",
     "output_type": "stream",
     "text": [
      "Param (factors, regularization, iterations) : [200, 0.5, 80]\n",
      "Watched Movie : 0.54755354\n",
      "Similar Movie : 0.49054703\n"
     ]
    },
    {
     "data": {
      "application/vnd.jupyter.widget-view+json": {
       "model_id": "c4471d8261b645afb5c447b2edc33694",
       "version_major": 2,
       "version_minor": 0
      },
      "text/plain": [
       "  0%|          | 0/160 [00:00<?, ?it/s]"
      ]
     },
     "metadata": {},
     "output_type": "display_data"
    },
    {
     "name": "stdout",
     "output_type": "stream",
     "text": [
      "Param (factors, regularization, iterations) : [200, 0.5, 160]\n",
      "Watched Movie : 0.5377681\n",
      "Similar Movie : 0.48178223\n"
     ]
    },
    {
     "data": {
      "application/vnd.jupyter.widget-view+json": {
       "model_id": "0f7d465e319e4b4c8a63705099bf402b",
       "version_major": 2,
       "version_minor": 0
      },
      "text/plain": [
       "  0%|          | 0/10 [00:00<?, ?it/s]"
      ]
     },
     "metadata": {},
     "output_type": "display_data"
    },
    {
     "name": "stdout",
     "output_type": "stream",
     "text": [
      "Param (factors, regularization, iterations) : [200, 0.1, 10]\n",
      "Watched Movie : 0.5355636\n",
      "Similar Movie : 0.47475263\n"
     ]
    },
    {
     "data": {
      "application/vnd.jupyter.widget-view+json": {
       "model_id": "c157687f61c0409ca0b739fae71f32c5",
       "version_major": 2,
       "version_minor": 0
      },
      "text/plain": [
       "  0%|          | 0/20 [00:00<?, ?it/s]"
      ]
     },
     "metadata": {},
     "output_type": "display_data"
    },
    {
     "name": "stdout",
     "output_type": "stream",
     "text": [
      "Param (factors, regularization, iterations) : [200, 0.1, 20]\n",
      "Watched Movie : 0.5274301\n",
      "Similar Movie : 0.4885345\n"
     ]
    },
    {
     "data": {
      "application/vnd.jupyter.widget-view+json": {
       "model_id": "d99f2aa0d188478fb4a192450b349efa",
       "version_major": 2,
       "version_minor": 0
      },
      "text/plain": [
       "  0%|          | 0/40 [00:00<?, ?it/s]"
      ]
     },
     "metadata": {},
     "output_type": "display_data"
    },
    {
     "name": "stdout",
     "output_type": "stream",
     "text": [
      "Param (factors, regularization, iterations) : [200, 0.1, 40]\n",
      "Watched Movie : 0.5576816\n",
      "Similar Movie : 0.45337218\n"
     ]
    },
    {
     "data": {
      "application/vnd.jupyter.widget-view+json": {
       "model_id": "040b3d3128d84083a3edf08b093e72ff",
       "version_major": 2,
       "version_minor": 0
      },
      "text/plain": [
       "  0%|          | 0/80 [00:00<?, ?it/s]"
      ]
     },
     "metadata": {},
     "output_type": "display_data"
    },
    {
     "name": "stdout",
     "output_type": "stream",
     "text": [
      "Param (factors, regularization, iterations) : [200, 0.1, 80]\n",
      "Watched Movie : 0.5342103\n",
      "Similar Movie : 0.47352266\n"
     ]
    },
    {
     "data": {
      "application/vnd.jupyter.widget-view+json": {
       "model_id": "89c3d5b8e1c249d69f2259bdf3df93db",
       "version_major": 2,
       "version_minor": 0
      },
      "text/plain": [
       "  0%|          | 0/160 [00:00<?, ?it/s]"
      ]
     },
     "metadata": {},
     "output_type": "display_data"
    },
    {
     "name": "stdout",
     "output_type": "stream",
     "text": [
      "Param (factors, regularization, iterations) : [200, 0.1, 160]\n",
      "Watched Movie : 0.53178626\n",
      "Similar Movie : 0.46000192\n"
     ]
    },
    {
     "data": {
      "application/vnd.jupyter.widget-view+json": {
       "model_id": "7eb83d42b1c24eb2bf5d1054c10a8f08",
       "version_major": 2,
       "version_minor": 0
      },
      "text/plain": [
       "  0%|          | 0/10 [00:00<?, ?it/s]"
      ]
     },
     "metadata": {},
     "output_type": "display_data"
    },
    {
     "name": "stdout",
     "output_type": "stream",
     "text": [
      "Param (factors, regularization, iterations) : [200, 0.05, 10]\n",
      "Watched Movie : 0.54315615\n",
      "Similar Movie : 0.45563516\n"
     ]
    },
    {
     "data": {
      "application/vnd.jupyter.widget-view+json": {
       "model_id": "a980a7db1a864ae2926934c1dba5e5ae",
       "version_major": 2,
       "version_minor": 0
      },
      "text/plain": [
       "  0%|          | 0/20 [00:00<?, ?it/s]"
      ]
     },
     "metadata": {},
     "output_type": "display_data"
    },
    {
     "name": "stdout",
     "output_type": "stream",
     "text": [
      "Param (factors, regularization, iterations) : [200, 0.05, 20]\n",
      "Watched Movie : 0.5384383\n",
      "Similar Movie : 0.4742951\n"
     ]
    },
    {
     "data": {
      "application/vnd.jupyter.widget-view+json": {
       "model_id": "1039fdbf20f54acd9d1d65584f268bf9",
       "version_major": 2,
       "version_minor": 0
      },
      "text/plain": [
       "  0%|          | 0/40 [00:00<?, ?it/s]"
      ]
     },
     "metadata": {},
     "output_type": "display_data"
    },
    {
     "name": "stdout",
     "output_type": "stream",
     "text": [
      "Param (factors, regularization, iterations) : [200, 0.05, 40]\n",
      "Watched Movie : 0.54836845\n",
      "Similar Movie : 0.42755094\n"
     ]
    },
    {
     "data": {
      "application/vnd.jupyter.widget-view+json": {
       "model_id": "a7b41e788b154adca61084fdbb77154e",
       "version_major": 2,
       "version_minor": 0
      },
      "text/plain": [
       "  0%|          | 0/80 [00:00<?, ?it/s]"
      ]
     },
     "metadata": {},
     "output_type": "display_data"
    },
    {
     "name": "stdout",
     "output_type": "stream",
     "text": [
      "Param (factors, regularization, iterations) : [200, 0.05, 80]\n",
      "Watched Movie : 0.5460563\n",
      "Similar Movie : 0.4968629\n"
     ]
    },
    {
     "data": {
      "application/vnd.jupyter.widget-view+json": {
       "model_id": "e8f244b9efa745fdaa51e243ccf984db",
       "version_major": 2,
       "version_minor": 0
      },
      "text/plain": [
       "  0%|          | 0/160 [00:00<?, ?it/s]"
      ]
     },
     "metadata": {},
     "output_type": "display_data"
    },
    {
     "name": "stdout",
     "output_type": "stream",
     "text": [
      "Param (factors, regularization, iterations) : [200, 0.05, 160]\n",
      "Watched Movie : 0.5380746\n",
      "Similar Movie : 0.44799617\n"
     ]
    },
    {
     "data": {
      "application/vnd.jupyter.widget-view+json": {
       "model_id": "37f516b3da924befa57c494971327115",
       "version_major": 2,
       "version_minor": 0
      },
      "text/plain": [
       "  0%|          | 0/10 [00:00<?, ?it/s]"
      ]
     },
     "metadata": {},
     "output_type": "display_data"
    },
    {
     "name": "stdout",
     "output_type": "stream",
     "text": [
      "Param (factors, regularization, iterations) : [200, 0.01, 10]\n",
      "Watched Movie : 0.5495789\n",
      "Similar Movie : 0.44569674\n"
     ]
    },
    {
     "data": {
      "application/vnd.jupyter.widget-view+json": {
       "model_id": "b433d88e2d8145efb89abd7f6e586bc2",
       "version_major": 2,
       "version_minor": 0
      },
      "text/plain": [
       "  0%|          | 0/20 [00:00<?, ?it/s]"
      ]
     },
     "metadata": {},
     "output_type": "display_data"
    },
    {
     "name": "stdout",
     "output_type": "stream",
     "text": [
      "Param (factors, regularization, iterations) : [200, 0.01, 20]\n",
      "Watched Movie : 0.52381873\n",
      "Similar Movie : 0.46495688\n"
     ]
    },
    {
     "data": {
      "application/vnd.jupyter.widget-view+json": {
       "model_id": "f05d132b33784b489769f6cb303bc094",
       "version_major": 2,
       "version_minor": 0
      },
      "text/plain": [
       "  0%|          | 0/40 [00:00<?, ?it/s]"
      ]
     },
     "metadata": {},
     "output_type": "display_data"
    },
    {
     "name": "stdout",
     "output_type": "stream",
     "text": [
      "Param (factors, regularization, iterations) : [200, 0.01, 40]\n",
      "Watched Movie : 0.5436852\n",
      "Similar Movie : 0.4949538\n"
     ]
    },
    {
     "data": {
      "application/vnd.jupyter.widget-view+json": {
       "model_id": "fb75acc3e96b4b06863633b2e20a750f",
       "version_major": 2,
       "version_minor": 0
      },
      "text/plain": [
       "  0%|          | 0/80 [00:00<?, ?it/s]"
      ]
     },
     "metadata": {},
     "output_type": "display_data"
    },
    {
     "name": "stdout",
     "output_type": "stream",
     "text": [
      "Param (factors, regularization, iterations) : [200, 0.01, 80]\n",
      "Watched Movie : 0.54679215\n",
      "Similar Movie : 0.47954106\n"
     ]
    },
    {
     "data": {
      "application/vnd.jupyter.widget-view+json": {
       "model_id": "2355ca75ddf34ef7a45cd1c99e7faf4c",
       "version_major": 2,
       "version_minor": 0
      },
      "text/plain": [
       "  0%|          | 0/160 [00:00<?, ?it/s]"
      ]
     },
     "metadata": {},
     "output_type": "display_data"
    },
    {
     "name": "stdout",
     "output_type": "stream",
     "text": [
      "Param (factors, regularization, iterations) : [200, 0.01, 160]\n",
      "Watched Movie : 0.54261\n",
      "Similar Movie : 0.46739462\n"
     ]
    },
    {
     "data": {
      "application/vnd.jupyter.widget-view+json": {
       "model_id": "af182915c51045f2a40755c0ba2caf91",
       "version_major": 2,
       "version_minor": 0
      },
      "text/plain": [
       "  0%|          | 0/10 [00:00<?, ?it/s]"
      ]
     },
     "metadata": {},
     "output_type": "display_data"
    },
    {
     "name": "stdout",
     "output_type": "stream",
     "text": [
      "Param (factors, regularization, iterations) : [200, 0.001, 10]\n",
      "Watched Movie : 0.5415375\n",
      "Similar Movie : 0.48175976\n"
     ]
    },
    {
     "data": {
      "application/vnd.jupyter.widget-view+json": {
       "model_id": "f7f781c4527c4079b142185271fc0a04",
       "version_major": 2,
       "version_minor": 0
      },
      "text/plain": [
       "  0%|          | 0/20 [00:00<?, ?it/s]"
      ]
     },
     "metadata": {},
     "output_type": "display_data"
    },
    {
     "name": "stdout",
     "output_type": "stream",
     "text": [
      "Param (factors, regularization, iterations) : [200, 0.001, 20]\n",
      "Watched Movie : 0.54959613\n",
      "Similar Movie : 0.4903317\n"
     ]
    },
    {
     "data": {
      "application/vnd.jupyter.widget-view+json": {
       "model_id": "14ba04c67a5543f2b3add24de89dc5e1",
       "version_major": 2,
       "version_minor": 0
      },
      "text/plain": [
       "  0%|          | 0/40 [00:00<?, ?it/s]"
      ]
     },
     "metadata": {},
     "output_type": "display_data"
    },
    {
     "name": "stdout",
     "output_type": "stream",
     "text": [
      "Param (factors, regularization, iterations) : [200, 0.001, 40]\n",
      "Watched Movie : 0.54688954\n",
      "Similar Movie : 0.48445463\n"
     ]
    },
    {
     "data": {
      "application/vnd.jupyter.widget-view+json": {
       "model_id": "9248a088f1434e5d825affd1312dcd0a",
       "version_major": 2,
       "version_minor": 0
      },
      "text/plain": [
       "  0%|          | 0/80 [00:00<?, ?it/s]"
      ]
     },
     "metadata": {},
     "output_type": "display_data"
    },
    {
     "name": "stdout",
     "output_type": "stream",
     "text": [
      "Param (factors, regularization, iterations) : [200, 0.001, 80]\n",
      "Watched Movie : 0.5481525\n",
      "Similar Movie : 0.48715097\n"
     ]
    },
    {
     "data": {
      "application/vnd.jupyter.widget-view+json": {
       "model_id": "2dbf852e8c4e45689e90759350274a5b",
       "version_major": 2,
       "version_minor": 0
      },
      "text/plain": [
       "  0%|          | 0/160 [00:00<?, ?it/s]"
      ]
     },
     "metadata": {},
     "output_type": "display_data"
    },
    {
     "name": "stdout",
     "output_type": "stream",
     "text": [
      "Param (factors, regularization, iterations) : [200, 0.001, 160]\n",
      "Watched Movie : 0.5361376\n",
      "Similar Movie : 0.4757027\n"
     ]
    },
    {
     "data": {
      "application/vnd.jupyter.widget-view+json": {
       "model_id": "25b1b87f1e994254b7cdf8755881b363",
       "version_major": 2,
       "version_minor": 0
      },
      "text/plain": [
       "  0%|          | 0/10 [00:00<?, ?it/s]"
      ]
     },
     "metadata": {},
     "output_type": "display_data"
    },
    {
     "name": "stdout",
     "output_type": "stream",
     "text": [
      "Param (factors, regularization, iterations) : [400, 0.5, 10]\n",
      "Watched Movie : 0.6877123\n",
      "Similar Movie : 0.4395159\n"
     ]
    },
    {
     "data": {
      "application/vnd.jupyter.widget-view+json": {
       "model_id": "c37f13479d6b452aa56763ca86e1b0ff",
       "version_major": 2,
       "version_minor": 0
      },
      "text/plain": [
       "  0%|          | 0/20 [00:00<?, ?it/s]"
      ]
     },
     "metadata": {},
     "output_type": "display_data"
    },
    {
     "name": "stdout",
     "output_type": "stream",
     "text": [
      "Param (factors, regularization, iterations) : [400, 0.5, 20]\n",
      "Watched Movie : 0.66813713\n",
      "Similar Movie : 0.42568865\n"
     ]
    },
    {
     "data": {
      "application/vnd.jupyter.widget-view+json": {
       "model_id": "84aa6fcaffbd40cdb0c0cebd0df449c7",
       "version_major": 2,
       "version_minor": 0
      },
      "text/plain": [
       "  0%|          | 0/40 [00:00<?, ?it/s]"
      ]
     },
     "metadata": {},
     "output_type": "display_data"
    },
    {
     "name": "stdout",
     "output_type": "stream",
     "text": [
      "Param (factors, regularization, iterations) : [400, 0.5, 40]\n",
      "Watched Movie : 0.6794936\n",
      "Similar Movie : 0.44038722\n"
     ]
    },
    {
     "data": {
      "application/vnd.jupyter.widget-view+json": {
       "model_id": "819953d2a5044a08b675aa6b90ebec7a",
       "version_major": 2,
       "version_minor": 0
      },
      "text/plain": [
       "  0%|          | 0/80 [00:00<?, ?it/s]"
      ]
     },
     "metadata": {},
     "output_type": "display_data"
    },
    {
     "name": "stdout",
     "output_type": "stream",
     "text": [
      "Param (factors, regularization, iterations) : [400, 0.5, 80]\n",
      "Watched Movie : 0.68049103\n",
      "Similar Movie : 0.43121442\n"
     ]
    },
    {
     "data": {
      "application/vnd.jupyter.widget-view+json": {
       "model_id": "d8b9bda6118e43d9a220036961307080",
       "version_major": 2,
       "version_minor": 0
      },
      "text/plain": [
       "  0%|          | 0/160 [00:00<?, ?it/s]"
      ]
     },
     "metadata": {},
     "output_type": "display_data"
    },
    {
     "name": "stdout",
     "output_type": "stream",
     "text": [
      "Param (factors, regularization, iterations) : [400, 0.5, 160]\n",
      "Watched Movie : 0.6749505\n",
      "Similar Movie : 0.46388653\n"
     ]
    },
    {
     "data": {
      "application/vnd.jupyter.widget-view+json": {
       "model_id": "b824411e48514474bd959a9455c62417",
       "version_major": 2,
       "version_minor": 0
      },
      "text/plain": [
       "  0%|          | 0/10 [00:00<?, ?it/s]"
      ]
     },
     "metadata": {},
     "output_type": "display_data"
    },
    {
     "name": "stdout",
     "output_type": "stream",
     "text": [
      "Param (factors, regularization, iterations) : [400, 0.1, 10]\n",
      "Watched Movie : 0.6707843\n",
      "Similar Movie : 0.3868341\n"
     ]
    },
    {
     "data": {
      "application/vnd.jupyter.widget-view+json": {
       "model_id": "a5e32a4592b7451b9e8d59e8fa1fbb83",
       "version_major": 2,
       "version_minor": 0
      },
      "text/plain": [
       "  0%|          | 0/20 [00:00<?, ?it/s]"
      ]
     },
     "metadata": {},
     "output_type": "display_data"
    },
    {
     "name": "stdout",
     "output_type": "stream",
     "text": [
      "Param (factors, regularization, iterations) : [400, 0.1, 20]\n",
      "Watched Movie : 0.6714319\n",
      "Similar Movie : 0.43563926\n"
     ]
    },
    {
     "data": {
      "application/vnd.jupyter.widget-view+json": {
       "model_id": "a626ce549e9a4cd59cbdc3af37e50e90",
       "version_major": 2,
       "version_minor": 0
      },
      "text/plain": [
       "  0%|          | 0/40 [00:00<?, ?it/s]"
      ]
     },
     "metadata": {},
     "output_type": "display_data"
    },
    {
     "name": "stdout",
     "output_type": "stream",
     "text": [
      "Param (factors, regularization, iterations) : [400, 0.1, 40]\n",
      "Watched Movie : 0.67736286\n",
      "Similar Movie : 0.42448193\n"
     ]
    },
    {
     "data": {
      "application/vnd.jupyter.widget-view+json": {
       "model_id": "69d24a197b314ace88987c7097c3e26a",
       "version_major": 2,
       "version_minor": 0
      },
      "text/plain": [
       "  0%|          | 0/80 [00:00<?, ?it/s]"
      ]
     },
     "metadata": {},
     "output_type": "display_data"
    },
    {
     "name": "stdout",
     "output_type": "stream",
     "text": [
      "Param (factors, regularization, iterations) : [400, 0.1, 80]\n",
      "Watched Movie : 0.68326604\n",
      "Similar Movie : 0.47013152\n"
     ]
    },
    {
     "data": {
      "application/vnd.jupyter.widget-view+json": {
       "model_id": "1a36c2393d2c43198630b027dbb3b591",
       "version_major": 2,
       "version_minor": 0
      },
      "text/plain": [
       "  0%|          | 0/160 [00:00<?, ?it/s]"
      ]
     },
     "metadata": {},
     "output_type": "display_data"
    },
    {
     "name": "stdout",
     "output_type": "stream",
     "text": [
      "Param (factors, regularization, iterations) : [400, 0.1, 160]\n",
      "Watched Movie : 0.67302483\n",
      "Similar Movie : 0.45405725\n"
     ]
    },
    {
     "data": {
      "application/vnd.jupyter.widget-view+json": {
       "model_id": "33fdc04f864749bd91d3e3941f8b8009",
       "version_major": 2,
       "version_minor": 0
      },
      "text/plain": [
       "  0%|          | 0/10 [00:00<?, ?it/s]"
      ]
     },
     "metadata": {},
     "output_type": "display_data"
    },
    {
     "name": "stdout",
     "output_type": "stream",
     "text": [
      "Param (factors, regularization, iterations) : [400, 0.05, 10]\n",
      "Watched Movie : 0.6552832\n",
      "Similar Movie : 0.40832862\n"
     ]
    },
    {
     "data": {
      "application/vnd.jupyter.widget-view+json": {
       "model_id": "adcc3dbad541468aa97d234d75e64f48",
       "version_major": 2,
       "version_minor": 0
      },
      "text/plain": [
       "  0%|          | 0/20 [00:00<?, ?it/s]"
      ]
     },
     "metadata": {},
     "output_type": "display_data"
    },
    {
     "name": "stdout",
     "output_type": "stream",
     "text": [
      "Param (factors, regularization, iterations) : [400, 0.05, 20]\n",
      "Watched Movie : 0.6721684\n",
      "Similar Movie : 0.41507027\n"
     ]
    },
    {
     "data": {
      "application/vnd.jupyter.widget-view+json": {
       "model_id": "479b6d20a6584acfbb39112bd0a7e859",
       "version_major": 2,
       "version_minor": 0
      },
      "text/plain": [
       "  0%|          | 0/40 [00:00<?, ?it/s]"
      ]
     },
     "metadata": {},
     "output_type": "display_data"
    },
    {
     "name": "stdout",
     "output_type": "stream",
     "text": [
      "Param (factors, regularization, iterations) : [400, 0.05, 40]\n",
      "Watched Movie : 0.6837978\n",
      "Similar Movie : 0.45085838\n"
     ]
    },
    {
     "data": {
      "application/vnd.jupyter.widget-view+json": {
       "model_id": "37c59e41d1eb452199ea82cdd734953d",
       "version_major": 2,
       "version_minor": 0
      },
      "text/plain": [
       "  0%|          | 0/80 [00:00<?, ?it/s]"
      ]
     },
     "metadata": {},
     "output_type": "display_data"
    },
    {
     "name": "stdout",
     "output_type": "stream",
     "text": [
      "Param (factors, regularization, iterations) : [400, 0.05, 80]\n",
      "Watched Movie : 0.6818132\n",
      "Similar Movie : 0.44806498\n"
     ]
    },
    {
     "data": {
      "application/vnd.jupyter.widget-view+json": {
       "model_id": "dae48530e3714b869d91687df3f8689e",
       "version_major": 2,
       "version_minor": 0
      },
      "text/plain": [
       "  0%|          | 0/160 [00:00<?, ?it/s]"
      ]
     },
     "metadata": {},
     "output_type": "display_data"
    },
    {
     "name": "stdout",
     "output_type": "stream",
     "text": [
      "Param (factors, regularization, iterations) : [400, 0.05, 160]\n",
      "Watched Movie : 0.6812652\n",
      "Similar Movie : 0.4575988\n"
     ]
    },
    {
     "data": {
      "application/vnd.jupyter.widget-view+json": {
       "model_id": "d0381c2148e4484b85a91de464e73d24",
       "version_major": 2,
       "version_minor": 0
      },
      "text/plain": [
       "  0%|          | 0/10 [00:00<?, ?it/s]"
      ]
     },
     "metadata": {},
     "output_type": "display_data"
    },
    {
     "name": "stdout",
     "output_type": "stream",
     "text": [
      "Param (factors, regularization, iterations) : [400, 0.01, 10]\n",
      "Watched Movie : 0.6722829\n",
      "Similar Movie : 0.44364074\n"
     ]
    },
    {
     "data": {
      "application/vnd.jupyter.widget-view+json": {
       "model_id": "66b115bb98d84bdb883f0bd4e6094b37",
       "version_major": 2,
       "version_minor": 0
      },
      "text/plain": [
       "  0%|          | 0/20 [00:00<?, ?it/s]"
      ]
     },
     "metadata": {},
     "output_type": "display_data"
    },
    {
     "name": "stdout",
     "output_type": "stream",
     "text": [
      "Param (factors, regularization, iterations) : [400, 0.01, 20]\n",
      "Watched Movie : 0.6763884\n",
      "Similar Movie : 0.4327399\n"
     ]
    },
    {
     "data": {
      "application/vnd.jupyter.widget-view+json": {
       "model_id": "7ef1e9d327424d3d8ca0338205098a67",
       "version_major": 2,
       "version_minor": 0
      },
      "text/plain": [
       "  0%|          | 0/40 [00:00<?, ?it/s]"
      ]
     },
     "metadata": {},
     "output_type": "display_data"
    },
    {
     "name": "stdout",
     "output_type": "stream",
     "text": [
      "Param (factors, regularization, iterations) : [400, 0.01, 40]\n",
      "Watched Movie : 0.6673678\n",
      "Similar Movie : 0.43347174\n"
     ]
    },
    {
     "data": {
      "application/vnd.jupyter.widget-view+json": {
       "model_id": "a4c587ced3034c53ab7cf84d2e73e0fd",
       "version_major": 2,
       "version_minor": 0
      },
      "text/plain": [
       "  0%|          | 0/80 [00:00<?, ?it/s]"
      ]
     },
     "metadata": {},
     "output_type": "display_data"
    },
    {
     "name": "stdout",
     "output_type": "stream",
     "text": [
      "Param (factors, regularization, iterations) : [400, 0.01, 80]\n",
      "Watched Movie : 0.6784806\n",
      "Similar Movie : 0.43484557\n"
     ]
    },
    {
     "data": {
      "application/vnd.jupyter.widget-view+json": {
       "model_id": "2f85e85e3cb64b55a2d7e127b65ab16c",
       "version_major": 2,
       "version_minor": 0
      },
      "text/plain": [
       "  0%|          | 0/160 [00:00<?, ?it/s]"
      ]
     },
     "metadata": {},
     "output_type": "display_data"
    },
    {
     "name": "stdout",
     "output_type": "stream",
     "text": [
      "Param (factors, regularization, iterations) : [400, 0.01, 160]\n",
      "Watched Movie : 0.67772573\n",
      "Similar Movie : 0.4685341\n"
     ]
    },
    {
     "data": {
      "application/vnd.jupyter.widget-view+json": {
       "model_id": "1477098b69824c59b62f2302e65aea34",
       "version_major": 2,
       "version_minor": 0
      },
      "text/plain": [
       "  0%|          | 0/10 [00:00<?, ?it/s]"
      ]
     },
     "metadata": {},
     "output_type": "display_data"
    },
    {
     "name": "stdout",
     "output_type": "stream",
     "text": [
      "Param (factors, regularization, iterations) : [400, 0.001, 10]\n",
      "Watched Movie : 0.6912684\n",
      "Similar Movie : 0.42637944\n"
     ]
    },
    {
     "data": {
      "application/vnd.jupyter.widget-view+json": {
       "model_id": "9a60108d109f486b9e471dc065da306e",
       "version_major": 2,
       "version_minor": 0
      },
      "text/plain": [
       "  0%|          | 0/20 [00:00<?, ?it/s]"
      ]
     },
     "metadata": {},
     "output_type": "display_data"
    },
    {
     "name": "stdout",
     "output_type": "stream",
     "text": [
      "Param (factors, regularization, iterations) : [400, 0.001, 20]\n",
      "Watched Movie : 0.6693901\n",
      "Similar Movie : 0.43330908\n"
     ]
    },
    {
     "data": {
      "application/vnd.jupyter.widget-view+json": {
       "model_id": "e8825da7164c4294bc9c44203466eab5",
       "version_major": 2,
       "version_minor": 0
      },
      "text/plain": [
       "  0%|          | 0/40 [00:00<?, ?it/s]"
      ]
     },
     "metadata": {},
     "output_type": "display_data"
    },
    {
     "name": "stdout",
     "output_type": "stream",
     "text": [
      "Param (factors, regularization, iterations) : [400, 0.001, 40]\n",
      "Watched Movie : 0.67762995\n",
      "Similar Movie : 0.44927844\n"
     ]
    },
    {
     "data": {
      "application/vnd.jupyter.widget-view+json": {
       "model_id": "bddbc34edd82427c86f89b06b22d8eb1",
       "version_major": 2,
       "version_minor": 0
      },
      "text/plain": [
       "  0%|          | 0/80 [00:00<?, ?it/s]"
      ]
     },
     "metadata": {},
     "output_type": "display_data"
    },
    {
     "name": "stdout",
     "output_type": "stream",
     "text": [
      "Param (factors, regularization, iterations) : [400, 0.001, 80]\n",
      "Watched Movie : 0.6801577\n",
      "Similar Movie : 0.44553152\n"
     ]
    },
    {
     "data": {
      "application/vnd.jupyter.widget-view+json": {
       "model_id": "ceca161b86df41ab8bc7eaef9404e43b",
       "version_major": 2,
       "version_minor": 0
      },
      "text/plain": [
       "  0%|          | 0/160 [00:00<?, ?it/s]"
      ]
     },
     "metadata": {},
     "output_type": "display_data"
    },
    {
     "name": "stdout",
     "output_type": "stream",
     "text": [
      "Param (factors, regularization, iterations) : [400, 0.001, 160]\n",
      "Watched Movie : 0.67399794\n",
      "Similar Movie : 0.43704706\n"
     ]
    },
    {
     "data": {
      "application/vnd.jupyter.widget-view+json": {
       "model_id": "80bc309db2f94844ad2f21dec56e3ea2",
       "version_major": 2,
       "version_minor": 0
      },
      "text/plain": [
       "  0%|          | 0/10 [00:00<?, ?it/s]"
      ]
     },
     "metadata": {},
     "output_type": "display_data"
    },
    {
     "name": "stdout",
     "output_type": "stream",
     "text": [
      "Param (factors, regularization, iterations) : [800, 0.5, 10]\n",
      "Watched Movie : 0.85359573\n",
      "Similar Movie : 0.23931077\n"
     ]
    },
    {
     "data": {
      "application/vnd.jupyter.widget-view+json": {
       "model_id": "623503ed83a84ee5a80199d7d3068ecc",
       "version_major": 2,
       "version_minor": 0
      },
      "text/plain": [
       "  0%|          | 0/20 [00:00<?, ?it/s]"
      ]
     },
     "metadata": {},
     "output_type": "display_data"
    },
    {
     "name": "stdout",
     "output_type": "stream",
     "text": [
      "Param (factors, regularization, iterations) : [800, 0.5, 20]\n",
      "Watched Movie : 0.8626086\n",
      "Similar Movie : 0.23419479\n"
     ]
    },
    {
     "data": {
      "application/vnd.jupyter.widget-view+json": {
       "model_id": "b8e0fc0a9aa34267813b474362393710",
       "version_major": 2,
       "version_minor": 0
      },
      "text/plain": [
       "  0%|          | 0/40 [00:00<?, ?it/s]"
      ]
     },
     "metadata": {},
     "output_type": "display_data"
    },
    {
     "name": "stdout",
     "output_type": "stream",
     "text": [
      "Param (factors, regularization, iterations) : [800, 0.5, 40]\n",
      "Watched Movie : 0.87006414\n",
      "Similar Movie : 0.25095952\n"
     ]
    },
    {
     "data": {
      "application/vnd.jupyter.widget-view+json": {
       "model_id": "9347d4efe3364e5ea8de644b4773e9f2",
       "version_major": 2,
       "version_minor": 0
      },
      "text/plain": [
       "  0%|          | 0/80 [00:00<?, ?it/s]"
      ]
     },
     "metadata": {},
     "output_type": "display_data"
    },
    {
     "name": "stdout",
     "output_type": "stream",
     "text": [
      "Param (factors, regularization, iterations) : [800, 0.5, 80]\n",
      "Watched Movie : 0.8783004\n",
      "Similar Movie : 0.23177141\n"
     ]
    },
    {
     "data": {
      "application/vnd.jupyter.widget-view+json": {
       "model_id": "d1c9eaf16db5431e82e7bfe6fba0e233",
       "version_major": 2,
       "version_minor": 0
      },
      "text/plain": [
       "  0%|          | 0/160 [00:00<?, ?it/s]"
      ]
     },
     "metadata": {},
     "output_type": "display_data"
    },
    {
     "name": "stdout",
     "output_type": "stream",
     "text": [
      "Param (factors, regularization, iterations) : [800, 0.5, 160]\n",
      "Watched Movie : 0.87630826\n",
      "Similar Movie : 0.23250887\n"
     ]
    },
    {
     "data": {
      "application/vnd.jupyter.widget-view+json": {
       "model_id": "c1b053c8e4b340cfb8ac71414aa4c45e",
       "version_major": 2,
       "version_minor": 0
      },
      "text/plain": [
       "  0%|          | 0/10 [00:00<?, ?it/s]"
      ]
     },
     "metadata": {},
     "output_type": "display_data"
    },
    {
     "name": "stdout",
     "output_type": "stream",
     "text": [
      "Param (factors, regularization, iterations) : [800, 0.1, 10]\n",
      "Watched Movie : 0.83255494\n",
      "Similar Movie : 0.27018496\n"
     ]
    },
    {
     "data": {
      "application/vnd.jupyter.widget-view+json": {
       "model_id": "9b148458d53a440b90098801b9f0bdbf",
       "version_major": 2,
       "version_minor": 0
      },
      "text/plain": [
       "  0%|          | 0/20 [00:00<?, ?it/s]"
      ]
     },
     "metadata": {},
     "output_type": "display_data"
    },
    {
     "name": "stdout",
     "output_type": "stream",
     "text": [
      "Param (factors, regularization, iterations) : [800, 0.1, 20]\n",
      "Watched Movie : 0.86555874\n",
      "Similar Movie : 0.23773006\n"
     ]
    },
    {
     "data": {
      "application/vnd.jupyter.widget-view+json": {
       "model_id": "ba5f99e8b1674930a4532938973e05a9",
       "version_major": 2,
       "version_minor": 0
      },
      "text/plain": [
       "  0%|          | 0/40 [00:00<?, ?it/s]"
      ]
     },
     "metadata": {},
     "output_type": "display_data"
    },
    {
     "name": "stdout",
     "output_type": "stream",
     "text": [
      "Param (factors, regularization, iterations) : [800, 0.1, 40]\n",
      "Watched Movie : 0.87652886\n",
      "Similar Movie : 0.21753779\n"
     ]
    },
    {
     "data": {
      "application/vnd.jupyter.widget-view+json": {
       "model_id": "cf211f9688164c0eb6cc345b3d182042",
       "version_major": 2,
       "version_minor": 0
      },
      "text/plain": [
       "  0%|          | 0/80 [00:00<?, ?it/s]"
      ]
     },
     "metadata": {},
     "output_type": "display_data"
    },
    {
     "name": "stdout",
     "output_type": "stream",
     "text": [
      "Param (factors, regularization, iterations) : [800, 0.1, 80]\n",
      "Watched Movie : 0.8797228\n",
      "Similar Movie : 0.23510766\n"
     ]
    },
    {
     "data": {
      "application/vnd.jupyter.widget-view+json": {
       "model_id": "8be749a242da4b01aa733ced0e81e744",
       "version_major": 2,
       "version_minor": 0
      },
      "text/plain": [
       "  0%|          | 0/160 [00:00<?, ?it/s]"
      ]
     },
     "metadata": {},
     "output_type": "display_data"
    },
    {
     "name": "stdout",
     "output_type": "stream",
     "text": [
      "Param (factors, regularization, iterations) : [800, 0.1, 160]\n",
      "Watched Movie : 0.8821753\n",
      "Similar Movie : 0.23286963\n"
     ]
    },
    {
     "data": {
      "application/vnd.jupyter.widget-view+json": {
       "model_id": "f2e7fcf2f20e4309bbac24e4a585e581",
       "version_major": 2,
       "version_minor": 0
      },
      "text/plain": [
       "  0%|          | 0/10 [00:00<?, ?it/s]"
      ]
     },
     "metadata": {},
     "output_type": "display_data"
    },
    {
     "name": "stdout",
     "output_type": "stream",
     "text": [
      "Param (factors, regularization, iterations) : [800, 0.05, 10]\n",
      "Watched Movie : 0.84498686\n",
      "Similar Movie : 0.26195225\n"
     ]
    },
    {
     "data": {
      "application/vnd.jupyter.widget-view+json": {
       "model_id": "3cb56bdae8c3414980b76757368e2342",
       "version_major": 2,
       "version_minor": 0
      },
      "text/plain": [
       "  0%|          | 0/20 [00:00<?, ?it/s]"
      ]
     },
     "metadata": {},
     "output_type": "display_data"
    },
    {
     "name": "stdout",
     "output_type": "stream",
     "text": [
      "Param (factors, regularization, iterations) : [800, 0.05, 20]\n",
      "Watched Movie : 0.86616683\n",
      "Similar Movie : 0.2466284\n"
     ]
    },
    {
     "data": {
      "application/vnd.jupyter.widget-view+json": {
       "model_id": "92f0bd626239445ebd4794c84955ab98",
       "version_major": 2,
       "version_minor": 0
      },
      "text/plain": [
       "  0%|          | 0/40 [00:00<?, ?it/s]"
      ]
     },
     "metadata": {},
     "output_type": "display_data"
    },
    {
     "name": "stdout",
     "output_type": "stream",
     "text": [
      "Param (factors, regularization, iterations) : [800, 0.05, 40]\n",
      "Watched Movie : 0.8681395\n",
      "Similar Movie : 0.24278006\n"
     ]
    },
    {
     "data": {
      "application/vnd.jupyter.widget-view+json": {
       "model_id": "99ddffcda6e8442892f171d159f6e86f",
       "version_major": 2,
       "version_minor": 0
      },
      "text/plain": [
       "  0%|          | 0/80 [00:00<?, ?it/s]"
      ]
     },
     "metadata": {},
     "output_type": "display_data"
    },
    {
     "name": "stdout",
     "output_type": "stream",
     "text": [
      "Param (factors, regularization, iterations) : [800, 0.05, 80]\n",
      "Watched Movie : 0.87875736\n",
      "Similar Movie : 0.23120117\n"
     ]
    },
    {
     "data": {
      "application/vnd.jupyter.widget-view+json": {
       "model_id": "4adb5236ac1e43edb8253fd09a12ed08",
       "version_major": 2,
       "version_minor": 0
      },
      "text/plain": [
       "  0%|          | 0/160 [00:00<?, ?it/s]"
      ]
     },
     "metadata": {},
     "output_type": "display_data"
    },
    {
     "name": "stdout",
     "output_type": "stream",
     "text": [
      "Param (factors, regularization, iterations) : [800, 0.05, 160]\n",
      "Watched Movie : 0.8798429\n",
      "Similar Movie : 0.22683339\n"
     ]
    },
    {
     "data": {
      "application/vnd.jupyter.widget-view+json": {
       "model_id": "ae90da1b5e944a2384c3f48b75c163cd",
       "version_major": 2,
       "version_minor": 0
      },
      "text/plain": [
       "  0%|          | 0/10 [00:00<?, ?it/s]"
      ]
     },
     "metadata": {},
     "output_type": "display_data"
    },
    {
     "name": "stdout",
     "output_type": "stream",
     "text": [
      "Param (factors, regularization, iterations) : [800, 0.01, 10]\n",
      "Watched Movie : 0.86581576\n",
      "Similar Movie : 0.24993414\n"
     ]
    },
    {
     "data": {
      "application/vnd.jupyter.widget-view+json": {
       "model_id": "8be99d24ca1b4dbd80f27c82525a0ff3",
       "version_major": 2,
       "version_minor": 0
      },
      "text/plain": [
       "  0%|          | 0/20 [00:00<?, ?it/s]"
      ]
     },
     "metadata": {},
     "output_type": "display_data"
    },
    {
     "name": "stdout",
     "output_type": "stream",
     "text": [
      "Param (factors, regularization, iterations) : [800, 0.01, 20]\n",
      "Watched Movie : 0.860794\n",
      "Similar Movie : 0.24175894\n"
     ]
    },
    {
     "data": {
      "application/vnd.jupyter.widget-view+json": {
       "model_id": "c3b26e9d0a42417e976d126fa972bfb5",
       "version_major": 2,
       "version_minor": 0
      },
      "text/plain": [
       "  0%|          | 0/40 [00:00<?, ?it/s]"
      ]
     },
     "metadata": {},
     "output_type": "display_data"
    },
    {
     "name": "stdout",
     "output_type": "stream",
     "text": [
      "Param (factors, regularization, iterations) : [800, 0.01, 40]\n",
      "Watched Movie : 0.8708178\n",
      "Similar Movie : 0.24865371\n"
     ]
    },
    {
     "data": {
      "application/vnd.jupyter.widget-view+json": {
       "model_id": "77de01a7c20c4fd882869fbc01f54a72",
       "version_major": 2,
       "version_minor": 0
      },
      "text/plain": [
       "  0%|          | 0/80 [00:00<?, ?it/s]"
      ]
     },
     "metadata": {},
     "output_type": "display_data"
    },
    {
     "name": "stdout",
     "output_type": "stream",
     "text": [
      "Param (factors, regularization, iterations) : [800, 0.01, 80]\n",
      "Watched Movie : 0.8750226\n",
      "Similar Movie : 0.24151683\n"
     ]
    },
    {
     "data": {
      "application/vnd.jupyter.widget-view+json": {
       "model_id": "382245bacbef4deb85a0d317addcb647",
       "version_major": 2,
       "version_minor": 0
      },
      "text/plain": [
       "  0%|          | 0/160 [00:00<?, ?it/s]"
      ]
     },
     "metadata": {},
     "output_type": "display_data"
    },
    {
     "name": "stdout",
     "output_type": "stream",
     "text": [
      "Param (factors, regularization, iterations) : [800, 0.01, 160]\n",
      "Watched Movie : 0.8805644\n",
      "Similar Movie : 0.22688435\n"
     ]
    },
    {
     "data": {
      "application/vnd.jupyter.widget-view+json": {
       "model_id": "0baea116b1184426a532271aa5a663ce",
       "version_major": 2,
       "version_minor": 0
      },
      "text/plain": [
       "  0%|          | 0/10 [00:00<?, ?it/s]"
      ]
     },
     "metadata": {},
     "output_type": "display_data"
    },
    {
     "name": "stdout",
     "output_type": "stream",
     "text": [
      "Param (factors, regularization, iterations) : [800, 0.001, 10]\n",
      "Watched Movie : 0.86182684\n",
      "Similar Movie : 0.22079948\n"
     ]
    },
    {
     "data": {
      "application/vnd.jupyter.widget-view+json": {
       "model_id": "13d03d44e85a410c824e7ce45fb69ce4",
       "version_major": 2,
       "version_minor": 0
      },
      "text/plain": [
       "  0%|          | 0/20 [00:00<?, ?it/s]"
      ]
     },
     "metadata": {},
     "output_type": "display_data"
    },
    {
     "name": "stdout",
     "output_type": "stream",
     "text": [
      "Param (factors, regularization, iterations) : [800, 0.001, 20]\n",
      "Watched Movie : 0.86398447\n",
      "Similar Movie : 0.22429946\n"
     ]
    },
    {
     "data": {
      "application/vnd.jupyter.widget-view+json": {
       "model_id": "2a5a7e7773954b819469e218f6c5e464",
       "version_major": 2,
       "version_minor": 0
      },
      "text/plain": [
       "  0%|          | 0/40 [00:00<?, ?it/s]"
      ]
     },
     "metadata": {},
     "output_type": "display_data"
    },
    {
     "name": "stdout",
     "output_type": "stream",
     "text": [
      "Param (factors, regularization, iterations) : [800, 0.001, 40]\n",
      "Watched Movie : 0.87271047\n",
      "Similar Movie : 0.23689686\n"
     ]
    },
    {
     "data": {
      "application/vnd.jupyter.widget-view+json": {
       "model_id": "486ae6b7fab34f4091c944ca421d42b5",
       "version_major": 2,
       "version_minor": 0
      },
      "text/plain": [
       "  0%|          | 0/80 [00:00<?, ?it/s]"
      ]
     },
     "metadata": {},
     "output_type": "display_data"
    },
    {
     "name": "stdout",
     "output_type": "stream",
     "text": [
      "Param (factors, regularization, iterations) : [800, 0.001, 80]\n",
      "Watched Movie : 0.881379\n",
      "Similar Movie : 0.23739904\n"
     ]
    },
    {
     "data": {
      "application/vnd.jupyter.widget-view+json": {
       "model_id": "d04755fa84094b2fb861bbb8f37a6b65",
       "version_major": 2,
       "version_minor": 0
      },
      "text/plain": [
       "  0%|          | 0/160 [00:00<?, ?it/s]"
      ]
     },
     "metadata": {},
     "output_type": "display_data"
    },
    {
     "name": "stdout",
     "output_type": "stream",
     "text": [
      "Param (factors, regularization, iterations) : [800, 0.001, 160]\n",
      "Watched Movie : 0.8790514\n",
      "Similar Movie : 0.22865742\n"
     ]
    }
   ],
   "source": [
    "for factors in [50, 100, 200, 400, 800]:\n",
    "    for regularization in [0.5, 0.1, 0.05, 0.01, 0.001]:\n",
    "        for iterations in [10, 20, 40, 80, 160]:\n",
    "            model = AlternatingLeastSquares(factors = factors, regularization = regularization, use_gpu = False, \n",
    "                                            iterations = iterations, dtype = np.float32)\n",
    "            model.fit(csr.T)\n",
    "            \n",
    "            test_user, test_movie = user_list[9999], movie_list[test_movie_id[0]]\n",
    "            test_user, test_movie = model.user_factors[test_user], model.item_factors[test_movie]\n",
    "\n",
    "            score1 = np.dot(test_user, test_movie)\n",
    "            \n",
    "            test_movie = movie_list[1569]\n",
    "            test_movie = model.item_factors[test_movie]\n",
    "\n",
    "            np.dot(test_user, test_movie)\n",
    "            \n",
    "            score2 = np.dot(test_user, test_movie)\n",
    "            \n",
    "            print('Param (factors, regularization, iterations) :', [factors, regularization, iterations])\n",
    "            print('Watched Movie :', score1)\n",
    "            print('Similar Movie :', score2)"
   ]
  },
  {
   "cell_type": "markdown",
   "id": "95a3b359",
   "metadata": {},
   "source": [
    "**Similar Movie 벡터 내적이 가장 클 때**<br/>\n",
    "Param (factors, regularization, iterations) : [200, 0.5, 20]<br/>\n",
    "Watched Movie : 0.54699767<br/>\n",
    "Similar Movie : 0.5120277<br/>\n",
    "\n",
    "\n",
    "**Watched Movie 벡터 내적이 가장 클 때**<br/>\n",
    "Param (factors, regularization, iterations) : [800, 0.001, 80]<br/>\n",
    "Watched Movie : 0.881379<br/>\n",
    "Similar Movie : 0.23739904<br/>"
   ]
  },
  {
   "cell_type": "markdown",
   "id": "de7fd6d3",
   "metadata": {},
   "source": [
    "* **Similar Movie 벡터 내적이 가장 클 때** 모두 0.5 이상으로 적절한 모델이라 생각됨\n",
    "* **Watched Movie 벡터 내적이 가장 클 때** Watched movie / Similar movie 차이가 커 과적합된 것으로 생각됨"
   ]
  },
  {
   "cell_type": "markdown",
   "id": "dedf84e0",
   "metadata": {},
   "source": [
    "---"
   ]
  },
  {
   "cell_type": "markdown",
   "id": "9355c199",
   "metadata": {},
   "source": [
    "**유사 item 찾기**"
   ]
  },
  {
   "cell_type": "code",
   "execution_count": 65,
   "id": "734b933e",
   "metadata": {},
   "outputs": [
    {
     "data": {
      "application/vnd.jupyter.widget-view+json": {
       "model_id": "cf0eb05beae9457eb67b6348fe4f9def",
       "version_major": 2,
       "version_minor": 0
      },
      "text/plain": [
       "  0%|          | 0/20 [00:00<?, ?it/s]"
      ]
     },
     "metadata": {},
     "output_type": "display_data"
    },
    {
     "data": {
      "application/vnd.jupyter.widget-view+json": {
       "model_id": "917b371bc48545de999d432b6ec5fcfb",
       "version_major": 2,
       "version_minor": 0
      },
      "text/plain": [
       "  0%|          | 0/80 [00:00<?, ?it/s]"
      ]
     },
     "metadata": {},
     "output_type": "display_data"
    }
   ],
   "source": [
    "model1 = AlternatingLeastSquares(factors = 200, regularization = 0.5, use_gpu = False, \n",
    "                                iterations = 20, dtype = np.float32)\n",
    "model2 = AlternatingLeastSquares(factors = 800, regularization = 0.001, use_gpu = False, \n",
    "                                iterations = 80, dtype = np.float32)\n",
    "\n",
    "model1.fit(csr.T)\n",
    "model2.fit(csr.T)"
   ]
  },
  {
   "cell_type": "code",
   "execution_count": 113,
   "id": "64c15616",
   "metadata": {},
   "outputs": [],
   "source": [
    "def similar_movie(model, movie_id, movie_list = movie_list):\n",
    "    movie = movie_list[movie_id]\n",
    "    movie = model.similar_items(movie)\n",
    "    \n",
    "    movie_list = {v:k for k, v in movie_list.items()}\n",
    "    \n",
    "    movie = [(movie_list[i[0]], i[1]) for i in movie]\n",
    "    movie = [(movies.loc[i[0]]['title'], movies.loc[i[0]]['genres'], i[1]) for i in movie]\n",
    "    \n",
    "    print(tabulate(movie, headers = ['title', 'genres', 'score']))"
   ]
  },
  {
   "cell_type": "code",
   "execution_count": 114,
   "id": "2381764a",
   "metadata": {},
   "outputs": [
    {
     "data": {
      "text/html": [
       "<div>\n",
       "<style scoped>\n",
       "    .dataframe tbody tr th:only-of-type {\n",
       "        vertical-align: middle;\n",
       "    }\n",
       "\n",
       "    .dataframe tbody tr th {\n",
       "        vertical-align: top;\n",
       "    }\n",
       "\n",
       "    .dataframe thead th {\n",
       "        text-align: right;\n",
       "    }\n",
       "</style>\n",
       "<table border=\"1\" class=\"dataframe\">\n",
       "  <thead>\n",
       "    <tr style=\"text-align: right;\">\n",
       "      <th></th>\n",
       "      <th>title</th>\n",
       "      <th>genres</th>\n",
       "    </tr>\n",
       "    <tr>\n",
       "      <th>movie_id</th>\n",
       "      <th></th>\n",
       "      <th></th>\n",
       "    </tr>\n",
       "  </thead>\n",
       "  <tbody>\n",
       "    <tr>\n",
       "      <th>339</th>\n",
       "      <td>While You Were Sleeping (1995)</td>\n",
       "      <td>[Comedy, Romance]</td>\n",
       "    </tr>\n",
       "  </tbody>\n",
       "</table>\n",
       "</div>"
      ],
      "text/plain": [
       "                                   title             genres\n",
       "movie_id                                                   \n",
       "339       While You Were Sleeping (1995)  [Comedy, Romance]"
      ]
     },
     "execution_count": 114,
     "metadata": {},
     "output_type": "execute_result"
    }
   ],
   "source": [
    "movies[movies.index.isin([339])] # 비교할 영화"
   ]
  },
  {
   "cell_type": "code",
   "execution_count": 115,
   "id": "8367c21c",
   "metadata": {},
   "outputs": [
    {
     "name": "stdout",
     "output_type": "stream",
     "text": [
      "title                                genres                    score\n",
      "-----------------------------------  ---------------------  --------\n",
      "While You Were Sleeping (1995)       ['Comedy', 'Romance']  1\n",
      "My Best Friend's Wedding (1997)      ['Comedy', 'Romance']  0.59806\n",
      "Sleepless in Seattle (1993)          ['Comedy', 'Romance']  0.586599\n",
      "You've Got Mail (1998)               ['Comedy', 'Romance']  0.553851\n",
      "Truth About Cats & Dogs, The (1996)  ['Comedy', 'Romance']  0.513513\n",
      "Pretty Woman (1990)                  ['Comedy', 'Romance']  0.495504\n",
      "Sabrina (1995)                       ['Comedy', 'Romance']  0.466085\n",
      "French Kiss (1995)                   ['Comedy', 'Romance']  0.452017\n",
      "I.Q. (1994)                          ['Comedy', 'Romance']  0.435554\n",
      "Notting Hill (1999)                  ['Comedy', 'Romance']  0.426551\n"
     ]
    }
   ],
   "source": [
    "similar_movie(model1, 339)"
   ]
  },
  {
   "cell_type": "code",
   "execution_count": 116,
   "id": "e3618cb5",
   "metadata": {},
   "outputs": [
    {
     "name": "stdout",
     "output_type": "stream",
     "text": [
      "title                           genres                       score\n",
      "------------------------------  ------------------------  --------\n",
      "While You Were Sleeping (1995)  ['Comedy', 'Romance']     1\n",
      "Small Wonders (1996)            ['Documentary']           0.625034\n",
      "For the Moment (1994)           ['Romance', 'War']        0.624525\n",
      "Dangerous Ground (1997)         ['Drama']                 0.622973\n",
      "Wings of Courage (1995)         ['Adventure', 'Romance']  0.622866\n",
      "Run of the Country, The (1995)  ['Drama']                 0.622208\n",
      "Two Much (1996)                 ['Comedy', 'Romance']     0.621274\n",
      "Oxygen (1999)                   ['Thriller']              0.62079\n",
      "Allnighter, The (1987)          ['Comedy', 'Romance']     0.620419\n",
      "I Got the Hook Up (1998)        ['Comedy']                0.619964\n"
     ]
    }
   ],
   "source": [
    "similar_movie(model2, 339)"
   ]
  },
  {
   "cell_type": "markdown",
   "id": "091f0f65",
   "metadata": {},
   "source": [
    "* **Similar Movie 벡터 내적이 가장 클 때** param을 사용한 경우 상당히 유사한 item으로 보임\n",
    "* **Watched Movie 벡터 내적이 가장 클 때** param을 사용한 경우 유사하지 않은 item으로 보임"
   ]
  },
  {
   "cell_type": "markdown",
   "id": "d28220bd",
   "metadata": {},
   "source": [
    "---"
   ]
  },
  {
   "cell_type": "markdown",
   "id": "f51c7dac",
   "metadata": {},
   "source": [
    "**사용자에게 추천**"
   ]
  },
  {
   "cell_type": "code",
   "execution_count": 117,
   "id": "6ab88491",
   "metadata": {},
   "outputs": [],
   "source": [
    "def recommend_movie(model, user_list = user_list, movie_list = movie_list):\n",
    "    user = user_list[9999]\n",
    "    \n",
    "    movie = model.recommend(user, csr, filter_already_liked_items=True)\n",
    "    \n",
    "    movie_list = {v:k for k, v in movie_list.items()}\n",
    "    \n",
    "    movie = [(movie_list[i[0]], i[1]) for i in movie]\n",
    "    movie = [(movies.loc[i[0]]['title'], movies.loc[i[0]]['genres'], i[1]) for i in movie]\n",
    "    print(tabulate(movie, headers = ['title', 'genres', 'score']))"
   ]
  },
  {
   "cell_type": "code",
   "execution_count": 119,
   "id": "3734ed0d",
   "metadata": {},
   "outputs": [
    {
     "name": "stdout",
     "output_type": "stream",
     "text": [
      "title                                genres                                score\n",
      "-----------------------------------  ---------------------------------  --------\n",
      "Sleepless in Seattle (1993)          ['Comedy', 'Romance']              0.568672\n",
      "My Best Friend's Wedding (1997)      ['Comedy', 'Romance']              0.478175\n",
      "Ghost (1990)                         ['Comedy', 'Romance', 'Thriller']  0.386675\n",
      "Truth About Cats & Dogs, The (1996)  ['Comedy', 'Romance']              0.268799\n",
      "Sabrina (1995)                       ['Comedy', 'Romance']              0.267793\n",
      "Forrest Gump (1994)                  ['Comedy', 'Romance', 'War']       0.255089\n",
      "American President, The (1995)       ['Comedy', 'Drama', 'Romance']     0.24628\n",
      "Four Weddings and a Funeral (1994)   ['Comedy', 'Romance']              0.227331\n",
      "I.Q. (1994)                          ['Comedy', 'Romance']              0.206352\n",
      "Tin Cup (1996)                       ['Comedy', 'Romance']              0.206255\n"
     ]
    }
   ],
   "source": [
    "recommend_movie(model1)"
   ]
  },
  {
   "cell_type": "code",
   "execution_count": 120,
   "id": "7a06a2e6",
   "metadata": {},
   "outputs": [
    {
     "name": "stdout",
     "output_type": "stream",
     "text": [
      "title                            genres                                            score\n",
      "-------------------------------  --------------------------------------------  ---------\n",
      "Sleepless in Seattle (1993)      ['Comedy', 'Romance']                         0.263924\n",
      "My Best Friend's Wedding (1997)  ['Comedy', 'Romance']                         0.221962\n",
      "Sabrina (1995)                   ['Comedy', 'Romance']                         0.168753\n",
      "Forces of Nature (1999)          ['Comedy', 'Romance']                         0.125105\n",
      "French Kiss (1995)               ['Comedy', 'Romance']                         0.123453\n",
      "Sabrina (1954)                   ['Comedy', 'Romance']                         0.121365\n",
      "Varsity Blues (1999)             ['Comedy', 'Drama']                           0.0948447\n",
      "Bringing Up Baby (1938)          ['Comedy']                                    0.0934682\n",
      "Charade (1963)                   ['Comedy', 'Mystery', 'Romance', 'Thriller']  0.0909141\n",
      "Wedding Singer, The (1998)       ['Comedy', 'Romance']                         0.0894976\n"
     ]
    }
   ],
   "source": [
    "recommend_movie(model2)"
   ]
  },
  {
   "cell_type": "markdown",
   "id": "4df8d71d",
   "metadata": {},
   "source": [
    "* **Similar Movie 벡터 내적이 가장 클 때** param을 사용한 경우와 **Watched Movie 벡터 내적이 가장 클 때** param을 사용한 경우 모두 적절한 추천을 하고 있음"
   ]
  },
  {
   "cell_type": "markdown",
   "id": "18785994",
   "metadata": {},
   "source": [
    "---"
   ]
  },
  {
   "cell_type": "markdown",
   "id": "4e96fc4b",
   "metadata": {},
   "source": [
    "**추천에 대한 기여도**"
   ]
  },
  {
   "cell_type": "code",
   "execution_count": 127,
   "id": "af68d84d",
   "metadata": {},
   "outputs": [],
   "source": [
    "# 추천에 기여한 정도\n",
    "\n",
    "def explain_movie(model, user_list = user_list, movie_list = movie_list):\n",
    "    user = user_list[9999]\n",
    "    movie = movie_list[1569]\n",
    "    movie = model.explain(user, csr, itemid = movie)\n",
    "    \n",
    "    movie_list = {v:k for k, v in movie_list.items()}\n",
    "    movie = [(movie_list[i[0]], i[1]) for i in movie[1]]\n",
    "    movie = [(movies.loc[i[0]]['title'], movies.loc[i[0]]['genres'], i[1]) for i in movie]\n",
    "    print(tabulate(movie, headers = ['title', 'genres', 'score']))"
   ]
  },
  {
   "cell_type": "code",
   "execution_count": 122,
   "id": "05732134",
   "metadata": {},
   "outputs": [
    {
     "data": {
      "text/html": [
       "<div>\n",
       "<style scoped>\n",
       "    .dataframe tbody tr th:only-of-type {\n",
       "        vertical-align: middle;\n",
       "    }\n",
       "\n",
       "    .dataframe tbody tr th {\n",
       "        vertical-align: top;\n",
       "    }\n",
       "\n",
       "    .dataframe thead th {\n",
       "        text-align: right;\n",
       "    }\n",
       "</style>\n",
       "<table border=\"1\" class=\"dataframe\">\n",
       "  <thead>\n",
       "    <tr style=\"text-align: right;\">\n",
       "      <th></th>\n",
       "      <th>title</th>\n",
       "      <th>genres</th>\n",
       "    </tr>\n",
       "    <tr>\n",
       "      <th>movie_id</th>\n",
       "      <th></th>\n",
       "      <th></th>\n",
       "    </tr>\n",
       "  </thead>\n",
       "  <tbody>\n",
       "    <tr>\n",
       "      <th>1569</th>\n",
       "      <td>My Best Friend's Wedding (1997)</td>\n",
       "      <td>[Comedy, Romance]</td>\n",
       "    </tr>\n",
       "  </tbody>\n",
       "</table>\n",
       "</div>"
      ],
      "text/plain": [
       "                                    title             genres\n",
       "movie_id                                                    \n",
       "1569      My Best Friend's Wedding (1997)  [Comedy, Romance]"
      ]
     },
     "execution_count": 122,
     "metadata": {},
     "output_type": "execute_result"
    }
   ],
   "source": [
    "movies[movies.index.isin([1569])] # 추천하는 영화"
   ]
  },
  {
   "cell_type": "code",
   "execution_count": 128,
   "id": "3911e6d2",
   "metadata": {},
   "outputs": [
    {
     "name": "stdout",
     "output_type": "stream",
     "text": [
      "title                           genres                      score\n",
      "------------------------------  ---------------------  ----------\n",
      "While You Were Sleeping (1995)  ['Comedy', 'Romance']  0.138776\n",
      "Pretty Woman (1990)             ['Comedy', 'Romance']  0.129891\n",
      "You've Got Mail (1998)          ['Comedy', 'Romance']  0.104205\n",
      "Notting Hill (1999)             ['Comedy', 'Romance']  0.0919574\n",
      "Roman Holiday (1953)            ['Comedy', 'Romance']  0.00956893\n"
     ]
    }
   ],
   "source": [
    "explain_movie(model1)"
   ]
  },
  {
   "cell_type": "code",
   "execution_count": 129,
   "id": "15e87d16",
   "metadata": {},
   "outputs": [
    {
     "name": "stdout",
     "output_type": "stream",
     "text": [
      "title                           genres                     score\n",
      "------------------------------  ---------------------  ---------\n",
      "Pretty Woman (1990)             ['Comedy', 'Romance']  0.0747074\n",
      "While You Were Sleeping (1995)  ['Comedy', 'Romance']  0.0505609\n",
      "You've Got Mail (1998)          ['Comedy', 'Romance']  0.0432872\n",
      "Roman Holiday (1953)            ['Comedy', 'Romance']  0.0406036\n",
      "Notting Hill (1999)             ['Comedy', 'Romance']  0.0120491\n"
     ]
    }
   ],
   "source": [
    "explain_movie(model2)"
   ]
  },
  {
   "cell_type": "markdown",
   "id": "a6ff452f",
   "metadata": {},
   "source": [
    "---"
   ]
  },
  {
   "cell_type": "markdown",
   "id": "d71339f8",
   "metadata": {},
   "source": [
    "**회고**"
   ]
  },
  {
   "cell_type": "markdown",
   "id": "1311b0e3",
   "metadata": {},
   "source": [
    "**학습 결과 벡터 내적 수치** <br/>\n",
    "\n",
    "\n",
    "Similar Movie 벡터 내적이 가장 클 때 (model1):<br/>\n",
    "Watched Movie : 0.54699767<br/>\n",
    "Similar Movie : 0.5120277<br/>\n",
    "\n",
    "\n",
    "Watched Movie 벡터 내적이 가장 클 때 (model2):<br/>\n",
    "Watched Movie : 0.881379<br/>\n",
    "Similar Movie : 0.23739904<br/>\n",
    "\n",
    "* 두 모델의 결과가 크게 다르리라 예상했지만 크게 다르지 않았습니다. 모두 제법 적절한 추천 결과를 낼 수 있었습니다. (추천한 항목 자체도 비슷합니다.)\n",
    "* 추천 Score 및 추천에 대한 기여도 Score는 다소 차이가 있었습니다. 모델 1의 경우 상대적으로 Score 가 높고, 모델 2의 경우 상대적으로 Score가 낮습니다.\n",
    "* 다만, 모델 2의 경우 비슷한 아이템을 찾는 성능이 떨어지기 때문에 모델 1이 더 우수한 모델인 것으로 생각됩니다."
   ]
  },
  {
   "cell_type": "code",
   "execution_count": null,
   "id": "d7b97e0d",
   "metadata": {},
   "outputs": [],
   "source": []
  }
 ],
 "metadata": {
  "kernelspec": {
   "display_name": "Python 3 (ipykernel)",
   "language": "python",
   "name": "python3"
  },
  "language_info": {
   "codemirror_mode": {
    "name": "ipython",
    "version": 3
   },
   "file_extension": ".py",
   "mimetype": "text/x-python",
   "name": "python",
   "nbconvert_exporter": "python",
   "pygments_lexer": "ipython3",
   "version": "3.9.7"
  }
 },
 "nbformat": 4,
 "nbformat_minor": 5
}
