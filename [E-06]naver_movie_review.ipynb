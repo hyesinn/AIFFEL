{
 "cells": [
  {
   "cell_type": "markdown",
   "id": "9630b13a",
   "metadata": {},
   "source": [
    "# Naver Movie Review - Sentiment Classification"
   ]
  },
  {
   "cell_type": "markdown",
   "id": "70d1e74a",
   "metadata": {},
   "source": [
    "#### Step 1. Data File\n",
    "- 데이터 파일 준비\n",
    "- 데이터 로더\n",
    "\n",
    "#### Step 2. Data Setting\n",
    "- 인코딩과 디코딩\n",
    "- 데이터 크기 조정\n",
    "- 데이터 분리 (훈련/검증)\n",
    "\n",
    "#### Step 3. Model\n",
    "- LSTM\n",
    "- cov1D\n",
    "- cov2D\n",
    "\n",
    "#### Step 4. Evaluation\n",
    "- 오차와 정확도\n",
    "- 임베딩 분석 (유사단어)\n",
    "\n",
    "#### Step 5. Tranfer Learning\n",
    "- Word2Vec\n",
    "- Model\n",
    "- 오차와 정확도\n",
    "- 임베딩 분석 (유사단어)\n",
    "- 최종 결과"
   ]
  },
  {
   "cell_type": "markdown",
   "id": "bcd5f524",
   "metadata": {},
   "source": [
    "### 모듈 리스트"
   ]
  },
  {
   "cell_type": "code",
   "execution_count": 56,
   "id": "f13706ef",
   "metadata": {},
   "outputs": [],
   "source": [
    "import pandas as pd\n",
    "import numpy as np\n",
    "import os\n",
    "import tensorflow as tf\n",
    "from collections import Counter\n",
    "from konlpy.tag import Mecab # tokenizer\n",
    "import matplotlib.pyplot as plt\n",
    "from gensim.models.keyedvectors import Word2VecKeyedVectors # embedding\n",
    "import gensim\n",
    "from tensorflow.keras.initializers import Constant"
   ]
  },
  {
   "cell_type": "markdown",
   "id": "d3af3c8a",
   "metadata": {},
   "source": [
    "## Data File"
   ]
  },
  {
   "cell_type": "markdown",
   "id": "8d3df849",
   "metadata": {},
   "source": [
    "### 데이터 파일 준비"
   ]
  },
  {
   "cell_type": "code",
   "execution_count": 57,
   "id": "8e2aa9b9",
   "metadata": {},
   "outputs": [],
   "source": [
    "train_data = pd.read_table('~/aiffel/sentiment_classification/data/ratings_train.txt')\n",
    "test_data = pd.read_table('~/aiffel/sentiment_classification/data/ratings_test.txt')"
   ]
  },
  {
   "cell_type": "code",
   "execution_count": 58,
   "id": "25a58179",
   "metadata": {},
   "outputs": [
    {
     "data": {
      "text/html": [
       "<div>\n",
       "<style scoped>\n",
       "    .dataframe tbody tr th:only-of-type {\n",
       "        vertical-align: middle;\n",
       "    }\n",
       "\n",
       "    .dataframe tbody tr th {\n",
       "        vertical-align: top;\n",
       "    }\n",
       "\n",
       "    .dataframe thead th {\n",
       "        text-align: right;\n",
       "    }\n",
       "</style>\n",
       "<table border=\"1\" class=\"dataframe\">\n",
       "  <thead>\n",
       "    <tr style=\"text-align: right;\">\n",
       "      <th></th>\n",
       "      <th>id</th>\n",
       "      <th>document</th>\n",
       "      <th>label</th>\n",
       "    </tr>\n",
       "  </thead>\n",
       "  <tbody>\n",
       "    <tr>\n",
       "      <th>0</th>\n",
       "      <td>9976970</td>\n",
       "      <td>아 더빙.. 진짜 짜증나네요 목소리</td>\n",
       "      <td>0</td>\n",
       "    </tr>\n",
       "    <tr>\n",
       "      <th>1</th>\n",
       "      <td>3819312</td>\n",
       "      <td>흠...포스터보고 초딩영화줄....오버연기조차 가볍지 않구나</td>\n",
       "      <td>1</td>\n",
       "    </tr>\n",
       "    <tr>\n",
       "      <th>2</th>\n",
       "      <td>10265843</td>\n",
       "      <td>너무재밓었다그래서보는것을추천한다</td>\n",
       "      <td>0</td>\n",
       "    </tr>\n",
       "    <tr>\n",
       "      <th>3</th>\n",
       "      <td>9045019</td>\n",
       "      <td>교도소 이야기구먼 ..솔직히 재미는 없다..평점 조정</td>\n",
       "      <td>0</td>\n",
       "    </tr>\n",
       "    <tr>\n",
       "      <th>4</th>\n",
       "      <td>6483659</td>\n",
       "      <td>사이몬페그의 익살스런 연기가 돋보였던 영화!스파이더맨에서 늙어보이기만 했던 커스틴 ...</td>\n",
       "      <td>1</td>\n",
       "    </tr>\n",
       "  </tbody>\n",
       "</table>\n",
       "</div>"
      ],
      "text/plain": [
       "         id                                           document  label\n",
       "0   9976970                                아 더빙.. 진짜 짜증나네요 목소리      0\n",
       "1   3819312                  흠...포스터보고 초딩영화줄....오버연기조차 가볍지 않구나      1\n",
       "2  10265843                                  너무재밓었다그래서보는것을추천한다      0\n",
       "3   9045019                      교도소 이야기구먼 ..솔직히 재미는 없다..평점 조정      0\n",
       "4   6483659  사이몬페그의 익살스런 연기가 돋보였던 영화!스파이더맨에서 늙어보이기만 했던 커스틴 ...      1"
      ]
     },
     "execution_count": 58,
     "metadata": {},
     "output_type": "execute_result"
    }
   ],
   "source": [
    "train_data.head()"
   ]
  },
  {
   "cell_type": "code",
   "execution_count": 59,
   "id": "5c79da7a",
   "metadata": {},
   "outputs": [
    {
     "data": {
      "text/html": [
       "<div>\n",
       "<style scoped>\n",
       "    .dataframe tbody tr th:only-of-type {\n",
       "        vertical-align: middle;\n",
       "    }\n",
       "\n",
       "    .dataframe tbody tr th {\n",
       "        vertical-align: top;\n",
       "    }\n",
       "\n",
       "    .dataframe thead th {\n",
       "        text-align: right;\n",
       "    }\n",
       "</style>\n",
       "<table border=\"1\" class=\"dataframe\">\n",
       "  <thead>\n",
       "    <tr style=\"text-align: right;\">\n",
       "      <th></th>\n",
       "      <th>id</th>\n",
       "      <th>document</th>\n",
       "      <th>label</th>\n",
       "    </tr>\n",
       "  </thead>\n",
       "  <tbody>\n",
       "    <tr>\n",
       "      <th>0</th>\n",
       "      <td>6270596</td>\n",
       "      <td>굳 ㅋ</td>\n",
       "      <td>1</td>\n",
       "    </tr>\n",
       "    <tr>\n",
       "      <th>1</th>\n",
       "      <td>9274899</td>\n",
       "      <td>GDNTOPCLASSINTHECLUB</td>\n",
       "      <td>0</td>\n",
       "    </tr>\n",
       "    <tr>\n",
       "      <th>2</th>\n",
       "      <td>8544678</td>\n",
       "      <td>뭐야 이 평점들은.... 나쁘진 않지만 10점 짜리는 더더욱 아니잖아</td>\n",
       "      <td>0</td>\n",
       "    </tr>\n",
       "    <tr>\n",
       "      <th>3</th>\n",
       "      <td>6825595</td>\n",
       "      <td>지루하지는 않은데 완전 막장임... 돈주고 보기에는....</td>\n",
       "      <td>0</td>\n",
       "    </tr>\n",
       "    <tr>\n",
       "      <th>4</th>\n",
       "      <td>6723715</td>\n",
       "      <td>3D만 아니었어도 별 다섯 개 줬을텐데.. 왜 3D로 나와서 제 심기를 불편하게 하죠??</td>\n",
       "      <td>0</td>\n",
       "    </tr>\n",
       "  </tbody>\n",
       "</table>\n",
       "</div>"
      ],
      "text/plain": [
       "        id                                           document  label\n",
       "0  6270596                                                굳 ㅋ      1\n",
       "1  9274899                               GDNTOPCLASSINTHECLUB      0\n",
       "2  8544678             뭐야 이 평점들은.... 나쁘진 않지만 10점 짜리는 더더욱 아니잖아      0\n",
       "3  6825595                   지루하지는 않은데 완전 막장임... 돈주고 보기에는....      0\n",
       "4  6723715  3D만 아니었어도 별 다섯 개 줬을텐데.. 왜 3D로 나와서 제 심기를 불편하게 하죠??      0"
      ]
     },
     "execution_count": 59,
     "metadata": {},
     "output_type": "execute_result"
    }
   ],
   "source": [
    "test_data.head()"
   ]
  },
  {
   "cell_type": "markdown",
   "id": "2cf45b3a",
   "metadata": {},
   "source": [
    "### 데이터 로더"
   ]
  },
  {
   "cell_type": "markdown",
   "id": "fa08b855",
   "metadata": {},
   "source": [
    "#### 불용어"
   ]
  },
  {
   "cell_type": "code",
   "execution_count": 60,
   "id": "65d3313b",
   "metadata": {},
   "outputs": [],
   "source": [
    "stopwords = ['은', '는', '이', '가', '들', '을', '를', '하다', '요', '에', '으로', '다', '고', '하', '의', '있', '게', '수', '았', \\\n",
    "             '네', '겠', '되', '해', '습니다', '할', '것', '싶', '듯', '함', '해서', '임', '입니다', '으면', '네요', '예요']"
   ]
  },
  {
   "cell_type": "markdown",
   "id": "aa4ec796",
   "metadata": {},
   "source": [
    "#### 토크나이저"
   ]
  },
  {
   "cell_type": "code",
   "execution_count": 61,
   "id": "58fed8b3",
   "metadata": {},
   "outputs": [],
   "source": [
    "tokenizer = Mecab()"
   ]
  },
  {
   "cell_type": "markdown",
   "id": "a8726626",
   "metadata": {},
   "source": [
    "#### 로드 데이터 함수"
   ]
  },
  {
   "cell_type": "code",
   "execution_count": 62,
   "id": "963eeeec",
   "metadata": {},
   "outputs": [],
   "source": [
    "def load_data(train_data, test_data, num_words = 10000):\n",
    "    # 중복, NAN 제거\n",
    "    train_data = train_data.drop_duplicates(subset = ['document'])\n",
    "    train_data = train_data.dropna(how = 'any')\n",
    "    test_data = test_data.drop_duplicates(subset = ['document'])\n",
    "    test_data = test_data.dropna(how = 'any')\n",
    "    \n",
    "    # 토큰화 및 불용어 제거\n",
    "    def tokenize(data):\n",
    "        X = []\n",
    "        for doc in data['document']:\n",
    "            temp_X = tokenizer.morphs(doc)\n",
    "            temp_X = [word for word in temp_X if not word in stopwords]\n",
    "            X.append(temp_X)\n",
    "            \n",
    "        return X\n",
    "    \n",
    "    X_train = tokenize(train_data)\n",
    "    X_test = tokenize(test_data)\n",
    "    \n",
    "    # 사전 word to index\n",
    "    words = np.concatenate(X_train).tolist()\n",
    "    counter = Counter(words)\n",
    "    counter = counter.most_common(10000 - 4) # UNK, BOS, PAD\n",
    "    vocab = [\"\", \"\", \"\", \"\"] + [key for key, num in counter]\n",
    "    word_to_index = {word : index for index, word in enumerate(vocab)}\n",
    "    word_to_index['<PAD>'] = 0\n",
    "    word_to_index['<BOS>'] = 1\n",
    "    word_to_index['<UNK>'] = 2\n",
    "    \n",
    "    # text -> index\n",
    "    def to_indexlist(wordlist):\n",
    "        return [1] + [word_to_index[word] if word in word_to_index else word_to_index[\"\"] for word in wordlist]\n",
    "    \n",
    "    X_train = list(map(to_indexlist, X_train))\n",
    "    X_test = list(map(to_indexlist, X_test))\n",
    "    \n",
    "    # 리턴 정의\n",
    "    y_train = np.array(list(train_data['label']))\n",
    "    y_test = np.array(list(test_data['label']))\n",
    "    \n",
    "    return X_train, y_train, X_test, y_test, word_to_index"
   ]
  },
  {
   "cell_type": "code",
   "execution_count": 63,
   "id": "79ecd2e8",
   "metadata": {},
   "outputs": [],
   "source": [
    "X_train, y_train, X_test, y_test, word_to_index = load_data(train_data, test_data)"
   ]
  },
  {
   "cell_type": "code",
   "execution_count": 64,
   "id": "76e9ab78",
   "metadata": {},
   "outputs": [],
   "source": [
    "index_to_word = {index:word for word, index in word_to_index.items()}"
   ]
  },
  {
   "cell_type": "markdown",
   "id": "519c3b15",
   "metadata": {},
   "source": [
    "## Data Setting"
   ]
  },
  {
   "cell_type": "markdown",
   "id": "629ccdb2",
   "metadata": {},
   "source": [
    "### 인코딩과 디코딩"
   ]
  },
  {
   "cell_type": "code",
   "execution_count": 65,
   "id": "95d69821",
   "metadata": {},
   "outputs": [],
   "source": [
    "# sentence -> index vector\n",
    "def get_encoded_sentence(sentence, word_to_index):\n",
    "    return [word_to_index['<BOS>']]+[word_to_index[word] if word in word_to_index else word_to_index['<UNK>'] for word in sentence.split()]\n",
    "\n",
    "# sentences -> index vector\n",
    "def get_encoded_sentences(sentences, word_to_index):\n",
    "    return [get_encoded_sentence(sentence, word_to_index) for sentence in sentences]\n",
    " \n",
    "# index vector -> sentence\n",
    "def get_decoded_sentence(encoded_sentence, index_to_word):\n",
    "    return ' '.join(index_to_word[index] if index in index_to_word else '<UNK>' for index in encoded_sentence[1:])\n",
    "# index vector -> sentences \n",
    "def get_decoded_sentences(encoded_sentences, index_to_word):\n",
    "    return [get_decoded_sentence(encoded_sentence, index_to_word) for encoded_sentence in encoded_sentences]"
   ]
  },
  {
   "cell_type": "code",
   "execution_count": 66,
   "id": "9cda7546",
   "metadata": {},
   "outputs": [
    {
     "name": "stdout",
     "output_type": "stream",
     "text": [
      "[1, 27, 63, 902, 4, 4, 33, 211, 16, 732]\n",
      "아 더 빙 . . 진짜 짜증 나 목소리\n"
     ]
    }
   ],
   "source": [
    "# 미리보기\n",
    "print(X_train[0])\n",
    "print(get_decoded_sentence(X_train[0], index_to_word))"
   ]
  },
  {
   "cell_type": "markdown",
   "id": "44ef4763",
   "metadata": {},
   "source": [
    "### 데이터 크기 조정"
   ]
  },
  {
   "cell_type": "markdown",
   "id": "dab6aa26",
   "metadata": {},
   "source": [
    "#### 적절한 토큰의 수 구하기"
   ]
  },
  {
   "cell_type": "code",
   "execution_count": 67,
   "id": "e6eaafd4",
   "metadata": {},
   "outputs": [
    {
     "name": "stdout",
     "output_type": "stream",
     "text": [
      "                   0\n",
      "count  195339.000000\n",
      "mean       15.417961\n",
      "std        11.537582\n",
      "min         1.000000\n",
      "25%         8.000000\n",
      "50%        12.000000\n",
      "75%        18.000000\n",
      "max       117.000000\n",
      "\n",
      "전체 데이터의 95%가 토큰의 수 43 미만\n"
     ]
    }
   ],
   "source": [
    "# 훈련 데이터와 시험 데이터 합\n",
    "X_all = list(X_train) + list(X_test)\n",
    "\n",
    "# 문장별 단어 개수 리스트\n",
    "num_tokens = [len(tokens) for tokens in X_all]\n",
    "\n",
    "# 통계값\n",
    "num_tokens = pd.DataFrame(num_tokens)\n",
    "print(num_tokens.describe())\n",
    "\n",
    "# 전체 데이터의 95%를 포함하는 토큰의 수\n",
    "maxlen = int(num_tokens.quantile(0.95))\n",
    "print(\"\\n전체 데이터의 95%가 토큰의 수 {} 미만\".format(maxlen))"
   ]
  },
  {
   "cell_type": "markdown",
   "id": "da6080e8",
   "metadata": {},
   "source": [
    "#### 패딩하여 토큰의 수 통일"
   ]
  },
  {
   "cell_type": "code",
   "execution_count": 68,
   "id": "68148e4d",
   "metadata": {},
   "outputs": [],
   "source": [
    "X_train = tf.keras.preprocessing.sequence.pad_sequences(X_train, value = word_to_index[\"<PAD>\"], padding = 'pre', maxlen = maxlen)\n",
    "X_test = tf.keras.preprocessing.sequence.pad_sequences(X_test, value = word_to_index[\"<PAD>\"], padding = 'pre', maxlen = maxlen)"
   ]
  },
  {
   "cell_type": "markdown",
   "id": "bb13a1f8",
   "metadata": {},
   "source": [
    "### 데이터 분리 (훈련/검증)"
   ]
  },
  {
   "cell_type": "code",
   "execution_count": 69,
   "id": "94c81207",
   "metadata": {},
   "outputs": [],
   "source": [
    "# 훈련 데이터의 20% \n",
    "quot = int(len(X_train) * 0.2)\n",
    "\n",
    "X_val = X_train[:quot]\n",
    "y_val = y_train[:quot]\n",
    "\n",
    "X_train = X_train[quot:]\n",
    "y_train = y_train[quot:]"
   ]
  },
  {
   "cell_type": "markdown",
   "id": "74a564fc",
   "metadata": {},
   "source": [
    "## Model"
   ]
  },
  {
   "cell_type": "code",
   "execution_count": 70,
   "id": "b74678a4",
   "metadata": {},
   "outputs": [],
   "source": [
    "vocab_size = 10000\n",
    "word_vector_dim = 16"
   ]
  },
  {
   "cell_type": "markdown",
   "id": "ef56c1d9",
   "metadata": {},
   "source": [
    "### LSTM"
   ]
  },
  {
   "cell_type": "markdown",
   "id": "af994a91",
   "metadata": {},
   "source": [
    "#### 모델 설계"
   ]
  },
  {
   "cell_type": "code",
   "execution_count": 71,
   "id": "a8ea4ea6",
   "metadata": {},
   "outputs": [
    {
     "name": "stdout",
     "output_type": "stream",
     "text": [
      "Model: \"sequential_10\"\n",
      "_________________________________________________________________\n",
      "Layer (type)                 Output Shape              Param #   \n",
      "=================================================================\n",
      "embedding_9 (Embedding)      (None, None, 16)          160000    \n",
      "_________________________________________________________________\n",
      "lstm_6 (LSTM)                (None, 32)                6272      \n",
      "_________________________________________________________________\n",
      "dense_18 (Dense)             (None, 32)                1056      \n",
      "_________________________________________________________________\n",
      "dense_19 (Dense)             (None, 1)                 33        \n",
      "=================================================================\n",
      "Total params: 167,361\n",
      "Trainable params: 167,361\n",
      "Non-trainable params: 0\n",
      "_________________________________________________________________\n"
     ]
    }
   ],
   "source": [
    "LSTM_model = tf.keras.Sequential()\n",
    "LSTM_model.add(tf.keras.layers.Embedding(vocab_size, word_vector_dim, input_shape = (None, )))\n",
    "LSTM_model.add(tf.keras.layers.LSTM(32))\n",
    "LSTM_model.add(tf.keras.layers.Dense(32, activation = 'relu'))\n",
    "LSTM_model.add(tf.keras.layers.Dense(1, activation = 'sigmoid'))\n",
    "\n",
    "LSTM_model.summary()"
   ]
  },
  {
   "cell_type": "markdown",
   "id": "b39efb18",
   "metadata": {},
   "source": [
    "#### 훈련"
   ]
  },
  {
   "cell_type": "code",
   "execution_count": 72,
   "id": "425ac168",
   "metadata": {},
   "outputs": [
    {
     "name": "stdout",
     "output_type": "stream",
     "text": [
      "Epoch 1/10\n",
      "229/229 [==============================] - 3s 7ms/step - loss: 0.4674 - accuracy: 0.7744 - val_loss: 0.3508 - val_accuracy: 0.8484\n",
      "Epoch 2/10\n",
      "229/229 [==============================] - 1s 6ms/step - loss: 0.3353 - accuracy: 0.8575 - val_loss: 0.3432 - val_accuracy: 0.8525\n",
      "Epoch 3/10\n",
      "229/229 [==============================] - 1s 5ms/step - loss: 0.3152 - accuracy: 0.8685 - val_loss: 0.3458 - val_accuracy: 0.8513\n",
      "Epoch 4/10\n",
      "229/229 [==============================] - 1s 5ms/step - loss: 0.3009 - accuracy: 0.8749 - val_loss: 0.3425 - val_accuracy: 0.8512\n",
      "Epoch 5/10\n",
      "229/229 [==============================] - 1s 6ms/step - loss: 0.2873 - accuracy: 0.8809 - val_loss: 0.3427 - val_accuracy: 0.8539\n",
      "Epoch 6/10\n",
      "229/229 [==============================] - 1s 6ms/step - loss: 0.2736 - accuracy: 0.8869 - val_loss: 0.3478 - val_accuracy: 0.8532\n",
      "Epoch 7/10\n",
      "229/229 [==============================] - 1s 5ms/step - loss: 0.2600 - accuracy: 0.8932 - val_loss: 0.3563 - val_accuracy: 0.8543\n",
      "Epoch 8/10\n",
      "229/229 [==============================] - 1s 6ms/step - loss: 0.2461 - accuracy: 0.8987 - val_loss: 0.3653 - val_accuracy: 0.8539\n",
      "Epoch 9/10\n",
      "229/229 [==============================] - 1s 6ms/step - loss: 0.2310 - accuracy: 0.9050 - val_loss: 0.3733 - val_accuracy: 0.8524\n",
      "Epoch 10/10\n",
      "229/229 [==============================] - 1s 6ms/step - loss: 0.2158 - accuracy: 0.9115 - val_loss: 0.4023 - val_accuracy: 0.8490\n"
     ]
    }
   ],
   "source": [
    "LSTM_model.compile(optimizer='adam', loss='binary_crossentropy', metrics=['accuracy'])\n",
    "LSTM_history = LSTM_model.fit(X_train, y_train, epochs = 10, batch_size=512, validation_data=(X_val, y_val), verbose=1)"
   ]
  },
  {
   "cell_type": "markdown",
   "id": "6ff99677",
   "metadata": {},
   "source": [
    "### Conv1D"
   ]
  },
  {
   "cell_type": "markdown",
   "id": "4d5dbcda",
   "metadata": {},
   "source": [
    "#### 모델 설계"
   ]
  },
  {
   "cell_type": "code",
   "execution_count": 73,
   "id": "1ca51800",
   "metadata": {},
   "outputs": [
    {
     "name": "stdout",
     "output_type": "stream",
     "text": [
      "Model: \"sequential_11\"\n",
      "_________________________________________________________________\n",
      "Layer (type)                 Output Shape              Param #   \n",
      "=================================================================\n",
      "embedding_10 (Embedding)     (None, None, 16)          160000    \n",
      "_________________________________________________________________\n",
      "conv1d_2 (Conv1D)            (None, None, 16)          1808      \n",
      "_________________________________________________________________\n",
      "max_pooling1d_1 (MaxPooling1 (None, None, 16)          0         \n",
      "_________________________________________________________________\n",
      "conv1d_3 (Conv1D)            (None, None, 16)          1808      \n",
      "_________________________________________________________________\n",
      "global_max_pooling1d_3 (Glob (None, 16)                0         \n",
      "_________________________________________________________________\n",
      "dense_20 (Dense)             (None, 8)                 136       \n",
      "_________________________________________________________________\n",
      "dense_21 (Dense)             (None, 1)                 9         \n",
      "=================================================================\n",
      "Total params: 163,761\n",
      "Trainable params: 163,761\n",
      "Non-trainable params: 0\n",
      "_________________________________________________________________\n"
     ]
    }
   ],
   "source": [
    "Conv1D_model = tf.keras.Sequential()\n",
    "Conv1D_model.add(tf.keras.layers.Embedding(vocab_size, word_vector_dim, input_shape = (None, )))\n",
    "Conv1D_model.add(tf.keras.layers.Conv1D(16, 7, activation = 'relu'))\n",
    "Conv1D_model.add(tf.keras.layers.MaxPooling1D(5))\n",
    "Conv1D_model.add(tf.keras.layers.Conv1D(16, 7, activation = 'relu'))\n",
    "Conv1D_model.add(tf.keras.layers.GlobalMaxPooling1D())\n",
    "Conv1D_model.add(tf.keras.layers.Dense(8, activation = 'relu'))\n",
    "Conv1D_model.add(tf.keras.layers.Dense(1, activation = 'sigmoid')) \n",
    "\n",
    "Conv1D_model.summary()"
   ]
  },
  {
   "cell_type": "markdown",
   "id": "37ea4850",
   "metadata": {},
   "source": [
    "#### 훈련"
   ]
  },
  {
   "cell_type": "code",
   "execution_count": 74,
   "id": "952ddc3c",
   "metadata": {},
   "outputs": [
    {
     "name": "stdout",
     "output_type": "stream",
     "text": [
      "Epoch 1/20\n",
      "229/229 [==============================] - 2s 5ms/step - loss: 0.5396 - accuracy: 0.7108 - val_loss: 0.4179 - val_accuracy: 0.8019\n",
      "Epoch 2/20\n",
      "229/229 [==============================] - 1s 5ms/step - loss: 0.3890 - accuracy: 0.8224 - val_loss: 0.4038 - val_accuracy: 0.8076\n",
      "Epoch 3/20\n",
      "229/229 [==============================] - 1s 5ms/step - loss: 0.3561 - accuracy: 0.8404 - val_loss: 0.4034 - val_accuracy: 0.8107\n",
      "Epoch 4/20\n",
      "229/229 [==============================] - 1s 5ms/step - loss: 0.3304 - accuracy: 0.8542 - val_loss: 0.4082 - val_accuracy: 0.8102\n",
      "Epoch 5/20\n",
      "229/229 [==============================] - 1s 5ms/step - loss: 0.3026 - accuracy: 0.8689 - val_loss: 0.4189 - val_accuracy: 0.8075\n",
      "Epoch 6/20\n",
      "229/229 [==============================] - 1s 5ms/step - loss: 0.2733 - accuracy: 0.8830 - val_loss: 0.4431 - val_accuracy: 0.8033\n",
      "Epoch 7/20\n",
      "229/229 [==============================] - 1s 5ms/step - loss: 0.2421 - accuracy: 0.8988 - val_loss: 0.4709 - val_accuracy: 0.8006\n",
      "Epoch 8/20\n",
      "229/229 [==============================] - 1s 5ms/step - loss: 0.2128 - accuracy: 0.9126 - val_loss: 0.5053 - val_accuracy: 0.8001\n",
      "Epoch 9/20\n",
      "229/229 [==============================] - 1s 5ms/step - loss: 0.1863 - accuracy: 0.9247 - val_loss: 0.5501 - val_accuracy: 0.7934\n",
      "Epoch 10/20\n",
      "229/229 [==============================] - 1s 5ms/step - loss: 0.1648 - accuracy: 0.9333 - val_loss: 0.5961 - val_accuracy: 0.7902\n",
      "Epoch 11/20\n",
      "229/229 [==============================] - 1s 5ms/step - loss: 0.1476 - accuracy: 0.9409 - val_loss: 0.6354 - val_accuracy: 0.7856\n",
      "Epoch 12/20\n",
      "229/229 [==============================] - 1s 5ms/step - loss: 0.1325 - accuracy: 0.9469 - val_loss: 0.6819 - val_accuracy: 0.7865\n",
      "Epoch 13/20\n",
      "229/229 [==============================] - 1s 5ms/step - loss: 0.1213 - accuracy: 0.9513 - val_loss: 0.7322 - val_accuracy: 0.7835\n",
      "Epoch 14/20\n",
      "229/229 [==============================] - 1s 5ms/step - loss: 0.1113 - accuracy: 0.9554 - val_loss: 0.7872 - val_accuracy: 0.7826\n",
      "Epoch 15/20\n",
      "229/229 [==============================] - 1s 5ms/step - loss: 0.1046 - accuracy: 0.9579 - val_loss: 0.8255 - val_accuracy: 0.7817\n",
      "Epoch 16/20\n",
      "229/229 [==============================] - 1s 5ms/step - loss: 0.0980 - accuracy: 0.9605 - val_loss: 0.8804 - val_accuracy: 0.7770\n",
      "Epoch 17/20\n",
      "229/229 [==============================] - 1s 5ms/step - loss: 0.0934 - accuracy: 0.9615 - val_loss: 0.9276 - val_accuracy: 0.7767\n",
      "Epoch 18/20\n",
      "229/229 [==============================] - 1s 5ms/step - loss: 0.0889 - accuracy: 0.9634 - val_loss: 0.9757 - val_accuracy: 0.7772\n",
      "Epoch 19/20\n",
      "229/229 [==============================] - 1s 5ms/step - loss: 0.0857 - accuracy: 0.9642 - val_loss: 1.0058 - val_accuracy: 0.7764\n",
      "Epoch 20/20\n",
      "229/229 [==============================] - 1s 5ms/step - loss: 0.0831 - accuracy: 0.9643 - val_loss: 1.0507 - val_accuracy: 0.7755\n"
     ]
    }
   ],
   "source": [
    "Conv1D_model.compile(optimizer='adam', loss='binary_crossentropy', metrics=['accuracy'])\n",
    "Conv1D_history = Conv1D_model.fit(X_train, y_train, epochs = 20, batch_size=512, validation_data=(X_val, y_val), verbose=1)"
   ]
  },
  {
   "cell_type": "markdown",
   "id": "c0d0d5e0",
   "metadata": {},
   "source": [
    "### GlobalMaxPooling"
   ]
  },
  {
   "cell_type": "markdown",
   "id": "6868b7c5",
   "metadata": {},
   "source": [
    "#### 모델 설계"
   ]
  },
  {
   "cell_type": "code",
   "execution_count": 75,
   "id": "c16232e6",
   "metadata": {},
   "outputs": [
    {
     "name": "stdout",
     "output_type": "stream",
     "text": [
      "Model: \"sequential_12\"\n",
      "_________________________________________________________________\n",
      "Layer (type)                 Output Shape              Param #   \n",
      "=================================================================\n",
      "embedding_11 (Embedding)     (None, None, 16)          160000    \n",
      "_________________________________________________________________\n",
      "global_max_pooling1d_4 (Glob (None, 16)                0         \n",
      "_________________________________________________________________\n",
      "dense_22 (Dense)             (None, 8)                 136       \n",
      "_________________________________________________________________\n",
      "dense_23 (Dense)             (None, 1)                 9         \n",
      "=================================================================\n",
      "Total params: 160,145\n",
      "Trainable params: 160,145\n",
      "Non-trainable params: 0\n",
      "_________________________________________________________________\n"
     ]
    }
   ],
   "source": [
    "GMP_model = tf.keras.Sequential()\n",
    "GMP_model.add(tf.keras.layers.Embedding(vocab_size, word_vector_dim, input_shape = (None,)))\n",
    "GMP_model.add(tf.keras.layers.GlobalMaxPooling1D())\n",
    "GMP_model.add(tf.keras.layers.Dense(8, activation = 'relu'))\n",
    "GMP_model.add(tf.keras.layers.Dense(1, activation = 'sigmoid'))  \n",
    "\n",
    "GMP_model.summary()"
   ]
  },
  {
   "cell_type": "markdown",
   "id": "d09e245c",
   "metadata": {},
   "source": [
    "#### 훈련"
   ]
  },
  {
   "cell_type": "code",
   "execution_count": 76,
   "id": "25e82650",
   "metadata": {},
   "outputs": [
    {
     "name": "stdout",
     "output_type": "stream",
     "text": [
      "Epoch 1/10\n",
      "229/229 [==============================] - 1s 4ms/step - loss: 0.5952 - accuracy: 0.7466 - val_loss: 0.4367 - val_accuracy: 0.8152\n",
      "Epoch 2/10\n",
      "229/229 [==============================] - 1s 3ms/step - loss: 0.3782 - accuracy: 0.8391 - val_loss: 0.3589 - val_accuracy: 0.8416\n",
      "Epoch 3/10\n",
      "229/229 [==============================] - 1s 3ms/step - loss: 0.3248 - accuracy: 0.8630 - val_loss: 0.3479 - val_accuracy: 0.8476\n",
      "Epoch 4/10\n",
      "229/229 [==============================] - 1s 3ms/step - loss: 0.2968 - accuracy: 0.8773 - val_loss: 0.3482 - val_accuracy: 0.8496\n",
      "Epoch 5/10\n",
      "229/229 [==============================] - 1s 3ms/step - loss: 0.2763 - accuracy: 0.8872 - val_loss: 0.3523 - val_accuracy: 0.8504\n",
      "Epoch 6/10\n",
      "229/229 [==============================] - 1s 3ms/step - loss: 0.2595 - accuracy: 0.8949 - val_loss: 0.3598 - val_accuracy: 0.8500\n",
      "Epoch 7/10\n",
      "229/229 [==============================] - 1s 3ms/step - loss: 0.2450 - accuracy: 0.9023 - val_loss: 0.3671 - val_accuracy: 0.8485\n",
      "Epoch 8/10\n",
      "229/229 [==============================] - 1s 3ms/step - loss: 0.2322 - accuracy: 0.9085 - val_loss: 0.3771 - val_accuracy: 0.8458\n",
      "Epoch 9/10\n",
      "229/229 [==============================] - 1s 3ms/step - loss: 0.2205 - accuracy: 0.9138 - val_loss: 0.3886 - val_accuracy: 0.8431\n",
      "Epoch 10/10\n",
      "229/229 [==============================] - 1s 3ms/step - loss: 0.2100 - accuracy: 0.9186 - val_loss: 0.4006 - val_accuracy: 0.8409\n"
     ]
    }
   ],
   "source": [
    "GMP_model.compile(optimizer='adam', loss='binary_crossentropy', metrics=['accuracy'])\n",
    "GMP_history = GMP_model.fit(X_train, y_train, epochs = 10, batch_size=512, validation_data=(X_val, y_val), verbose=1)"
   ]
  },
  {
   "cell_type": "markdown",
   "id": "630bc9ad",
   "metadata": {},
   "source": [
    "## Evaluation"
   ]
  },
  {
   "cell_type": "markdown",
   "id": "00772155",
   "metadata": {},
   "source": [
    "### 오차와 정확도"
   ]
  },
  {
   "cell_type": "code",
   "execution_count": 77,
   "id": "cd3190a2",
   "metadata": {},
   "outputs": [],
   "source": [
    "# 그래프를 그리는 함수\n",
    "def show_plt(model_history):\n",
    "    history_dict = model_history.history\n",
    "    acc = history_dict['accuracy']\n",
    "    val_acc = history_dict['val_accuracy']\n",
    "    loss = history_dict['loss']\n",
    "    val_loss = history_dict['val_loss']\n",
    "    epochs = range(1, len(acc) + 1)\n",
    "\n",
    "    fig, ax = plt.subplots(1, 2, figsize = (12, 4))\n",
    "\n",
    "    ax[0].plot(epochs, loss, 'bo', label='Training loss')\n",
    "    ax[0].plot(epochs, val_loss, 'b', label='Validation loss')\n",
    "    ax[0].set_title('Training and validation loss')\n",
    "    ax[0].set_xlabel('Epochs')\n",
    "    ax[0].set_ylabel('Loss')\n",
    "    ax[0].set_ylim(0, 1.1)\n",
    "    ax[0].legend()\n",
    "\n",
    "    ax[1].plot(epochs, acc, 'bo', label='Training acc')\n",
    "    ax[1].plot(epochs, val_acc, 'b', label='Validation acc')\n",
    "    ax[1].set_title('Training and validation accuracy')\n",
    "    ax[1].set_xlabel('Epochs')\n",
    "    ax[1].set_ylabel('Accuracy')\n",
    "    ax[1].set_ylim(0.7, 1.0)\n",
    "    ax[1].legend()\n",
    "\n",
    "    plt.show()"
   ]
  },
  {
   "cell_type": "markdown",
   "id": "d1b26bc1",
   "metadata": {},
   "source": [
    "#### LSTM"
   ]
  },
  {
   "cell_type": "code",
   "execution_count": 78,
   "id": "e9aa86f1",
   "metadata": {},
   "outputs": [
    {
     "data": {
      "image/png": "[encoded data removed]",
      "text/plain": [
       "<Figure size 864x288 with 2 Axes>"
      ]
     },
     "metadata": {
      "needs_background": "light"
     },
     "output_type": "display_data"
    }
   ],
   "source": [
    "show_plt(LSTM_history)"
   ]
  },
  {
   "cell_type": "markdown",
   "id": "31aaea5f",
   "metadata": {},
   "source": [
    "* validation loss, acc가 training loss, acc와 차이가 큼\n",
    "* validation loss가 증가 추세"
   ]
  },
  {
   "cell_type": "markdown",
   "id": "bd7d010f",
   "metadata": {},
   "source": [
    "#### Conv1D"
   ]
  },
  {
   "cell_type": "code",
   "execution_count": 79,
   "id": "9a5cff15",
   "metadata": {},
   "outputs": [
    {
     "data": {
      "image/png": "[encoded data removed]",
      "text/plain": [
       "<Figure size 864x288 with 2 Axes>"
      ]
     },
     "metadata": {
      "needs_background": "light"
     },
     "output_type": "display_data"
    }
   ],
   "source": [
    "show_plt(Conv1D_history)"
   ]
  },
  {
   "cell_type": "markdown",
   "id": "efd64d59",
   "metadata": {},
   "source": [
    "* validation loss, acc가 training loss, acc와 격차가 커지는 경향\n",
    "* validation loss가 증가 추세"
   ]
  },
  {
   "cell_type": "markdown",
   "id": "d4181a97",
   "metadata": {},
   "source": [
    "#### GlobalMaxPooling"
   ]
  },
  {
   "cell_type": "code",
   "execution_count": 80,
   "id": "d50be1cd",
   "metadata": {},
   "outputs": [
    {
     "data": {
      "image/png": "[encoded data removed]",
      "text/plain": [
       "<Figure size 864x288 with 2 Axes>"
      ]
     },
     "metadata": {
      "needs_background": "light"
     },
     "output_type": "display_data"
    }
   ],
   "source": [
    "show_plt(GMP_history)"
   ]
  },
  {
   "cell_type": "markdown",
   "id": "9a29cf02",
   "metadata": {},
   "source": [
    "* validation loss가 training loss와 격차가 커지는 경향\n",
    "* validation loss가 증가 추세\n",
    "* 세 모델 중 가장 안정적"
   ]
  },
  {
   "cell_type": "markdown",
   "id": "b1df1dd9",
   "metadata": {},
   "source": [
    "### 임베딩 분석 (유사단어)"
   ]
  },
  {
   "cell_type": "code",
   "execution_count": 81,
   "id": "a7174a13",
   "metadata": {},
   "outputs": [],
   "source": [
    "# 유사단어 보기 함수\n",
    "def check_wordvec(model):\n",
    "    embedding_layer = model.layers[0]\n",
    "    weights = embedding_layer.get_weights()[0]\n",
    "    \n",
    "    word2vec_file_path = os.getenv('HOME')+'/aiffel/sentiment_classification/data/word2vec.txt'\n",
    "    \n",
    "    f = open(word2vec_file_path, 'w')\n",
    "    f.write('{} {}\\n'.format(vocab_size-4, word_vector_dim))\n",
    "    vectors = model.get_weights()[0]\n",
    "    for i in range(4,vocab_size):\n",
    "        f.write('{} {}\\n'.format(index_to_word[i], ' '.join(map(str, list(vectors[i, :])))))\n",
    "    f.close()\n",
    "    \n",
    "    word_vectors = Word2VecKeyedVectors.load_word2vec_format(word2vec_file_path, binary=False)\n",
    "    \n",
    "    for i in [43, 60, 81]:\n",
    "        print(\"word:\", index_to_word[i])\n",
    "        print(\"result\")\n",
    "        print(word_vectors.similar_by_word(index_to_word[i]))\n",
    "        print()\n",
    "    "
   ]
  },
  {
   "cell_type": "markdown",
   "id": "6bdb6e35",
   "metadata": {},
   "source": [
    "#### LSTM"
   ]
  },
  {
   "cell_type": "code",
   "execution_count": 82,
   "id": "9db3076d",
   "metadata": {},
   "outputs": [
    {
     "name": "stdout",
     "output_type": "stream",
     "text": [
      "word: 연기\n",
      "result\n",
      "[('동화책', 0.8845469355583191), ('청순', 0.8457924127578735), ('특히', 0.8242980241775513), ('예기', 0.8215144276618958), ('니다', 0.8214177489280701), ('인상', 0.8194613456726074), ('전설', 0.8148647546768188), ('슬픈', 0.8136781454086304), ('마블', 0.8125299215316772), ('단연', 0.8088964223861694)]\n",
      "\n",
      "word: 드라마\n",
      "result\n",
      "[('ㅜㅜ', 0.8906786441802979), ('!!!', 0.8599756956100464), ('고요', 0.8398851752281189), ('무서움', 0.8358830213546753), ('정우성', 0.8278054594993591), ('나락', 0.8253262042999268), ('으실', 0.8246469497680664), ('참고', 0.8190872669219971), ('2006', 0.8187699317932129), ('슈퍼맨', 0.8170325756072998)]\n",
      "\n",
      "word: 재미\n",
      "result\n",
      "[('그리워', 0.903413712978363), ('십시오', 0.8518449664115906), ('오브', 0.8353012800216675), ('닿', 0.8314346075057983), ('느', 0.8154278993606567), ('절묘', 0.8084152936935425), ('들어가', 0.8073796629905701), ('of', 0.8064407110214233), ('똘똘', 0.8049975633621216), ('징', 0.8007650375366211)]\n",
      "\n"
     ]
    }
   ],
   "source": [
    "check_wordvec(LSTM_model)"
   ]
  },
  {
   "cell_type": "markdown",
   "id": "6ce88d42",
   "metadata": {},
   "source": [
    "- 유사한 단어도 있으나 대체로 유사하지 않음"
   ]
  },
  {
   "cell_type": "markdown",
   "id": "46c8919d",
   "metadata": {},
   "source": [
    "#### Conv1D"
   ]
  },
  {
   "cell_type": "code",
   "execution_count": 83,
   "id": "854e26fe",
   "metadata": {
    "scrolled": true
   },
   "outputs": [
    {
     "name": "stdout",
     "output_type": "stream",
     "text": [
      "word: 연기\n",
      "result\n",
      "[('움직인다', 0.8270346522331238), ('과', 0.8196890354156494), ('이뤄', 0.8060828447341919), ('닥치', 0.7919548153877258), ('아무튼', 0.7905275225639343), ('저런', 0.7783456444740295), ('창조', 0.7738627195358276), ('모두', 0.7736384868621826), ('프리퀄', 0.772047758102417), ('드니로', 0.7634190320968628)]\n",
      "\n",
      "word: 드라마\n",
      "result\n",
      "[('아동', 0.755155086517334), ('오', 0.7402740120887756), ('아시아', 0.7344199419021606), ('시급', 0.7217013239860535), ('도라에몽', 0.6820083260536194), ('어서', 0.6609355211257935), ('대결', 0.6595584154129028), ('꾼', 0.6564829349517822), ('해선', 0.6516584753990173), ('2013', 0.645388126373291)]\n",
      "\n",
      "word: 재미\n",
      "result\n",
      "[('박중훈', 0.8558659553527832), ('툭툭', 0.788077712059021), ('유', 0.775661051273346), ('임수정', 0.7701240181922913), ('겁나', 0.7550921440124512), ('엉뚱', 0.7407786250114441), ('리얼리티', 0.7384821176528931), ('브란도', 0.7337340116500854), ('농담', 0.7303959131240845), ('같', 0.723671555519104)]\n",
      "\n"
     ]
    }
   ],
   "source": [
    "check_wordvec(Conv1D_model)"
   ]
  },
  {
   "cell_type": "markdown",
   "id": "1faafb3c",
   "metadata": {},
   "source": [
    "- 유사한 단어도 있으나 대체로 유사하지 않음"
   ]
  },
  {
   "cell_type": "markdown",
   "id": "bb20f4a8",
   "metadata": {},
   "source": [
    "#### GlobalMaxPooling"
   ]
  },
  {
   "cell_type": "code",
   "execution_count": 84,
   "id": "7c0a94a0",
   "metadata": {},
   "outputs": [
    {
     "name": "stdout",
     "output_type": "stream",
     "text": [
      "word: 연기\n",
      "result\n",
      "[('내내', 0.9701261520385742), ('기대', 0.9686275124549866), ('터지', 0.9631402492523193), ('그대로', 0.9589839577674866), ('음', 0.9528669714927673), ('초심', 0.9513070583343506), ('완전', 0.9498735666275024), ('랑', 0.9494739174842834), ('어쩌구', 0.9441559314727783), ('나', 0.9438778162002563)]\n",
      "\n",
      "word: 드라마\n",
      "result\n",
      "[('선사', 0.9319007396697998), ('중', 0.9303934574127197), ('브래드', 0.9247533082962036), ('딘', 0.9226329326629639), ('했어요', 0.9183529615402222), ('는데', 0.9164761304855347), ('대요', 0.9028365612030029), ('스타일', 0.8997797966003418), ('냉소', 0.8970824480056763), ('개인', 0.8946462869644165)]\n",
      "\n",
      "word: 재미\n",
      "result\n",
      "[('버', 0.8239479660987854), ('아이디어', 0.7978070378303528), ('간간히', 0.786879301071167), ('치명', 0.7834739089012146), ('미국', 0.7793779373168945), ('모차르트', 0.7771815061569214), ('쥬라기', 0.77373206615448), ('여우', 0.7730121612548828), ('ㄷ', 0.7651939392089844), ('재', 0.7643573880195618)]\n",
      "\n"
     ]
    }
   ],
   "source": [
    "check_wordvec(GMP_model)"
   ]
  },
  {
   "cell_type": "markdown",
   "id": "d9518fa0",
   "metadata": {},
   "source": [
    "- 유사성을 찾을 수 없음"
   ]
  },
  {
   "cell_type": "markdown",
   "id": "8cf4268e",
   "metadata": {},
   "source": [
    "## Tranfer Learning"
   ]
  },
  {
   "cell_type": "markdown",
   "id": "84f12213",
   "metadata": {},
   "source": [
    "### Word2Vec"
   ]
  },
  {
   "cell_type": "code",
   "execution_count": 85,
   "id": "9635a36b",
   "metadata": {
    "scrolled": true
   },
   "outputs": [],
   "source": [
    "word2vec_path = os.getenv('HOME') + '/aiffel/sentiment_classification/data/ko.bin'\n",
    "word2vec = gensim.models.Word2Vec.load(word2vec_path)"
   ]
  },
  {
   "cell_type": "code",
   "execution_count": 86,
   "id": "79fad46a",
   "metadata": {},
   "outputs": [
    {
     "name": "stderr",
     "output_type": "stream",
     "text": [
      "/tmp/ipykernel_1488/2448617487.py:6: DeprecationWarning: Call to deprecated `__contains__` (Method will be removed in 4.0.0, use self.wv.__contains__() instead).\n",
      "  if index_to_word[i] in word2vec:\n",
      "/tmp/ipykernel_1488/2448617487.py:7: DeprecationWarning: Call to deprecated `__getitem__` (Method will be removed in 4.0.0, use self.wv.__getitem__() instead).\n",
      "  embedding_matrix[i] = word2vec[index_to_word[i]]\n"
     ]
    }
   ],
   "source": [
    "vocab_size = 10000\n",
    "word_vector_dim = 200\n",
    "embedding_matrix = np.random.rand(vocab_size, word_vector_dim)\n",
    "\n",
    "for i in range(4,vocab_size):\n",
    "    if index_to_word[i] in word2vec:\n",
    "        embedding_matrix[i] = word2vec[index_to_word[i]]"
   ]
  },
  {
   "cell_type": "markdown",
   "id": "38b9a2c2",
   "metadata": {},
   "source": [
    "### Model"
   ]
  },
  {
   "cell_type": "code",
   "execution_count": 87,
   "id": "d39a0dc2",
   "metadata": {},
   "outputs": [
    {
     "name": "stdout",
     "output_type": "stream",
     "text": [
      "Model: \"sequential_13\"\n",
      "_________________________________________________________________\n",
      "Layer (type)                 Output Shape              Param #   \n",
      "=================================================================\n",
      "embedding_12 (Embedding)     (None, 43, 200)           2000000   \n",
      "_________________________________________________________________\n",
      "lstm_7 (LSTM)                (None, 512)               1460224   \n",
      "_________________________________________________________________\n",
      "dense_24 (Dense)             (None, 512)               262656    \n",
      "_________________________________________________________________\n",
      "dense_25 (Dense)             (None, 1)                 513       \n",
      "=================================================================\n",
      "Total params: 3,723,393\n",
      "Trainable params: 3,723,393\n",
      "Non-trainable params: 0\n",
      "_________________________________________________________________\n"
     ]
    }
   ],
   "source": [
    "model = tf.keras.Sequential()\n",
    "model.add(tf.keras.layers.Embedding(vocab_size, word_vector_dim, embeddings_initializer=Constant(embedding_matrix), \\\n",
    "                                    input_length=maxlen, trainable=True))   \n",
    "model.add(tf.keras.layers.LSTM(512))\n",
    "model.add(tf.keras.layers.Dense(512, activation = 'relu'))\n",
    "model.add(tf.keras.layers.Dense(1, activation = 'sigmoid')) \n",
    "\n",
    "model.summary()"
   ]
  },
  {
   "cell_type": "code",
   "execution_count": 88,
   "id": "df3fe415",
   "metadata": {},
   "outputs": [
    {
     "name": "stdout",
     "output_type": "stream",
     "text": [
      "Epoch 1/5\n",
      "229/229 [==============================] - 17s 67ms/step - loss: 0.4418 - accuracy: 0.7905 - val_loss: 0.3478 - val_accuracy: 0.8476\n",
      "Epoch 2/5\n",
      "229/229 [==============================] - 15s 66ms/step - loss: 0.3149 - accuracy: 0.8634 - val_loss: 0.3258 - val_accuracy: 0.8594\n",
      "Epoch 3/5\n",
      "229/229 [==============================] - 15s 66ms/step - loss: 0.2662 - accuracy: 0.8878 - val_loss: 0.3306 - val_accuracy: 0.8628\n",
      "Epoch 4/5\n",
      "229/229 [==============================] - 15s 66ms/step - loss: 0.2260 - accuracy: 0.9059 - val_loss: 0.3194 - val_accuracy: 0.8679\n",
      "Epoch 5/5\n",
      "229/229 [==============================] - 15s 66ms/step - loss: 0.1819 - accuracy: 0.9256 - val_loss: 0.3539 - val_accuracy: 0.8633\n"
     ]
    }
   ],
   "source": [
    "model.compile(optimizer='adam', loss='binary_crossentropy', metrics=['accuracy'])\n",
    "history = model.fit(X_train, y_train, epochs = 5, batch_size=512, validation_data=(X_val, y_val), verbose=1)"
   ]
  },
  {
   "cell_type": "markdown",
   "id": "6edb74bb",
   "metadata": {},
   "source": [
    "### 오차와 정확도"
   ]
  },
  {
   "cell_type": "code",
   "execution_count": 89,
   "id": "6795e3ee",
   "metadata": {},
   "outputs": [
    {
     "data": {
      "image/png": "[encoded data removed]",
      "text/plain": [
       "<Figure size 864x288 with 2 Axes>"
      ]
     },
     "metadata": {
      "needs_background": "light"
     },
     "output_type": "display_data"
    }
   ],
   "source": [
    "show_plt(history)"
   ]
  },
  {
   "cell_type": "markdown",
   "id": "8df79b48",
   "metadata": {},
   "source": [
    "### 임베딩 분석 (유사단어)"
   ]
  },
  {
   "cell_type": "code",
   "execution_count": 90,
   "id": "35e25a0c",
   "metadata": {},
   "outputs": [
    {
     "name": "stdout",
     "output_type": "stream",
     "text": [
      "word: 연기\n",
      "result\n",
      "[('연출', 0.5079755783081055), ('주연', 0.4581282436847687), ('출연', 0.4572628140449524), ('캐스팅', 0.4369467794895172), ('조연', 0.42432963848114014), ('단역', 0.4139786958694458), ('냄새', 0.4119061529636383), ('패러디', 0.40646904706954956), ('배역', 0.4011685252189636), ('성우', 0.38346096873283386)]\n",
      "\n",
      "word: 드라마\n",
      "result\n",
      "[('시트콤', 0.7960419654846191), ('다큐멘터리', 0.7404242753982544), ('코미디', 0.7279763221740723), ('애니메이션', 0.707871675491333), ('영화', 0.7033178806304932), ('연속극', 0.7019622325897217), ('사극', 0.6679286956787109), ('뮤지컬', 0.662837028503418), ('방영', 0.6509648561477661), ('시대극', 0.6495740413665771)]\n",
      "\n",
      "word: 재미\n",
      "result\n",
      "[('취미', 0.586220920085907), ('매력', 0.5419119000434875), ('유머', 0.522088885307312), ('흥미', 0.5155242681503296), ('향수', 0.510567307472229), ('즐거움', 0.4954865574836731), ('정서', 0.47133198380470276), ('솜씨', 0.46501263976097107), ('외모', 0.4637637734413147), ('몸매', 0.45255500078201294)]\n",
      "\n"
     ]
    }
   ],
   "source": [
    "check_wordvec(model)"
   ]
  },
  {
   "cell_type": "markdown",
   "id": "b1ed5024",
   "metadata": {},
   "source": [
    "### 최종 결과"
   ]
  },
  {
   "cell_type": "code",
   "execution_count": 92,
   "id": "6d1f5670",
   "metadata": {},
   "outputs": [
    {
     "name": "stdout",
     "output_type": "stream",
     "text": [
      "1537/1537 - 5s - loss: 0.3602 - accuracy: 0.8596\n",
      "[0.3601963222026825, 0.8596334457397461]\n"
     ]
    }
   ],
   "source": [
    "results = model.evaluate(X_test,  y_test, verbose=2)\n",
    "print(results)"
   ]
  },
  {
   "cell_type": "markdown",
   "id": "1afda6e8",
   "metadata": {},
   "source": [
    "## 프로젝트 평가 및 한계점"
   ]
  },
  {
   "cell_type": "markdown",
   "id": "459fe0c4",
   "metadata": {},
   "source": [
    "- 테스트 결과<br/>\n",
    "검증 데이터를 통해 파악한 모델 성능과 유사한 정확도(85% 즈음)을 얻었다.<br/>"
   ]
  },
  {
   "cell_type": "markdown",
   "id": "9122dc3f",
   "metadata": {},
   "source": [
    "- 모델 선정<br/>\n",
    "모델별로 레이어 수, optimizer 등 하이퍼파라미터를 수정하여 정확도를 더욱 올리기 위해 시도했다.<br/>\n",
    "하지만 유의미한 차이를 발견하지 못했다.<br/>\n",
    "그나마 가장 안정적인 모습을 보여줬던 GlobalMaxPooling layer 하나를 사용한 모델을 채택했다.<br/>"
   ]
  },
  {
   "cell_type": "markdown",
   "id": "607db6b8",
   "metadata": {},
   "source": [
    "- word vector 구축시 개선사항<br/>\n",
    "직접 구현한 단어 사전의 경우 '이다', '있다' 등 특별한 의미를 발견할 수 없는 단어들이 지배적이었다.<br/>\n",
    "이런 케이스는 stopword를 보완함으로써 개선할 수 있으리라 추정한다.<br/>\n",
    "현재 공유 자료로 얻을 수 있는 한국어 stopword는 구어체나 sns에서 흔히 사용하는 은어를 고려하지 않아 효과적이지 못했다.<br/>"
   ]
  },
  {
   "cell_type": "markdown",
   "id": "ceaf30b2",
   "metadata": {},
   "source": [
    "- 직접 구현한 단어 사전 vs Word2Vec<br/>\n",
    "최초의 직접 구현한 단어 리스트를 가지고 모델을 컴파일 했을 때, 검증 데이터로 평가한 최고 정확도가 다음과 같다.<br/>\n",
    "1. LSTM : 85.43\n",
    "2. Conv1D: 81.07\n",
    "3. GlobalMaxPooling: 85.04\n",
    "<br/>\n",
    "유사 단어(임베딩 분석) 부분을 Word2Vec과 직접 구현한 단어 리스트를 비교해보면, 눈에 띄게 퀄리티가 좋았다.<br/>\n",
    "그럼에도 불구하고, 해당 데이터를 가지고 모델을 구축했을 때 검증 데이터로 평가한 최고 정확도는 86.79.<br/>\n",
    "데이터가 좋아진 것치고는 아쉬운 성적이다.<br/>"
   ]
  }
 ],
 "metadata": {
  "kernelspec": {
   "display_name": "Python 3 (ipykernel)",
   "language": "python",
   "name": "python3"
  },
  "language_info": {
   "codemirror_mode": {
    "name": "ipython",
    "version": 3
   },
   "file_extension": ".py",
   "mimetype": "text/x-python",
   "name": "python",
   "nbconvert_exporter": "python",
   "pygments_lexer": "ipython3",
   "version": "3.9.7"
  }
 },
 "nbformat": 4,
 "nbformat_minor": 5
}
