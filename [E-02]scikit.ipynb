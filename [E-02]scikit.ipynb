{
 "cells": [
  {
   "cell_type": "code",
   "execution_count": 136,
   "id": "d3ee15c2",
   "metadata": {},
   "outputs": [],
   "source": [
    "from sklearn.model_selection import train_test_split # 데이터 분리 (train/test)\n",
    "from sklearn.tree import DecisionTreeClassifier # 의사결정나무\n",
    "from sklearn.ensemble import RandomForestClassifier # 랜덤포레스트\n",
    "from sklearn import svm # SVM\n",
    "from sklearn.linear_model import SGDClassifier # SGD\n",
    "from sklearn.linear_model import LogisticRegression # 로지스틱 회귀\n",
    "from sklearn.metrics import classification_report # 결과 요약\n",
    "from sklearn.metrics import accuracy_score # 정확성\n",
    "from sklearn.metrics import recall_score # 재현율"
   ]
  },
  {
   "cell_type": "markdown",
   "id": "b70a867c",
   "metadata": {},
   "source": [
    "### 손글씨 분류 (0~9)"
   ]
  },
  {
   "cell_type": "markdown",
   "id": "2b48afde",
   "metadata": {},
   "source": [
    "##### 데이터 준비 및 이해"
   ]
  },
  {
   "cell_type": "code",
   "execution_count": 137,
   "id": "afdf4258",
   "metadata": {},
   "outputs": [],
   "source": [
    "from sklearn.datasets import load_digits"
   ]
  },
  {
   "cell_type": "code",
   "execution_count": 138,
   "id": "2f421b1d",
   "metadata": {},
   "outputs": [
    {
     "name": "stdout",
     "output_type": "stream",
     "text": [
      "digits 구성: ['DESCR', 'data', 'feature_names', 'frame', 'images', 'target', 'target_names']\n",
      "feature shape: (1797, 64)\n",
      "feature 구성: 8x8 pixels\n",
      "target 구성: [0 1 2 3 4 5 6 7 8 9]\n",
      "-----------------------------------------\n",
      "미리보기\n"
     ]
    },
    {
     "data": {
      "image/png": "iVBORw0KGgoAAAANSUhEUgAAAOcAAADnCAYAAADl9EEgAAAAOXRFWHRTb2Z0d2FyZQBNYXRwbG90bGliIHZlcnNpb24zLjQuMywgaHR0cHM6Ly9tYXRwbG90bGliLm9yZy/MnkTPAAAACXBIWXMAAAsTAAALEwEAmpwYAAADwklEQVR4nO3dQVFjQQBF0ekpBCABB8QBOEACSEACOMBCHERCUABxgAQc9BhIqNnQucOcs/y9eGFxq6vY9Jhz/gJ6fp/7BwDHiROixAlR4oQocULUxVeHY4wf+a/c/X6/dO/m5mbp3irPz8/Ltp6enpZtrTbnHMe+uzkhSpwQJU6IEidEiROixAlR4oQocUKUOCFKnBAlTogSJ0SJE6LECVHihChxQpQ4IUqcECVOiBInRIkTosQJUeKEKHFClDghSpwQ9eVzDCttNptlW6ufRzgcDsu2drvdsq23t7dlW/8jNydEiROixAlR4oQocUKUOCFKnBAlTogSJ0SJE6LECVHihChxQpQ4IUqcECVOiBInRIkTosQJUeKEKHFClDghSpwQJU6IEidEiROiMs8xfH5+nvsnfJuHh4dlW+/v78u2+F5uTogSJ0SJE6LECVHihChxQpQ4IUqcECVOiBInRIkTosQJUeKEKHFClDghSpwQJU6IEidEiROixAlR4oQocUKUOCFKnBAlTogSJ0SJE6LGnPP04RinD/9hX/3N3+FwOCzb2u/3y7YeHx+Xbf1kc85x7LubE6LECVHihChxQpQ4IUqcECVOiBInRIkTosQJUeKEKHFClDghSpwQJU6IEidEiROixAlR4oQocUKUOCFKnBAlTogSJ0SJE6LECVEX5/4B57Ddbpfu3d/fL9u6vr5etvXx8bFs6+XlZdlWhZsTosQJUeKEKHFClDghSpwQJU6IEidEiROixAlR4oQocUKUOCFKnBAlTogSJ0SJE6LECVHihChxQpQ4IUqcECVOiBInRIkTosQJUWPOefpwjNOH/LXLy8tlWyufLdhsNj9ya7U55zj23c0JUeKEKHFClDghSpwQJU6IEidEiROixAlR4oQocUKUOCFKnBAlTogSJ0SJE6LECVHihChxQpQ4IUqcECVOiBInRIkTosQJUeKEqItz/4BzuLq6Wrq38omEu7u7ZVvb7XbZ1v/IzQlR4oQocUKUOCFKnBAlTogSJ0SJE6LECVHihChxQpQ4IUqcECVOiBInRIkTosQJUeKEKHFClDghSpwQJU6IEidEiROixAlR4oQocULUmHOePhzj9OE/bLfbLd1b+X7J6+vrsq3b29tlWz/ZnHMc++7mhChxQpQ4IUqcECVOiBInRIkTosQJUeKEKHFClDghSpwQJU6IEidEiROixAlR4oQocUKUOCFKnBAlTogSJ0SJE6LECVHihChxQtSXzzEA5+PmhChxQpQ4IUqcECVOiBInRP0BDm1UH0tiIA0AAAAASUVORK5CYII=\n",
      "text/plain": [
       "<Figure size 432x288 with 1 Axes>"
      ]
     },
     "metadata": {
      "needs_background": "light"
     },
     "output_type": "display_data"
    },
    {
     "name": "stdout",
     "output_type": "stream",
     "text": [
      "label: 5\n"
     ]
    }
   ],
   "source": [
    "import matplotlib.pyplot as plt\n",
    "%matplotlib inline\n",
    "\n",
    "digits = load_digits() # 데이터 로딩\n",
    "digits_data = digits.data # 데이터 feature 변수에 담아 저장\n",
    "digits_label = digits.target # 데이터 label(target) 변수에 담아 저장\n",
    "\n",
    "# 데이터 세부사항\n",
    "print(\"digits 구성:\", dir(digits))\n",
    "print(\"feature shape:\", digits_data.shape)\n",
    "print(\"feature 구성: 8x8 pixels\")\n",
    "print(\"target 구성:\", digits.target_names)\n",
    "print(\"-----------------------------------------\")\n",
    "print(\"미리보기\")\n",
    "plt.imshow(digits.data[102].reshape(8, 8), cmap = 'gray')\n",
    "plt.axis('off')\n",
    "plt.show()\n",
    "print(\"label:\", digits_label[102])"
   ]
  },
  {
   "cell_type": "code",
   "execution_count": null,
   "id": "3fb63c9a",
   "metadata": {},
   "outputs": [],
   "source": [
    "print(digits.DESCR) # 실행 시 데이터 Describe"
   ]
  },
  {
   "cell_type": "markdown",
   "id": "84376f7a",
   "metadata": {},
   "source": [
    "##### 데이터 분리 (학습용 / 시험용)"
   ]
  },
  {
   "cell_type": "code",
   "execution_count": 140,
   "id": "644db894",
   "metadata": {},
   "outputs": [],
   "source": [
    "x_train, x_test, y_train, y_test = train_test_split(digits_data, digits_label, test_size = 0.2, random_state = 24)"
   ]
  },
  {
   "cell_type": "markdown",
   "id": "bfd9eb0f",
   "metadata": {},
   "source": [
    "##### 다양한 모델 실습"
   ]
  },
  {
   "cell_type": "code",
   "execution_count": 168,
   "id": "3b8b36c4",
   "metadata": {},
   "outputs": [],
   "source": [
    "# 의사결정나무\n",
    "decision_tree = DecisionTreeClassifier(random_state = 48)\n",
    "decision_tree.fit(x_train, y_train)\n",
    "y_pred_decision_tree = decision_tree.predict(x_test)\n",
    "\n",
    "\n",
    "# 랜덤포레스트\n",
    "random_forest = RandomForestClassifier(random_state = 25)\n",
    "random_forest.fit(x_train, y_train)\n",
    "y_pred_random_forest = random_forest.predict(x_test)\n",
    "\n",
    "\n",
    "# SVM\n",
    "svm_model = svm.SVC()\n",
    "svm_model.fit(x_train, y_train)\n",
    "y_pred_svm = svm_model.predict(x_test)\n",
    "\n",
    "\n",
    "# SGD\n",
    "sgd_model = SGDClassifier()\n",
    "sgd_model.fit(x_train, y_train)\n",
    "y_pred_sgd = sgd_model.predict(x_test)\n",
    "\n",
    "\n",
    "# 로지스틱 회귀\n",
    "logistic_regression = LogisticRegression(solver = 'lbfgs', max_iter = 3000)\n",
    "logistic_regression.fit(x_train, y_train)\n",
    "y_pred_logistic_regression = logistic_regression.predict(x_test)"
   ]
  },
  {
   "cell_type": "markdown",
   "id": "c9d33cf4",
   "metadata": {},
   "source": [
    "##### 다양한 모델 결과 평가"
   ]
  },
  {
   "cell_type": "code",
   "execution_count": 174,
   "id": "34b50f92",
   "metadata": {},
   "outputs": [
    {
     "name": "stdout",
     "output_type": "stream",
     "text": [
      "모델 성능 평가 - Accuracy\n",
      "\n",
      "1. 로지스틱 회귀: 0.974\n",
      "2. 랜덤포레스트: 0.965\n",
      "3. SVM: 0.956\n",
      "4. SGD: 0.947\n",
      "5. 의사결정나무: 0.939\n",
      "-----------------------------------------------------\n",
      "\n",
      "결과 세부사항\n",
      "\n",
      "로지스틱 회귀\n",
      "              precision    recall  f1-score   support\n",
      "\n",
      "           0       0.97      0.95      0.96        39\n",
      "           1       0.97      0.99      0.98        75\n",
      "\n",
      "    accuracy                           0.97       114\n",
      "   macro avg       0.97      0.97      0.97       114\n",
      "weighted avg       0.97      0.97      0.97       114\n",
      "\n",
      "\n",
      "랜덤포레스트\n",
      "              precision    recall  f1-score   support\n",
      "\n",
      "           0       0.95      0.95      0.95        39\n",
      "           1       0.97      0.97      0.97        75\n",
      "\n",
      "    accuracy                           0.96       114\n",
      "   macro avg       0.96      0.96      0.96       114\n",
      "weighted avg       0.96      0.96      0.96       114\n",
      "\n",
      "\n",
      "SVM (Support Vector Machine)\n",
      "              precision    recall  f1-score   support\n",
      "\n",
      "           0       0.95      0.92      0.94        39\n",
      "           1       0.96      0.97      0.97        75\n",
      "\n",
      "    accuracy                           0.96       114\n",
      "   macro avg       0.95      0.95      0.95       114\n",
      "weighted avg       0.96      0.96      0.96       114\n",
      "\n",
      "\n",
      "SGD (Stochastic Gradient Descent Classifier)\n",
      "              precision    recall  f1-score   support\n",
      "\n",
      "           0       1.00      0.85      0.92        39\n",
      "           1       0.93      1.00      0.96        75\n",
      "\n",
      "    accuracy                           0.95       114\n",
      "   macro avg       0.96      0.92      0.94       114\n",
      "weighted avg       0.95      0.95      0.95       114\n",
      "\n",
      "\n",
      "의사결정나무\n",
      "              precision    recall  f1-score   support\n",
      "\n",
      "           0       0.88      0.95      0.91        39\n",
      "           1       0.97      0.93      0.95        75\n",
      "\n",
      "    accuracy                           0.94       114\n",
      "   macro avg       0.93      0.94      0.93       114\n",
      "weighted avg       0.94      0.94      0.94       114\n",
      "\n"
     ]
    }
   ],
   "source": [
    " # 0~9 각 요소가 모두 동일한 중요도를 가지므로 별도의 우선 순위가 없음\n",
    " # 따라서 정확도를 기준으로 모델의 성능을 평가\n",
    "print(\"모델 성능 평가 - Accuracy\\n\")\n",
    "print(\"1. 로지스틱 회귀:\", round(accuracy_score(y_test, y_pred_logistic_regression), 3))\n",
    "print(\"2. 랜덤포레스트:\", round(accuracy_score(y_test, y_pred_random_forest), 3))\n",
    "print(\"3. SVM:\", round(accuracy_score(y_test, y_pred_svm), 3))\n",
    "print(\"4. SGD:\", round(accuracy_score(y_test, y_pred_sgd), 3))\n",
    "print(\"5. 의사결정나무:\", round(accuracy_score(y_test, y_pred_decision_tree), 3))\n",
    "print(\"-----------------------------------------------------\")\n",
    "print(\"\\n결과 세부사항\")\n",
    "print(\"\\n로지스틱 회귀\")\n",
    "print(classification_report(y_test, y_pred_logistic_regression))\n",
    "print(\"\\n랜덤포레스트\")\n",
    "print(classification_report(y_test, y_pred_random_forest))\n",
    "print(\"\\nSVM (Support Vector Machine)\")\n",
    "print(classification_report(y_test, y_pred_svm))\n",
    "print(\"\\nSGD (Stochastic Gradient Descent Classifier)\")\n",
    "print(classification_report(y_test, y_pred_sgd))\n",
    "print(\"\\n의사결정나무\")\n",
    "print(classification_report(y_test, y_pred_decision_tree))"
   ]
  },
  {
   "cell_type": "markdown",
   "id": "fd2df791",
   "metadata": {},
   "source": [
    "### 와인 종류 분류"
   ]
  },
  {
   "cell_type": "markdown",
   "id": "a14e9542",
   "metadata": {},
   "source": [
    "##### 데이터 준비 및 이해"
   ]
  },
  {
   "cell_type": "code",
   "execution_count": 143,
   "id": "76a088e5",
   "metadata": {},
   "outputs": [],
   "source": [
    "from sklearn.datasets import load_wine"
   ]
  },
  {
   "cell_type": "code",
   "execution_count": 144,
   "id": "52c8c56c",
   "metadata": {},
   "outputs": [
    {
     "name": "stdout",
     "output_type": "stream",
     "text": [
      "wine 구성: ['DESCR', 'data', 'feature_names', 'frame', 'images', 'target', 'target_names']\n",
      "feature shape: (178, 13)\n",
      "feature 구성: ['alcohol', 'malic_acid', 'ash', 'alcalinity_of_ash', 'magnesium', 'total_phenols', 'flavanoids', 'nonflavanoid_phenols', 'proanthocyanins', 'color_intensity', 'hue', 'od280/od315_of_diluted_wines', 'proline']\n",
      "target 구성: ['class_0' 'class_1' 'class_2']\n",
      "-----------------------------------------\n",
      "미리보기\n",
      "feature: [1.234e+01 2.450e+00 2.460e+00 2.100e+01 9.800e+01 2.560e+00 2.110e+00\n",
      " 3.400e-01 1.310e+00 2.800e+00 8.000e-01 3.380e+00 4.380e+02]\n",
      "label: 1\n"
     ]
    }
   ],
   "source": [
    "wine = load_wine() # 데이터 로딩\n",
    "wine_data = wine.data # 데이터 feature 변수에 담아 저장\n",
    "wine_label = wine.target # 데이터 label(target) 변수에 담아 저장\n",
    "\n",
    "# 데이터 세부사항\n",
    "print(\"wine 구성:\", dir(digits))\n",
    "print(\"feature shape:\", wine_data.shape)\n",
    "print(\"feature 구성:\", wine.feature_names)\n",
    "print(\"target 구성:\", wine.target_names)\n",
    "print(\"-----------------------------------------\")\n",
    "print(\"미리보기\")\n",
    "print(\"feature:\", wine_data[102])\n",
    "print(\"label:\", wine_label[102])"
   ]
  },
  {
   "cell_type": "code",
   "execution_count": null,
   "id": "711fbe3d",
   "metadata": {},
   "outputs": [],
   "source": [
    "print(wine.DESCR) # 실행 시 데이터 Describe"
   ]
  },
  {
   "cell_type": "markdown",
   "id": "fbb43bde",
   "metadata": {},
   "source": [
    "##### 데이터 분리 (학습용 / 시험용)"
   ]
  },
  {
   "cell_type": "code",
   "execution_count": 146,
   "id": "2f199e8e",
   "metadata": {},
   "outputs": [],
   "source": [
    "x_train, x_test, y_train, y_test = train_test_split(wine_data, wine_label, test_size = 0.2, random_state = 14)"
   ]
  },
  {
   "cell_type": "markdown",
   "id": "fd4e7723",
   "metadata": {},
   "source": [
    "##### 다양한 모델 실습"
   ]
  },
  {
   "cell_type": "code",
   "execution_count": 164,
   "id": "dfc77539",
   "metadata": {},
   "outputs": [],
   "source": [
    "# 의사결정나무\n",
    "decision_tree = DecisionTreeClassifier(random_state = 18)\n",
    "decision_tree.fit(x_train, y_train)\n",
    "y_pred_decision_tree = decision_tree.predict(x_test)\n",
    "\n",
    "\n",
    "# 랜덤포레스트\n",
    "random_forest = RandomForestClassifier(random_state = 41)\n",
    "random_forest.fit(x_train, y_train)\n",
    "y_pred_random_forest = random_forest.predict(x_test)\n",
    "\n",
    "\n",
    "# SVM\n",
    "svm_model = svm.SVC()\n",
    "svm_model.fit(x_train, y_train)\n",
    "y_pred_svm = svm_model.predict(x_test)\n",
    "\n",
    "\n",
    "# SGD\n",
    "sgd_model = SGDClassifier()\n",
    "sgd_model.fit(x_train, y_train)\n",
    "y_pred_sgd = sgd_model.predict(x_test)\n",
    "\n",
    "\n",
    "# 로지스틱 회귀\n",
    "logistic_regression = LogisticRegression(solver = 'lbfgs', max_iter = 3000)\n",
    "logistic_regression.fit(x_train, y_train)\n",
    "y_pred_logistic_regression = logistic_regression.predict(x_test)"
   ]
  },
  {
   "cell_type": "markdown",
   "id": "277a444f",
   "metadata": {},
   "source": [
    "##### 다양한 모델 결과 평가"
   ]
  },
  {
   "cell_type": "code",
   "execution_count": 171,
   "id": "580149fd",
   "metadata": {},
   "outputs": [
    {
     "name": "stdout",
     "output_type": "stream",
     "text": [
      "모델 성능 평가 - Accuracy\n",
      "\n",
      "1. 로지스틱 회귀: 0.974\n",
      "2. 랜덤포레스트: 0.965\n",
      "3. SVM: 0.956\n",
      "4. SGD: 0.947\n",
      "5. 의사결정나무: 0.939\n",
      "-----------------------------------------------------\n",
      "\n",
      "결과 세부사항\n",
      "\n",
      "로지스틱 회귀\n",
      "              precision    recall  f1-score   support\n",
      "\n",
      "           0       0.97      0.95      0.96        39\n",
      "           1       0.97      0.99      0.98        75\n",
      "\n",
      "    accuracy                           0.97       114\n",
      "   macro avg       0.97      0.97      0.97       114\n",
      "weighted avg       0.97      0.97      0.97       114\n",
      "\n",
      "\n",
      "랜덤포레스트\n",
      "              precision    recall  f1-score   support\n",
      "\n",
      "           0       0.95      0.95      0.95        39\n",
      "           1       0.97      0.97      0.97        75\n",
      "\n",
      "    accuracy                           0.96       114\n",
      "   macro avg       0.96      0.96      0.96       114\n",
      "weighted avg       0.96      0.96      0.96       114\n",
      "\n",
      "\n",
      "SVM (Support Vector Machine)\n",
      "              precision    recall  f1-score   support\n",
      "\n",
      "           0       0.95      0.92      0.94        39\n",
      "           1       0.96      0.97      0.97        75\n",
      "\n",
      "    accuracy                           0.96       114\n",
      "   macro avg       0.95      0.95      0.95       114\n",
      "weighted avg       0.96      0.96      0.96       114\n",
      "\n",
      "\n",
      "SGD (Stochastic Gradient Descent Classifier)\n",
      "              precision    recall  f1-score   support\n",
      "\n",
      "           0       1.00      0.85      0.92        39\n",
      "           1       0.93      1.00      0.96        75\n",
      "\n",
      "    accuracy                           0.95       114\n",
      "   macro avg       0.96      0.92      0.94       114\n",
      "weighted avg       0.95      0.95      0.95       114\n",
      "\n",
      "\n",
      "의사결정나무\n",
      "              precision    recall  f1-score   support\n",
      "\n",
      "           0       0.88      0.95      0.91        39\n",
      "           1       0.97      0.93      0.95        75\n",
      "\n",
      "    accuracy                           0.94       114\n",
      "   macro avg       0.93      0.94      0.93       114\n",
      "weighted avg       0.94      0.94      0.94       114\n",
      "\n"
     ]
    }
   ],
   "source": [
    " # 각 와인의 종류가 모두 동일한 중요도를 가지므로 별도의 우선 순위가 없음\n",
    " # 따라서 정확도를 기준으로 모델의 성능을 평가\n",
    "print(\"모델 성능 평가 - Accuracy\\n\")\n",
    "print(\"1. 로지스틱 회귀:\", round(accuracy_score(y_test, y_pred_logistic_regression), 3))\n",
    "print(\"2. 랜덤포레스트:\", round(accuracy_score(y_test, y_pred_random_forest), 3))\n",
    "print(\"3. SVM:\", round(accuracy_score(y_test, y_pred_svm), 3))\n",
    "print(\"4. SGD:\", round(accuracy_score(y_test, y_pred_sgd), 3))\n",
    "print(\"5. 의사결정나무:\", round(accuracy_score(y_test, y_pred_decision_tree), 3))\n",
    "print(\"-----------------------------------------------------\")\n",
    "print(\"\\n결과 세부사항\")\n",
    "print(\"\\n로지스틱 회귀\")\n",
    "print(classification_report(y_test, y_pred_logistic_regression))\n",
    "print(\"\\n랜덤포레스트\")\n",
    "print(classification_report(y_test, y_pred_random_forest))\n",
    "print(\"\\nSVM (Support Vector Machine)\")\n",
    "print(classification_report(y_test, y_pred_svm))\n",
    "print(\"\\nSGD (Stochastic Gradient Descent Classifier)\")\n",
    "print(classification_report(y_test, y_pred_sgd))\n",
    "print(\"\\n의사결정나무\")\n",
    "print(classification_report(y_test, y_pred_decision_tree))"
   ]
  },
  {
   "cell_type": "markdown",
   "id": "08da4c99",
   "metadata": {},
   "source": [
    "### 유방암 진단 (악성, 양성)"
   ]
  },
  {
   "cell_type": "markdown",
   "id": "547c104a",
   "metadata": {},
   "source": [
    "##### 데이터 준비 및 이해"
   ]
  },
  {
   "cell_type": "code",
   "execution_count": 149,
   "id": "f0a8bf0e",
   "metadata": {},
   "outputs": [],
   "source": [
    "from sklearn.datasets import load_breast_cancer"
   ]
  },
  {
   "cell_type": "code",
   "execution_count": 150,
   "id": "9a8982f8",
   "metadata": {},
   "outputs": [
    {
     "name": "stdout",
     "output_type": "stream",
     "text": [
      "breast cancer 구성: ['DESCR', 'data', 'data_module', 'feature_names', 'filename', 'frame', 'target', 'target_names']\n",
      "feature shape: (569, 30)\n",
      "feature 구성: ['mean radius' 'mean texture' 'mean perimeter' 'mean area'\n",
      " 'mean smoothness' 'mean compactness' 'mean concavity'\n",
      " 'mean concave points' 'mean symmetry' 'mean fractal dimension'\n",
      " 'radius error' 'texture error' 'perimeter error' 'area error'\n",
      " 'smoothness error' 'compactness error' 'concavity error'\n",
      " 'concave points error' 'symmetry error' 'fractal dimension error'\n",
      " 'worst radius' 'worst texture' 'worst perimeter' 'worst area'\n",
      " 'worst smoothness' 'worst compactness' 'worst concavity'\n",
      " 'worst concave points' 'worst symmetry' 'worst fractal dimension']\n",
      "target 구성: ['malignant' 'benign']\n",
      "-----------------------------------------\n",
      "미리보기\n",
      "feature: [1.218e+01 2.052e+01 7.722e+01 4.587e+02 8.013e-02 4.038e-02 2.383e-02\n",
      " 1.770e-02 1.739e-01 5.677e-02 1.924e-01 1.571e+00 1.183e+00 1.468e+01\n",
      " 5.080e-03 6.098e-03 1.069e-02 6.797e-03 1.447e-02 1.532e-03 1.334e+01\n",
      " 3.284e+01 8.458e+01 5.478e+02 1.123e-01 8.862e-02 1.145e-01 7.431e-02\n",
      " 2.694e-01 6.878e-02]\n",
      "label: 1\n"
     ]
    }
   ],
   "source": [
    "breast_cancer = load_breast_cancer() # 데이터 로딩\n",
    "breast_cancer_data = breast_cancer.data # 데이터 feature 변수에 담아 저장\n",
    "breast_cancer_label = breast_cancer.target # 데이터 label(target) 변수에 담아 저장\n",
    "\n",
    "# 데이터 세부사항\n",
    "print(\"breast cancer 구성:\", dir(breast_cancer))\n",
    "print(\"feature shape:\", breast_cancer_data.shape)\n",
    "print(\"feature 구성:\", breast_cancer.feature_names)\n",
    "print(\"target 구성:\", breast_cancer.target_names)\n",
    "print(\"-----------------------------------------\")\n",
    "print(\"미리보기\")\n",
    "print(\"feature:\", breast_cancer_data[102])\n",
    "print(\"label:\", breast_cancer_label[102])"
   ]
  },
  {
   "cell_type": "code",
   "execution_count": null,
   "id": "50d8cf17",
   "metadata": {},
   "outputs": [],
   "source": [
    "print(breast_cancer.DESCR) # 실행 시 데이터 Describe"
   ]
  },
  {
   "cell_type": "markdown",
   "id": "63d81658",
   "metadata": {},
   "source": [
    "##### 데이터 분리 (학습용 / 시험용)"
   ]
  },
  {
   "cell_type": "code",
   "execution_count": 152,
   "id": "2c21d28e",
   "metadata": {},
   "outputs": [],
   "source": [
    "x_train, x_test, y_train, y_test = train_test_split(breast_cancer_data, breast_cancer_label, test_size = 0.2, random_state = 44)"
   ]
  },
  {
   "cell_type": "code",
   "execution_count": 166,
   "id": "6082d521",
   "metadata": {},
   "outputs": [],
   "source": [
    "# 의사결정나무\n",
    "decision_tree = DecisionTreeClassifier(random_state = 40)\n",
    "decision_tree.fit(x_train, y_train)\n",
    "y_pred_decision_tree = decision_tree.predict(x_test)\n",
    "\n",
    "\n",
    "# 랜덤포레스트\n",
    "random_forest = RandomForestClassifier(random_state = 44)\n",
    "random_forest.fit(x_train, y_train)\n",
    "y_pred_random_forest = random_forest.predict(x_test)\n",
    "\n",
    "\n",
    "# SVM\n",
    "svm_model = svm.SVC()\n",
    "svm_model.fit(x_train, y_train)\n",
    "y_pred_svm = svm_model.predict(x_test)\n",
    "\n",
    "\n",
    "# SGD\n",
    "sgd_model = SGDClassifier()\n",
    "sgd_model.fit(x_train, y_train)\n",
    "y_pred_sgd = sgd_model.predict(x_test)\n",
    "\n",
    "\n",
    "# 로지스틱 회귀\n",
    "logistic_regression = LogisticRegression(solver = 'lbfgs', max_iter = 3000)\n",
    "logistic_regression.fit(x_train, y_train)\n",
    "y_pred_logistic_regression = logistic_regression.predict(x_test)"
   ]
  },
  {
   "cell_type": "code",
   "execution_count": 172,
   "id": "561bddf7",
   "metadata": {},
   "outputs": [
    {
     "name": "stdout",
     "output_type": "stream",
     "text": [
      "모델 성능 평가 - Recall\n",
      "\n",
      "1. SGD: 1.0\n",
      "2. 로지스틱 회귀: 0.987\n",
      "3. 랜덤포레스트: 0.973\n",
      "4. SVM: 0.973\n",
      "5. 의사결정나무: 0.933\n",
      "-----------------------------------------------------\n",
      "\n",
      "결과 세부사항\n",
      "\n",
      "SGD (Stochastic Gradient Descent Classifier)\n",
      "              precision    recall  f1-score   support\n",
      "\n",
      "           0       1.00      0.85      0.92        39\n",
      "           1       0.93      1.00      0.96        75\n",
      "\n",
      "    accuracy                           0.95       114\n",
      "   macro avg       0.96      0.92      0.94       114\n",
      "weighted avg       0.95      0.95      0.95       114\n",
      "\n",
      "\n",
      "로지스틱 회귀\n",
      "              precision    recall  f1-score   support\n",
      "\n",
      "           0       0.97      0.95      0.96        39\n",
      "           1       0.97      0.99      0.98        75\n",
      "\n",
      "    accuracy                           0.97       114\n",
      "   macro avg       0.97      0.97      0.97       114\n",
      "weighted avg       0.97      0.97      0.97       114\n",
      "\n",
      "\n",
      "랜덤포레스트\n",
      "              precision    recall  f1-score   support\n",
      "\n",
      "           0       0.95      0.95      0.95        39\n",
      "           1       0.97      0.97      0.97        75\n",
      "\n",
      "    accuracy                           0.96       114\n",
      "   macro avg       0.96      0.96      0.96       114\n",
      "weighted avg       0.96      0.96      0.96       114\n",
      "\n",
      "\n",
      "SVM (Support Vector Machine)\n",
      "              precision    recall  f1-score   support\n",
      "\n",
      "           0       0.95      0.92      0.94        39\n",
      "           1       0.96      0.97      0.97        75\n",
      "\n",
      "    accuracy                           0.96       114\n",
      "   macro avg       0.95      0.95      0.95       114\n",
      "weighted avg       0.96      0.96      0.96       114\n",
      "\n",
      "\n",
      "의사결정나무\n",
      "              precision    recall  f1-score   support\n",
      "\n",
      "           0       0.88      0.95      0.91        39\n",
      "           1       0.97      0.93      0.95        75\n",
      "\n",
      "    accuracy                           0.94       114\n",
      "   macro avg       0.93      0.94      0.93       114\n",
      "weighted avg       0.94      0.94      0.94       114\n",
      "\n"
     ]
    }
   ],
   "source": [
    " # 악성 환자를 양성 환자로 판단하는 것은 상당히 치명적. FN 최소화가 \n"
    " # 따라서, 재현율(recall)을 기준으로 모델의 성능을 평가 [positve = 악성, negative = 양성]\n",
    "print(\"모델 성능 평가 - Recall\\n\")\n",
    "print(\"1. SGD:\", round(recall_score(y_test, y_pred_sgd, labels = [1, 0]), 3))\n",
    "print(\"2. 로지스틱 회귀:\", round(recall_score(y_test, y_pred_logistic_regression, labels = [1, 0]), 3))\n",
    "print(\"3. 랜덤포레스트:\", round(recall_score(y_test, y_pred_random_forest, labels = [1, 0]), 3))\n",
    "print(\"4. SVM:\", round(recall_score(y_test, y_pred_svm, labels = [1, 0]), 3))\n",
    "print(\"5. 의사결정나무:\", round(recall_score(y_test, y_pred_decision_tree, labels = [1, 0]), 3))\n",
    "print(\"-----------------------------------------------------\")\n",
    "print(\"\\n결과 세부사항\")\n",
    "print(\"\\nSGD (Stochastic Gradient Descent Classifier)\")\n",
    "print(classification_report(y_test, y_pred_sgd))\n",
    "print(\"\\n로지스틱 회귀\")\n",
    "print(classification_report(y_test, y_pred_logistic_regression))\n",
    "print(\"\\n랜덤포레스트\")\n",
    "print(classification_report(y_test, y_pred_random_forest))\n",
    "print(\"\\nSVM (Support Vector Machine)\")\n",
    "print(classification_report(y_test, y_pred_svm))\n",
    "print(\"\\n의사결정나무\")\n",
    "print(classification_report(y_test, y_pred_decision_tree))"
   ]
  },
  {
   "cell_type": "markdown",
   "id": "0c5b1ade",
   "metadata": {},
   "source": [
    "# 회고"
   ]
  },
  {
   "cell_type": "markdown",
   "id": "e2126194",
   "metadata": {},
   "source": [
    "## 학습 내용"
   ]
  },
  {
   "cell_type": "markdown",
   "id": "7ab7e85c",
   "metadata": {},
   "source": [
    "- Confused Matrix (오차 행렬)<br/>\n",
    "<br/>\n",
    "오차 행렬이란 학습 이진 분류 모델을 평가하는 지표이다.<br/>\n",
    "<br/>\n",
    "다음 네가지 유형이 있다.<br/>\n",
    "TP : 예측이 맞다, Positve 예측, Positive 사실<br/>\n",
    "TN : 예측이 맞다, Negative 예측, Negative 사실<br/>\n",
    "FP : 예측이 틀리다, Positve 예측, Negative 사실<br/>\n",
    "FN : 예측이 틀리다, Negative 예측, Positve 사실<br/>\n",
    "<br/>\n",
    "네가지 유형은 두개의 알파벳 형식이다.<br/>\n",
    "앞 글자(T or F)는 예측이 맞았는 지 틀렸는 지 여부이다. T면 예측이 맞은 것이고, F면 예측이 틀린 것이다.<br/>\n",
    "뒷 글자(P or N)은 예측한 내용이다. P면 Positive로 예측한 것이고, N이면 Negative로 예측한 것이다.<br/>\n",
    "<br/>\n",
    "대개 Positive는 1로, Negative는 0으로 학습한다. 이는 True / False 개념과도 상통하기 때문에 이해가 용이하지만 실제 분석 환경에서는 헷갈릴 수 있다.<br/>\n",
    "항상 1이 Positive이고, 0이 Negative이지 않기 때문. 상황에 따라 [1 = Negative, 0 = Positive], [양성 = Negative, 음성 = Positive] 등 다양하게 여길 수 있다.<br/>\n",
    "따라서 오차행렬을 사용할 때는 Positive와 Negative가 절대적이지 않다는 점에 유의해야 한다.<br/>\n",
    "Skleran 라이브러리 함수는 label을 이용하여 어떤 관점에 볼 건 지 정해줄 수 있으니 명확하게 하는 편이 좋겠다.<br/>\n",
    "<br/>\n",
    "[Scikit-learn confusion matrix, stackoverflow, (2022.01.06)](https://stackoverflow.com/questions/35178590/scikit-learn-confusion-matrix)\n",
    "<br/>"
   ]
  },
  {
   "cell_type": "markdown",
   "id": "b391903b",
   "metadata": {},
   "source": [
    "- Convergence warning<br/>\n",
    "<br/>\n",
    "Scikit learn이 업데이트하면서 로지스틱 회귀를 사용할 경우 이와 같은 경고 메시지가 나온다.<br/>\n",
    "기본 최대치인 100번 반복 수행했지만 결과물을 도출하지 못했다는 뜻으로 이 최대치를 늘려주면 다.<br/>\n",
    "아래 글을 참조하였고, 팀원의 도움을 받아 해결할 수 있었다.<br/>\n",
    "<br/>\n",
    "[Q. logistic regression에서 convergence warning, Inflearn, (2022.01.06)](https://www.inflearn.com/questions/62388)\n",
    "<br/>\n",
    "<br/>\n",
    "```\n",
    "model_name = LogisticRegression() # 이전 (max_iter = 100)\n",
    "model_name = LogisticRegression(solver = 'lbfgs', max_iter = 3000) # 변경 후\n",
    "```\n",
    "<br/>"
   ]
  },
  {
   "cell_type": "markdown",
   "id": "6685ea09",
   "metadata": {},
   "source": [
    "#### 사족"
   ]
  },
  {
   "cell_type": "markdown",
   "id": "56b703d6",
   "metadata": {},
   "source": [
    "<br/>\n",
    "*두번째 데이터 분석 프로젝트였다.* <br/>\n",
    "*여러 모델을 학습해보고, 도출한 결과를 바탕으로 모델을 평가하는 유익한 경험이었다.* <br/>\n",
    "*scikit learn을 사용하니 코드 자체는 어렵지 않았다.* <br/>\n",
    "*따라서, 이번 프로젝트를 진행할 땐 보는 사람이 더 쉽게 이해할 수 있도록 코드와 주석을 작성하는데 초점을 두었다.* <br/>\n",
    "*또한 데이터에 대한 설명부, 모델링 결과부를 한눈에 보이게 표현하고자 했다.* <br/>\n",
    "*파이썬으로 구현할 수 있는 테이블 출력도 생각 해봤지만 scikit learn의 활용과 관련성이 떨어지는 듯해 하지 않았다.* <br/>\n",
    "*파이썬에 더 익숙해지면 더 깔끔하게 출력하도록 해봐야겠다.* <br/>\n",
    "<br/>\n",
    "*팀원과 함께 scikit learn에 대해 토론하면서 이런 논제가 나왔다.* <br/>\n",
    "*좋은 API를 잘 활용하는 게 좋다! vs 원리를 이해해야 한다!* <br/>\n",
    "*전자의 의견은 이렇다. 급속도로 발전하는 요즘, 모든 신기술을 깊이 이해할 수는 없다. 이를 활용하는 것 또한 스킬이므로, 새로 나오는 것을 잘 받아들이고 효율적으로 사용하자.* <br/>\n",
    "*후자의 의견은 이렇다. 이번 기회에 좋은 라이브러리를 알게 되고 쉽게 사용했지만, 충분한 학습 뒤에는 직접 하나하나 구현해 볼 필요가 있다. 사용 뿐 아니라 깊이 있는 이해가 필요하다.* <br/>\n",
    "*모두 일리가 있어 고민을 하고 있던 차에 퍼실님께서 첨언을 주셨다.* <br/>\n",
    "*이런 라이브러리를 사용해서 경험을 쌓는 것은 좋지만, 차후에 이를 보다 효율적으로 상황에 최적하게 사용하려면 원리를 이해해야 한다.* <br/>\n",
    "*이번 노드에서 나오는 다양한 이론들, 이런저런 글들을 독해해가며 어느정도 이해했지만.. 과연 완벽하게 내 것으로 만들었다고 할 수 있을까?* <br/>\n",
    "*필요한 상황에서 효율적으로 사용하려면 깊이 있는 이해와 많은 경험이 필요할 것 같다는 생각이다.* <br/>\n",
    "<br/>\n",
    "*Exploration에 이어서 바로 다음 날 Fundamental 학습으로 scikit learn과 다양한 머신러닝 모델에 대해 공부했다.* <br/>\n",
    "*너무나도 많은 알고리즘이 있다. 이를 기억하고 있다가 필요할 때 적절히 적용하려면 모델에 대한 복습이 더 필요할 것 같다.* <br/>"
   ]
  }
 ],
 "metadata": {
  "kernelspec": {
   "display_name": "Python 3 (ipykernel)",
   "language": "python",
   "name": "python3"
  },
  "language_info": {
   "codemirror_mode": {
    "name": "ipython",
    "version": 3
   },
   "file_extension": ".py",
   "mimetype": "text/x-python",
   "name": "python",
   "nbconvert_exporter": "python",
   "pygments_lexer": "ipython3",
   "version": "3.9.7"
  }
 },
 "nbformat": 4,
 "nbformat_minor": 5
}
